{
 "cells": [
  {
   "cell_type": "code",
   "execution_count": 2,
   "metadata": {},
   "outputs": [
    {
     "name": "stdout",
     "output_type": "stream",
     "text": [
      "Requirement already satisfied: ultralytics in c:\\users\\15984\\appdata\\local\\programs\\python\\python312\\lib\\site-packages (8.2.24)\n",
      "Requirement already satisfied: matplotlib>=3.3.0 in c:\\users\\15984\\appdata\\local\\programs\\python\\python312\\lib\\site-packages (from ultralytics) (3.8.1)\n",
      "Requirement already satisfied: opencv-python>=4.6.0 in c:\\users\\15984\\appdata\\local\\programs\\python\\python312\\lib\\site-packages (from ultralytics) (4.11.0.86)\n",
      "Requirement already satisfied: pillow>=7.1.2 in c:\\users\\15984\\appdata\\local\\programs\\python\\python312\\lib\\site-packages (from ultralytics) (10.3.0)\n",
      "Requirement already satisfied: pyyaml>=5.3.1 in c:\\users\\15984\\appdata\\local\\programs\\python\\python312\\lib\\site-packages (from ultralytics) (6.0.1)\n",
      "Requirement already satisfied: requests>=2.23.0 in c:\\users\\15984\\appdata\\local\\programs\\python\\python312\\lib\\site-packages (from ultralytics) (2.32.2)\n",
      "Requirement already satisfied: scipy>=1.4.1 in c:\\users\\15984\\appdata\\local\\programs\\python\\python312\\lib\\site-packages (from ultralytics) (1.12.0rc1)\n",
      "Requirement already satisfied: torch>=1.8.0 in c:\\users\\15984\\appdata\\local\\programs\\python\\python312\\lib\\site-packages (from ultralytics) (2.3.0+cu121)\n",
      "Requirement already satisfied: torchvision>=0.9.0 in c:\\users\\15984\\appdata\\local\\programs\\python\\python312\\lib\\site-packages (from ultralytics) (0.18.0+cu121)\n",
      "Requirement already satisfied: tqdm>=4.64.0 in c:\\users\\15984\\appdata\\local\\programs\\python\\python312\\lib\\site-packages (from ultralytics) (4.66.2)\n",
      "Requirement already satisfied: psutil in c:\\users\\15984\\appdata\\local\\programs\\python\\python312\\lib\\site-packages (from ultralytics) (5.9.5)\n",
      "Requirement already satisfied: py-cpuinfo in c:\\users\\15984\\appdata\\local\\programs\\python\\python312\\lib\\site-packages (from ultralytics) (9.0.0)\n",
      "Requirement already satisfied: thop>=0.1.1 in c:\\users\\15984\\appdata\\local\\programs\\python\\python312\\lib\\site-packages (from ultralytics) (0.1.1.post2209072238)\n",
      "Requirement already satisfied: pandas>=1.1.4 in c:\\users\\15984\\appdata\\local\\programs\\python\\python312\\lib\\site-packages (from ultralytics) (2.2.0rc0)\n",
      "Requirement already satisfied: seaborn>=0.11.0 in c:\\users\\15984\\appdata\\local\\programs\\python\\python312\\lib\\site-packages (from ultralytics) (0.13.1)\n",
      "Requirement already satisfied: contourpy>=1.0.1 in c:\\users\\15984\\appdata\\local\\programs\\python\\python312\\lib\\site-packages (from matplotlib>=3.3.0->ultralytics) (1.2.0)\n",
      "Requirement already satisfied: cycler>=0.10 in c:\\users\\15984\\appdata\\local\\programs\\python\\python312\\lib\\site-packages (from matplotlib>=3.3.0->ultralytics) (0.12.1)\n",
      "Requirement already satisfied: fonttools>=4.22.0 in c:\\users\\15984\\appdata\\local\\programs\\python\\python312\\lib\\site-packages (from matplotlib>=3.3.0->ultralytics) (4.47.0)\n",
      "Requirement already satisfied: kiwisolver>=1.3.1 in c:\\users\\15984\\appdata\\local\\programs\\python\\python312\\lib\\site-packages (from matplotlib>=3.3.0->ultralytics) (1.4.5)\n",
      "Requirement already satisfied: numpy<2,>=1.21 in c:\\users\\15984\\appdata\\local\\programs\\python\\python312\\lib\\site-packages (from matplotlib>=3.3.0->ultralytics) (1.26.0)\n",
      "Requirement already satisfied: packaging>=20.0 in c:\\users\\15984\\appdata\\local\\programs\\python\\python312\\lib\\site-packages (from matplotlib>=3.3.0->ultralytics) (23.2)\n",
      "Requirement already satisfied: pyparsing>=2.3.1 in c:\\users\\15984\\appdata\\local\\programs\\python\\python312\\lib\\site-packages (from matplotlib>=3.3.0->ultralytics) (3.1.1)\n",
      "Requirement already satisfied: python-dateutil>=2.7 in c:\\users\\15984\\appdata\\local\\programs\\python\\python312\\lib\\site-packages (from matplotlib>=3.3.0->ultralytics) (2.8.2)\n",
      "Requirement already satisfied: pytz>=2020.1 in c:\\users\\15984\\appdata\\local\\programs\\python\\python312\\lib\\site-packages (from pandas>=1.1.4->ultralytics) (2023.3.post1)\n",
      "Requirement already satisfied: tzdata>=2022.7 in c:\\users\\15984\\appdata\\local\\programs\\python\\python312\\lib\\site-packages (from pandas>=1.1.4->ultralytics) (2023.3)\n",
      "Requirement already satisfied: charset-normalizer<4,>=2 in c:\\users\\15984\\appdata\\local\\programs\\python\\python312\\lib\\site-packages (from requests>=2.23.0->ultralytics) (3.3.0)\n",
      "Requirement already satisfied: idna<4,>=2.5 in c:\\users\\15984\\appdata\\local\\programs\\python\\python312\\lib\\site-packages (from requests>=2.23.0->ultralytics) (3.4)\n",
      "Requirement already satisfied: urllib3<3,>=1.21.1 in c:\\users\\15984\\appdata\\local\\programs\\python\\python312\\lib\\site-packages (from requests>=2.23.0->ultralytics) (2.0.6)\n",
      "Requirement already satisfied: certifi>=2017.4.17 in c:\\users\\15984\\appdata\\local\\programs\\python\\python312\\lib\\site-packages (from requests>=2.23.0->ultralytics) (2023.7.22)\n",
      "Requirement already satisfied: filelock in c:\\users\\15984\\appdata\\local\\programs\\python\\python312\\lib\\site-packages (from torch>=1.8.0->ultralytics) (3.13.1)\n",
      "Requirement already satisfied: typing-extensions>=4.8.0 in c:\\users\\15984\\appdata\\local\\programs\\python\\python312\\lib\\site-packages (from torch>=1.8.0->ultralytics) (4.9.0)\n",
      "Requirement already satisfied: sympy in c:\\users\\15984\\appdata\\local\\programs\\python\\python312\\lib\\site-packages (from torch>=1.8.0->ultralytics) (1.12)\n",
      "Requirement already satisfied: networkx in c:\\users\\15984\\appdata\\local\\programs\\python\\python312\\lib\\site-packages (from torch>=1.8.0->ultralytics) (3.2.1)\n",
      "Requirement already satisfied: jinja2 in c:\\users\\15984\\appdata\\local\\programs\\python\\python312\\lib\\site-packages (from torch>=1.8.0->ultralytics) (3.1.2)\n",
      "Requirement already satisfied: fsspec in c:\\users\\15984\\appdata\\local\\programs\\python\\python312\\lib\\site-packages (from torch>=1.8.0->ultralytics) (2024.2.0)\n",
      "Requirement already satisfied: mkl<=2021.4.0,>=2021.1.1 in c:\\users\\15984\\appdata\\local\\programs\\python\\python312\\lib\\site-packages (from torch>=1.8.0->ultralytics) (2021.4.0)\n",
      "Requirement already satisfied: colorama in c:\\users\\15984\\appdata\\local\\programs\\python\\python312\\lib\\site-packages (from tqdm>=4.64.0->ultralytics) (0.4.6)\n",
      "Requirement already satisfied: intel-openmp==2021.* in c:\\users\\15984\\appdata\\local\\programs\\python\\python312\\lib\\site-packages (from mkl<=2021.4.0,>=2021.1.1->torch>=1.8.0->ultralytics) (2021.4.0)\n",
      "Requirement already satisfied: tbb==2021.* in c:\\users\\15984\\appdata\\local\\programs\\python\\python312\\lib\\site-packages (from mkl<=2021.4.0,>=2021.1.1->torch>=1.8.0->ultralytics) (2021.11.0)\n",
      "Requirement already satisfied: six>=1.5 in c:\\users\\15984\\appdata\\local\\programs\\python\\python312\\lib\\site-packages (from python-dateutil>=2.7->matplotlib>=3.3.0->ultralytics) (1.16.0)\n",
      "Requirement already satisfied: MarkupSafe>=2.0 in c:\\users\\15984\\appdata\\local\\programs\\python\\python312\\lib\\site-packages (from jinja2->torch>=1.8.0->ultralytics) (2.1.3)\n",
      "Requirement already satisfied: mpmath>=0.19 in c:\\users\\15984\\appdata\\local\\programs\\python\\python312\\lib\\site-packages (from sympy->torch>=1.8.0->ultralytics) (1.3.0)\n"
     ]
    },
    {
     "name": "stderr",
     "output_type": "stream",
     "text": [
      "\n",
      "[notice] A new release of pip is available: 24.0 -> 25.0.1\n",
      "[notice] To update, run: python.exe -m pip install --upgrade pip\n"
     ]
    },
    {
     "name": "stdout",
     "output_type": "stream",
     "text": [
      "Requirement already satisfied: gitpython>=3.1.30 in c:\\users\\15984\\appdata\\local\\programs\\python\\python312\\lib\\site-packages (from -r https://raw.githubusercontent.com/ultralytics/yolov5/master/requirements.txt (line 5)) (3.1.43)\n",
      "Requirement already satisfied: matplotlib>=3.3 in c:\\users\\15984\\appdata\\local\\programs\\python\\python312\\lib\\site-packages (from -r https://raw.githubusercontent.com/ultralytics/yolov5/master/requirements.txt (line 6)) (3.8.1)\n",
      "Requirement already satisfied: numpy>=1.23.5 in c:\\users\\15984\\appdata\\local\\programs\\python\\python312\\lib\\site-packages (from -r https://raw.githubusercontent.com/ultralytics/yolov5/master/requirements.txt (line 7)) (1.26.0)\n",
      "Requirement already satisfied: opencv-python>=4.1.1 in c:\\users\\15984\\appdata\\local\\programs\\python\\python312\\lib\\site-packages (from -r https://raw.githubusercontent.com/ultralytics/yolov5/master/requirements.txt (line 8)) (4.11.0.86)\n",
      "Requirement already satisfied: pillow>=10.3.0 in c:\\users\\15984\\appdata\\local\\programs\\python\\python312\\lib\\site-packages (from -r https://raw.githubusercontent.com/ultralytics/yolov5/master/requirements.txt (line 9)) (10.3.0)\n",
      "Requirement already satisfied: psutil in c:\\users\\15984\\appdata\\local\\programs\\python\\python312\\lib\\site-packages (from -r https://raw.githubusercontent.com/ultralytics/yolov5/master/requirements.txt (line 10)) (5.9.5)\n",
      "Requirement already satisfied: PyYAML>=5.3.1 in c:\\users\\15984\\appdata\\local\\programs\\python\\python312\\lib\\site-packages (from -r https://raw.githubusercontent.com/ultralytics/yolov5/master/requirements.txt (line 11)) (6.0.1)\n",
      "Requirement already satisfied: requests>=2.32.2 in c:\\users\\15984\\appdata\\local\\programs\\python\\python312\\lib\\site-packages (from -r https://raw.githubusercontent.com/ultralytics/yolov5/master/requirements.txt (line 12)) (2.32.2)\n",
      "Requirement already satisfied: scipy>=1.4.1 in c:\\users\\15984\\appdata\\local\\programs\\python\\python312\\lib\\site-packages (from -r https://raw.githubusercontent.com/ultralytics/yolov5/master/requirements.txt (line 13)) (1.12.0rc1)\n",
      "Requirement already satisfied: thop>=0.1.1 in c:\\users\\15984\\appdata\\local\\programs\\python\\python312\\lib\\site-packages (from -r https://raw.githubusercontent.com/ultralytics/yolov5/master/requirements.txt (line 14)) (0.1.1.post2209072238)\n",
      "Requirement already satisfied: torch>=1.8.0 in c:\\users\\15984\\appdata\\local\\programs\\python\\python312\\lib\\site-packages (from -r https://raw.githubusercontent.com/ultralytics/yolov5/master/requirements.txt (line 15)) (2.3.0+cu121)\n",
      "Requirement already satisfied: torchvision>=0.9.0 in c:\\users\\15984\\appdata\\local\\programs\\python\\python312\\lib\\site-packages (from -r https://raw.githubusercontent.com/ultralytics/yolov5/master/requirements.txt (line 16)) (0.18.0+cu121)\n",
      "Collecting tqdm>=4.66.3 (from -r https://raw.githubusercontent.com/ultralytics/yolov5/master/requirements.txt (line 17))\n",
      "  Downloading tqdm-4.67.1-py3-none-any.whl.metadata (57 kB)\n",
      "     ---------------------------------------- 0.0/57.7 kB ? eta -:--:--\n",
      "     ------------- ------------------------ 20.5/57.7 kB 330.3 kB/s eta 0:00:01\n",
      "     -------------------------------------- 57.7/57.7 kB 752.9 kB/s eta 0:00:00\n",
      "Collecting ultralytics>=8.2.34 (from -r https://raw.githubusercontent.com/ultralytics/yolov5/master/requirements.txt (line 18))\n",
      "  Downloading ultralytics-8.3.107-py3-none-any.whl.metadata (37 kB)\n",
      "Requirement already satisfied: pandas>=1.1.4 in c:\\users\\15984\\appdata\\local\\programs\\python\\python312\\lib\\site-packages (from -r https://raw.githubusercontent.com/ultralytics/yolov5/master/requirements.txt (line 27)) (2.2.0rc0)\n",
      "Requirement already satisfied: seaborn>=0.11.0 in c:\\users\\15984\\appdata\\local\\programs\\python\\python312\\lib\\site-packages (from -r https://raw.githubusercontent.com/ultralytics/yolov5/master/requirements.txt (line 28)) (0.13.1)\n",
      "Collecting setuptools>=70.0.0 (from -r https://raw.githubusercontent.com/ultralytics/yolov5/master/requirements.txt (line 42))\n",
      "  Downloading setuptools-78.1.0-py3-none-any.whl.metadata (6.6 kB)\n",
      "Requirement already satisfied: gitdb<5,>=4.0.1 in c:\\users\\15984\\appdata\\local\\programs\\python\\python312\\lib\\site-packages (from gitpython>=3.1.30->-r https://raw.githubusercontent.com/ultralytics/yolov5/master/requirements.txt (line 5)) (4.0.11)\n",
      "Requirement already satisfied: contourpy>=1.0.1 in c:\\users\\15984\\appdata\\local\\programs\\python\\python312\\lib\\site-packages (from matplotlib>=3.3->-r https://raw.githubusercontent.com/ultralytics/yolov5/master/requirements.txt (line 6)) (1.2.0)\n",
      "Requirement already satisfied: cycler>=0.10 in c:\\users\\15984\\appdata\\local\\programs\\python\\python312\\lib\\site-packages (from matplotlib>=3.3->-r https://raw.githubusercontent.com/ultralytics/yolov5/master/requirements.txt (line 6)) (0.12.1)\n",
      "Requirement already satisfied: fonttools>=4.22.0 in c:\\users\\15984\\appdata\\local\\programs\\python\\python312\\lib\\site-packages (from matplotlib>=3.3->-r https://raw.githubusercontent.com/ultralytics/yolov5/master/requirements.txt (line 6)) (4.47.0)\n",
      "Requirement already satisfied: kiwisolver>=1.3.1 in c:\\users\\15984\\appdata\\local\\programs\\python\\python312\\lib\\site-packages (from matplotlib>=3.3->-r https://raw.githubusercontent.com/ultralytics/yolov5/master/requirements.txt (line 6)) (1.4.5)\n",
      "Requirement already satisfied: packaging>=20.0 in c:\\users\\15984\\appdata\\local\\programs\\python\\python312\\lib\\site-packages (from matplotlib>=3.3->-r https://raw.githubusercontent.com/ultralytics/yolov5/master/requirements.txt (line 6)) (23.2)\n",
      "Requirement already satisfied: pyparsing>=2.3.1 in c:\\users\\15984\\appdata\\local\\programs\\python\\python312\\lib\\site-packages (from matplotlib>=3.3->-r https://raw.githubusercontent.com/ultralytics/yolov5/master/requirements.txt (line 6)) (3.1.1)\n",
      "Requirement already satisfied: python-dateutil>=2.7 in c:\\users\\15984\\appdata\\local\\programs\\python\\python312\\lib\\site-packages (from matplotlib>=3.3->-r https://raw.githubusercontent.com/ultralytics/yolov5/master/requirements.txt (line 6)) (2.8.2)\n",
      "Requirement already satisfied: charset-normalizer<4,>=2 in c:\\users\\15984\\appdata\\local\\programs\\python\\python312\\lib\\site-packages (from requests>=2.32.2->-r https://raw.githubusercontent.com/ultralytics/yolov5/master/requirements.txt (line 12)) (3.3.0)\n",
      "Requirement already satisfied: idna<4,>=2.5 in c:\\users\\15984\\appdata\\local\\programs\\python\\python312\\lib\\site-packages (from requests>=2.32.2->-r https://raw.githubusercontent.com/ultralytics/yolov5/master/requirements.txt (line 12)) (3.4)\n",
      "Requirement already satisfied: urllib3<3,>=1.21.1 in c:\\users\\15984\\appdata\\local\\programs\\python\\python312\\lib\\site-packages (from requests>=2.32.2->-r https://raw.githubusercontent.com/ultralytics/yolov5/master/requirements.txt (line 12)) (2.0.6)\n",
      "Requirement already satisfied: certifi>=2017.4.17 in c:\\users\\15984\\appdata\\local\\programs\\python\\python312\\lib\\site-packages (from requests>=2.32.2->-r https://raw.githubusercontent.com/ultralytics/yolov5/master/requirements.txt (line 12)) (2023.7.22)\n",
      "Requirement already satisfied: filelock in c:\\users\\15984\\appdata\\local\\programs\\python\\python312\\lib\\site-packages (from torch>=1.8.0->-r https://raw.githubusercontent.com/ultralytics/yolov5/master/requirements.txt (line 15)) (3.13.1)\n",
      "Requirement already satisfied: typing-extensions>=4.8.0 in c:\\users\\15984\\appdata\\local\\programs\\python\\python312\\lib\\site-packages (from torch>=1.8.0->-r https://raw.githubusercontent.com/ultralytics/yolov5/master/requirements.txt (line 15)) (4.9.0)\n",
      "Requirement already satisfied: sympy in c:\\users\\15984\\appdata\\local\\programs\\python\\python312\\lib\\site-packages (from torch>=1.8.0->-r https://raw.githubusercontent.com/ultralytics/yolov5/master/requirements.txt (line 15)) (1.12)\n",
      "Requirement already satisfied: networkx in c:\\users\\15984\\appdata\\local\\programs\\python\\python312\\lib\\site-packages (from torch>=1.8.0->-r https://raw.githubusercontent.com/ultralytics/yolov5/master/requirements.txt (line 15)) (3.2.1)\n",
      "Requirement already satisfied: jinja2 in c:\\users\\15984\\appdata\\local\\programs\\python\\python312\\lib\\site-packages (from torch>=1.8.0->-r https://raw.githubusercontent.com/ultralytics/yolov5/master/requirements.txt (line 15)) (3.1.2)\n",
      "Requirement already satisfied: fsspec in c:\\users\\15984\\appdata\\local\\programs\\python\\python312\\lib\\site-packages (from torch>=1.8.0->-r https://raw.githubusercontent.com/ultralytics/yolov5/master/requirements.txt (line 15)) (2024.2.0)\n",
      "Requirement already satisfied: mkl<=2021.4.0,>=2021.1.1 in c:\\users\\15984\\appdata\\local\\programs\\python\\python312\\lib\\site-packages (from torch>=1.8.0->-r https://raw.githubusercontent.com/ultralytics/yolov5/master/requirements.txt (line 15)) (2021.4.0)\n",
      "Requirement already satisfied: colorama in c:\\users\\15984\\appdata\\local\\programs\\python\\python312\\lib\\site-packages (from tqdm>=4.66.3->-r https://raw.githubusercontent.com/ultralytics/yolov5/master/requirements.txt (line 17)) (0.4.6)\n",
      "Requirement already satisfied: py-cpuinfo in c:\\users\\15984\\appdata\\local\\programs\\python\\python312\\lib\\site-packages (from ultralytics>=8.2.34->-r https://raw.githubusercontent.com/ultralytics/yolov5/master/requirements.txt (line 18)) (9.0.0)\n",
      "Collecting ultralytics-thop>=2.0.0 (from ultralytics>=8.2.34->-r https://raw.githubusercontent.com/ultralytics/yolov5/master/requirements.txt (line 18))\n",
      "  Downloading ultralytics_thop-2.0.14-py3-none-any.whl.metadata (9.4 kB)\n",
      "Requirement already satisfied: pytz>=2020.1 in c:\\users\\15984\\appdata\\local\\programs\\python\\python312\\lib\\site-packages (from pandas>=1.1.4->-r https://raw.githubusercontent.com/ultralytics/yolov5/master/requirements.txt (line 27)) (2023.3.post1)\n",
      "Requirement already satisfied: tzdata>=2022.7 in c:\\users\\15984\\appdata\\local\\programs\\python\\python312\\lib\\site-packages (from pandas>=1.1.4->-r https://raw.githubusercontent.com/ultralytics/yolov5/master/requirements.txt (line 27)) (2023.3)\n",
      "Requirement already satisfied: smmap<6,>=3.0.1 in c:\\users\\15984\\appdata\\local\\programs\\python\\python312\\lib\\site-packages (from gitdb<5,>=4.0.1->gitpython>=3.1.30->-r https://raw.githubusercontent.com/ultralytics/yolov5/master/requirements.txt (line 5)) (5.0.1)\n",
      "Requirement already satisfied: intel-openmp==2021.* in c:\\users\\15984\\appdata\\local\\programs\\python\\python312\\lib\\site-packages (from mkl<=2021.4.0,>=2021.1.1->torch>=1.8.0->-r https://raw.githubusercontent.com/ultralytics/yolov5/master/requirements.txt (line 15)) (2021.4.0)\n",
      "Requirement already satisfied: tbb==2021.* in c:\\users\\15984\\appdata\\local\\programs\\python\\python312\\lib\\site-packages (from mkl<=2021.4.0,>=2021.1.1->torch>=1.8.0->-r https://raw.githubusercontent.com/ultralytics/yolov5/master/requirements.txt (line 15)) (2021.11.0)\n",
      "Requirement already satisfied: six>=1.5 in c:\\users\\15984\\appdata\\local\\programs\\python\\python312\\lib\\site-packages (from python-dateutil>=2.7->matplotlib>=3.3->-r https://raw.githubusercontent.com/ultralytics/yolov5/master/requirements.txt (line 6)) (1.16.0)\n",
      "Requirement already satisfied: MarkupSafe>=2.0 in c:\\users\\15984\\appdata\\local\\programs\\python\\python312\\lib\\site-packages (from jinja2->torch>=1.8.0->-r https://raw.githubusercontent.com/ultralytics/yolov5/master/requirements.txt (line 15)) (2.1.3)\n",
      "Requirement already satisfied: mpmath>=0.19 in c:\\users\\15984\\appdata\\local\\programs\\python\\python312\\lib\\site-packages (from sympy->torch>=1.8.0->-r https://raw.githubusercontent.com/ultralytics/yolov5/master/requirements.txt (line 15)) (1.3.0)\n",
      "Downloading tqdm-4.67.1-py3-none-any.whl (78 kB)\n",
      "   ---------------------------------------- 0.0/78.5 kB ? eta -:--:--\n",
      "   ---------------------------------------- 78.5/78.5 kB 4.3 MB/s eta 0:00:00\n",
      "Downloading ultralytics-8.3.107-py3-none-any.whl (974 kB)\n",
      "   ---------------------------------------- 0.0/974.5 kB ? eta -:--:--\n",
      "   ------------- -------------------------- 317.4/974.5 kB 9.9 MB/s eta 0:00:01\n",
      "   ----------------------------- ---------- 727.0/974.5 kB 9.2 MB/s eta 0:00:01\n",
      "   ---------------------------------------- 974.5/974.5 kB 7.7 MB/s eta 0:00:00\n",
      "Downloading setuptools-78.1.0-py3-none-any.whl (1.3 MB)\n",
      "   ---------------------------------------- 0.0/1.3 MB ? eta -:--:--\n",
      "   ------------- -------------------------- 0.4/1.3 MB 8.7 MB/s eta 0:00:01\n",
      "   --------------------------- ------------ 0.8/1.3 MB 8.9 MB/s eta 0:00:01\n",
      "   -------------------------------------- - 1.2/1.3 MB 8.6 MB/s eta 0:00:01\n",
      "   ---------------------------------------- 1.3/1.3 MB 8.0 MB/s eta 0:00:00\n",
      "Downloading ultralytics_thop-2.0.14-py3-none-any.whl (26 kB)\n",
      "Installing collected packages: tqdm, setuptools, ultralytics-thop, ultralytics\n",
      "  Attempting uninstall: tqdm\n",
      "    Found existing installation: tqdm 4.66.2\n",
      "    Uninstalling tqdm-4.66.2:\n",
      "      Successfully uninstalled tqdm-4.66.2\n",
      "  Attempting uninstall: setuptools\n",
      "    Found existing installation: setuptools 69.2.0\n",
      "    Uninstalling setuptools-69.2.0:\n",
      "      Successfully uninstalled setuptools-69.2.0\n",
      "  Attempting uninstall: ultralytics\n",
      "    Found existing installation: ultralytics 8.2.24\n",
      "    Uninstalling ultralytics-8.2.24:\n",
      "      Successfully uninstalled ultralytics-8.2.24\n",
      "Successfully installed setuptools-78.1.0 tqdm-4.67.1 ultralytics-8.3.107 ultralytics-thop-2.0.14\n"
     ]
    },
    {
     "name": "stderr",
     "output_type": "stream",
     "text": [
      "\n",
      "[notice] A new release of pip is available: 24.0 -> 25.0.1\n",
      "[notice] To update, run: python.exe -m pip install --upgrade pip\n"
     ]
    }
   ],
   "source": [
    "!pip install ultralytics\n",
    "!pip install -r https://raw.githubusercontent.com/ultralytics/yolov5/master/requirements.txt"
   ]
  },
  {
   "cell_type": "markdown",
   "metadata": {},
   "source": [
    "For each class we will randomly choose 100 pictures for trainning model"
   ]
  },
  {
   "cell_type": "code",
   "execution_count": 1,
   "metadata": {},
   "outputs": [],
   "source": [
    "import os\n",
    "import random\n",
    "import shutil\n",
    "from pathlib import Path\n",
    "\n",
    "\n",
    "IMAGE_PATH = Path(\"C:/Users/15984/Desktop/COMP9517PROJECT/Aerial_Landscapes\")\n",
    "OUTPUT_PATH = Path(\"C:/Users/15984/Desktop/COMP9517PROJECT/skyview_yolo_dataset\")  # save outside yolov5 folder\n",
    "\n",
    "\n",
    "TRAIN_SIZE = 100\n",
    "\n",
    "\n",
    "CLASSES = sorted([d.name for d in IMAGE_PATH.iterdir() if d.is_dir()])\n",
    "CLASS_TO_ID = {cls: i for i, cls in enumerate(CLASSES)}\n",
    "\n",
    "\n",
    "for split in ['train', 'val', 'test']:\n",
    "    (OUTPUT_PATH / f\"images/{split}\").mkdir(parents=True, exist_ok=True)\n",
    "    (OUTPUT_PATH / f\"labels/{split}\").mkdir(parents=True, exist_ok=True)\n",
    "\n",
    "\n",
    "for cls in CLASSES:\n",
    "    img_files = list((IMAGE_PATH / cls).glob(\"*.*\"))\n",
    "    random.shuffle(img_files)\n",
    "    n_total = len(img_files)\n",
    "\n",
    "    \n",
    "    n_train = min(TRAIN_SIZE, n_total)\n",
    "    n_val = int((n_total - n_train) * 0.2)  \n",
    "    n_test = n_total - n_train - n_val  \n",
    "\n",
    "    splits = {\n",
    "        \"train\": img_files[:n_train],\n",
    "        \"val\": img_files[n_train:n_train + n_val],\n",
    "        \"test\": img_files[n_train + n_val:]\n",
    "    }\n",
    "\n",
    "    for split_name, files in splits.items():\n",
    "        for img_path in files:\n",
    "            dest_img = OUTPUT_PATH / f\"images/{split_name}\" / img_path.name\n",
    "            dest_label = OUTPUT_PATH / f\"labels/{split_name}\" / (img_path.stem + \".txt\")\n",
    "            shutil.copy(img_path, dest_img)\n",
    "\n",
    "            class_id = CLASS_TO_ID[cls]\n",
    "            with open(dest_label, \"w\") as f:\n",
    "                f.write(f\"{class_id} 0.5 0.5 1.0 1.0\\n\")"
   ]
  },
  {
   "cell_type": "markdown",
   "metadata": {},
   "source": [
    "Then we set up the yaml files for the model parameter"
   ]
  },
  {
   "cell_type": "code",
   "execution_count": 2,
   "metadata": {},
   "outputs": [],
   "source": [
    "yaml_content = f\"\"\"\n",
    "train: {OUTPUT_PATH / 'images/train'}\n",
    "val: {OUTPUT_PATH / 'images/val'}\n",
    "\n",
    "nc: {len(CLASSES)}\n",
    "names: {CLASSES}\n",
    "\"\"\"\n",
    "\n",
    "with open(\"skyview.yaml\", \"w\") as f:\n",
    "    f.write(yaml_content)"
   ]
  },
  {
   "cell_type": "markdown",
   "metadata": {},
   "source": [
    "Here we get the yolo model from ultralytics,then using the trainning set to train our model. The model we use is yolov5s Here is the url of the parameter\n",
    "https://github.com/ultralytics/yolov5/blob/master/models/yolov5s.yaml"
   ]
  },
  {
   "cell_type": "code",
   "execution_count": 3,
   "metadata": {},
   "outputs": [
    {
     "name": "stdout",
     "output_type": "stream",
     "text": [
      "PRO TIP  Replace 'model=yolov5s.pt' with new 'model=yolov5su.pt'.\n",
      "YOLOv5 'u' models are trained with https://github.com/ultralytics/ultralytics and feature improved performance vs standard YOLOv5 models trained with https://github.com/ultralytics/yolov5.\n",
      "\n",
      "Downloading https://github.com/ultralytics/assets/releases/download/v8.3.0/yolov5su.pt to 'yolov5su.pt'...\n"
     ]
    },
    {
     "name": "stderr",
     "output_type": "stream",
     "text": [
      "100%|██████████| 17.7M/17.7M [00:02<00:00, 7.29MB/s]\n"
     ]
    },
    {
     "name": "stdout",
     "output_type": "stream",
     "text": [
      "Ultralytics 8.3.107  Python-3.12.0 torch-2.3.0+cu121 CUDA:0 (NVIDIA GeForce RTX 3060 Laptop GPU, 6144MiB)\n",
      "\u001b[34m\u001b[1mengine\\trainer: \u001b[0mtask=detect, mode=train, model=yolov5s.pt, data=skyview.yaml, epochs=30, time=None, patience=100, batch=16, imgsz=640, save=True, save_period=-1, cache=False, device=None, workers=8, project=None, name=skyview_yolo, exist_ok=False, pretrained=True, optimizer=auto, verbose=True, seed=0, deterministic=True, single_cls=False, rect=False, cos_lr=False, close_mosaic=10, resume=False, amp=True, fraction=1.0, profile=False, freeze=None, multi_scale=False, overlap_mask=True, mask_ratio=4, dropout=0.0, val=True, split=val, save_json=False, conf=None, iou=0.7, max_det=300, half=False, dnn=False, plots=True, source=None, vid_stride=1, stream_buffer=False, visualize=False, augment=False, agnostic_nms=False, classes=None, retina_masks=False, embed=None, show=False, save_frames=False, save_txt=False, save_conf=False, save_crop=False, show_labels=True, show_conf=True, show_boxes=True, line_width=None, format=torchscript, keras=False, optimize=False, int8=False, dynamic=False, simplify=True, opset=None, workspace=None, nms=False, lr0=0.01, lrf=0.01, momentum=0.937, weight_decay=0.0005, warmup_epochs=3.0, warmup_momentum=0.8, warmup_bias_lr=0.1, box=7.5, cls=0.5, dfl=1.5, pose=12.0, kobj=1.0, nbs=64, hsv_h=0.015, hsv_s=0.7, hsv_v=0.4, degrees=0.0, translate=0.1, scale=0.5, shear=0.0, perspective=0.0, flipud=0.0, fliplr=0.5, bgr=0.0, mosaic=1.0, mixup=0.0, copy_paste=0.0, copy_paste_mode=flip, auto_augment=randaugment, erasing=0.4, crop_fraction=1.0, cfg=None, tracker=botsort.yaml, save_dir=runs\\detect\\skyview_yolo\n",
      "Overriding model.yaml nc=80 with nc=15\n",
      "\n",
      "                   from  n    params  module                                       arguments                     \n",
      "  0                  -1  1      3520  ultralytics.nn.modules.conv.Conv             [3, 32, 6, 2, 2]              \n",
      "  1                  -1  1     18560  ultralytics.nn.modules.conv.Conv             [32, 64, 3, 2]                \n",
      "  2                  -1  1     18816  ultralytics.nn.modules.block.C3              [64, 64, 1]                   \n",
      "  3                  -1  1     73984  ultralytics.nn.modules.conv.Conv             [64, 128, 3, 2]               \n",
      "  4                  -1  2    115712  ultralytics.nn.modules.block.C3              [128, 128, 2]                 \n",
      "  5                  -1  1    295424  ultralytics.nn.modules.conv.Conv             [128, 256, 3, 2]              \n",
      "  6                  -1  3    625152  ultralytics.nn.modules.block.C3              [256, 256, 3]                 \n",
      "  7                  -1  1   1180672  ultralytics.nn.modules.conv.Conv             [256, 512, 3, 2]              \n",
      "  8                  -1  1   1182720  ultralytics.nn.modules.block.C3              [512, 512, 1]                 \n",
      "  9                  -1  1    656896  ultralytics.nn.modules.block.SPPF            [512, 512, 5]                 \n",
      " 10                  -1  1    131584  ultralytics.nn.modules.conv.Conv             [512, 256, 1, 1]              \n",
      " 11                  -1  1         0  torch.nn.modules.upsampling.Upsample         [None, 2, 'nearest']          \n",
      " 12             [-1, 6]  1         0  ultralytics.nn.modules.conv.Concat           [1]                           \n",
      " 13                  -1  1    361984  ultralytics.nn.modules.block.C3              [512, 256, 1, False]          \n",
      " 14                  -1  1     33024  ultralytics.nn.modules.conv.Conv             [256, 128, 1, 1]              \n",
      " 15                  -1  1         0  torch.nn.modules.upsampling.Upsample         [None, 2, 'nearest']          \n",
      " 16             [-1, 4]  1         0  ultralytics.nn.modules.conv.Concat           [1]                           \n",
      " 17                  -1  1     90880  ultralytics.nn.modules.block.C3              [256, 128, 1, False]          \n",
      " 18                  -1  1    147712  ultralytics.nn.modules.conv.Conv             [128, 128, 3, 2]              \n",
      " 19            [-1, 14]  1         0  ultralytics.nn.modules.conv.Concat           [1]                           \n",
      " 20                  -1  1    296448  ultralytics.nn.modules.block.C3              [256, 256, 1, False]          \n",
      " 21                  -1  1    590336  ultralytics.nn.modules.conv.Conv             [256, 256, 3, 2]              \n",
      " 22            [-1, 10]  1         0  ultralytics.nn.modules.conv.Concat           [1]                           \n",
      " 23                  -1  1   1182720  ultralytics.nn.modules.block.C3              [512, 512, 1, False]          \n",
      " 24        [17, 20, 23]  1   2121853  ultralytics.nn.modules.head.Detect           [15, [128, 256, 512]]         \n",
      "YOLOv5s summary: 153 layers, 9,127,997 parameters, 9,127,981 gradients, 24.1 GFLOPs\n",
      "\n",
      "Transferred 421/427 items from pretrained weights\n",
      "\u001b[34m\u001b[1mTensorBoard: \u001b[0mStart with 'tensorboard --logdir runs\\detect\\skyview_yolo', view at http://localhost:6006/\n",
      "Freezing layer 'model.24.dfl.conv.weight'\n",
      "\u001b[34m\u001b[1mAMP: \u001b[0mrunning Automatic Mixed Precision (AMP) checks...\n",
      "Downloading https://github.com/ultralytics/assets/releases/download/v8.3.0/yolo11n.pt to 'yolo11n.pt'...\n"
     ]
    },
    {
     "name": "stderr",
     "output_type": "stream",
     "text": [
      "100%|██████████| 5.35M/5.35M [00:00<00:00, 8.63MB/s]\n"
     ]
    },
    {
     "name": "stdout",
     "output_type": "stream",
     "text": [
      "\u001b[34m\u001b[1mAMP: \u001b[0mchecks passed \n"
     ]
    },
    {
     "name": "stderr",
     "output_type": "stream",
     "text": [
      "\u001b[34m\u001b[1mtrain: \u001b[0mScanning C:\\Users\\15984\\Desktop\\COMP9517PROJECT\\skyview_yolo_dataset\\labels\\train... 800 images, 0 backgrounds, 0 corrupt: 100%|██████████| 800/800 [00:00<00:00, 970.75it/s]"
     ]
    },
    {
     "name": "stdout",
     "output_type": "stream",
     "text": [
      "\u001b[34m\u001b[1mtrain: \u001b[0mNew cache created: C:\\Users\\15984\\Desktop\\COMP9517PROJECT\\skyview_yolo_dataset\\labels\\train.cache\n"
     ]
    },
    {
     "name": "stderr",
     "output_type": "stream",
     "text": [
      "\n",
      "\u001b[34m\u001b[1mval: \u001b[0mScanning C:\\Users\\15984\\Desktop\\COMP9517PROJECT\\skyview_yolo_dataset\\labels\\val... 798 images, 0 backgrounds, 0 corrupt: 100%|██████████| 798/798 [00:01<00:00, 522.04it/s]"
     ]
    },
    {
     "name": "stdout",
     "output_type": "stream",
     "text": [
      "\u001b[34m\u001b[1mval: \u001b[0mNew cache created: C:\\Users\\15984\\Desktop\\COMP9517PROJECT\\skyview_yolo_dataset\\labels\\val.cache\n"
     ]
    },
    {
     "name": "stderr",
     "output_type": "stream",
     "text": [
      "\n"
     ]
    },
    {
     "name": "stdout",
     "output_type": "stream",
     "text": [
      "Plotting labels to runs\\detect\\skyview_yolo\\labels.jpg... \n",
      "\u001b[34m\u001b[1moptimizer:\u001b[0m 'optimizer=auto' found, ignoring 'lr0=0.01' and 'momentum=0.937' and determining best 'optimizer', 'lr0' and 'momentum' automatically... \n",
      "\u001b[34m\u001b[1moptimizer:\u001b[0m AdamW(lr=0.000526, momentum=0.9) with parameter groups 69 weight(decay=0.0), 76 weight(decay=0.0005), 75 bias(decay=0.0)\n",
      "\u001b[34m\u001b[1mTensorBoard: \u001b[0mmodel graph visualization added \n",
      "Image sizes 640 train, 640 val\n",
      "Using 8 dataloader workers\n",
      "Logging results to \u001b[1mruns\\detect\\skyview_yolo\u001b[0m\n",
      "Starting training for 30 epochs...\n",
      "\n",
      "      Epoch    GPU_mem   box_loss   cls_loss   dfl_loss  Instances       Size\n"
     ]
    },
    {
     "name": "stderr",
     "output_type": "stream",
     "text": [
      "       1/30      3.77G     0.5014      3.034      1.207         44        640: 100%|██████████| 50/50 [00:12<00:00,  4.05it/s]\n",
      "                 Class     Images  Instances      Box(P          R      mAP50  mAP50-95): 100%|██████████| 25/25 [00:06<00:00,  4.08it/s]"
     ]
    },
    {
     "name": "stdout",
     "output_type": "stream",
     "text": [
      "                   all        798        798      0.278       0.46      0.336       0.24\n"
     ]
    },
    {
     "name": "stderr",
     "output_type": "stream",
     "text": [
      "\n"
     ]
    },
    {
     "name": "stdout",
     "output_type": "stream",
     "text": [
      "\n",
      "      Epoch    GPU_mem   box_loss   cls_loss   dfl_loss  Instances       Size\n"
     ]
    },
    {
     "name": "stderr",
     "output_type": "stream",
     "text": [
      "       2/30      4.55G      0.164      1.539     0.9534         44        640: 100%|██████████| 50/50 [00:10<00:00,  4.80it/s]\n",
      "                 Class     Images  Instances      Box(P          R      mAP50  mAP50-95): 100%|██████████| 25/25 [00:05<00:00,  4.31it/s]"
     ]
    },
    {
     "name": "stdout",
     "output_type": "stream",
     "text": [
      "                   all        798        798      0.482      0.559        0.5      0.387\n"
     ]
    },
    {
     "name": "stderr",
     "output_type": "stream",
     "text": [
      "\n"
     ]
    },
    {
     "name": "stdout",
     "output_type": "stream",
     "text": [
      "\n",
      "      Epoch    GPU_mem   box_loss   cls_loss   dfl_loss  Instances       Size\n"
     ]
    },
    {
     "name": "stderr",
     "output_type": "stream",
     "text": [
      "       3/30      4.55G     0.1602      1.233     0.9383         50        640: 100%|██████████| 50/50 [00:10<00:00,  4.87it/s]\n",
      "                 Class     Images  Instances      Box(P          R      mAP50  mAP50-95): 100%|██████████| 25/25 [00:06<00:00,  4.15it/s]"
     ]
    },
    {
     "name": "stdout",
     "output_type": "stream",
     "text": [
      "                   all        798        798        0.6      0.586      0.585      0.559\n"
     ]
    },
    {
     "name": "stderr",
     "output_type": "stream",
     "text": [
      "\n"
     ]
    },
    {
     "name": "stdout",
     "output_type": "stream",
     "text": [
      "\n",
      "      Epoch    GPU_mem   box_loss   cls_loss   dfl_loss  Instances       Size\n"
     ]
    },
    {
     "name": "stderr",
     "output_type": "stream",
     "text": [
      "       4/30      4.55G     0.1625      1.131     0.9461         46        640: 100%|██████████| 50/50 [00:10<00:00,  4.88it/s]\n",
      "                 Class     Images  Instances      Box(P          R      mAP50  mAP50-95): 100%|██████████| 25/25 [00:05<00:00,  4.23it/s]"
     ]
    },
    {
     "name": "stdout",
     "output_type": "stream",
     "text": [
      "                   all        798        798      0.637      0.681      0.719      0.707\n"
     ]
    },
    {
     "name": "stderr",
     "output_type": "stream",
     "text": [
      "\n"
     ]
    },
    {
     "name": "stdout",
     "output_type": "stream",
     "text": [
      "\n",
      "      Epoch    GPU_mem   box_loss   cls_loss   dfl_loss  Instances       Size\n"
     ]
    },
    {
     "name": "stderr",
     "output_type": "stream",
     "text": [
      "       5/30      4.55G     0.1506      1.039     0.9398         54        640: 100%|██████████| 50/50 [00:10<00:00,  4.90it/s]\n",
      "                 Class     Images  Instances      Box(P          R      mAP50  mAP50-95): 100%|██████████| 25/25 [00:05<00:00,  4.36it/s]"
     ]
    },
    {
     "name": "stdout",
     "output_type": "stream",
     "text": [
      "                   all        798        798      0.718      0.739      0.759      0.728\n"
     ]
    },
    {
     "name": "stderr",
     "output_type": "stream",
     "text": [
      "\n"
     ]
    },
    {
     "name": "stdout",
     "output_type": "stream",
     "text": [
      "\n",
      "      Epoch    GPU_mem   box_loss   cls_loss   dfl_loss  Instances       Size\n"
     ]
    },
    {
     "name": "stderr",
     "output_type": "stream",
     "text": [
      "       6/30      4.55G     0.1424      1.001     0.9329         51        640: 100%|██████████| 50/50 [00:10<00:00,  4.89it/s]\n",
      "                 Class     Images  Instances      Box(P          R      mAP50  mAP50-95): 100%|██████████| 25/25 [00:05<00:00,  4.37it/s]"
     ]
    },
    {
     "name": "stdout",
     "output_type": "stream",
     "text": [
      "                   all        798        798      0.719      0.621      0.679      0.674\n"
     ]
    },
    {
     "name": "stderr",
     "output_type": "stream",
     "text": [
      "\n"
     ]
    },
    {
     "name": "stdout",
     "output_type": "stream",
     "text": [
      "\n",
      "      Epoch    GPU_mem   box_loss   cls_loss   dfl_loss  Instances       Size\n"
     ]
    },
    {
     "name": "stderr",
     "output_type": "stream",
     "text": [
      "       7/30      4.55G     0.1378     0.9251     0.9237         47        640: 100%|██████████| 50/50 [00:10<00:00,  4.90it/s]\n",
      "                 Class     Images  Instances      Box(P          R      mAP50  mAP50-95): 100%|██████████| 25/25 [00:05<00:00,  4.23it/s]"
     ]
    },
    {
     "name": "stdout",
     "output_type": "stream",
     "text": [
      "                   all        798        798       0.64      0.635      0.688      0.683\n"
     ]
    },
    {
     "name": "stderr",
     "output_type": "stream",
     "text": [
      "\n"
     ]
    },
    {
     "name": "stdout",
     "output_type": "stream",
     "text": [
      "\n",
      "      Epoch    GPU_mem   box_loss   cls_loss   dfl_loss  Instances       Size\n"
     ]
    },
    {
     "name": "stderr",
     "output_type": "stream",
     "text": [
      "       8/30      4.55G     0.1237     0.8443     0.9158         53        640: 100%|██████████| 50/50 [00:10<00:00,  4.89it/s]\n",
      "                 Class     Images  Instances      Box(P          R      mAP50  mAP50-95): 100%|██████████| 25/25 [00:05<00:00,  4.21it/s]"
     ]
    },
    {
     "name": "stdout",
     "output_type": "stream",
     "text": [
      "                   all        798        798      0.663      0.666      0.715      0.699\n"
     ]
    },
    {
     "name": "stderr",
     "output_type": "stream",
     "text": [
      "\n"
     ]
    },
    {
     "name": "stdout",
     "output_type": "stream",
     "text": [
      "\n",
      "      Epoch    GPU_mem   box_loss   cls_loss   dfl_loss  Instances       Size\n"
     ]
    },
    {
     "name": "stderr",
     "output_type": "stream",
     "text": [
      "       9/30      4.55G     0.1201     0.8111      0.917         54        640: 100%|██████████| 50/50 [00:10<00:00,  4.89it/s]\n",
      "                 Class     Images  Instances      Box(P          R      mAP50  mAP50-95): 100%|██████████| 25/25 [00:06<00:00,  4.13it/s]"
     ]
    },
    {
     "name": "stdout",
     "output_type": "stream",
     "text": [
      "                   all        798        798      0.773      0.699      0.791      0.786\n"
     ]
    },
    {
     "name": "stderr",
     "output_type": "stream",
     "text": [
      "\n"
     ]
    },
    {
     "name": "stdout",
     "output_type": "stream",
     "text": [
      "\n",
      "      Epoch    GPU_mem   box_loss   cls_loss   dfl_loss  Instances       Size\n"
     ]
    },
    {
     "name": "stderr",
     "output_type": "stream",
     "text": [
      "      10/30      4.55G     0.1136     0.8087     0.9122         43        640: 100%|██████████| 50/50 [00:10<00:00,  4.95it/s]\n",
      "                 Class     Images  Instances      Box(P          R      mAP50  mAP50-95): 100%|██████████| 25/25 [00:05<00:00,  4.26it/s]"
     ]
    },
    {
     "name": "stdout",
     "output_type": "stream",
     "text": [
      "                   all        798        798      0.791      0.747      0.823      0.823\n"
     ]
    },
    {
     "name": "stderr",
     "output_type": "stream",
     "text": [
      "\n"
     ]
    },
    {
     "name": "stdout",
     "output_type": "stream",
     "text": [
      "\n",
      "      Epoch    GPU_mem   box_loss   cls_loss   dfl_loss  Instances       Size\n"
     ]
    },
    {
     "name": "stderr",
     "output_type": "stream",
     "text": [
      "      11/30      4.55G     0.1082     0.7766     0.9118         54        640: 100%|██████████| 50/50 [00:09<00:00,  5.10it/s]\n",
      "                 Class     Images  Instances      Box(P          R      mAP50  mAP50-95): 100%|██████████| 25/25 [00:05<00:00,  4.42it/s]"
     ]
    },
    {
     "name": "stdout",
     "output_type": "stream",
     "text": [
      "                   all        798        798      0.812      0.799      0.863      0.863\n"
     ]
    },
    {
     "name": "stderr",
     "output_type": "stream",
     "text": [
      "\n"
     ]
    },
    {
     "name": "stdout",
     "output_type": "stream",
     "text": [
      "\n",
      "      Epoch    GPU_mem   box_loss   cls_loss   dfl_loss  Instances       Size\n"
     ]
    },
    {
     "name": "stderr",
     "output_type": "stream",
     "text": [
      "      12/30      4.55G     0.1039     0.7217     0.9124         50        640: 100%|██████████| 50/50 [00:09<00:00,  5.05it/s]\n",
      "                 Class     Images  Instances      Box(P          R      mAP50  mAP50-95): 100%|██████████| 25/25 [00:05<00:00,  4.39it/s]"
     ]
    },
    {
     "name": "stdout",
     "output_type": "stream",
     "text": [
      "                   all        798        798      0.842      0.724      0.789      0.784\n"
     ]
    },
    {
     "name": "stderr",
     "output_type": "stream",
     "text": [
      "\n"
     ]
    },
    {
     "name": "stdout",
     "output_type": "stream",
     "text": [
      "\n",
      "      Epoch    GPU_mem   box_loss   cls_loss   dfl_loss  Instances       Size\n"
     ]
    },
    {
     "name": "stderr",
     "output_type": "stream",
     "text": [
      "      13/30      4.55G     0.1022     0.7392      0.915         47        640: 100%|██████████| 50/50 [00:09<00:00,  5.02it/s]\n",
      "                 Class     Images  Instances      Box(P          R      mAP50  mAP50-95): 100%|██████████| 25/25 [00:05<00:00,  4.42it/s]"
     ]
    },
    {
     "name": "stdout",
     "output_type": "stream",
     "text": [
      "                   all        798        798      0.804      0.693      0.778      0.778\n"
     ]
    },
    {
     "name": "stderr",
     "output_type": "stream",
     "text": [
      "\n"
     ]
    },
    {
     "name": "stdout",
     "output_type": "stream",
     "text": [
      "\n",
      "      Epoch    GPU_mem   box_loss   cls_loss   dfl_loss  Instances       Size\n"
     ]
    },
    {
     "name": "stderr",
     "output_type": "stream",
     "text": [
      "      14/30      4.55G    0.09938     0.6461      0.908         51        640: 100%|██████████| 50/50 [00:10<00:00,  4.96it/s]\n",
      "                 Class     Images  Instances      Box(P          R      mAP50  mAP50-95): 100%|██████████| 25/25 [00:05<00:00,  4.22it/s]"
     ]
    },
    {
     "name": "stdout",
     "output_type": "stream",
     "text": [
      "                   all        798        798      0.743      0.783      0.834      0.832\n"
     ]
    },
    {
     "name": "stderr",
     "output_type": "stream",
     "text": [
      "\n"
     ]
    },
    {
     "name": "stdout",
     "output_type": "stream",
     "text": [
      "\n",
      "      Epoch    GPU_mem   box_loss   cls_loss   dfl_loss  Instances       Size\n"
     ]
    },
    {
     "name": "stderr",
     "output_type": "stream",
     "text": [
      "      15/30      4.55G    0.09892     0.6493     0.9055         49        640: 100%|██████████| 50/50 [00:09<00:00,  5.06it/s]\n",
      "                 Class     Images  Instances      Box(P          R      mAP50  mAP50-95): 100%|██████████| 25/25 [00:05<00:00,  4.26it/s]"
     ]
    },
    {
     "name": "stdout",
     "output_type": "stream",
     "text": [
      "                   all        798        798      0.772      0.799      0.848      0.846\n"
     ]
    },
    {
     "name": "stderr",
     "output_type": "stream",
     "text": [
      "\n"
     ]
    },
    {
     "name": "stdout",
     "output_type": "stream",
     "text": [
      "\n",
      "      Epoch    GPU_mem   box_loss   cls_loss   dfl_loss  Instances       Size\n"
     ]
    },
    {
     "name": "stderr",
     "output_type": "stream",
     "text": [
      "      16/30      4.55G    0.09539     0.6097     0.8985         43        640: 100%|██████████| 50/50 [00:09<00:00,  5.03it/s]\n",
      "                 Class     Images  Instances      Box(P          R      mAP50  mAP50-95): 100%|██████████| 25/25 [00:05<00:00,  4.27it/s]"
     ]
    },
    {
     "name": "stdout",
     "output_type": "stream",
     "text": [
      "                   all        798        798      0.855      0.751      0.873      0.864\n"
     ]
    },
    {
     "name": "stderr",
     "output_type": "stream",
     "text": [
      "\n"
     ]
    },
    {
     "name": "stdout",
     "output_type": "stream",
     "text": [
      "\n",
      "      Epoch    GPU_mem   box_loss   cls_loss   dfl_loss  Instances       Size\n"
     ]
    },
    {
     "name": "stderr",
     "output_type": "stream",
     "text": [
      "      17/30      4.55G    0.08955     0.6157     0.9009         40        640: 100%|██████████| 50/50 [00:10<00:00,  4.87it/s]\n",
      "                 Class     Images  Instances      Box(P          R      mAP50  mAP50-95): 100%|██████████| 25/25 [00:05<00:00,  4.40it/s]"
     ]
    },
    {
     "name": "stdout",
     "output_type": "stream",
     "text": [
      "                   all        798        798      0.824      0.827      0.882      0.882\n"
     ]
    },
    {
     "name": "stderr",
     "output_type": "stream",
     "text": [
      "\n"
     ]
    },
    {
     "name": "stdout",
     "output_type": "stream",
     "text": [
      "\n",
      "      Epoch    GPU_mem   box_loss   cls_loss   dfl_loss  Instances       Size\n"
     ]
    },
    {
     "name": "stderr",
     "output_type": "stream",
     "text": [
      "      18/30      4.55G     0.0868     0.5898     0.9004         47        640: 100%|██████████| 50/50 [00:09<00:00,  5.06it/s]\n",
      "                 Class     Images  Instances      Box(P          R      mAP50  mAP50-95): 100%|██████████| 25/25 [00:05<00:00,  4.34it/s]"
     ]
    },
    {
     "name": "stdout",
     "output_type": "stream",
     "text": [
      "                   all        798        798      0.824      0.841      0.891      0.888\n"
     ]
    },
    {
     "name": "stderr",
     "output_type": "stream",
     "text": [
      "\n"
     ]
    },
    {
     "name": "stdout",
     "output_type": "stream",
     "text": [
      "\n",
      "      Epoch    GPU_mem   box_loss   cls_loss   dfl_loss  Instances       Size\n"
     ]
    },
    {
     "name": "stderr",
     "output_type": "stream",
     "text": [
      "      19/30      4.55G    0.08379      0.526     0.9021         43        640: 100%|██████████| 50/50 [00:09<00:00,  5.01it/s]\n",
      "                 Class     Images  Instances      Box(P          R      mAP50  mAP50-95): 100%|██████████| 25/25 [00:05<00:00,  4.22it/s]"
     ]
    },
    {
     "name": "stdout",
     "output_type": "stream",
     "text": [
      "                   all        798        798      0.829      0.866      0.924      0.921\n"
     ]
    },
    {
     "name": "stderr",
     "output_type": "stream",
     "text": [
      "\n"
     ]
    },
    {
     "name": "stdout",
     "output_type": "stream",
     "text": [
      "\n",
      "      Epoch    GPU_mem   box_loss   cls_loss   dfl_loss  Instances       Size\n"
     ]
    },
    {
     "name": "stderr",
     "output_type": "stream",
     "text": [
      "      20/30      4.55G    0.08041     0.5327     0.9015         48        640: 100%|██████████| 50/50 [00:10<00:00,  4.93it/s]\n",
      "                 Class     Images  Instances      Box(P          R      mAP50  mAP50-95): 100%|██████████| 25/25 [00:05<00:00,  4.28it/s]"
     ]
    },
    {
     "name": "stdout",
     "output_type": "stream",
     "text": [
      "                   all        798        798      0.857      0.796      0.893      0.886\n"
     ]
    },
    {
     "name": "stderr",
     "output_type": "stream",
     "text": [
      "\n"
     ]
    },
    {
     "name": "stdout",
     "output_type": "stream",
     "text": [
      "Closing dataloader mosaic\n",
      "\n",
      "      Epoch    GPU_mem   box_loss   cls_loss   dfl_loss  Instances       Size\n"
     ]
    },
    {
     "name": "stderr",
     "output_type": "stream",
     "text": [
      "      21/30      4.55G     0.1003     0.5456     0.9388         16        640: 100%|██████████| 50/50 [00:10<00:00,  4.81it/s]\n",
      "                 Class     Images  Instances      Box(P          R      mAP50  mAP50-95): 100%|██████████| 25/25 [00:05<00:00,  4.26it/s]"
     ]
    },
    {
     "name": "stdout",
     "output_type": "stream",
     "text": [
      "                   all        798        798      0.801      0.785      0.867      0.867\n"
     ]
    },
    {
     "name": "stderr",
     "output_type": "stream",
     "text": [
      "\n"
     ]
    },
    {
     "name": "stdout",
     "output_type": "stream",
     "text": [
      "\n",
      "      Epoch    GPU_mem   box_loss   cls_loss   dfl_loss  Instances       Size\n"
     ]
    },
    {
     "name": "stderr",
     "output_type": "stream",
     "text": [
      "      22/30      4.55G    0.07667     0.3527     0.9242         16        640: 100%|██████████| 50/50 [00:10<00:00,  4.69it/s]\n",
      "                 Class     Images  Instances      Box(P          R      mAP50  mAP50-95): 100%|██████████| 25/25 [00:05<00:00,  4.28it/s]"
     ]
    },
    {
     "name": "stdout",
     "output_type": "stream",
     "text": [
      "                   all        798        798      0.792      0.816      0.881      0.878\n"
     ]
    },
    {
     "name": "stderr",
     "output_type": "stream",
     "text": [
      "\n"
     ]
    },
    {
     "name": "stdout",
     "output_type": "stream",
     "text": [
      "\n",
      "      Epoch    GPU_mem   box_loss   cls_loss   dfl_loss  Instances       Size\n"
     ]
    },
    {
     "name": "stderr",
     "output_type": "stream",
     "text": [
      "      23/30      4.55G    0.06573     0.3141     0.9246         16        640: 100%|██████████| 50/50 [00:10<00:00,  4.99it/s]\n",
      "                 Class     Images  Instances      Box(P          R      mAP50  mAP50-95): 100%|██████████| 25/25 [00:05<00:00,  4.29it/s]"
     ]
    },
    {
     "name": "stdout",
     "output_type": "stream",
     "text": [
      "                   all        798        798      0.849      0.823      0.885      0.885\n"
     ]
    },
    {
     "name": "stderr",
     "output_type": "stream",
     "text": [
      "\n"
     ]
    },
    {
     "name": "stdout",
     "output_type": "stream",
     "text": [
      "\n",
      "      Epoch    GPU_mem   box_loss   cls_loss   dfl_loss  Instances       Size\n"
     ]
    },
    {
     "name": "stderr",
     "output_type": "stream",
     "text": [
      "      24/30      4.55G    0.06604     0.3048     0.9066         16        640: 100%|██████████| 50/50 [00:09<00:00,  5.01it/s]\n",
      "                 Class     Images  Instances      Box(P          R      mAP50  mAP50-95): 100%|██████████| 25/25 [00:05<00:00,  4.26it/s]"
     ]
    },
    {
     "name": "stdout",
     "output_type": "stream",
     "text": [
      "                   all        798        798      0.842      0.882      0.917      0.915\n"
     ]
    },
    {
     "name": "stderr",
     "output_type": "stream",
     "text": [
      "\n"
     ]
    },
    {
     "name": "stdout",
     "output_type": "stream",
     "text": [
      "\n",
      "      Epoch    GPU_mem   box_loss   cls_loss   dfl_loss  Instances       Size\n"
     ]
    },
    {
     "name": "stderr",
     "output_type": "stream",
     "text": [
      "      25/30      4.55G    0.05677     0.2775     0.9127         16        640: 100%|██████████| 50/50 [00:10<00:00,  4.89it/s]\n",
      "                 Class     Images  Instances      Box(P          R      mAP50  mAP50-95): 100%|██████████| 25/25 [00:05<00:00,  4.22it/s]"
     ]
    },
    {
     "name": "stdout",
     "output_type": "stream",
     "text": [
      "                   all        798        798      0.878      0.848      0.922      0.922\n"
     ]
    },
    {
     "name": "stderr",
     "output_type": "stream",
     "text": [
      "\n"
     ]
    },
    {
     "name": "stdout",
     "output_type": "stream",
     "text": [
      "\n",
      "      Epoch    GPU_mem   box_loss   cls_loss   dfl_loss  Instances       Size\n"
     ]
    },
    {
     "name": "stderr",
     "output_type": "stream",
     "text": [
      "      26/30      4.55G     0.0539     0.2691     0.9102         16        640: 100%|██████████| 50/50 [00:10<00:00,  4.89it/s]\n",
      "                 Class     Images  Instances      Box(P          R      mAP50  mAP50-95): 100%|██████████| 25/25 [00:05<00:00,  4.27it/s]"
     ]
    },
    {
     "name": "stdout",
     "output_type": "stream",
     "text": [
      "                   all        798        798      0.863      0.919      0.931      0.931\n"
     ]
    },
    {
     "name": "stderr",
     "output_type": "stream",
     "text": [
      "\n"
     ]
    },
    {
     "name": "stdout",
     "output_type": "stream",
     "text": [
      "\n",
      "      Epoch    GPU_mem   box_loss   cls_loss   dfl_loss  Instances       Size\n"
     ]
    },
    {
     "name": "stderr",
     "output_type": "stream",
     "text": [
      "      27/30      4.55G    0.05258     0.2109       0.91         16        640: 100%|██████████| 50/50 [00:10<00:00,  4.99it/s]\n",
      "                 Class     Images  Instances      Box(P          R      mAP50  mAP50-95): 100%|██████████| 25/25 [00:05<00:00,  4.31it/s]"
     ]
    },
    {
     "name": "stdout",
     "output_type": "stream",
     "text": [
      "                   all        798        798      0.888      0.829       0.92       0.92\n"
     ]
    },
    {
     "name": "stderr",
     "output_type": "stream",
     "text": [
      "\n"
     ]
    },
    {
     "name": "stdout",
     "output_type": "stream",
     "text": [
      "\n",
      "      Epoch    GPU_mem   box_loss   cls_loss   dfl_loss  Instances       Size\n"
     ]
    },
    {
     "name": "stderr",
     "output_type": "stream",
     "text": [
      "      28/30      4.55G    0.04782     0.2068     0.9201         16        640: 100%|██████████| 50/50 [00:10<00:00,  4.99it/s]\n",
      "                 Class     Images  Instances      Box(P          R      mAP50  mAP50-95): 100%|██████████| 25/25 [00:05<00:00,  4.39it/s]"
     ]
    },
    {
     "name": "stdout",
     "output_type": "stream",
     "text": [
      "                   all        798        798      0.881      0.849      0.923      0.923\n"
     ]
    },
    {
     "name": "stderr",
     "output_type": "stream",
     "text": [
      "\n"
     ]
    },
    {
     "name": "stdout",
     "output_type": "stream",
     "text": [
      "\n",
      "      Epoch    GPU_mem   box_loss   cls_loss   dfl_loss  Instances       Size\n"
     ]
    },
    {
     "name": "stderr",
     "output_type": "stream",
     "text": [
      "      29/30      4.55G    0.04585     0.1855     0.9157         16        640: 100%|██████████| 50/50 [00:09<00:00,  5.08it/s]\n",
      "                 Class     Images  Instances      Box(P          R      mAP50  mAP50-95): 100%|██████████| 25/25 [00:05<00:00,  4.36it/s]"
     ]
    },
    {
     "name": "stdout",
     "output_type": "stream",
     "text": [
      "                   all        798        798        0.9      0.843      0.923      0.923\n"
     ]
    },
    {
     "name": "stderr",
     "output_type": "stream",
     "text": [
      "\n"
     ]
    },
    {
     "name": "stdout",
     "output_type": "stream",
     "text": [
      "\n",
      "      Epoch    GPU_mem   box_loss   cls_loss   dfl_loss  Instances       Size\n"
     ]
    },
    {
     "name": "stderr",
     "output_type": "stream",
     "text": [
      "      30/30      4.55G    0.04564     0.1433     0.8971         16        640: 100%|██████████| 50/50 [00:10<00:00,  4.92it/s]\n",
      "                 Class     Images  Instances      Box(P          R      mAP50  mAP50-95): 100%|██████████| 25/25 [00:05<00:00,  4.38it/s]"
     ]
    },
    {
     "name": "stdout",
     "output_type": "stream",
     "text": [
      "                   all        798        798      0.882      0.905      0.938      0.938\n"
     ]
    },
    {
     "name": "stderr",
     "output_type": "stream",
     "text": [
      "\n"
     ]
    },
    {
     "name": "stdout",
     "output_type": "stream",
     "text": [
      "\n",
      "30 epochs completed in 0.147 hours.\n",
      "Optimizer stripped from runs\\detect\\skyview_yolo\\weights\\last.pt, 18.5MB\n",
      "Optimizer stripped from runs\\detect\\skyview_yolo\\weights\\best.pt, 18.5MB\n",
      "\n",
      "Validating runs\\detect\\skyview_yolo\\weights\\best.pt...\n",
      "Ultralytics 8.3.107  Python-3.12.0 torch-2.3.0+cu121 CUDA:0 (NVIDIA GeForce RTX 3060 Laptop GPU, 6144MiB)\n",
      "YOLOv5s summary (fused): 84 layers, 9,117,341 parameters, 0 gradients, 23.9 GFLOPs\n"
     ]
    },
    {
     "name": "stderr",
     "output_type": "stream",
     "text": [
      "                 Class     Images  Instances      Box(P          R      mAP50  mAP50-95): 100%|██████████| 25/25 [00:05<00:00,  4.21it/s]\n"
     ]
    },
    {
     "name": "stdout",
     "output_type": "stream",
     "text": [
      "                   all        798        798      0.882      0.905      0.938      0.938\n",
      "           Agriculture          9          9       0.68      0.778      0.837      0.837\n",
      "               Airport          7          7      0.827      0.714       0.73       0.73\n",
      "                 Beach         17         17      0.918      0.941       0.99       0.99\n",
      "                  City         19         19      0.845      0.859      0.928      0.928\n",
      "                Desert         31         31      0.908      0.957      0.946      0.946\n",
      "                Forest         24         24      0.911      0.849      0.925      0.925\n",
      "             Grassland         22         22      0.718      0.927      0.937      0.937\n",
      "               Highway         36         36      0.885      0.944       0.96       0.96\n",
      "                  Lake         40         40      0.891      0.817      0.924      0.924\n",
      "              Mountain         69         69      0.975      0.928      0.982      0.982\n",
      "               Parking         65         65      0.984      0.935      0.962      0.962\n",
      "                  Port         82         82      0.941          1      0.994      0.994\n",
      "               Railway        104        104      0.875      0.981      0.984      0.984\n",
      "           Residential        122        122       0.96      0.988      0.991      0.991\n",
      "                 River        151        151      0.913      0.954       0.98       0.98\n",
      "Speed: 0.2ms preprocess, 3.2ms inference, 0.0ms loss, 0.9ms postprocess per image\n",
      "Results saved to \u001b[1mruns\\detect\\skyview_yolo\u001b[0m\n"
     ]
    },
    {
     "data": {
      "text/plain": [
       "ultralytics.utils.metrics.DetMetrics object with attributes:\n",
       "\n",
       "ap_class_index: array([ 0,  1,  2,  3,  4,  5,  6,  7,  8,  9, 10, 11, 12, 13, 14])\n",
       "box: ultralytics.utils.metrics.Metric object\n",
       "confusion_matrix: <ultralytics.utils.metrics.ConfusionMatrix object at 0x000002163551B380>\n",
       "curves: ['Precision-Recall(B)', 'F1-Confidence(B)', 'Precision-Confidence(B)', 'Recall-Confidence(B)']\n",
       "curves_results: [[array([          0,    0.001001,    0.002002,    0.003003,    0.004004,    0.005005,    0.006006,    0.007007,    0.008008,    0.009009,     0.01001,    0.011011,    0.012012,    0.013013,    0.014014,    0.015015,    0.016016,    0.017017,    0.018018,    0.019019,     0.02002,    0.021021,    0.022022,    0.023023,\n",
       "          0.024024,    0.025025,    0.026026,    0.027027,    0.028028,    0.029029,     0.03003,    0.031031,    0.032032,    0.033033,    0.034034,    0.035035,    0.036036,    0.037037,    0.038038,    0.039039,     0.04004,    0.041041,    0.042042,    0.043043,    0.044044,    0.045045,    0.046046,    0.047047,\n",
       "          0.048048,    0.049049,     0.05005,    0.051051,    0.052052,    0.053053,    0.054054,    0.055055,    0.056056,    0.057057,    0.058058,    0.059059,     0.06006,    0.061061,    0.062062,    0.063063,    0.064064,    0.065065,    0.066066,    0.067067,    0.068068,    0.069069,     0.07007,    0.071071,\n",
       "          0.072072,    0.073073,    0.074074,    0.075075,    0.076076,    0.077077,    0.078078,    0.079079,     0.08008,    0.081081,    0.082082,    0.083083,    0.084084,    0.085085,    0.086086,    0.087087,    0.088088,    0.089089,     0.09009,    0.091091,    0.092092,    0.093093,    0.094094,    0.095095,\n",
       "          0.096096,    0.097097,    0.098098,    0.099099,      0.1001,      0.1011,      0.1021,      0.1031,      0.1041,     0.10511,     0.10611,     0.10711,     0.10811,     0.10911,     0.11011,     0.11111,     0.11211,     0.11311,     0.11411,     0.11512,     0.11612,     0.11712,     0.11812,     0.11912,\n",
       "           0.12012,     0.12112,     0.12212,     0.12312,     0.12412,     0.12513,     0.12613,     0.12713,     0.12813,     0.12913,     0.13013,     0.13113,     0.13213,     0.13313,     0.13413,     0.13514,     0.13614,     0.13714,     0.13814,     0.13914,     0.14014,     0.14114,     0.14214,     0.14314,\n",
       "           0.14414,     0.14515,     0.14615,     0.14715,     0.14815,     0.14915,     0.15015,     0.15115,     0.15215,     0.15315,     0.15415,     0.15516,     0.15616,     0.15716,     0.15816,     0.15916,     0.16016,     0.16116,     0.16216,     0.16316,     0.16416,     0.16517,     0.16617,     0.16717,\n",
       "           0.16817,     0.16917,     0.17017,     0.17117,     0.17217,     0.17317,     0.17417,     0.17518,     0.17618,     0.17718,     0.17818,     0.17918,     0.18018,     0.18118,     0.18218,     0.18318,     0.18418,     0.18519,     0.18619,     0.18719,     0.18819,     0.18919,     0.19019,     0.19119,\n",
       "           0.19219,     0.19319,     0.19419,      0.1952,      0.1962,      0.1972,      0.1982,      0.1992,      0.2002,      0.2012,      0.2022,      0.2032,      0.2042,     0.20521,     0.20621,     0.20721,     0.20821,     0.20921,     0.21021,     0.21121,     0.21221,     0.21321,     0.21421,     0.21522,\n",
       "           0.21622,     0.21722,     0.21822,     0.21922,     0.22022,     0.22122,     0.22222,     0.22322,     0.22422,     0.22523,     0.22623,     0.22723,     0.22823,     0.22923,     0.23023,     0.23123,     0.23223,     0.23323,     0.23423,     0.23524,     0.23624,     0.23724,     0.23824,     0.23924,\n",
       "           0.24024,     0.24124,     0.24224,     0.24324,     0.24424,     0.24525,     0.24625,     0.24725,     0.24825,     0.24925,     0.25025,     0.25125,     0.25225,     0.25325,     0.25425,     0.25526,     0.25626,     0.25726,     0.25826,     0.25926,     0.26026,     0.26126,     0.26226,     0.26326,\n",
       "           0.26426,     0.26527,     0.26627,     0.26727,     0.26827,     0.26927,     0.27027,     0.27127,     0.27227,     0.27327,     0.27427,     0.27528,     0.27628,     0.27728,     0.27828,     0.27928,     0.28028,     0.28128,     0.28228,     0.28328,     0.28428,     0.28529,     0.28629,     0.28729,\n",
       "           0.28829,     0.28929,     0.29029,     0.29129,     0.29229,     0.29329,     0.29429,      0.2953,      0.2963,      0.2973,      0.2983,      0.2993,      0.3003,      0.3013,      0.3023,      0.3033,      0.3043,     0.30531,     0.30631,     0.30731,     0.30831,     0.30931,     0.31031,     0.31131,\n",
       "           0.31231,     0.31331,     0.31431,     0.31532,     0.31632,     0.31732,     0.31832,     0.31932,     0.32032,     0.32132,     0.32232,     0.32332,     0.32432,     0.32533,     0.32633,     0.32733,     0.32833,     0.32933,     0.33033,     0.33133,     0.33233,     0.33333,     0.33433,     0.33534,\n",
       "           0.33634,     0.33734,     0.33834,     0.33934,     0.34034,     0.34134,     0.34234,     0.34334,     0.34434,     0.34535,     0.34635,     0.34735,     0.34835,     0.34935,     0.35035,     0.35135,     0.35235,     0.35335,     0.35435,     0.35536,     0.35636,     0.35736,     0.35836,     0.35936,\n",
       "           0.36036,     0.36136,     0.36236,     0.36336,     0.36436,     0.36537,     0.36637,     0.36737,     0.36837,     0.36937,     0.37037,     0.37137,     0.37237,     0.37337,     0.37437,     0.37538,     0.37638,     0.37738,     0.37838,     0.37938,     0.38038,     0.38138,     0.38238,     0.38338,\n",
       "           0.38438,     0.38539,     0.38639,     0.38739,     0.38839,     0.38939,     0.39039,     0.39139,     0.39239,     0.39339,     0.39439,      0.3954,      0.3964,      0.3974,      0.3984,      0.3994,      0.4004,      0.4014,      0.4024,      0.4034,      0.4044,     0.40541,     0.40641,     0.40741,\n",
       "           0.40841,     0.40941,     0.41041,     0.41141,     0.41241,     0.41341,     0.41441,     0.41542,     0.41642,     0.41742,     0.41842,     0.41942,     0.42042,     0.42142,     0.42242,     0.42342,     0.42442,     0.42543,     0.42643,     0.42743,     0.42843,     0.42943,     0.43043,     0.43143,\n",
       "           0.43243,     0.43343,     0.43443,     0.43544,     0.43644,     0.43744,     0.43844,     0.43944,     0.44044,     0.44144,     0.44244,     0.44344,     0.44444,     0.44545,     0.44645,     0.44745,     0.44845,     0.44945,     0.45045,     0.45145,     0.45245,     0.45345,     0.45445,     0.45546,\n",
       "           0.45646,     0.45746,     0.45846,     0.45946,     0.46046,     0.46146,     0.46246,     0.46346,     0.46446,     0.46547,     0.46647,     0.46747,     0.46847,     0.46947,     0.47047,     0.47147,     0.47247,     0.47347,     0.47447,     0.47548,     0.47648,     0.47748,     0.47848,     0.47948,\n",
       "           0.48048,     0.48148,     0.48248,     0.48348,     0.48448,     0.48549,     0.48649,     0.48749,     0.48849,     0.48949,     0.49049,     0.49149,     0.49249,     0.49349,     0.49449,      0.4955,      0.4965,      0.4975,      0.4985,      0.4995,      0.5005,      0.5015,      0.5025,      0.5035,\n",
       "            0.5045,     0.50551,     0.50651,     0.50751,     0.50851,     0.50951,     0.51051,     0.51151,     0.51251,     0.51351,     0.51451,     0.51552,     0.51652,     0.51752,     0.51852,     0.51952,     0.52052,     0.52152,     0.52252,     0.52352,     0.52452,     0.52553,     0.52653,     0.52753,\n",
       "           0.52853,     0.52953,     0.53053,     0.53153,     0.53253,     0.53353,     0.53453,     0.53554,     0.53654,     0.53754,     0.53854,     0.53954,     0.54054,     0.54154,     0.54254,     0.54354,     0.54454,     0.54555,     0.54655,     0.54755,     0.54855,     0.54955,     0.55055,     0.55155,\n",
       "           0.55255,     0.55355,     0.55455,     0.55556,     0.55656,     0.55756,     0.55856,     0.55956,     0.56056,     0.56156,     0.56256,     0.56356,     0.56456,     0.56557,     0.56657,     0.56757,     0.56857,     0.56957,     0.57057,     0.57157,     0.57257,     0.57357,     0.57457,     0.57558,\n",
       "           0.57658,     0.57758,     0.57858,     0.57958,     0.58058,     0.58158,     0.58258,     0.58358,     0.58458,     0.58559,     0.58659,     0.58759,     0.58859,     0.58959,     0.59059,     0.59159,     0.59259,     0.59359,     0.59459,      0.5956,      0.5966,      0.5976,      0.5986,      0.5996,\n",
       "            0.6006,      0.6016,      0.6026,      0.6036,      0.6046,     0.60561,     0.60661,     0.60761,     0.60861,     0.60961,     0.61061,     0.61161,     0.61261,     0.61361,     0.61461,     0.61562,     0.61662,     0.61762,     0.61862,     0.61962,     0.62062,     0.62162,     0.62262,     0.62362,\n",
       "           0.62462,     0.62563,     0.62663,     0.62763,     0.62863,     0.62963,     0.63063,     0.63163,     0.63263,     0.63363,     0.63463,     0.63564,     0.63664,     0.63764,     0.63864,     0.63964,     0.64064,     0.64164,     0.64264,     0.64364,     0.64464,     0.64565,     0.64665,     0.64765,\n",
       "           0.64865,     0.64965,     0.65065,     0.65165,     0.65265,     0.65365,     0.65465,     0.65566,     0.65666,     0.65766,     0.65866,     0.65966,     0.66066,     0.66166,     0.66266,     0.66366,     0.66466,     0.66567,     0.66667,     0.66767,     0.66867,     0.66967,     0.67067,     0.67167,\n",
       "           0.67267,     0.67367,     0.67467,     0.67568,     0.67668,     0.67768,     0.67868,     0.67968,     0.68068,     0.68168,     0.68268,     0.68368,     0.68468,     0.68569,     0.68669,     0.68769,     0.68869,     0.68969,     0.69069,     0.69169,     0.69269,     0.69369,     0.69469,      0.6957,\n",
       "            0.6967,      0.6977,      0.6987,      0.6997,      0.7007,      0.7017,      0.7027,      0.7037,      0.7047,     0.70571,     0.70671,     0.70771,     0.70871,     0.70971,     0.71071,     0.71171,     0.71271,     0.71371,     0.71471,     0.71572,     0.71672,     0.71772,     0.71872,     0.71972,\n",
       "           0.72072,     0.72172,     0.72272,     0.72372,     0.72472,     0.72573,     0.72673,     0.72773,     0.72873,     0.72973,     0.73073,     0.73173,     0.73273,     0.73373,     0.73473,     0.73574,     0.73674,     0.73774,     0.73874,     0.73974,     0.74074,     0.74174,     0.74274,     0.74374,\n",
       "           0.74474,     0.74575,     0.74675,     0.74775,     0.74875,     0.74975,     0.75075,     0.75175,     0.75275,     0.75375,     0.75475,     0.75576,     0.75676,     0.75776,     0.75876,     0.75976,     0.76076,     0.76176,     0.76276,     0.76376,     0.76476,     0.76577,     0.76677,     0.76777,\n",
       "           0.76877,     0.76977,     0.77077,     0.77177,     0.77277,     0.77377,     0.77477,     0.77578,     0.77678,     0.77778,     0.77878,     0.77978,     0.78078,     0.78178,     0.78278,     0.78378,     0.78478,     0.78579,     0.78679,     0.78779,     0.78879,     0.78979,     0.79079,     0.79179,\n",
       "           0.79279,     0.79379,     0.79479,      0.7958,      0.7968,      0.7978,      0.7988,      0.7998,      0.8008,      0.8018,      0.8028,      0.8038,      0.8048,     0.80581,     0.80681,     0.80781,     0.80881,     0.80981,     0.81081,     0.81181,     0.81281,     0.81381,     0.81481,     0.81582,\n",
       "           0.81682,     0.81782,     0.81882,     0.81982,     0.82082,     0.82182,     0.82282,     0.82382,     0.82482,     0.82583,     0.82683,     0.82783,     0.82883,     0.82983,     0.83083,     0.83183,     0.83283,     0.83383,     0.83483,     0.83584,     0.83684,     0.83784,     0.83884,     0.83984,\n",
       "           0.84084,     0.84184,     0.84284,     0.84384,     0.84484,     0.84585,     0.84685,     0.84785,     0.84885,     0.84985,     0.85085,     0.85185,     0.85285,     0.85385,     0.85485,     0.85586,     0.85686,     0.85786,     0.85886,     0.85986,     0.86086,     0.86186,     0.86286,     0.86386,\n",
       "           0.86486,     0.86587,     0.86687,     0.86787,     0.86887,     0.86987,     0.87087,     0.87187,     0.87287,     0.87387,     0.87487,     0.87588,     0.87688,     0.87788,     0.87888,     0.87988,     0.88088,     0.88188,     0.88288,     0.88388,     0.88488,     0.88589,     0.88689,     0.88789,\n",
       "           0.88889,     0.88989,     0.89089,     0.89189,     0.89289,     0.89389,     0.89489,      0.8959,      0.8969,      0.8979,      0.8989,      0.8999,      0.9009,      0.9019,      0.9029,      0.9039,      0.9049,     0.90591,     0.90691,     0.90791,     0.90891,     0.90991,     0.91091,     0.91191,\n",
       "           0.91291,     0.91391,     0.91491,     0.91592,     0.91692,     0.91792,     0.91892,     0.91992,     0.92092,     0.92192,     0.92292,     0.92392,     0.92492,     0.92593,     0.92693,     0.92793,     0.92893,     0.92993,     0.93093,     0.93193,     0.93293,     0.93393,     0.93493,     0.93594,\n",
       "           0.93694,     0.93794,     0.93894,     0.93994,     0.94094,     0.94194,     0.94294,     0.94394,     0.94494,     0.94595,     0.94695,     0.94795,     0.94895,     0.94995,     0.95095,     0.95195,     0.95295,     0.95395,     0.95495,     0.95596,     0.95696,     0.95796,     0.95896,     0.95996,\n",
       "           0.96096,     0.96196,     0.96296,     0.96396,     0.96496,     0.96597,     0.96697,     0.96797,     0.96897,     0.96997,     0.97097,     0.97197,     0.97297,     0.97397,     0.97497,     0.97598,     0.97698,     0.97798,     0.97898,     0.97998,     0.98098,     0.98198,     0.98298,     0.98398,\n",
       "           0.98498,     0.98599,     0.98699,     0.98799,     0.98899,     0.98999,     0.99099,     0.99199,     0.99299,     0.99399,     0.99499,       0.996,       0.997,       0.998,       0.999,           1]), array([[          1,           1,           1, ...,     0.40909,     0.40909,           0],\n",
       "       [          1,           1,           1, ...,     0.22581,     0.22581,           0],\n",
       "       [          1,           1,           1, ...,     0.89474,     0.89474,           0],\n",
       "       ...,\n",
       "       [          1,           1,           1, ...,     0.39695,     0.39695,           0],\n",
       "       [          1,           1,           1, ...,      0.9313,      0.9313,           0],\n",
       "       [          1,           1,           1, ...,     0.79474,     0.79474,           0]]), 'Recall', 'Precision'], [array([          0,    0.001001,    0.002002,    0.003003,    0.004004,    0.005005,    0.006006,    0.007007,    0.008008,    0.009009,     0.01001,    0.011011,    0.012012,    0.013013,    0.014014,    0.015015,    0.016016,    0.017017,    0.018018,    0.019019,     0.02002,    0.021021,    0.022022,    0.023023,\n",
       "          0.024024,    0.025025,    0.026026,    0.027027,    0.028028,    0.029029,     0.03003,    0.031031,    0.032032,    0.033033,    0.034034,    0.035035,    0.036036,    0.037037,    0.038038,    0.039039,     0.04004,    0.041041,    0.042042,    0.043043,    0.044044,    0.045045,    0.046046,    0.047047,\n",
       "          0.048048,    0.049049,     0.05005,    0.051051,    0.052052,    0.053053,    0.054054,    0.055055,    0.056056,    0.057057,    0.058058,    0.059059,     0.06006,    0.061061,    0.062062,    0.063063,    0.064064,    0.065065,    0.066066,    0.067067,    0.068068,    0.069069,     0.07007,    0.071071,\n",
       "          0.072072,    0.073073,    0.074074,    0.075075,    0.076076,    0.077077,    0.078078,    0.079079,     0.08008,    0.081081,    0.082082,    0.083083,    0.084084,    0.085085,    0.086086,    0.087087,    0.088088,    0.089089,     0.09009,    0.091091,    0.092092,    0.093093,    0.094094,    0.095095,\n",
       "          0.096096,    0.097097,    0.098098,    0.099099,      0.1001,      0.1011,      0.1021,      0.1031,      0.1041,     0.10511,     0.10611,     0.10711,     0.10811,     0.10911,     0.11011,     0.11111,     0.11211,     0.11311,     0.11411,     0.11512,     0.11612,     0.11712,     0.11812,     0.11912,\n",
       "           0.12012,     0.12112,     0.12212,     0.12312,     0.12412,     0.12513,     0.12613,     0.12713,     0.12813,     0.12913,     0.13013,     0.13113,     0.13213,     0.13313,     0.13413,     0.13514,     0.13614,     0.13714,     0.13814,     0.13914,     0.14014,     0.14114,     0.14214,     0.14314,\n",
       "           0.14414,     0.14515,     0.14615,     0.14715,     0.14815,     0.14915,     0.15015,     0.15115,     0.15215,     0.15315,     0.15415,     0.15516,     0.15616,     0.15716,     0.15816,     0.15916,     0.16016,     0.16116,     0.16216,     0.16316,     0.16416,     0.16517,     0.16617,     0.16717,\n",
       "           0.16817,     0.16917,     0.17017,     0.17117,     0.17217,     0.17317,     0.17417,     0.17518,     0.17618,     0.17718,     0.17818,     0.17918,     0.18018,     0.18118,     0.18218,     0.18318,     0.18418,     0.18519,     0.18619,     0.18719,     0.18819,     0.18919,     0.19019,     0.19119,\n",
       "           0.19219,     0.19319,     0.19419,      0.1952,      0.1962,      0.1972,      0.1982,      0.1992,      0.2002,      0.2012,      0.2022,      0.2032,      0.2042,     0.20521,     0.20621,     0.20721,     0.20821,     0.20921,     0.21021,     0.21121,     0.21221,     0.21321,     0.21421,     0.21522,\n",
       "           0.21622,     0.21722,     0.21822,     0.21922,     0.22022,     0.22122,     0.22222,     0.22322,     0.22422,     0.22523,     0.22623,     0.22723,     0.22823,     0.22923,     0.23023,     0.23123,     0.23223,     0.23323,     0.23423,     0.23524,     0.23624,     0.23724,     0.23824,     0.23924,\n",
       "           0.24024,     0.24124,     0.24224,     0.24324,     0.24424,     0.24525,     0.24625,     0.24725,     0.24825,     0.24925,     0.25025,     0.25125,     0.25225,     0.25325,     0.25425,     0.25526,     0.25626,     0.25726,     0.25826,     0.25926,     0.26026,     0.26126,     0.26226,     0.26326,\n",
       "           0.26426,     0.26527,     0.26627,     0.26727,     0.26827,     0.26927,     0.27027,     0.27127,     0.27227,     0.27327,     0.27427,     0.27528,     0.27628,     0.27728,     0.27828,     0.27928,     0.28028,     0.28128,     0.28228,     0.28328,     0.28428,     0.28529,     0.28629,     0.28729,\n",
       "           0.28829,     0.28929,     0.29029,     0.29129,     0.29229,     0.29329,     0.29429,      0.2953,      0.2963,      0.2973,      0.2983,      0.2993,      0.3003,      0.3013,      0.3023,      0.3033,      0.3043,     0.30531,     0.30631,     0.30731,     0.30831,     0.30931,     0.31031,     0.31131,\n",
       "           0.31231,     0.31331,     0.31431,     0.31532,     0.31632,     0.31732,     0.31832,     0.31932,     0.32032,     0.32132,     0.32232,     0.32332,     0.32432,     0.32533,     0.32633,     0.32733,     0.32833,     0.32933,     0.33033,     0.33133,     0.33233,     0.33333,     0.33433,     0.33534,\n",
       "           0.33634,     0.33734,     0.33834,     0.33934,     0.34034,     0.34134,     0.34234,     0.34334,     0.34434,     0.34535,     0.34635,     0.34735,     0.34835,     0.34935,     0.35035,     0.35135,     0.35235,     0.35335,     0.35435,     0.35536,     0.35636,     0.35736,     0.35836,     0.35936,\n",
       "           0.36036,     0.36136,     0.36236,     0.36336,     0.36436,     0.36537,     0.36637,     0.36737,     0.36837,     0.36937,     0.37037,     0.37137,     0.37237,     0.37337,     0.37437,     0.37538,     0.37638,     0.37738,     0.37838,     0.37938,     0.38038,     0.38138,     0.38238,     0.38338,\n",
       "           0.38438,     0.38539,     0.38639,     0.38739,     0.38839,     0.38939,     0.39039,     0.39139,     0.39239,     0.39339,     0.39439,      0.3954,      0.3964,      0.3974,      0.3984,      0.3994,      0.4004,      0.4014,      0.4024,      0.4034,      0.4044,     0.40541,     0.40641,     0.40741,\n",
       "           0.40841,     0.40941,     0.41041,     0.41141,     0.41241,     0.41341,     0.41441,     0.41542,     0.41642,     0.41742,     0.41842,     0.41942,     0.42042,     0.42142,     0.42242,     0.42342,     0.42442,     0.42543,     0.42643,     0.42743,     0.42843,     0.42943,     0.43043,     0.43143,\n",
       "           0.43243,     0.43343,     0.43443,     0.43544,     0.43644,     0.43744,     0.43844,     0.43944,     0.44044,     0.44144,     0.44244,     0.44344,     0.44444,     0.44545,     0.44645,     0.44745,     0.44845,     0.44945,     0.45045,     0.45145,     0.45245,     0.45345,     0.45445,     0.45546,\n",
       "           0.45646,     0.45746,     0.45846,     0.45946,     0.46046,     0.46146,     0.46246,     0.46346,     0.46446,     0.46547,     0.46647,     0.46747,     0.46847,     0.46947,     0.47047,     0.47147,     0.47247,     0.47347,     0.47447,     0.47548,     0.47648,     0.47748,     0.47848,     0.47948,\n",
       "           0.48048,     0.48148,     0.48248,     0.48348,     0.48448,     0.48549,     0.48649,     0.48749,     0.48849,     0.48949,     0.49049,     0.49149,     0.49249,     0.49349,     0.49449,      0.4955,      0.4965,      0.4975,      0.4985,      0.4995,      0.5005,      0.5015,      0.5025,      0.5035,\n",
       "            0.5045,     0.50551,     0.50651,     0.50751,     0.50851,     0.50951,     0.51051,     0.51151,     0.51251,     0.51351,     0.51451,     0.51552,     0.51652,     0.51752,     0.51852,     0.51952,     0.52052,     0.52152,     0.52252,     0.52352,     0.52452,     0.52553,     0.52653,     0.52753,\n",
       "           0.52853,     0.52953,     0.53053,     0.53153,     0.53253,     0.53353,     0.53453,     0.53554,     0.53654,     0.53754,     0.53854,     0.53954,     0.54054,     0.54154,     0.54254,     0.54354,     0.54454,     0.54555,     0.54655,     0.54755,     0.54855,     0.54955,     0.55055,     0.55155,\n",
       "           0.55255,     0.55355,     0.55455,     0.55556,     0.55656,     0.55756,     0.55856,     0.55956,     0.56056,     0.56156,     0.56256,     0.56356,     0.56456,     0.56557,     0.56657,     0.56757,     0.56857,     0.56957,     0.57057,     0.57157,     0.57257,     0.57357,     0.57457,     0.57558,\n",
       "           0.57658,     0.57758,     0.57858,     0.57958,     0.58058,     0.58158,     0.58258,     0.58358,     0.58458,     0.58559,     0.58659,     0.58759,     0.58859,     0.58959,     0.59059,     0.59159,     0.59259,     0.59359,     0.59459,      0.5956,      0.5966,      0.5976,      0.5986,      0.5996,\n",
       "            0.6006,      0.6016,      0.6026,      0.6036,      0.6046,     0.60561,     0.60661,     0.60761,     0.60861,     0.60961,     0.61061,     0.61161,     0.61261,     0.61361,     0.61461,     0.61562,     0.61662,     0.61762,     0.61862,     0.61962,     0.62062,     0.62162,     0.62262,     0.62362,\n",
       "           0.62462,     0.62563,     0.62663,     0.62763,     0.62863,     0.62963,     0.63063,     0.63163,     0.63263,     0.63363,     0.63463,     0.63564,     0.63664,     0.63764,     0.63864,     0.63964,     0.64064,     0.64164,     0.64264,     0.64364,     0.64464,     0.64565,     0.64665,     0.64765,\n",
       "           0.64865,     0.64965,     0.65065,     0.65165,     0.65265,     0.65365,     0.65465,     0.65566,     0.65666,     0.65766,     0.65866,     0.65966,     0.66066,     0.66166,     0.66266,     0.66366,     0.66466,     0.66567,     0.66667,     0.66767,     0.66867,     0.66967,     0.67067,     0.67167,\n",
       "           0.67267,     0.67367,     0.67467,     0.67568,     0.67668,     0.67768,     0.67868,     0.67968,     0.68068,     0.68168,     0.68268,     0.68368,     0.68468,     0.68569,     0.68669,     0.68769,     0.68869,     0.68969,     0.69069,     0.69169,     0.69269,     0.69369,     0.69469,      0.6957,\n",
       "            0.6967,      0.6977,      0.6987,      0.6997,      0.7007,      0.7017,      0.7027,      0.7037,      0.7047,     0.70571,     0.70671,     0.70771,     0.70871,     0.70971,     0.71071,     0.71171,     0.71271,     0.71371,     0.71471,     0.71572,     0.71672,     0.71772,     0.71872,     0.71972,\n",
       "           0.72072,     0.72172,     0.72272,     0.72372,     0.72472,     0.72573,     0.72673,     0.72773,     0.72873,     0.72973,     0.73073,     0.73173,     0.73273,     0.73373,     0.73473,     0.73574,     0.73674,     0.73774,     0.73874,     0.73974,     0.74074,     0.74174,     0.74274,     0.74374,\n",
       "           0.74474,     0.74575,     0.74675,     0.74775,     0.74875,     0.74975,     0.75075,     0.75175,     0.75275,     0.75375,     0.75475,     0.75576,     0.75676,     0.75776,     0.75876,     0.75976,     0.76076,     0.76176,     0.76276,     0.76376,     0.76476,     0.76577,     0.76677,     0.76777,\n",
       "           0.76877,     0.76977,     0.77077,     0.77177,     0.77277,     0.77377,     0.77477,     0.77578,     0.77678,     0.77778,     0.77878,     0.77978,     0.78078,     0.78178,     0.78278,     0.78378,     0.78478,     0.78579,     0.78679,     0.78779,     0.78879,     0.78979,     0.79079,     0.79179,\n",
       "           0.79279,     0.79379,     0.79479,      0.7958,      0.7968,      0.7978,      0.7988,      0.7998,      0.8008,      0.8018,      0.8028,      0.8038,      0.8048,     0.80581,     0.80681,     0.80781,     0.80881,     0.80981,     0.81081,     0.81181,     0.81281,     0.81381,     0.81481,     0.81582,\n",
       "           0.81682,     0.81782,     0.81882,     0.81982,     0.82082,     0.82182,     0.82282,     0.82382,     0.82482,     0.82583,     0.82683,     0.82783,     0.82883,     0.82983,     0.83083,     0.83183,     0.83283,     0.83383,     0.83483,     0.83584,     0.83684,     0.83784,     0.83884,     0.83984,\n",
       "           0.84084,     0.84184,     0.84284,     0.84384,     0.84484,     0.84585,     0.84685,     0.84785,     0.84885,     0.84985,     0.85085,     0.85185,     0.85285,     0.85385,     0.85485,     0.85586,     0.85686,     0.85786,     0.85886,     0.85986,     0.86086,     0.86186,     0.86286,     0.86386,\n",
       "           0.86486,     0.86587,     0.86687,     0.86787,     0.86887,     0.86987,     0.87087,     0.87187,     0.87287,     0.87387,     0.87487,     0.87588,     0.87688,     0.87788,     0.87888,     0.87988,     0.88088,     0.88188,     0.88288,     0.88388,     0.88488,     0.88589,     0.88689,     0.88789,\n",
       "           0.88889,     0.88989,     0.89089,     0.89189,     0.89289,     0.89389,     0.89489,      0.8959,      0.8969,      0.8979,      0.8989,      0.8999,      0.9009,      0.9019,      0.9029,      0.9039,      0.9049,     0.90591,     0.90691,     0.90791,     0.90891,     0.90991,     0.91091,     0.91191,\n",
       "           0.91291,     0.91391,     0.91491,     0.91592,     0.91692,     0.91792,     0.91892,     0.91992,     0.92092,     0.92192,     0.92292,     0.92392,     0.92492,     0.92593,     0.92693,     0.92793,     0.92893,     0.92993,     0.93093,     0.93193,     0.93293,     0.93393,     0.93493,     0.93594,\n",
       "           0.93694,     0.93794,     0.93894,     0.93994,     0.94094,     0.94194,     0.94294,     0.94394,     0.94494,     0.94595,     0.94695,     0.94795,     0.94895,     0.94995,     0.95095,     0.95195,     0.95295,     0.95395,     0.95495,     0.95596,     0.95696,     0.95796,     0.95896,     0.95996,\n",
       "           0.96096,     0.96196,     0.96296,     0.96396,     0.96496,     0.96597,     0.96697,     0.96797,     0.96897,     0.96997,     0.97097,     0.97197,     0.97297,     0.97397,     0.97497,     0.97598,     0.97698,     0.97798,     0.97898,     0.97998,     0.98098,     0.98198,     0.98298,     0.98398,\n",
       "           0.98498,     0.98599,     0.98699,     0.98799,     0.98899,     0.98999,     0.99099,     0.99199,     0.99299,     0.99399,     0.99499,       0.996,       0.997,       0.998,       0.999,           1]), array([[    0.12414,     0.12414,     0.18472, ...,           0,           0,           0],\n",
       "       [   0.065116,    0.065116,     0.10977, ...,           0,           0,           0],\n",
       "       [    0.25954,     0.25954,      0.4162, ...,           0,           0,           0],\n",
       "       ...,\n",
       "       [     0.5213,      0.5213,     0.66873, ...,           0,           0,           0],\n",
       "       [    0.47013,     0.47013,     0.69895, ...,           0,           0,           0],\n",
       "       [    0.59921,     0.59921,      0.7056, ...,           0,           0,           0]]), 'Confidence', 'F1'], [array([          0,    0.001001,    0.002002,    0.003003,    0.004004,    0.005005,    0.006006,    0.007007,    0.008008,    0.009009,     0.01001,    0.011011,    0.012012,    0.013013,    0.014014,    0.015015,    0.016016,    0.017017,    0.018018,    0.019019,     0.02002,    0.021021,    0.022022,    0.023023,\n",
       "          0.024024,    0.025025,    0.026026,    0.027027,    0.028028,    0.029029,     0.03003,    0.031031,    0.032032,    0.033033,    0.034034,    0.035035,    0.036036,    0.037037,    0.038038,    0.039039,     0.04004,    0.041041,    0.042042,    0.043043,    0.044044,    0.045045,    0.046046,    0.047047,\n",
       "          0.048048,    0.049049,     0.05005,    0.051051,    0.052052,    0.053053,    0.054054,    0.055055,    0.056056,    0.057057,    0.058058,    0.059059,     0.06006,    0.061061,    0.062062,    0.063063,    0.064064,    0.065065,    0.066066,    0.067067,    0.068068,    0.069069,     0.07007,    0.071071,\n",
       "          0.072072,    0.073073,    0.074074,    0.075075,    0.076076,    0.077077,    0.078078,    0.079079,     0.08008,    0.081081,    0.082082,    0.083083,    0.084084,    0.085085,    0.086086,    0.087087,    0.088088,    0.089089,     0.09009,    0.091091,    0.092092,    0.093093,    0.094094,    0.095095,\n",
       "          0.096096,    0.097097,    0.098098,    0.099099,      0.1001,      0.1011,      0.1021,      0.1031,      0.1041,     0.10511,     0.10611,     0.10711,     0.10811,     0.10911,     0.11011,     0.11111,     0.11211,     0.11311,     0.11411,     0.11512,     0.11612,     0.11712,     0.11812,     0.11912,\n",
       "           0.12012,     0.12112,     0.12212,     0.12312,     0.12412,     0.12513,     0.12613,     0.12713,     0.12813,     0.12913,     0.13013,     0.13113,     0.13213,     0.13313,     0.13413,     0.13514,     0.13614,     0.13714,     0.13814,     0.13914,     0.14014,     0.14114,     0.14214,     0.14314,\n",
       "           0.14414,     0.14515,     0.14615,     0.14715,     0.14815,     0.14915,     0.15015,     0.15115,     0.15215,     0.15315,     0.15415,     0.15516,     0.15616,     0.15716,     0.15816,     0.15916,     0.16016,     0.16116,     0.16216,     0.16316,     0.16416,     0.16517,     0.16617,     0.16717,\n",
       "           0.16817,     0.16917,     0.17017,     0.17117,     0.17217,     0.17317,     0.17417,     0.17518,     0.17618,     0.17718,     0.17818,     0.17918,     0.18018,     0.18118,     0.18218,     0.18318,     0.18418,     0.18519,     0.18619,     0.18719,     0.18819,     0.18919,     0.19019,     0.19119,\n",
       "           0.19219,     0.19319,     0.19419,      0.1952,      0.1962,      0.1972,      0.1982,      0.1992,      0.2002,      0.2012,      0.2022,      0.2032,      0.2042,     0.20521,     0.20621,     0.20721,     0.20821,     0.20921,     0.21021,     0.21121,     0.21221,     0.21321,     0.21421,     0.21522,\n",
       "           0.21622,     0.21722,     0.21822,     0.21922,     0.22022,     0.22122,     0.22222,     0.22322,     0.22422,     0.22523,     0.22623,     0.22723,     0.22823,     0.22923,     0.23023,     0.23123,     0.23223,     0.23323,     0.23423,     0.23524,     0.23624,     0.23724,     0.23824,     0.23924,\n",
       "           0.24024,     0.24124,     0.24224,     0.24324,     0.24424,     0.24525,     0.24625,     0.24725,     0.24825,     0.24925,     0.25025,     0.25125,     0.25225,     0.25325,     0.25425,     0.25526,     0.25626,     0.25726,     0.25826,     0.25926,     0.26026,     0.26126,     0.26226,     0.26326,\n",
       "           0.26426,     0.26527,     0.26627,     0.26727,     0.26827,     0.26927,     0.27027,     0.27127,     0.27227,     0.27327,     0.27427,     0.27528,     0.27628,     0.27728,     0.27828,     0.27928,     0.28028,     0.28128,     0.28228,     0.28328,     0.28428,     0.28529,     0.28629,     0.28729,\n",
       "           0.28829,     0.28929,     0.29029,     0.29129,     0.29229,     0.29329,     0.29429,      0.2953,      0.2963,      0.2973,      0.2983,      0.2993,      0.3003,      0.3013,      0.3023,      0.3033,      0.3043,     0.30531,     0.30631,     0.30731,     0.30831,     0.30931,     0.31031,     0.31131,\n",
       "           0.31231,     0.31331,     0.31431,     0.31532,     0.31632,     0.31732,     0.31832,     0.31932,     0.32032,     0.32132,     0.32232,     0.32332,     0.32432,     0.32533,     0.32633,     0.32733,     0.32833,     0.32933,     0.33033,     0.33133,     0.33233,     0.33333,     0.33433,     0.33534,\n",
       "           0.33634,     0.33734,     0.33834,     0.33934,     0.34034,     0.34134,     0.34234,     0.34334,     0.34434,     0.34535,     0.34635,     0.34735,     0.34835,     0.34935,     0.35035,     0.35135,     0.35235,     0.35335,     0.35435,     0.35536,     0.35636,     0.35736,     0.35836,     0.35936,\n",
       "           0.36036,     0.36136,     0.36236,     0.36336,     0.36436,     0.36537,     0.36637,     0.36737,     0.36837,     0.36937,     0.37037,     0.37137,     0.37237,     0.37337,     0.37437,     0.37538,     0.37638,     0.37738,     0.37838,     0.37938,     0.38038,     0.38138,     0.38238,     0.38338,\n",
       "           0.38438,     0.38539,     0.38639,     0.38739,     0.38839,     0.38939,     0.39039,     0.39139,     0.39239,     0.39339,     0.39439,      0.3954,      0.3964,      0.3974,      0.3984,      0.3994,      0.4004,      0.4014,      0.4024,      0.4034,      0.4044,     0.40541,     0.40641,     0.40741,\n",
       "           0.40841,     0.40941,     0.41041,     0.41141,     0.41241,     0.41341,     0.41441,     0.41542,     0.41642,     0.41742,     0.41842,     0.41942,     0.42042,     0.42142,     0.42242,     0.42342,     0.42442,     0.42543,     0.42643,     0.42743,     0.42843,     0.42943,     0.43043,     0.43143,\n",
       "           0.43243,     0.43343,     0.43443,     0.43544,     0.43644,     0.43744,     0.43844,     0.43944,     0.44044,     0.44144,     0.44244,     0.44344,     0.44444,     0.44545,     0.44645,     0.44745,     0.44845,     0.44945,     0.45045,     0.45145,     0.45245,     0.45345,     0.45445,     0.45546,\n",
       "           0.45646,     0.45746,     0.45846,     0.45946,     0.46046,     0.46146,     0.46246,     0.46346,     0.46446,     0.46547,     0.46647,     0.46747,     0.46847,     0.46947,     0.47047,     0.47147,     0.47247,     0.47347,     0.47447,     0.47548,     0.47648,     0.47748,     0.47848,     0.47948,\n",
       "           0.48048,     0.48148,     0.48248,     0.48348,     0.48448,     0.48549,     0.48649,     0.48749,     0.48849,     0.48949,     0.49049,     0.49149,     0.49249,     0.49349,     0.49449,      0.4955,      0.4965,      0.4975,      0.4985,      0.4995,      0.5005,      0.5015,      0.5025,      0.5035,\n",
       "            0.5045,     0.50551,     0.50651,     0.50751,     0.50851,     0.50951,     0.51051,     0.51151,     0.51251,     0.51351,     0.51451,     0.51552,     0.51652,     0.51752,     0.51852,     0.51952,     0.52052,     0.52152,     0.52252,     0.52352,     0.52452,     0.52553,     0.52653,     0.52753,\n",
       "           0.52853,     0.52953,     0.53053,     0.53153,     0.53253,     0.53353,     0.53453,     0.53554,     0.53654,     0.53754,     0.53854,     0.53954,     0.54054,     0.54154,     0.54254,     0.54354,     0.54454,     0.54555,     0.54655,     0.54755,     0.54855,     0.54955,     0.55055,     0.55155,\n",
       "           0.55255,     0.55355,     0.55455,     0.55556,     0.55656,     0.55756,     0.55856,     0.55956,     0.56056,     0.56156,     0.56256,     0.56356,     0.56456,     0.56557,     0.56657,     0.56757,     0.56857,     0.56957,     0.57057,     0.57157,     0.57257,     0.57357,     0.57457,     0.57558,\n",
       "           0.57658,     0.57758,     0.57858,     0.57958,     0.58058,     0.58158,     0.58258,     0.58358,     0.58458,     0.58559,     0.58659,     0.58759,     0.58859,     0.58959,     0.59059,     0.59159,     0.59259,     0.59359,     0.59459,      0.5956,      0.5966,      0.5976,      0.5986,      0.5996,\n",
       "            0.6006,      0.6016,      0.6026,      0.6036,      0.6046,     0.60561,     0.60661,     0.60761,     0.60861,     0.60961,     0.61061,     0.61161,     0.61261,     0.61361,     0.61461,     0.61562,     0.61662,     0.61762,     0.61862,     0.61962,     0.62062,     0.62162,     0.62262,     0.62362,\n",
       "           0.62462,     0.62563,     0.62663,     0.62763,     0.62863,     0.62963,     0.63063,     0.63163,     0.63263,     0.63363,     0.63463,     0.63564,     0.63664,     0.63764,     0.63864,     0.63964,     0.64064,     0.64164,     0.64264,     0.64364,     0.64464,     0.64565,     0.64665,     0.64765,\n",
       "           0.64865,     0.64965,     0.65065,     0.65165,     0.65265,     0.65365,     0.65465,     0.65566,     0.65666,     0.65766,     0.65866,     0.65966,     0.66066,     0.66166,     0.66266,     0.66366,     0.66466,     0.66567,     0.66667,     0.66767,     0.66867,     0.66967,     0.67067,     0.67167,\n",
       "           0.67267,     0.67367,     0.67467,     0.67568,     0.67668,     0.67768,     0.67868,     0.67968,     0.68068,     0.68168,     0.68268,     0.68368,     0.68468,     0.68569,     0.68669,     0.68769,     0.68869,     0.68969,     0.69069,     0.69169,     0.69269,     0.69369,     0.69469,      0.6957,\n",
       "            0.6967,      0.6977,      0.6987,      0.6997,      0.7007,      0.7017,      0.7027,      0.7037,      0.7047,     0.70571,     0.70671,     0.70771,     0.70871,     0.70971,     0.71071,     0.71171,     0.71271,     0.71371,     0.71471,     0.71572,     0.71672,     0.71772,     0.71872,     0.71972,\n",
       "           0.72072,     0.72172,     0.72272,     0.72372,     0.72472,     0.72573,     0.72673,     0.72773,     0.72873,     0.72973,     0.73073,     0.73173,     0.73273,     0.73373,     0.73473,     0.73574,     0.73674,     0.73774,     0.73874,     0.73974,     0.74074,     0.74174,     0.74274,     0.74374,\n",
       "           0.74474,     0.74575,     0.74675,     0.74775,     0.74875,     0.74975,     0.75075,     0.75175,     0.75275,     0.75375,     0.75475,     0.75576,     0.75676,     0.75776,     0.75876,     0.75976,     0.76076,     0.76176,     0.76276,     0.76376,     0.76476,     0.76577,     0.76677,     0.76777,\n",
       "           0.76877,     0.76977,     0.77077,     0.77177,     0.77277,     0.77377,     0.77477,     0.77578,     0.77678,     0.77778,     0.77878,     0.77978,     0.78078,     0.78178,     0.78278,     0.78378,     0.78478,     0.78579,     0.78679,     0.78779,     0.78879,     0.78979,     0.79079,     0.79179,\n",
       "           0.79279,     0.79379,     0.79479,      0.7958,      0.7968,      0.7978,      0.7988,      0.7998,      0.8008,      0.8018,      0.8028,      0.8038,      0.8048,     0.80581,     0.80681,     0.80781,     0.80881,     0.80981,     0.81081,     0.81181,     0.81281,     0.81381,     0.81481,     0.81582,\n",
       "           0.81682,     0.81782,     0.81882,     0.81982,     0.82082,     0.82182,     0.82282,     0.82382,     0.82482,     0.82583,     0.82683,     0.82783,     0.82883,     0.82983,     0.83083,     0.83183,     0.83283,     0.83383,     0.83483,     0.83584,     0.83684,     0.83784,     0.83884,     0.83984,\n",
       "           0.84084,     0.84184,     0.84284,     0.84384,     0.84484,     0.84585,     0.84685,     0.84785,     0.84885,     0.84985,     0.85085,     0.85185,     0.85285,     0.85385,     0.85485,     0.85586,     0.85686,     0.85786,     0.85886,     0.85986,     0.86086,     0.86186,     0.86286,     0.86386,\n",
       "           0.86486,     0.86587,     0.86687,     0.86787,     0.86887,     0.86987,     0.87087,     0.87187,     0.87287,     0.87387,     0.87487,     0.87588,     0.87688,     0.87788,     0.87888,     0.87988,     0.88088,     0.88188,     0.88288,     0.88388,     0.88488,     0.88589,     0.88689,     0.88789,\n",
       "           0.88889,     0.88989,     0.89089,     0.89189,     0.89289,     0.89389,     0.89489,      0.8959,      0.8969,      0.8979,      0.8989,      0.8999,      0.9009,      0.9019,      0.9029,      0.9039,      0.9049,     0.90591,     0.90691,     0.90791,     0.90891,     0.90991,     0.91091,     0.91191,\n",
       "           0.91291,     0.91391,     0.91491,     0.91592,     0.91692,     0.91792,     0.91892,     0.91992,     0.92092,     0.92192,     0.92292,     0.92392,     0.92492,     0.92593,     0.92693,     0.92793,     0.92893,     0.92993,     0.93093,     0.93193,     0.93293,     0.93393,     0.93493,     0.93594,\n",
       "           0.93694,     0.93794,     0.93894,     0.93994,     0.94094,     0.94194,     0.94294,     0.94394,     0.94494,     0.94595,     0.94695,     0.94795,     0.94895,     0.94995,     0.95095,     0.95195,     0.95295,     0.95395,     0.95495,     0.95596,     0.95696,     0.95796,     0.95896,     0.95996,\n",
       "           0.96096,     0.96196,     0.96296,     0.96396,     0.96496,     0.96597,     0.96697,     0.96797,     0.96897,     0.96997,     0.97097,     0.97197,     0.97297,     0.97397,     0.97497,     0.97598,     0.97698,     0.97798,     0.97898,     0.97998,     0.98098,     0.98198,     0.98298,     0.98398,\n",
       "           0.98498,     0.98599,     0.98699,     0.98799,     0.98899,     0.98999,     0.99099,     0.99199,     0.99299,     0.99399,     0.99499,       0.996,       0.997,       0.998,       0.999,           1]), array([[   0.066176,    0.066176,     0.10176, ...,           1,           1,           1],\n",
       "       [   0.033654,    0.033654,     0.05807, ...,           1,           1,           1],\n",
       "       [    0.14912,     0.14912,     0.26278, ...,           1,           1,           1],\n",
       "       ...,\n",
       "       [    0.35254,     0.35254,     0.50479, ...,           1,           1,           1],\n",
       "       [     0.3073,      0.3073,     0.53722, ...,           1,           1,           1],\n",
       "       [    0.42776,     0.42776,     0.54512, ...,           1,           1,           1]]), 'Confidence', 'Precision'], [array([          0,    0.001001,    0.002002,    0.003003,    0.004004,    0.005005,    0.006006,    0.007007,    0.008008,    0.009009,     0.01001,    0.011011,    0.012012,    0.013013,    0.014014,    0.015015,    0.016016,    0.017017,    0.018018,    0.019019,     0.02002,    0.021021,    0.022022,    0.023023,\n",
       "          0.024024,    0.025025,    0.026026,    0.027027,    0.028028,    0.029029,     0.03003,    0.031031,    0.032032,    0.033033,    0.034034,    0.035035,    0.036036,    0.037037,    0.038038,    0.039039,     0.04004,    0.041041,    0.042042,    0.043043,    0.044044,    0.045045,    0.046046,    0.047047,\n",
       "          0.048048,    0.049049,     0.05005,    0.051051,    0.052052,    0.053053,    0.054054,    0.055055,    0.056056,    0.057057,    0.058058,    0.059059,     0.06006,    0.061061,    0.062062,    0.063063,    0.064064,    0.065065,    0.066066,    0.067067,    0.068068,    0.069069,     0.07007,    0.071071,\n",
       "          0.072072,    0.073073,    0.074074,    0.075075,    0.076076,    0.077077,    0.078078,    0.079079,     0.08008,    0.081081,    0.082082,    0.083083,    0.084084,    0.085085,    0.086086,    0.087087,    0.088088,    0.089089,     0.09009,    0.091091,    0.092092,    0.093093,    0.094094,    0.095095,\n",
       "          0.096096,    0.097097,    0.098098,    0.099099,      0.1001,      0.1011,      0.1021,      0.1031,      0.1041,     0.10511,     0.10611,     0.10711,     0.10811,     0.10911,     0.11011,     0.11111,     0.11211,     0.11311,     0.11411,     0.11512,     0.11612,     0.11712,     0.11812,     0.11912,\n",
       "           0.12012,     0.12112,     0.12212,     0.12312,     0.12412,     0.12513,     0.12613,     0.12713,     0.12813,     0.12913,     0.13013,     0.13113,     0.13213,     0.13313,     0.13413,     0.13514,     0.13614,     0.13714,     0.13814,     0.13914,     0.14014,     0.14114,     0.14214,     0.14314,\n",
       "           0.14414,     0.14515,     0.14615,     0.14715,     0.14815,     0.14915,     0.15015,     0.15115,     0.15215,     0.15315,     0.15415,     0.15516,     0.15616,     0.15716,     0.15816,     0.15916,     0.16016,     0.16116,     0.16216,     0.16316,     0.16416,     0.16517,     0.16617,     0.16717,\n",
       "           0.16817,     0.16917,     0.17017,     0.17117,     0.17217,     0.17317,     0.17417,     0.17518,     0.17618,     0.17718,     0.17818,     0.17918,     0.18018,     0.18118,     0.18218,     0.18318,     0.18418,     0.18519,     0.18619,     0.18719,     0.18819,     0.18919,     0.19019,     0.19119,\n",
       "           0.19219,     0.19319,     0.19419,      0.1952,      0.1962,      0.1972,      0.1982,      0.1992,      0.2002,      0.2012,      0.2022,      0.2032,      0.2042,     0.20521,     0.20621,     0.20721,     0.20821,     0.20921,     0.21021,     0.21121,     0.21221,     0.21321,     0.21421,     0.21522,\n",
       "           0.21622,     0.21722,     0.21822,     0.21922,     0.22022,     0.22122,     0.22222,     0.22322,     0.22422,     0.22523,     0.22623,     0.22723,     0.22823,     0.22923,     0.23023,     0.23123,     0.23223,     0.23323,     0.23423,     0.23524,     0.23624,     0.23724,     0.23824,     0.23924,\n",
       "           0.24024,     0.24124,     0.24224,     0.24324,     0.24424,     0.24525,     0.24625,     0.24725,     0.24825,     0.24925,     0.25025,     0.25125,     0.25225,     0.25325,     0.25425,     0.25526,     0.25626,     0.25726,     0.25826,     0.25926,     0.26026,     0.26126,     0.26226,     0.26326,\n",
       "           0.26426,     0.26527,     0.26627,     0.26727,     0.26827,     0.26927,     0.27027,     0.27127,     0.27227,     0.27327,     0.27427,     0.27528,     0.27628,     0.27728,     0.27828,     0.27928,     0.28028,     0.28128,     0.28228,     0.28328,     0.28428,     0.28529,     0.28629,     0.28729,\n",
       "           0.28829,     0.28929,     0.29029,     0.29129,     0.29229,     0.29329,     0.29429,      0.2953,      0.2963,      0.2973,      0.2983,      0.2993,      0.3003,      0.3013,      0.3023,      0.3033,      0.3043,     0.30531,     0.30631,     0.30731,     0.30831,     0.30931,     0.31031,     0.31131,\n",
       "           0.31231,     0.31331,     0.31431,     0.31532,     0.31632,     0.31732,     0.31832,     0.31932,     0.32032,     0.32132,     0.32232,     0.32332,     0.32432,     0.32533,     0.32633,     0.32733,     0.32833,     0.32933,     0.33033,     0.33133,     0.33233,     0.33333,     0.33433,     0.33534,\n",
       "           0.33634,     0.33734,     0.33834,     0.33934,     0.34034,     0.34134,     0.34234,     0.34334,     0.34434,     0.34535,     0.34635,     0.34735,     0.34835,     0.34935,     0.35035,     0.35135,     0.35235,     0.35335,     0.35435,     0.35536,     0.35636,     0.35736,     0.35836,     0.35936,\n",
       "           0.36036,     0.36136,     0.36236,     0.36336,     0.36436,     0.36537,     0.36637,     0.36737,     0.36837,     0.36937,     0.37037,     0.37137,     0.37237,     0.37337,     0.37437,     0.37538,     0.37638,     0.37738,     0.37838,     0.37938,     0.38038,     0.38138,     0.38238,     0.38338,\n",
       "           0.38438,     0.38539,     0.38639,     0.38739,     0.38839,     0.38939,     0.39039,     0.39139,     0.39239,     0.39339,     0.39439,      0.3954,      0.3964,      0.3974,      0.3984,      0.3994,      0.4004,      0.4014,      0.4024,      0.4034,      0.4044,     0.40541,     0.40641,     0.40741,\n",
       "           0.40841,     0.40941,     0.41041,     0.41141,     0.41241,     0.41341,     0.41441,     0.41542,     0.41642,     0.41742,     0.41842,     0.41942,     0.42042,     0.42142,     0.42242,     0.42342,     0.42442,     0.42543,     0.42643,     0.42743,     0.42843,     0.42943,     0.43043,     0.43143,\n",
       "           0.43243,     0.43343,     0.43443,     0.43544,     0.43644,     0.43744,     0.43844,     0.43944,     0.44044,     0.44144,     0.44244,     0.44344,     0.44444,     0.44545,     0.44645,     0.44745,     0.44845,     0.44945,     0.45045,     0.45145,     0.45245,     0.45345,     0.45445,     0.45546,\n",
       "           0.45646,     0.45746,     0.45846,     0.45946,     0.46046,     0.46146,     0.46246,     0.46346,     0.46446,     0.46547,     0.46647,     0.46747,     0.46847,     0.46947,     0.47047,     0.47147,     0.47247,     0.47347,     0.47447,     0.47548,     0.47648,     0.47748,     0.47848,     0.47948,\n",
       "           0.48048,     0.48148,     0.48248,     0.48348,     0.48448,     0.48549,     0.48649,     0.48749,     0.48849,     0.48949,     0.49049,     0.49149,     0.49249,     0.49349,     0.49449,      0.4955,      0.4965,      0.4975,      0.4985,      0.4995,      0.5005,      0.5015,      0.5025,      0.5035,\n",
       "            0.5045,     0.50551,     0.50651,     0.50751,     0.50851,     0.50951,     0.51051,     0.51151,     0.51251,     0.51351,     0.51451,     0.51552,     0.51652,     0.51752,     0.51852,     0.51952,     0.52052,     0.52152,     0.52252,     0.52352,     0.52452,     0.52553,     0.52653,     0.52753,\n",
       "           0.52853,     0.52953,     0.53053,     0.53153,     0.53253,     0.53353,     0.53453,     0.53554,     0.53654,     0.53754,     0.53854,     0.53954,     0.54054,     0.54154,     0.54254,     0.54354,     0.54454,     0.54555,     0.54655,     0.54755,     0.54855,     0.54955,     0.55055,     0.55155,\n",
       "           0.55255,     0.55355,     0.55455,     0.55556,     0.55656,     0.55756,     0.55856,     0.55956,     0.56056,     0.56156,     0.56256,     0.56356,     0.56456,     0.56557,     0.56657,     0.56757,     0.56857,     0.56957,     0.57057,     0.57157,     0.57257,     0.57357,     0.57457,     0.57558,\n",
       "           0.57658,     0.57758,     0.57858,     0.57958,     0.58058,     0.58158,     0.58258,     0.58358,     0.58458,     0.58559,     0.58659,     0.58759,     0.58859,     0.58959,     0.59059,     0.59159,     0.59259,     0.59359,     0.59459,      0.5956,      0.5966,      0.5976,      0.5986,      0.5996,\n",
       "            0.6006,      0.6016,      0.6026,      0.6036,      0.6046,     0.60561,     0.60661,     0.60761,     0.60861,     0.60961,     0.61061,     0.61161,     0.61261,     0.61361,     0.61461,     0.61562,     0.61662,     0.61762,     0.61862,     0.61962,     0.62062,     0.62162,     0.62262,     0.62362,\n",
       "           0.62462,     0.62563,     0.62663,     0.62763,     0.62863,     0.62963,     0.63063,     0.63163,     0.63263,     0.63363,     0.63463,     0.63564,     0.63664,     0.63764,     0.63864,     0.63964,     0.64064,     0.64164,     0.64264,     0.64364,     0.64464,     0.64565,     0.64665,     0.64765,\n",
       "           0.64865,     0.64965,     0.65065,     0.65165,     0.65265,     0.65365,     0.65465,     0.65566,     0.65666,     0.65766,     0.65866,     0.65966,     0.66066,     0.66166,     0.66266,     0.66366,     0.66466,     0.66567,     0.66667,     0.66767,     0.66867,     0.66967,     0.67067,     0.67167,\n",
       "           0.67267,     0.67367,     0.67467,     0.67568,     0.67668,     0.67768,     0.67868,     0.67968,     0.68068,     0.68168,     0.68268,     0.68368,     0.68468,     0.68569,     0.68669,     0.68769,     0.68869,     0.68969,     0.69069,     0.69169,     0.69269,     0.69369,     0.69469,      0.6957,\n",
       "            0.6967,      0.6977,      0.6987,      0.6997,      0.7007,      0.7017,      0.7027,      0.7037,      0.7047,     0.70571,     0.70671,     0.70771,     0.70871,     0.70971,     0.71071,     0.71171,     0.71271,     0.71371,     0.71471,     0.71572,     0.71672,     0.71772,     0.71872,     0.71972,\n",
       "           0.72072,     0.72172,     0.72272,     0.72372,     0.72472,     0.72573,     0.72673,     0.72773,     0.72873,     0.72973,     0.73073,     0.73173,     0.73273,     0.73373,     0.73473,     0.73574,     0.73674,     0.73774,     0.73874,     0.73974,     0.74074,     0.74174,     0.74274,     0.74374,\n",
       "           0.74474,     0.74575,     0.74675,     0.74775,     0.74875,     0.74975,     0.75075,     0.75175,     0.75275,     0.75375,     0.75475,     0.75576,     0.75676,     0.75776,     0.75876,     0.75976,     0.76076,     0.76176,     0.76276,     0.76376,     0.76476,     0.76577,     0.76677,     0.76777,\n",
       "           0.76877,     0.76977,     0.77077,     0.77177,     0.77277,     0.77377,     0.77477,     0.77578,     0.77678,     0.77778,     0.77878,     0.77978,     0.78078,     0.78178,     0.78278,     0.78378,     0.78478,     0.78579,     0.78679,     0.78779,     0.78879,     0.78979,     0.79079,     0.79179,\n",
       "           0.79279,     0.79379,     0.79479,      0.7958,      0.7968,      0.7978,      0.7988,      0.7998,      0.8008,      0.8018,      0.8028,      0.8038,      0.8048,     0.80581,     0.80681,     0.80781,     0.80881,     0.80981,     0.81081,     0.81181,     0.81281,     0.81381,     0.81481,     0.81582,\n",
       "           0.81682,     0.81782,     0.81882,     0.81982,     0.82082,     0.82182,     0.82282,     0.82382,     0.82482,     0.82583,     0.82683,     0.82783,     0.82883,     0.82983,     0.83083,     0.83183,     0.83283,     0.83383,     0.83483,     0.83584,     0.83684,     0.83784,     0.83884,     0.83984,\n",
       "           0.84084,     0.84184,     0.84284,     0.84384,     0.84484,     0.84585,     0.84685,     0.84785,     0.84885,     0.84985,     0.85085,     0.85185,     0.85285,     0.85385,     0.85485,     0.85586,     0.85686,     0.85786,     0.85886,     0.85986,     0.86086,     0.86186,     0.86286,     0.86386,\n",
       "           0.86486,     0.86587,     0.86687,     0.86787,     0.86887,     0.86987,     0.87087,     0.87187,     0.87287,     0.87387,     0.87487,     0.87588,     0.87688,     0.87788,     0.87888,     0.87988,     0.88088,     0.88188,     0.88288,     0.88388,     0.88488,     0.88589,     0.88689,     0.88789,\n",
       "           0.88889,     0.88989,     0.89089,     0.89189,     0.89289,     0.89389,     0.89489,      0.8959,      0.8969,      0.8979,      0.8989,      0.8999,      0.9009,      0.9019,      0.9029,      0.9039,      0.9049,     0.90591,     0.90691,     0.90791,     0.90891,     0.90991,     0.91091,     0.91191,\n",
       "           0.91291,     0.91391,     0.91491,     0.91592,     0.91692,     0.91792,     0.91892,     0.91992,     0.92092,     0.92192,     0.92292,     0.92392,     0.92492,     0.92593,     0.92693,     0.92793,     0.92893,     0.92993,     0.93093,     0.93193,     0.93293,     0.93393,     0.93493,     0.93594,\n",
       "           0.93694,     0.93794,     0.93894,     0.93994,     0.94094,     0.94194,     0.94294,     0.94394,     0.94494,     0.94595,     0.94695,     0.94795,     0.94895,     0.94995,     0.95095,     0.95195,     0.95295,     0.95395,     0.95495,     0.95596,     0.95696,     0.95796,     0.95896,     0.95996,\n",
       "           0.96096,     0.96196,     0.96296,     0.96396,     0.96496,     0.96597,     0.96697,     0.96797,     0.96897,     0.96997,     0.97097,     0.97197,     0.97297,     0.97397,     0.97497,     0.97598,     0.97698,     0.97798,     0.97898,     0.97998,     0.98098,     0.98198,     0.98298,     0.98398,\n",
       "           0.98498,     0.98599,     0.98699,     0.98799,     0.98899,     0.98999,     0.99099,     0.99199,     0.99299,     0.99399,     0.99499,       0.996,       0.997,       0.998,       0.999,           1]), array([[          1,           1,           1, ...,           0,           0,           0],\n",
       "       [          1,           1,           1, ...,           0,           0,           0],\n",
       "       [          1,           1,           1, ...,           0,           0,           0],\n",
       "       ...,\n",
       "       [          1,           1,     0.99038, ...,           0,           0,           0],\n",
       "       [          1,           1,           1, ...,           0,           0,           0],\n",
       "       [          1,           1,           1, ...,           0,           0,           0]]), 'Confidence', 'Recall']]\n",
       "fitness: 0.9381009017889986\n",
       "keys: ['metrics/precision(B)', 'metrics/recall(B)', 'metrics/mAP50(B)', 'metrics/mAP50-95(B)']\n",
       "maps: array([    0.83746,     0.72989,     0.98974,     0.92785,     0.94645,     0.92503,     0.93708,     0.96047,      0.9244,     0.98196,     0.96191,     0.99428,     0.98383,      0.9912,     0.97997])\n",
       "names: {0: 'Agriculture', 1: 'Airport', 2: 'Beach', 3: 'City', 4: 'Desert', 5: 'Forest', 6: 'Grassland', 7: 'Highway', 8: 'Lake', 9: 'Mountain', 10: 'Parking', 11: 'Port', 12: 'Railway', 13: 'Residential', 14: 'River'}\n",
       "plot: True\n",
       "results_dict: {'metrics/precision(B)': 0.8821165531652527, 'metrics/recall(B)': 0.9046895614289796, 'metrics/mAP50(B)': 0.9381009017889987, 'metrics/mAP50-95(B)': 0.9381009017889986, 'fitness': 0.9381009017889986}\n",
       "save_dir: WindowsPath('runs/detect/skyview_yolo')\n",
       "speed: {'preprocess': 0.1850605262563048, 'inference': 3.199609899604553, 'loss': 0.0002551378179248189, 'postprocess': 0.8981355890032968}\n",
       "task: 'detect'"
      ]
     },
     "execution_count": 3,
     "metadata": {},
     "output_type": "execute_result"
    }
   ],
   "source": [
    "from ultralytics import YOLO\n",
    "\n",
    "\n",
    "model = YOLO('yolov5s.pt')\n",
    "\n",
    "\n",
    "model.train(\n",
    "    data='skyview.yaml',\n",
    "    epochs=30,\n",
    "    imgsz=640,\n",
    "    batch=16,\n",
    "    name='skyview_yolo'\n",
    ")"
   ]
  },
  {
   "cell_type": "markdown",
   "metadata": {},
   "source": [
    "Now we get the model and its best hyperparameter, then using this classfier on our test set\n",
    "we have the results the whole prcess is really quick\n",
    "Speed: 3.2ms preprocess, 9.7ms inference, 1.6ms postprocess per image at shape (1, 3, 640, 640)\n",
    "Results saved to runs\\detect\\predict"
   ]
  },
  {
   "cell_type": "code",
   "execution_count": 4,
   "metadata": {},
   "outputs": [
    {
     "name": "stdout",
     "output_type": "stream",
     "text": [
      "\n"
     ]
    },
    {
     "name": "stderr",
     "output_type": "stream",
     "text": [
      "c:\\Users\\15984\\AppData\\Local\\Programs\\Python\\Python312\\Lib\\site-packages\\torch\\nn\\modules\\conv.py:456: UserWarning: Plan failed with a cudnnException: CUDNN_BACKEND_EXECUTION_PLAN_DESCRIPTOR: cudnnFinalize Descriptor Failed cudnn_status: CUDNN_STATUS_NOT_SUPPORTED (Triggered internally at ..\\aten\\src\\ATen\\native\\cudnn\\Conv_v8.cpp:919.)\n",
      "  return F.conv2d(input, weight, bias, self.stride,\n"
     ]
    },
    {
     "name": "stdout",
     "output_type": "stream",
     "text": [
      "image 1/800 C:\\Users\\15984\\Desktop\\COMP9517PROJECT\\skyview_yolo_dataset\\images\\test\\001.jpg: 640x640 1 Residential, 34.0ms\n",
      "image 2/800 C:\\Users\\15984\\Desktop\\COMP9517PROJECT\\skyview_yolo_dataset\\images\\test\\002.jpg: 640x640 1 River, 35.2ms\n",
      "image 3/800 C:\\Users\\15984\\Desktop\\COMP9517PROJECT\\skyview_yolo_dataset\\images\\test\\003.jpg: 640x640 1 River, 31.4ms\n",
      "image 4/800 C:\\Users\\15984\\Desktop\\COMP9517PROJECT\\skyview_yolo_dataset\\images\\test\\004.jpg: 640x640 1 Railway, 33.1ms\n",
      "image 5/800 C:\\Users\\15984\\Desktop\\COMP9517PROJECT\\skyview_yolo_dataset\\images\\test\\005.jpg: 640x640 1 River, 8.7ms\n",
      "image 6/800 C:\\Users\\15984\\Desktop\\COMP9517PROJECT\\skyview_yolo_dataset\\images\\test\\006.jpg: 640x640 1 River, 8.6ms\n",
      "image 7/800 C:\\Users\\15984\\Desktop\\COMP9517PROJECT\\skyview_yolo_dataset\\images\\test\\007.jpg: 640x640 1 River, 8.5ms\n",
      "image 8/800 C:\\Users\\15984\\Desktop\\COMP9517PROJECT\\skyview_yolo_dataset\\images\\test\\008.jpg: 640x640 1 River, 8.5ms\n",
      "image 9/800 C:\\Users\\15984\\Desktop\\COMP9517PROJECT\\skyview_yolo_dataset\\images\\test\\009.jpg: 640x640 1 River, 8.5ms\n",
      "image 10/800 C:\\Users\\15984\\Desktop\\COMP9517PROJECT\\skyview_yolo_dataset\\images\\test\\010.jpg: 640x640 1 Railway, 8.4ms\n",
      "image 11/800 C:\\Users\\15984\\Desktop\\COMP9517PROJECT\\skyview_yolo_dataset\\images\\test\\011.jpg: 640x640 1 River, 9.0ms\n",
      "image 12/800 C:\\Users\\15984\\Desktop\\COMP9517PROJECT\\skyview_yolo_dataset\\images\\test\\012.jpg: 640x640 1 River, 14.0ms\n",
      "image 13/800 C:\\Users\\15984\\Desktop\\COMP9517PROJECT\\skyview_yolo_dataset\\images\\test\\013.jpg: 640x640 1 River, 9.1ms\n",
      "image 14/800 C:\\Users\\15984\\Desktop\\COMP9517PROJECT\\skyview_yolo_dataset\\images\\test\\014.jpg: 640x640 1 Railway, 8.3ms\n",
      "image 15/800 C:\\Users\\15984\\Desktop\\COMP9517PROJECT\\skyview_yolo_dataset\\images\\test\\015.jpg: 640x640 1 River, 9.1ms\n",
      "image 16/800 C:\\Users\\15984\\Desktop\\COMP9517PROJECT\\skyview_yolo_dataset\\images\\test\\016.jpg: 640x640 1 River, 8.4ms\n",
      "image 17/800 C:\\Users\\15984\\Desktop\\COMP9517PROJECT\\skyview_yolo_dataset\\images\\test\\017.jpg: 640x640 1 River, 8.6ms\n",
      "image 18/800 C:\\Users\\15984\\Desktop\\COMP9517PROJECT\\skyview_yolo_dataset\\images\\test\\018.jpg: 640x640 1 Residential, 16.8ms\n",
      "image 19/800 C:\\Users\\15984\\Desktop\\COMP9517PROJECT\\skyview_yolo_dataset\\images\\test\\019.jpg: 640x640 1 River, 10.9ms\n",
      "image 20/800 C:\\Users\\15984\\Desktop\\COMP9517PROJECT\\skyview_yolo_dataset\\images\\test\\020.jpg: 640x640 1 Railway, 8.9ms\n",
      "image 21/800 C:\\Users\\15984\\Desktop\\COMP9517PROJECT\\skyview_yolo_dataset\\images\\test\\021.jpg: 640x640 1 River, 8.7ms\n",
      "image 22/800 C:\\Users\\15984\\Desktop\\COMP9517PROJECT\\skyview_yolo_dataset\\images\\test\\022.jpg: 640x640 1 Residential, 8.7ms\n",
      "image 23/800 C:\\Users\\15984\\Desktop\\COMP9517PROJECT\\skyview_yolo_dataset\\images\\test\\023.jpg: 640x640 1 River, 8.5ms\n",
      "image 24/800 C:\\Users\\15984\\Desktop\\COMP9517PROJECT\\skyview_yolo_dataset\\images\\test\\024.jpg: 640x640 1 Residential, 8.4ms\n",
      "image 25/800 C:\\Users\\15984\\Desktop\\COMP9517PROJECT\\skyview_yolo_dataset\\images\\test\\025.jpg: 640x640 1 Residential, 12.9ms\n",
      "image 26/800 C:\\Users\\15984\\Desktop\\COMP9517PROJECT\\skyview_yolo_dataset\\images\\test\\026.jpg: 640x640 1 River, 8.7ms\n",
      "image 27/800 C:\\Users\\15984\\Desktop\\COMP9517PROJECT\\skyview_yolo_dataset\\images\\test\\027.jpg: 640x640 1 River, 16.2ms\n",
      "image 28/800 C:\\Users\\15984\\Desktop\\COMP9517PROJECT\\skyview_yolo_dataset\\images\\test\\028.jpg: 640x640 1 Residential, 8.6ms\n",
      "image 29/800 C:\\Users\\15984\\Desktop\\COMP9517PROJECT\\skyview_yolo_dataset\\images\\test\\029.jpg: 640x640 1 River, 8.6ms\n",
      "image 30/800 C:\\Users\\15984\\Desktop\\COMP9517PROJECT\\skyview_yolo_dataset\\images\\test\\030.jpg: 640x640 1 Residential, 9.5ms\n",
      "image 31/800 C:\\Users\\15984\\Desktop\\COMP9517PROJECT\\skyview_yolo_dataset\\images\\test\\031.jpg: 640x640 1 River, 8.6ms\n",
      "image 32/800 C:\\Users\\15984\\Desktop\\COMP9517PROJECT\\skyview_yolo_dataset\\images\\test\\032.jpg: 640x640 1 Residential, 9.6ms\n",
      "image 33/800 C:\\Users\\15984\\Desktop\\COMP9517PROJECT\\skyview_yolo_dataset\\images\\test\\033.jpg: 640x640 1 Railway, 9.2ms\n",
      "image 34/800 C:\\Users\\15984\\Desktop\\COMP9517PROJECT\\skyview_yolo_dataset\\images\\test\\034.jpg: 640x640 1 River, 9.3ms\n",
      "image 35/800 C:\\Users\\15984\\Desktop\\COMP9517PROJECT\\skyview_yolo_dataset\\images\\test\\035.jpg: 640x640 1 River, 18.0ms\n",
      "image 36/800 C:\\Users\\15984\\Desktop\\COMP9517PROJECT\\skyview_yolo_dataset\\images\\test\\036.jpg: 640x640 1 Residential, 8.8ms\n",
      "image 37/800 C:\\Users\\15984\\Desktop\\COMP9517PROJECT\\skyview_yolo_dataset\\images\\test\\037.jpg: 640x640 1 River, 11.2ms\n",
      "image 38/800 C:\\Users\\15984\\Desktop\\COMP9517PROJECT\\skyview_yolo_dataset\\images\\test\\038.jpg: 640x640 1 Residential, 9.3ms\n",
      "image 39/800 C:\\Users\\15984\\Desktop\\COMP9517PROJECT\\skyview_yolo_dataset\\images\\test\\039.jpg: 640x640 1 River, 8.7ms\n",
      "image 40/800 C:\\Users\\15984\\Desktop\\COMP9517PROJECT\\skyview_yolo_dataset\\images\\test\\040.jpg: 640x640 1 River, 12.0ms\n",
      "image 41/800 C:\\Users\\15984\\Desktop\\COMP9517PROJECT\\skyview_yolo_dataset\\images\\test\\041.jpg: 640x640 1 River, 8.7ms\n",
      "image 42/800 C:\\Users\\15984\\Desktop\\COMP9517PROJECT\\skyview_yolo_dataset\\images\\test\\042.jpg: 640x640 1 Port, 8.6ms\n",
      "image 43/800 C:\\Users\\15984\\Desktop\\COMP9517PROJECT\\skyview_yolo_dataset\\images\\test\\043.jpg: 640x640 1 Grassland, 1 River, 8.3ms\n",
      "image 44/800 C:\\Users\\15984\\Desktop\\COMP9517PROJECT\\skyview_yolo_dataset\\images\\test\\044.jpg: 640x640 1 Railway, 11.9ms\n",
      "image 45/800 C:\\Users\\15984\\Desktop\\COMP9517PROJECT\\skyview_yolo_dataset\\images\\test\\045.jpg: 640x640 1 Railway, 9.0ms\n",
      "image 46/800 C:\\Users\\15984\\Desktop\\COMP9517PROJECT\\skyview_yolo_dataset\\images\\test\\046.jpg: 640x640 1 River, 9.1ms\n",
      "image 47/800 C:\\Users\\15984\\Desktop\\COMP9517PROJECT\\skyview_yolo_dataset\\images\\test\\047.jpg: 640x640 1 River, 13.7ms\n",
      "image 48/800 C:\\Users\\15984\\Desktop\\COMP9517PROJECT\\skyview_yolo_dataset\\images\\test\\048.jpg: 640x640 1 Agriculture, 1 River, 10.8ms\n",
      "image 49/800 C:\\Users\\15984\\Desktop\\COMP9517PROJECT\\skyview_yolo_dataset\\images\\test\\049.jpg: 640x640 1 Port, 10.6ms\n",
      "image 50/800 C:\\Users\\15984\\Desktop\\COMP9517PROJECT\\skyview_yolo_dataset\\images\\test\\050.jpg: 640x640 1 River, 9.3ms\n",
      "image 51/800 C:\\Users\\15984\\Desktop\\COMP9517PROJECT\\skyview_yolo_dataset\\images\\test\\051.jpg: 640x640 1 River, 9.6ms\n",
      "image 52/800 C:\\Users\\15984\\Desktop\\COMP9517PROJECT\\skyview_yolo_dataset\\images\\test\\052.jpg: 640x640 1 River, 10.2ms\n",
      "image 53/800 C:\\Users\\15984\\Desktop\\COMP9517PROJECT\\skyview_yolo_dataset\\images\\test\\053.jpg: 640x640 1 River, 11.2ms\n",
      "image 54/800 C:\\Users\\15984\\Desktop\\COMP9517PROJECT\\skyview_yolo_dataset\\images\\test\\054.jpg: 640x640 1 River, 10.8ms\n",
      "image 55/800 C:\\Users\\15984\\Desktop\\COMP9517PROJECT\\skyview_yolo_dataset\\images\\test\\055.jpg: 640x640 1 Railway, 9.3ms\n",
      "image 56/800 C:\\Users\\15984\\Desktop\\COMP9517PROJECT\\skyview_yolo_dataset\\images\\test\\056.jpg: 640x640 1 River, 9.1ms\n",
      "image 57/800 C:\\Users\\15984\\Desktop\\COMP9517PROJECT\\skyview_yolo_dataset\\images\\test\\057.jpg: 640x640 1 River, 10.9ms\n",
      "image 58/800 C:\\Users\\15984\\Desktop\\COMP9517PROJECT\\skyview_yolo_dataset\\images\\test\\058.jpg: 640x640 1 Mountain, 15.2ms\n",
      "image 59/800 C:\\Users\\15984\\Desktop\\COMP9517PROJECT\\skyview_yolo_dataset\\images\\test\\059.jpg: 640x640 1 Residential, 9.1ms\n",
      "image 60/800 C:\\Users\\15984\\Desktop\\COMP9517PROJECT\\skyview_yolo_dataset\\images\\test\\060.jpg: 640x640 1 River, 8.4ms\n",
      "image 61/800 C:\\Users\\15984\\Desktop\\COMP9517PROJECT\\skyview_yolo_dataset\\images\\test\\061.jpg: 640x640 1 River, 10.1ms\n",
      "image 62/800 C:\\Users\\15984\\Desktop\\COMP9517PROJECT\\skyview_yolo_dataset\\images\\test\\062.jpg: 640x640 1 River, 8.4ms\n",
      "image 63/800 C:\\Users\\15984\\Desktop\\COMP9517PROJECT\\skyview_yolo_dataset\\images\\test\\063.jpg: 640x640 1 River, 8.2ms\n",
      "image 64/800 C:\\Users\\15984\\Desktop\\COMP9517PROJECT\\skyview_yolo_dataset\\images\\test\\064.jpg: 640x640 1 Desert, 8.3ms\n",
      "image 65/800 C:\\Users\\15984\\Desktop\\COMP9517PROJECT\\skyview_yolo_dataset\\images\\test\\065.jpg: 640x640 1 River, 14.8ms\n",
      "image 66/800 C:\\Users\\15984\\Desktop\\COMP9517PROJECT\\skyview_yolo_dataset\\images\\test\\066.jpg: 640x640 1 Residential, 16.2ms\n",
      "image 67/800 C:\\Users\\15984\\Desktop\\COMP9517PROJECT\\skyview_yolo_dataset\\images\\test\\067.jpg: 640x640 1 River, 8.3ms\n",
      "image 68/800 C:\\Users\\15984\\Desktop\\COMP9517PROJECT\\skyview_yolo_dataset\\images\\test\\068.jpg: 640x640 1 River, 8.6ms\n",
      "image 69/800 C:\\Users\\15984\\Desktop\\COMP9517PROJECT\\skyview_yolo_dataset\\images\\test\\069.jpg: 640x640 1 River, 8.3ms\n",
      "image 70/800 C:\\Users\\15984\\Desktop\\COMP9517PROJECT\\skyview_yolo_dataset\\images\\test\\070.jpg: 640x640 1 Lake, 1 Port, 8.5ms\n",
      "image 71/800 C:\\Users\\15984\\Desktop\\COMP9517PROJECT\\skyview_yolo_dataset\\images\\test\\071.jpg: 640x640 1 River, 8.2ms\n",
      "image 72/800 C:\\Users\\15984\\Desktop\\COMP9517PROJECT\\skyview_yolo_dataset\\images\\test\\072.jpg: 640x640 1 Railway, 8.4ms\n",
      "image 73/800 C:\\Users\\15984\\Desktop\\COMP9517PROJECT\\skyview_yolo_dataset\\images\\test\\073.jpg: 640x640 1 River, 8.3ms\n",
      "image 74/800 C:\\Users\\15984\\Desktop\\COMP9517PROJECT\\skyview_yolo_dataset\\images\\test\\074.jpg: 640x640 1 Residential, 20.0ms\n",
      "image 75/800 C:\\Users\\15984\\Desktop\\COMP9517PROJECT\\skyview_yolo_dataset\\images\\test\\075.jpg: 640x640 1 Port, 1 River, 8.3ms\n",
      "image 76/800 C:\\Users\\15984\\Desktop\\COMP9517PROJECT\\skyview_yolo_dataset\\images\\test\\076.jpg: 640x640 1 River, 8.9ms\n",
      "image 77/800 C:\\Users\\15984\\Desktop\\COMP9517PROJECT\\skyview_yolo_dataset\\images\\test\\077.jpg: 640x640 1 River, 8.5ms\n",
      "image 78/800 C:\\Users\\15984\\Desktop\\COMP9517PROJECT\\skyview_yolo_dataset\\images\\test\\078.jpg: 640x640 1 River, 8.4ms\n",
      "image 79/800 C:\\Users\\15984\\Desktop\\COMP9517PROJECT\\skyview_yolo_dataset\\images\\test\\079.jpg: 640x640 1 River, 8.5ms\n",
      "image 80/800 C:\\Users\\15984\\Desktop\\COMP9517PROJECT\\skyview_yolo_dataset\\images\\test\\080.jpg: 640x640 1 River, 8.4ms\n",
      "image 81/800 C:\\Users\\15984\\Desktop\\COMP9517PROJECT\\skyview_yolo_dataset\\images\\test\\081.jpg: 640x640 1 River, 10.5ms\n",
      "image 82/800 C:\\Users\\15984\\Desktop\\COMP9517PROJECT\\skyview_yolo_dataset\\images\\test\\082.jpg: 640x640 1 River, 9.1ms\n",
      "image 83/800 C:\\Users\\15984\\Desktop\\COMP9517PROJECT\\skyview_yolo_dataset\\images\\test\\083.jpg: 640x640 1 River, 8.4ms\n",
      "image 84/800 C:\\Users\\15984\\Desktop\\COMP9517PROJECT\\skyview_yolo_dataset\\images\\test\\084.jpg: 640x640 1 River, 8.6ms\n",
      "image 85/800 C:\\Users\\15984\\Desktop\\COMP9517PROJECT\\skyview_yolo_dataset\\images\\test\\085.jpg: 640x640 1 River, 8.8ms\n",
      "image 86/800 C:\\Users\\15984\\Desktop\\COMP9517PROJECT\\skyview_yolo_dataset\\images\\test\\086.jpg: 640x640 1 Lake, 8.9ms\n",
      "image 87/800 C:\\Users\\15984\\Desktop\\COMP9517PROJECT\\skyview_yolo_dataset\\images\\test\\087.jpg: 640x640 1 River, 8.5ms\n",
      "image 88/800 C:\\Users\\15984\\Desktop\\COMP9517PROJECT\\skyview_yolo_dataset\\images\\test\\088.jpg: 640x640 1 River, 8.6ms\n",
      "image 89/800 C:\\Users\\15984\\Desktop\\COMP9517PROJECT\\skyview_yolo_dataset\\images\\test\\089.jpg: 640x640 1 Residential, 9.0ms\n",
      "image 90/800 C:\\Users\\15984\\Desktop\\COMP9517PROJECT\\skyview_yolo_dataset\\images\\test\\090.jpg: 640x640 1 River, 8.6ms\n",
      "image 91/800 C:\\Users\\15984\\Desktop\\COMP9517PROJECT\\skyview_yolo_dataset\\images\\test\\091.jpg: 640x640 1 River, 8.4ms\n",
      "image 92/800 C:\\Users\\15984\\Desktop\\COMP9517PROJECT\\skyview_yolo_dataset\\images\\test\\092.jpg: 640x640 1 Railway, 1 River, 8.3ms\n",
      "image 93/800 C:\\Users\\15984\\Desktop\\COMP9517PROJECT\\skyview_yolo_dataset\\images\\test\\093.jpg: 640x640 1 River, 9.2ms\n",
      "image 94/800 C:\\Users\\15984\\Desktop\\COMP9517PROJECT\\skyview_yolo_dataset\\images\\test\\094.jpg: 640x640 1 River, 8.3ms\n",
      "image 95/800 C:\\Users\\15984\\Desktop\\COMP9517PROJECT\\skyview_yolo_dataset\\images\\test\\095.jpg: 640x640 1 River, 8.5ms\n",
      "image 96/800 C:\\Users\\15984\\Desktop\\COMP9517PROJECT\\skyview_yolo_dataset\\images\\test\\096.jpg: 640x640 1 River, 8.6ms\n",
      "image 97/800 C:\\Users\\15984\\Desktop\\COMP9517PROJECT\\skyview_yolo_dataset\\images\\test\\097.jpg: 640x640 1 River, 8.5ms\n",
      "image 98/800 C:\\Users\\15984\\Desktop\\COMP9517PROJECT\\skyview_yolo_dataset\\images\\test\\098.jpg: 640x640 1 Residential, 8.5ms\n",
      "image 99/800 C:\\Users\\15984\\Desktop\\COMP9517PROJECT\\skyview_yolo_dataset\\images\\test\\099.jpg: 640x640 1 Lake, 8.3ms\n",
      "image 100/800 C:\\Users\\15984\\Desktop\\COMP9517PROJECT\\skyview_yolo_dataset\\images\\test\\100.jpg: 640x640 1 River, 8.4ms\n",
      "image 101/800 C:\\Users\\15984\\Desktop\\COMP9517PROJECT\\skyview_yolo_dataset\\images\\test\\101.jpg: 640x640 1 Residential, 8.4ms\n",
      "image 102/800 C:\\Users\\15984\\Desktop\\COMP9517PROJECT\\skyview_yolo_dataset\\images\\test\\102.jpg: 640x640 1 River, 8.6ms\n",
      "image 103/800 C:\\Users\\15984\\Desktop\\COMP9517PROJECT\\skyview_yolo_dataset\\images\\test\\103.jpg: 640x640 1 River, 8.2ms\n",
      "image 104/800 C:\\Users\\15984\\Desktop\\COMP9517PROJECT\\skyview_yolo_dataset\\images\\test\\104.jpg: 640x640 1 Port, 8.5ms\n",
      "image 105/800 C:\\Users\\15984\\Desktop\\COMP9517PROJECT\\skyview_yolo_dataset\\images\\test\\105.jpg: 640x640 1 River, 15.0ms\n",
      "image 106/800 C:\\Users\\15984\\Desktop\\COMP9517PROJECT\\skyview_yolo_dataset\\images\\test\\106.jpg: 640x640 1 River, 9.3ms\n",
      "image 107/800 C:\\Users\\15984\\Desktop\\COMP9517PROJECT\\skyview_yolo_dataset\\images\\test\\107.jpg: 640x640 1 River, 8.7ms\n",
      "image 108/800 C:\\Users\\15984\\Desktop\\COMP9517PROJECT\\skyview_yolo_dataset\\images\\test\\108.jpg: 640x640 1 River, 16.4ms\n",
      "image 109/800 C:\\Users\\15984\\Desktop\\COMP9517PROJECT\\skyview_yolo_dataset\\images\\test\\109.jpg: 640x640 1 River, 8.6ms\n",
      "image 110/800 C:\\Users\\15984\\Desktop\\COMP9517PROJECT\\skyview_yolo_dataset\\images\\test\\110.jpg: 640x640 1 River, 8.2ms\n",
      "image 111/800 C:\\Users\\15984\\Desktop\\COMP9517PROJECT\\skyview_yolo_dataset\\images\\test\\111.jpg: 640x640 1 Residential, 8.6ms\n",
      "image 112/800 C:\\Users\\15984\\Desktop\\COMP9517PROJECT\\skyview_yolo_dataset\\images\\test\\112.jpg: 640x640 1 River, 8.4ms\n",
      "image 113/800 C:\\Users\\15984\\Desktop\\COMP9517PROJECT\\skyview_yolo_dataset\\images\\test\\113.jpg: 640x640 1 Agriculture, 1 River, 16.2ms\n",
      "image 114/800 C:\\Users\\15984\\Desktop\\COMP9517PROJECT\\skyview_yolo_dataset\\images\\test\\114.jpg: 640x640 1 Residential, 9.1ms\n",
      "image 115/800 C:\\Users\\15984\\Desktop\\COMP9517PROJECT\\skyview_yolo_dataset\\images\\test\\115.jpg: 640x640 1 Residential, 8.7ms\n",
      "image 116/800 C:\\Users\\15984\\Desktop\\COMP9517PROJECT\\skyview_yolo_dataset\\images\\test\\116.jpg: 640x640 1 River, 8.8ms\n",
      "image 117/800 C:\\Users\\15984\\Desktop\\COMP9517PROJECT\\skyview_yolo_dataset\\images\\test\\117.jpg: 640x640 1 Residential, 8.2ms\n",
      "image 118/800 C:\\Users\\15984\\Desktop\\COMP9517PROJECT\\skyview_yolo_dataset\\images\\test\\118.jpg: 640x640 1 River, 8.6ms\n",
      "image 119/800 C:\\Users\\15984\\Desktop\\COMP9517PROJECT\\skyview_yolo_dataset\\images\\test\\119.jpg: 640x640 1 River, 7.9ms\n",
      "image 120/800 C:\\Users\\15984\\Desktop\\COMP9517PROJECT\\skyview_yolo_dataset\\images\\test\\120.jpg: 640x640 1 Residential, 8.2ms\n",
      "image 121/800 C:\\Users\\15984\\Desktop\\COMP9517PROJECT\\skyview_yolo_dataset\\images\\test\\121.jpg: 640x640 1 River, 8.2ms\n",
      "image 122/800 C:\\Users\\15984\\Desktop\\COMP9517PROJECT\\skyview_yolo_dataset\\images\\test\\122.jpg: 640x640 1 River, 8.4ms\n",
      "image 123/800 C:\\Users\\15984\\Desktop\\COMP9517PROJECT\\skyview_yolo_dataset\\images\\test\\123.jpg: 640x640 1 Residential, 8.3ms\n",
      "image 124/800 C:\\Users\\15984\\Desktop\\COMP9517PROJECT\\skyview_yolo_dataset\\images\\test\\124.jpg: 640x640 1 River, 8.3ms\n",
      "image 125/800 C:\\Users\\15984\\Desktop\\COMP9517PROJECT\\skyview_yolo_dataset\\images\\test\\125.jpg: 640x640 1 Port, 8.3ms\n",
      "image 126/800 C:\\Users\\15984\\Desktop\\COMP9517PROJECT\\skyview_yolo_dataset\\images\\test\\126.jpg: 640x640 1 River, 8.2ms\n",
      "image 127/800 C:\\Users\\15984\\Desktop\\COMP9517PROJECT\\skyview_yolo_dataset\\images\\test\\127.jpg: 640x640 1 River, 13.3ms\n",
      "image 128/800 C:\\Users\\15984\\Desktop\\COMP9517PROJECT\\skyview_yolo_dataset\\images\\test\\128.jpg: 640x640 1 River, 8.4ms\n",
      "image 129/800 C:\\Users\\15984\\Desktop\\COMP9517PROJECT\\skyview_yolo_dataset\\images\\test\\129.jpg: 640x640 1 Residential, 8.3ms\n",
      "image 130/800 C:\\Users\\15984\\Desktop\\COMP9517PROJECT\\skyview_yolo_dataset\\images\\test\\130.jpg: 640x640 1 River, 8.2ms\n",
      "image 131/800 C:\\Users\\15984\\Desktop\\COMP9517PROJECT\\skyview_yolo_dataset\\images\\test\\131.jpg: 640x640 1 River, 12.0ms\n",
      "image 132/800 C:\\Users\\15984\\Desktop\\COMP9517PROJECT\\skyview_yolo_dataset\\images\\test\\132.jpg: 640x640 1 River, 8.1ms\n",
      "image 133/800 C:\\Users\\15984\\Desktop\\COMP9517PROJECT\\skyview_yolo_dataset\\images\\test\\133.jpg: 640x640 1 Residential, 8.1ms\n",
      "image 134/800 C:\\Users\\15984\\Desktop\\COMP9517PROJECT\\skyview_yolo_dataset\\images\\test\\134.jpg: 640x640 1 Residential, 8.0ms\n",
      "image 135/800 C:\\Users\\15984\\Desktop\\COMP9517PROJECT\\skyview_yolo_dataset\\images\\test\\135.jpg: 640x640 1 Railway, 8.4ms\n",
      "image 136/800 C:\\Users\\15984\\Desktop\\COMP9517PROJECT\\skyview_yolo_dataset\\images\\test\\136.jpg: 640x640 1 River, 8.2ms\n",
      "image 137/800 C:\\Users\\15984\\Desktop\\COMP9517PROJECT\\skyview_yolo_dataset\\images\\test\\137.jpg: 640x640 1 River, 8.7ms\n",
      "image 138/800 C:\\Users\\15984\\Desktop\\COMP9517PROJECT\\skyview_yolo_dataset\\images\\test\\138.jpg: 640x640 1 River, 8.2ms\n",
      "image 139/800 C:\\Users\\15984\\Desktop\\COMP9517PROJECT\\skyview_yolo_dataset\\images\\test\\139.jpg: 640x640 1 Railway, 16.5ms\n",
      "image 140/800 C:\\Users\\15984\\Desktop\\COMP9517PROJECT\\skyview_yolo_dataset\\images\\test\\140.jpg: 640x640 1 Residential, 8.5ms\n",
      "image 141/800 C:\\Users\\15984\\Desktop\\COMP9517PROJECT\\skyview_yolo_dataset\\images\\test\\141.jpg: 640x640 1 River, 8.8ms\n",
      "image 142/800 C:\\Users\\15984\\Desktop\\COMP9517PROJECT\\skyview_yolo_dataset\\images\\test\\142.jpg: 640x640 1 Residential, 15.8ms\n",
      "image 143/800 C:\\Users\\15984\\Desktop\\COMP9517PROJECT\\skyview_yolo_dataset\\images\\test\\143.jpg: 640x640 1 River, 8.8ms\n",
      "image 144/800 C:\\Users\\15984\\Desktop\\COMP9517PROJECT\\skyview_yolo_dataset\\images\\test\\144.jpg: 640x640 1 Railway, 8.4ms\n",
      "image 145/800 C:\\Users\\15984\\Desktop\\COMP9517PROJECT\\skyview_yolo_dataset\\images\\test\\145.jpg: 640x640 1 River, 8.4ms\n",
      "image 146/800 C:\\Users\\15984\\Desktop\\COMP9517PROJECT\\skyview_yolo_dataset\\images\\test\\146.jpg: 640x640 1 River, 17.2ms\n",
      "image 147/800 C:\\Users\\15984\\Desktop\\COMP9517PROJECT\\skyview_yolo_dataset\\images\\test\\147.jpg: 640x640 1 River, 13.5ms\n",
      "image 148/800 C:\\Users\\15984\\Desktop\\COMP9517PROJECT\\skyview_yolo_dataset\\images\\test\\148.jpg: 640x640 1 River, 8.4ms\n",
      "image 149/800 C:\\Users\\15984\\Desktop\\COMP9517PROJECT\\skyview_yolo_dataset\\images\\test\\149.jpg: 640x640 1 River, 8.2ms\n",
      "image 150/800 C:\\Users\\15984\\Desktop\\COMP9517PROJECT\\skyview_yolo_dataset\\images\\test\\150.jpg: 640x640 1 Residential, 8.4ms\n",
      "image 151/800 C:\\Users\\15984\\Desktop\\COMP9517PROJECT\\skyview_yolo_dataset\\images\\test\\151.jpg: 640x640 1 Railway, 16.0ms\n",
      "image 152/800 C:\\Users\\15984\\Desktop\\COMP9517PROJECT\\skyview_yolo_dataset\\images\\test\\152.jpg: 640x640 1 River, 11.4ms\n",
      "image 153/800 C:\\Users\\15984\\Desktop\\COMP9517PROJECT\\skyview_yolo_dataset\\images\\test\\153.jpg: 640x640 1 River, 8.0ms\n",
      "image 154/800 C:\\Users\\15984\\Desktop\\COMP9517PROJECT\\skyview_yolo_dataset\\images\\test\\154.jpg: 640x640 1 River, 8.4ms\n",
      "image 155/800 C:\\Users\\15984\\Desktop\\COMP9517PROJECT\\skyview_yolo_dataset\\images\\test\\155.jpg: 640x640 1 River, 8.2ms\n",
      "image 156/800 C:\\Users\\15984\\Desktop\\COMP9517PROJECT\\skyview_yolo_dataset\\images\\test\\156.jpg: 640x640 1 Railway, 8.6ms\n",
      "image 157/800 C:\\Users\\15984\\Desktop\\COMP9517PROJECT\\skyview_yolo_dataset\\images\\test\\157.jpg: 640x640 1 Railway, 9.6ms\n",
      "image 158/800 C:\\Users\\15984\\Desktop\\COMP9517PROJECT\\skyview_yolo_dataset\\images\\test\\158.jpg: 640x640 1 River, 8.8ms\n",
      "image 159/800 C:\\Users\\15984\\Desktop\\COMP9517PROJECT\\skyview_yolo_dataset\\images\\test\\159.jpg: 640x640 1 River, 17.2ms\n",
      "image 160/800 C:\\Users\\15984\\Desktop\\COMP9517PROJECT\\skyview_yolo_dataset\\images\\test\\160.jpg: 640x640 1 River, 8.6ms\n",
      "image 161/800 C:\\Users\\15984\\Desktop\\COMP9517PROJECT\\skyview_yolo_dataset\\images\\test\\161.jpg: 640x640 1 River, 9.1ms\n",
      "image 162/800 C:\\Users\\15984\\Desktop\\COMP9517PROJECT\\skyview_yolo_dataset\\images\\test\\162.jpg: 640x640 1 River, 9.4ms\n",
      "image 163/800 C:\\Users\\15984\\Desktop\\COMP9517PROJECT\\skyview_yolo_dataset\\images\\test\\163.jpg: 640x640 1 Residential, 9.9ms\n",
      "image 164/800 C:\\Users\\15984\\Desktop\\COMP9517PROJECT\\skyview_yolo_dataset\\images\\test\\164.jpg: 640x640 1 Residential, 9.6ms\n",
      "image 165/800 C:\\Users\\15984\\Desktop\\COMP9517PROJECT\\skyview_yolo_dataset\\images\\test\\165.jpg: 640x640 1 River, 9.4ms\n",
      "image 166/800 C:\\Users\\15984\\Desktop\\COMP9517PROJECT\\skyview_yolo_dataset\\images\\test\\166.jpg: 640x640 1 River, 10.6ms\n",
      "image 167/800 C:\\Users\\15984\\Desktop\\COMP9517PROJECT\\skyview_yolo_dataset\\images\\test\\167.jpg: 640x640 1 River, 12.5ms\n",
      "image 168/800 C:\\Users\\15984\\Desktop\\COMP9517PROJECT\\skyview_yolo_dataset\\images\\test\\168.jpg: 640x640 1 Residential, 8.7ms\n",
      "image 169/800 C:\\Users\\15984\\Desktop\\COMP9517PROJECT\\skyview_yolo_dataset\\images\\test\\169.jpg: 640x640 1 River, 10.9ms\n",
      "image 170/800 C:\\Users\\15984\\Desktop\\COMP9517PROJECT\\skyview_yolo_dataset\\images\\test\\170.jpg: 640x640 1 Residential, 9.8ms\n",
      "image 171/800 C:\\Users\\15984\\Desktop\\COMP9517PROJECT\\skyview_yolo_dataset\\images\\test\\171.jpg: 640x640 1 Residential, 17.0ms\n",
      "image 172/800 C:\\Users\\15984\\Desktop\\COMP9517PROJECT\\skyview_yolo_dataset\\images\\test\\172.jpg: 640x640 1 River, 9.3ms\n",
      "image 173/800 C:\\Users\\15984\\Desktop\\COMP9517PROJECT\\skyview_yolo_dataset\\images\\test\\173.jpg: 640x640 1 River, 8.8ms\n",
      "image 174/800 C:\\Users\\15984\\Desktop\\COMP9517PROJECT\\skyview_yolo_dataset\\images\\test\\174.jpg: 640x640 1 Residential, 9.0ms\n",
      "image 175/800 C:\\Users\\15984\\Desktop\\COMP9517PROJECT\\skyview_yolo_dataset\\images\\test\\175.jpg: 640x640 1 River, 8.8ms\n",
      "image 176/800 C:\\Users\\15984\\Desktop\\COMP9517PROJECT\\skyview_yolo_dataset\\images\\test\\176.jpg: 640x640 1 Residential, 16.0ms\n",
      "image 177/800 C:\\Users\\15984\\Desktop\\COMP9517PROJECT\\skyview_yolo_dataset\\images\\test\\177.jpg: 640x640 1 River, 8.5ms\n",
      "image 178/800 C:\\Users\\15984\\Desktop\\COMP9517PROJECT\\skyview_yolo_dataset\\images\\test\\178.jpg: 640x640 1 River, 8.2ms\n",
      "image 179/800 C:\\Users\\15984\\Desktop\\COMP9517PROJECT\\skyview_yolo_dataset\\images\\test\\179.jpg: 640x640 1 Port, 8.9ms\n",
      "image 180/800 C:\\Users\\15984\\Desktop\\COMP9517PROJECT\\skyview_yolo_dataset\\images\\test\\180.jpg: 640x640 1 River, 8.5ms\n",
      "image 181/800 C:\\Users\\15984\\Desktop\\COMP9517PROJECT\\skyview_yolo_dataset\\images\\test\\181.jpg: 640x640 1 Residential, 15.3ms\n",
      "image 182/800 C:\\Users\\15984\\Desktop\\COMP9517PROJECT\\skyview_yolo_dataset\\images\\test\\182.jpg: 640x640 1 Residential, 9.0ms\n",
      "image 183/800 C:\\Users\\15984\\Desktop\\COMP9517PROJECT\\skyview_yolo_dataset\\images\\test\\183.jpg: 640x640 1 River, 9.0ms\n",
      "image 184/800 C:\\Users\\15984\\Desktop\\COMP9517PROJECT\\skyview_yolo_dataset\\images\\test\\184.jpg: 640x640 1 River, 8.6ms\n",
      "image 185/800 C:\\Users\\15984\\Desktop\\COMP9517PROJECT\\skyview_yolo_dataset\\images\\test\\185.jpg: 640x640 1 River, 9.6ms\n",
      "image 186/800 C:\\Users\\15984\\Desktop\\COMP9517PROJECT\\skyview_yolo_dataset\\images\\test\\186.jpg: 640x640 1 Railway, 8.5ms\n",
      "image 187/800 C:\\Users\\15984\\Desktop\\COMP9517PROJECT\\skyview_yolo_dataset\\images\\test\\187.jpg: 640x640 1 River, 9.6ms\n",
      "image 188/800 C:\\Users\\15984\\Desktop\\COMP9517PROJECT\\skyview_yolo_dataset\\images\\test\\188.jpg: 640x640 1 River, 8.8ms\n",
      "image 189/800 C:\\Users\\15984\\Desktop\\COMP9517PROJECT\\skyview_yolo_dataset\\images\\test\\189.jpg: 640x640 1 Residential, 8.5ms\n",
      "image 190/800 C:\\Users\\15984\\Desktop\\COMP9517PROJECT\\skyview_yolo_dataset\\images\\test\\190.jpg: 640x640 1 Railway, 8.6ms\n",
      "image 191/800 C:\\Users\\15984\\Desktop\\COMP9517PROJECT\\skyview_yolo_dataset\\images\\test\\191.jpg: 640x640 1 River, 8.9ms\n",
      "image 192/800 C:\\Users\\15984\\Desktop\\COMP9517PROJECT\\skyview_yolo_dataset\\images\\test\\192.jpg: 640x640 1 River, 8.7ms\n",
      "image 193/800 C:\\Users\\15984\\Desktop\\COMP9517PROJECT\\skyview_yolo_dataset\\images\\test\\193.jpg: 640x640 1 River, 8.4ms\n",
      "image 194/800 C:\\Users\\15984\\Desktop\\COMP9517PROJECT\\skyview_yolo_dataset\\images\\test\\194.jpg: 640x640 1 River, 17.4ms\n",
      "image 195/800 C:\\Users\\15984\\Desktop\\COMP9517PROJECT\\skyview_yolo_dataset\\images\\test\\195.jpg: 640x640 1 River, 8.6ms\n",
      "image 196/800 C:\\Users\\15984\\Desktop\\COMP9517PROJECT\\skyview_yolo_dataset\\images\\test\\196.jpg: 640x640 1 Residential, 9.1ms\n",
      "image 197/800 C:\\Users\\15984\\Desktop\\COMP9517PROJECT\\skyview_yolo_dataset\\images\\test\\197.jpg: 640x640 1 River, 9.2ms\n",
      "image 198/800 C:\\Users\\15984\\Desktop\\COMP9517PROJECT\\skyview_yolo_dataset\\images\\test\\198.jpg: 640x640 1 River, 8.5ms\n",
      "image 199/800 C:\\Users\\15984\\Desktop\\COMP9517PROJECT\\skyview_yolo_dataset\\images\\test\\199.jpg: 640x640 1 River, 9.1ms\n",
      "image 200/800 C:\\Users\\15984\\Desktop\\COMP9517PROJECT\\skyview_yolo_dataset\\images\\test\\200.jpg: 640x640 1 River, 8.8ms\n",
      "image 201/800 C:\\Users\\15984\\Desktop\\COMP9517PROJECT\\skyview_yolo_dataset\\images\\test\\201.jpg: 640x640 1 River, 8.9ms\n",
      "image 202/800 C:\\Users\\15984\\Desktop\\COMP9517PROJECT\\skyview_yolo_dataset\\images\\test\\202.jpg: 640x640 1 Residential, 8.6ms\n",
      "image 203/800 C:\\Users\\15984\\Desktop\\COMP9517PROJECT\\skyview_yolo_dataset\\images\\test\\203.jpg: 640x640 1 Residential, 11.9ms\n",
      "image 204/800 C:\\Users\\15984\\Desktop\\COMP9517PROJECT\\skyview_yolo_dataset\\images\\test\\204.jpg: 640x640 1 Railway, 8.4ms\n",
      "image 205/800 C:\\Users\\15984\\Desktop\\COMP9517PROJECT\\skyview_yolo_dataset\\images\\test\\205.jpg: 640x640 1 Highway, 8.4ms\n",
      "image 206/800 C:\\Users\\15984\\Desktop\\COMP9517PROJECT\\skyview_yolo_dataset\\images\\test\\206.jpg: 640x640 1 River, 8.6ms\n",
      "image 207/800 C:\\Users\\15984\\Desktop\\COMP9517PROJECT\\skyview_yolo_dataset\\images\\test\\207.jpg: 640x640 1 River, 7.8ms\n",
      "image 208/800 C:\\Users\\15984\\Desktop\\COMP9517PROJECT\\skyview_yolo_dataset\\images\\test\\208.jpg: 640x640 1 River, 8.4ms\n",
      "image 209/800 C:\\Users\\15984\\Desktop\\COMP9517PROJECT\\skyview_yolo_dataset\\images\\test\\209.jpg: 640x640 1 River, 8.4ms\n",
      "image 210/800 C:\\Users\\15984\\Desktop\\COMP9517PROJECT\\skyview_yolo_dataset\\images\\test\\210.jpg: 640x640 1 Grassland, 1 Lake, 9.0ms\n",
      "image 211/800 C:\\Users\\15984\\Desktop\\COMP9517PROJECT\\skyview_yolo_dataset\\images\\test\\211.jpg: 640x640 1 River, 8.8ms\n",
      "image 212/800 C:\\Users\\15984\\Desktop\\COMP9517PROJECT\\skyview_yolo_dataset\\images\\test\\212.jpg: 640x640 1 River, 8.7ms\n",
      "image 213/800 C:\\Users\\15984\\Desktop\\COMP9517PROJECT\\skyview_yolo_dataset\\images\\test\\213.jpg: 640x640 1 Residential, 8.5ms\n",
      "image 214/800 C:\\Users\\15984\\Desktop\\COMP9517PROJECT\\skyview_yolo_dataset\\images\\test\\214.jpg: 640x640 1 Residential, 8.6ms\n",
      "image 215/800 C:\\Users\\15984\\Desktop\\COMP9517PROJECT\\skyview_yolo_dataset\\images\\test\\215.jpg: 640x640 1 Grassland, 1 River, 8.2ms\n",
      "image 216/800 C:\\Users\\15984\\Desktop\\COMP9517PROJECT\\skyview_yolo_dataset\\images\\test\\216.jpg: 640x640 1 Residential, 8.4ms\n",
      "image 217/800 C:\\Users\\15984\\Desktop\\COMP9517PROJECT\\skyview_yolo_dataset\\images\\test\\217.jpg: 640x640 1 River, 8.1ms\n",
      "image 218/800 C:\\Users\\15984\\Desktop\\COMP9517PROJECT\\skyview_yolo_dataset\\images\\test\\218.jpg: 640x640 1 Lake, 8.5ms\n",
      "image 219/800 C:\\Users\\15984\\Desktop\\COMP9517PROJECT\\skyview_yolo_dataset\\images\\test\\219.jpg: 640x640 1 River, 7.8ms\n",
      "image 220/800 C:\\Users\\15984\\Desktop\\COMP9517PROJECT\\skyview_yolo_dataset\\images\\test\\220.jpg: 640x640 1 Residential, 7.7ms\n",
      "image 221/800 C:\\Users\\15984\\Desktop\\COMP9517PROJECT\\skyview_yolo_dataset\\images\\test\\221.jpg: 640x640 1 Railway, 8.1ms\n",
      "image 222/800 C:\\Users\\15984\\Desktop\\COMP9517PROJECT\\skyview_yolo_dataset\\images\\test\\222.jpg: 640x640 1 Residential, 8.6ms\n",
      "image 223/800 C:\\Users\\15984\\Desktop\\COMP9517PROJECT\\skyview_yolo_dataset\\images\\test\\223.jpg: 640x640 1 Residential, 7.9ms\n",
      "image 224/800 C:\\Users\\15984\\Desktop\\COMP9517PROJECT\\skyview_yolo_dataset\\images\\test\\224.jpg: 640x640 1 River, 14.7ms\n",
      "image 225/800 C:\\Users\\15984\\Desktop\\COMP9517PROJECT\\skyview_yolo_dataset\\images\\test\\225.jpg: 640x640 1 River, 8.3ms\n",
      "image 226/800 C:\\Users\\15984\\Desktop\\COMP9517PROJECT\\skyview_yolo_dataset\\images\\test\\226.jpg: 640x640 1 River, 8.6ms\n",
      "image 227/800 C:\\Users\\15984\\Desktop\\COMP9517PROJECT\\skyview_yolo_dataset\\images\\test\\227.jpg: 640x640 1 River, 9.7ms\n",
      "image 228/800 C:\\Users\\15984\\Desktop\\COMP9517PROJECT\\skyview_yolo_dataset\\images\\test\\228.jpg: 640x640 1 Residential, 9.8ms\n",
      "image 229/800 C:\\Users\\15984\\Desktop\\COMP9517PROJECT\\skyview_yolo_dataset\\images\\test\\229.jpg: 640x640 1 River, 8.3ms\n",
      "image 230/800 C:\\Users\\15984\\Desktop\\COMP9517PROJECT\\skyview_yolo_dataset\\images\\test\\230.jpg: 640x640 1 River, 8.8ms\n",
      "image 231/800 C:\\Users\\15984\\Desktop\\COMP9517PROJECT\\skyview_yolo_dataset\\images\\test\\231.jpg: 640x640 1 River, 8.4ms\n",
      "image 232/800 C:\\Users\\15984\\Desktop\\COMP9517PROJECT\\skyview_yolo_dataset\\images\\test\\232.jpg: 640x640 1 Residential, 8.6ms\n",
      "image 233/800 C:\\Users\\15984\\Desktop\\COMP9517PROJECT\\skyview_yolo_dataset\\images\\test\\233.jpg: 640x640 1 Railway, 8.7ms\n",
      "image 234/800 C:\\Users\\15984\\Desktop\\COMP9517PROJECT\\skyview_yolo_dataset\\images\\test\\234.jpg: 640x640 1 Residential, 8.2ms\n",
      "image 235/800 C:\\Users\\15984\\Desktop\\COMP9517PROJECT\\skyview_yolo_dataset\\images\\test\\235.jpg: 640x640 1 River, 8.7ms\n",
      "image 236/800 C:\\Users\\15984\\Desktop\\COMP9517PROJECT\\skyview_yolo_dataset\\images\\test\\236.jpg: 640x640 1 River, 8.5ms\n",
      "image 237/800 C:\\Users\\15984\\Desktop\\COMP9517PROJECT\\skyview_yolo_dataset\\images\\test\\237.jpg: 640x640 1 Railway, 18.0ms\n",
      "image 238/800 C:\\Users\\15984\\Desktop\\COMP9517PROJECT\\skyview_yolo_dataset\\images\\test\\238.jpg: 640x640 1 Residential, 8.2ms\n",
      "image 239/800 C:\\Users\\15984\\Desktop\\COMP9517PROJECT\\skyview_yolo_dataset\\images\\test\\239.jpg: 640x640 1 River, 8.5ms\n",
      "image 240/800 C:\\Users\\15984\\Desktop\\COMP9517PROJECT\\skyview_yolo_dataset\\images\\test\\240.jpg: 640x640 1 River, 8.5ms\n",
      "image 241/800 C:\\Users\\15984\\Desktop\\COMP9517PROJECT\\skyview_yolo_dataset\\images\\test\\241.jpg: 640x640 1 River, 7.9ms\n",
      "image 242/800 C:\\Users\\15984\\Desktop\\COMP9517PROJECT\\skyview_yolo_dataset\\images\\test\\242.jpg: 640x640 1 Grassland, 1 River, 15.5ms\n",
      "image 243/800 C:\\Users\\15984\\Desktop\\COMP9517PROJECT\\skyview_yolo_dataset\\images\\test\\243.jpg: 640x640 1 River, 8.8ms\n",
      "image 244/800 C:\\Users\\15984\\Desktop\\COMP9517PROJECT\\skyview_yolo_dataset\\images\\test\\244.jpg: 640x640 1 River, 12.5ms\n",
      "image 245/800 C:\\Users\\15984\\Desktop\\COMP9517PROJECT\\skyview_yolo_dataset\\images\\test\\245.jpg: 640x640 1 Residential, 8.0ms\n",
      "image 246/800 C:\\Users\\15984\\Desktop\\COMP9517PROJECT\\skyview_yolo_dataset\\images\\test\\246.jpg: 640x640 1 Railway, 16.4ms\n",
      "image 247/800 C:\\Users\\15984\\Desktop\\COMP9517PROJECT\\skyview_yolo_dataset\\images\\test\\247.jpg: 640x640 1 River, 8.3ms\n",
      "image 248/800 C:\\Users\\15984\\Desktop\\COMP9517PROJECT\\skyview_yolo_dataset\\images\\test\\248.jpg: 640x640 1 River, 8.6ms\n",
      "image 249/800 C:\\Users\\15984\\Desktop\\COMP9517PROJECT\\skyview_yolo_dataset\\images\\test\\249.jpg: 640x640 1 Residential, 7.9ms\n",
      "image 250/800 C:\\Users\\15984\\Desktop\\COMP9517PROJECT\\skyview_yolo_dataset\\images\\test\\250.jpg: 640x640 1 Residential, 8.4ms\n",
      "image 251/800 C:\\Users\\15984\\Desktop\\COMP9517PROJECT\\skyview_yolo_dataset\\images\\test\\251.jpg: 640x640 1 Residential, 8.3ms\n",
      "image 252/800 C:\\Users\\15984\\Desktop\\COMP9517PROJECT\\skyview_yolo_dataset\\images\\test\\252.jpg: 640x640 1 River, 8.9ms\n",
      "image 253/800 C:\\Users\\15984\\Desktop\\COMP9517PROJECT\\skyview_yolo_dataset\\images\\test\\253.jpg: 640x640 1 River, 8.4ms\n",
      "image 254/800 C:\\Users\\15984\\Desktop\\COMP9517PROJECT\\skyview_yolo_dataset\\images\\test\\254.jpg: 640x640 1 River, 8.6ms\n",
      "image 255/800 C:\\Users\\15984\\Desktop\\COMP9517PROJECT\\skyview_yolo_dataset\\images\\test\\255.jpg: 640x640 1 River, 8.8ms\n",
      "image 256/800 C:\\Users\\15984\\Desktop\\COMP9517PROJECT\\skyview_yolo_dataset\\images\\test\\256.jpg: 640x640 1 Residential, 8.8ms\n",
      "image 257/800 C:\\Users\\15984\\Desktop\\COMP9517PROJECT\\skyview_yolo_dataset\\images\\test\\257.jpg: 640x640 1 Railway, 8.7ms\n",
      "image 258/800 C:\\Users\\15984\\Desktop\\COMP9517PROJECT\\skyview_yolo_dataset\\images\\test\\258.jpg: 640x640 1 River, 8.8ms\n",
      "image 259/800 C:\\Users\\15984\\Desktop\\COMP9517PROJECT\\skyview_yolo_dataset\\images\\test\\259.jpg: 640x640 1 Residential, 8.7ms\n",
      "image 260/800 C:\\Users\\15984\\Desktop\\COMP9517PROJECT\\skyview_yolo_dataset\\images\\test\\260.jpg: 640x640 1 River, 8.7ms\n",
      "image 261/800 C:\\Users\\15984\\Desktop\\COMP9517PROJECT\\skyview_yolo_dataset\\images\\test\\261.jpg: 640x640 1 River, 11.9ms\n",
      "image 262/800 C:\\Users\\15984\\Desktop\\COMP9517PROJECT\\skyview_yolo_dataset\\images\\test\\262.jpg: 640x640 1 River, 9.0ms\n",
      "image 263/800 C:\\Users\\15984\\Desktop\\COMP9517PROJECT\\skyview_yolo_dataset\\images\\test\\263.jpg: 640x640 1 River, 9.2ms\n",
      "image 264/800 C:\\Users\\15984\\Desktop\\COMP9517PROJECT\\skyview_yolo_dataset\\images\\test\\264.jpg: 640x640 1 River, 8.7ms\n",
      "image 265/800 C:\\Users\\15984\\Desktop\\COMP9517PROJECT\\skyview_yolo_dataset\\images\\test\\265.jpg: 640x640 1 River, 13.9ms\n",
      "image 266/800 C:\\Users\\15984\\Desktop\\COMP9517PROJECT\\skyview_yolo_dataset\\images\\test\\266.jpg: 640x640 1 Residential, 16.2ms\n",
      "image 267/800 C:\\Users\\15984\\Desktop\\COMP9517PROJECT\\skyview_yolo_dataset\\images\\test\\267.jpg: 640x640 1 River, 8.7ms\n",
      "image 268/800 C:\\Users\\15984\\Desktop\\COMP9517PROJECT\\skyview_yolo_dataset\\images\\test\\268.jpg: 640x640 1 Residential, 8.6ms\n",
      "image 269/800 C:\\Users\\15984\\Desktop\\COMP9517PROJECT\\skyview_yolo_dataset\\images\\test\\269.jpg: 640x640 1 River, 8.7ms\n",
      "image 270/800 C:\\Users\\15984\\Desktop\\COMP9517PROJECT\\skyview_yolo_dataset\\images\\test\\270.jpg: 640x640 1 Residential, 8.7ms\n",
      "image 271/800 C:\\Users\\15984\\Desktop\\COMP9517PROJECT\\skyview_yolo_dataset\\images\\test\\271.jpg: 640x640 1 River, 8.7ms\n",
      "image 272/800 C:\\Users\\15984\\Desktop\\COMP9517PROJECT\\skyview_yolo_dataset\\images\\test\\272.jpg: 640x640 1 River, 12.0ms\n",
      "image 273/800 C:\\Users\\15984\\Desktop\\COMP9517PROJECT\\skyview_yolo_dataset\\images\\test\\273.jpg: 640x640 1 River, 8.6ms\n",
      "image 274/800 C:\\Users\\15984\\Desktop\\COMP9517PROJECT\\skyview_yolo_dataset\\images\\test\\274.jpg: 640x640 1 River, 8.5ms\n",
      "image 275/800 C:\\Users\\15984\\Desktop\\COMP9517PROJECT\\skyview_yolo_dataset\\images\\test\\275.jpg: 640x640 1 River, 8.7ms\n",
      "image 276/800 C:\\Users\\15984\\Desktop\\COMP9517PROJECT\\skyview_yolo_dataset\\images\\test\\276.jpg: 640x640 1 River, 8.3ms\n",
      "image 277/800 C:\\Users\\15984\\Desktop\\COMP9517PROJECT\\skyview_yolo_dataset\\images\\test\\277.jpg: 640x640 1 River, 16.5ms\n",
      "image 278/800 C:\\Users\\15984\\Desktop\\COMP9517PROJECT\\skyview_yolo_dataset\\images\\test\\278.jpg: 640x640 1 River, 9.1ms\n",
      "image 279/800 C:\\Users\\15984\\Desktop\\COMP9517PROJECT\\skyview_yolo_dataset\\images\\test\\279.jpg: 640x640 1 River, 9.1ms\n",
      "image 280/800 C:\\Users\\15984\\Desktop\\COMP9517PROJECT\\skyview_yolo_dataset\\images\\test\\280.jpg: 640x640 1 Railway, 8.4ms\n",
      "image 281/800 C:\\Users\\15984\\Desktop\\COMP9517PROJECT\\skyview_yolo_dataset\\images\\test\\281.jpg: 640x640 1 River, 8.6ms\n",
      "image 282/800 C:\\Users\\15984\\Desktop\\COMP9517PROJECT\\skyview_yolo_dataset\\images\\test\\282.jpg: 640x640 1 River, 8.1ms\n",
      "image 283/800 C:\\Users\\15984\\Desktop\\COMP9517PROJECT\\skyview_yolo_dataset\\images\\test\\283.jpg: 640x640 1 Residential, 8.5ms\n",
      "image 284/800 C:\\Users\\15984\\Desktop\\COMP9517PROJECT\\skyview_yolo_dataset\\images\\test\\284.jpg: 640x640 1 River, 8.0ms\n",
      "image 285/800 C:\\Users\\15984\\Desktop\\COMP9517PROJECT\\skyview_yolo_dataset\\images\\test\\285.jpg: 640x640 1 Residential, 11.1ms\n",
      "image 286/800 C:\\Users\\15984\\Desktop\\COMP9517PROJECT\\skyview_yolo_dataset\\images\\test\\286.jpg: 640x640 1 River, 11.9ms\n",
      "image 287/800 C:\\Users\\15984\\Desktop\\COMP9517PROJECT\\skyview_yolo_dataset\\images\\test\\287.jpg: 640x640 1 River, 14.7ms\n",
      "image 288/800 C:\\Users\\15984\\Desktop\\COMP9517PROJECT\\skyview_yolo_dataset\\images\\test\\288.jpg: 640x640 1 River, 8.9ms\n",
      "image 289/800 C:\\Users\\15984\\Desktop\\COMP9517PROJECT\\skyview_yolo_dataset\\images\\test\\289.jpg: 640x640 1 Residential, 9.2ms\n",
      "image 290/800 C:\\Users\\15984\\Desktop\\COMP9517PROJECT\\skyview_yolo_dataset\\images\\test\\290.jpg: 640x640 1 River, 9.4ms\n",
      "image 291/800 C:\\Users\\15984\\Desktop\\COMP9517PROJECT\\skyview_yolo_dataset\\images\\test\\291.jpg: 640x640 1 River, 8.3ms\n",
      "image 292/800 C:\\Users\\15984\\Desktop\\COMP9517PROJECT\\skyview_yolo_dataset\\images\\test\\292.jpg: 640x640 1 River, 9.3ms\n",
      "image 293/800 C:\\Users\\15984\\Desktop\\COMP9517PROJECT\\skyview_yolo_dataset\\images\\test\\293.jpg: 640x640 1 River, 9.1ms\n",
      "image 294/800 C:\\Users\\15984\\Desktop\\COMP9517PROJECT\\skyview_yolo_dataset\\images\\test\\294.jpg: 640x640 1 River, 8.4ms\n",
      "image 295/800 C:\\Users\\15984\\Desktop\\COMP9517PROJECT\\skyview_yolo_dataset\\images\\test\\295.jpg: 640x640 1 River, 10.8ms\n",
      "image 296/800 C:\\Users\\15984\\Desktop\\COMP9517PROJECT\\skyview_yolo_dataset\\images\\test\\296.jpg: 640x640 1 Railway, 9.2ms\n",
      "image 297/800 C:\\Users\\15984\\Desktop\\COMP9517PROJECT\\skyview_yolo_dataset\\images\\test\\297.jpg: 640x640 1 Forest, 1 River, 8.8ms\n",
      "image 298/800 C:\\Users\\15984\\Desktop\\COMP9517PROJECT\\skyview_yolo_dataset\\images\\test\\298.jpg: 640x640 1 River, 9.8ms\n",
      "image 299/800 C:\\Users\\15984\\Desktop\\COMP9517PROJECT\\skyview_yolo_dataset\\images\\test\\299.jpg: 640x640 1 River, 9.2ms\n",
      "image 300/800 C:\\Users\\15984\\Desktop\\COMP9517PROJECT\\skyview_yolo_dataset\\images\\test\\300.jpg: 640x640 1 River, 8.8ms\n",
      "image 301/800 C:\\Users\\15984\\Desktop\\COMP9517PROJECT\\skyview_yolo_dataset\\images\\test\\301.jpg: 640x640 1 Residential, 9.0ms\n",
      "image 302/800 C:\\Users\\15984\\Desktop\\COMP9517PROJECT\\skyview_yolo_dataset\\images\\test\\302.jpg: 640x640 1 Residential, 9.2ms\n",
      "image 303/800 C:\\Users\\15984\\Desktop\\COMP9517PROJECT\\skyview_yolo_dataset\\images\\test\\303.jpg: 640x640 1 River, 13.3ms\n",
      "image 304/800 C:\\Users\\15984\\Desktop\\COMP9517PROJECT\\skyview_yolo_dataset\\images\\test\\304.jpg: 640x640 1 Residential, 12.2ms\n",
      "image 305/800 C:\\Users\\15984\\Desktop\\COMP9517PROJECT\\skyview_yolo_dataset\\images\\test\\305.jpg: 640x640 1 River, 11.2ms\n",
      "image 306/800 C:\\Users\\15984\\Desktop\\COMP9517PROJECT\\skyview_yolo_dataset\\images\\test\\306.jpg: 640x640 1 River, 16.9ms\n",
      "image 307/800 C:\\Users\\15984\\Desktop\\COMP9517PROJECT\\skyview_yolo_dataset\\images\\test\\307.jpg: 640x640 1 River, 9.3ms\n",
      "image 308/800 C:\\Users\\15984\\Desktop\\COMP9517PROJECT\\skyview_yolo_dataset\\images\\test\\308.jpg: 640x640 1 River, 9.1ms\n",
      "image 309/800 C:\\Users\\15984\\Desktop\\COMP9517PROJECT\\skyview_yolo_dataset\\images\\test\\309.jpg: 640x640 1 River, 8.5ms\n",
      "image 310/800 C:\\Users\\15984\\Desktop\\COMP9517PROJECT\\skyview_yolo_dataset\\images\\test\\310.jpg: 640x640 1 Residential, 8.7ms\n",
      "image 311/800 C:\\Users\\15984\\Desktop\\COMP9517PROJECT\\skyview_yolo_dataset\\images\\test\\311.jpg: 640x640 1 Residential, 8.8ms\n",
      "image 312/800 C:\\Users\\15984\\Desktop\\COMP9517PROJECT\\skyview_yolo_dataset\\images\\test\\312.jpg: 640x640 1 Residential, 8.8ms\n",
      "image 313/800 C:\\Users\\15984\\Desktop\\COMP9517PROJECT\\skyview_yolo_dataset\\images\\test\\313.jpg: 640x640 1 River, 17.3ms\n",
      "image 314/800 C:\\Users\\15984\\Desktop\\COMP9517PROJECT\\skyview_yolo_dataset\\images\\test\\314.jpg: 640x640 1 River, 14.3ms\n",
      "image 315/800 C:\\Users\\15984\\Desktop\\COMP9517PROJECT\\skyview_yolo_dataset\\images\\test\\315.jpg: 640x640 1 River, 9.0ms\n",
      "image 316/800 C:\\Users\\15984\\Desktop\\COMP9517PROJECT\\skyview_yolo_dataset\\images\\test\\316.jpg: 640x640 1 River, 8.6ms\n",
      "image 317/800 C:\\Users\\15984\\Desktop\\COMP9517PROJECT\\skyview_yolo_dataset\\images\\test\\317.jpg: 640x640 1 River, 16.3ms\n",
      "image 318/800 C:\\Users\\15984\\Desktop\\COMP9517PROJECT\\skyview_yolo_dataset\\images\\test\\318.jpg: 640x640 1 River, 12.1ms\n",
      "image 319/800 C:\\Users\\15984\\Desktop\\COMP9517PROJECT\\skyview_yolo_dataset\\images\\test\\319.jpg: 640x640 1 Residential, 8.3ms\n",
      "image 320/800 C:\\Users\\15984\\Desktop\\COMP9517PROJECT\\skyview_yolo_dataset\\images\\test\\320.jpg: 640x640 1 Railway, 9.6ms\n",
      "image 321/800 C:\\Users\\15984\\Desktop\\COMP9517PROJECT\\skyview_yolo_dataset\\images\\test\\321.jpg: 640x640 1 Lake, 9.4ms\n",
      "image 322/800 C:\\Users\\15984\\Desktop\\COMP9517PROJECT\\skyview_yolo_dataset\\images\\test\\322.jpg: 640x640 1 Residential, 8.9ms\n",
      "image 323/800 C:\\Users\\15984\\Desktop\\COMP9517PROJECT\\skyview_yolo_dataset\\images\\test\\323.jpg: 640x640 1 Railway, 9.4ms\n",
      "image 324/800 C:\\Users\\15984\\Desktop\\COMP9517PROJECT\\skyview_yolo_dataset\\images\\test\\324.jpg: 640x640 1 River, 8.8ms\n",
      "image 325/800 C:\\Users\\15984\\Desktop\\COMP9517PROJECT\\skyview_yolo_dataset\\images\\test\\325.jpg: 640x640 1 River, 8.7ms\n",
      "image 326/800 C:\\Users\\15984\\Desktop\\COMP9517PROJECT\\skyview_yolo_dataset\\images\\test\\326.jpg: 640x640 1 Highway, 1 River, 8.7ms\n",
      "image 327/800 C:\\Users\\15984\\Desktop\\COMP9517PROJECT\\skyview_yolo_dataset\\images\\test\\327.jpg: 640x640 1 Agriculture, 1 River, 8.9ms\n",
      "image 328/800 C:\\Users\\15984\\Desktop\\COMP9517PROJECT\\skyview_yolo_dataset\\images\\test\\328.jpg: 640x640 1 River, 8.3ms\n",
      "image 329/800 C:\\Users\\15984\\Desktop\\COMP9517PROJECT\\skyview_yolo_dataset\\images\\test\\329.jpg: 640x640 1 River, 8.5ms\n",
      "image 330/800 C:\\Users\\15984\\Desktop\\COMP9517PROJECT\\skyview_yolo_dataset\\images\\test\\330.jpg: 640x640 1 River, 8.3ms\n",
      "image 331/800 C:\\Users\\15984\\Desktop\\COMP9517PROJECT\\skyview_yolo_dataset\\images\\test\\331.jpg: 640x640 1 River, 8.6ms\n",
      "image 332/800 C:\\Users\\15984\\Desktop\\COMP9517PROJECT\\skyview_yolo_dataset\\images\\test\\332.jpg: 640x640 1 River, 8.3ms\n",
      "image 333/800 C:\\Users\\15984\\Desktop\\COMP9517PROJECT\\skyview_yolo_dataset\\images\\test\\333.jpg: 640x640 1 Railway, 8.5ms\n",
      "image 334/800 C:\\Users\\15984\\Desktop\\COMP9517PROJECT\\skyview_yolo_dataset\\images\\test\\334.jpg: 640x640 1 Residential, 8.8ms\n",
      "image 335/800 C:\\Users\\15984\\Desktop\\COMP9517PROJECT\\skyview_yolo_dataset\\images\\test\\335.jpg: 640x640 1 Residential, 7.9ms\n",
      "image 336/800 C:\\Users\\15984\\Desktop\\COMP9517PROJECT\\skyview_yolo_dataset\\images\\test\\336.jpg: 640x640 1 Residential, 7.9ms\n",
      "image 337/800 C:\\Users\\15984\\Desktop\\COMP9517PROJECT\\skyview_yolo_dataset\\images\\test\\337.jpg: 640x640 1 River, 8.0ms\n",
      "image 338/800 C:\\Users\\15984\\Desktop\\COMP9517PROJECT\\skyview_yolo_dataset\\images\\test\\338.jpg: 640x640 1 Mountain, 9.7ms\n",
      "image 339/800 C:\\Users\\15984\\Desktop\\COMP9517PROJECT\\skyview_yolo_dataset\\images\\test\\339.jpg: 640x640 1 River, 8.0ms\n",
      "image 340/800 C:\\Users\\15984\\Desktop\\COMP9517PROJECT\\skyview_yolo_dataset\\images\\test\\340.jpg: 640x640 1 Residential, 8.8ms\n",
      "image 341/800 C:\\Users\\15984\\Desktop\\COMP9517PROJECT\\skyview_yolo_dataset\\images\\test\\341.jpg: 640x640 1 River, 10.6ms\n",
      "image 342/800 C:\\Users\\15984\\Desktop\\COMP9517PROJECT\\skyview_yolo_dataset\\images\\test\\342.jpg: 640x640 1 River, 8.3ms\n",
      "image 343/800 C:\\Users\\15984\\Desktop\\COMP9517PROJECT\\skyview_yolo_dataset\\images\\test\\343.jpg: 640x640 1 Port, 11.2ms\n",
      "image 344/800 C:\\Users\\15984\\Desktop\\COMP9517PROJECT\\skyview_yolo_dataset\\images\\test\\344.jpg: 640x640 1 River, 8.8ms\n",
      "image 345/800 C:\\Users\\15984\\Desktop\\COMP9517PROJECT\\skyview_yolo_dataset\\images\\test\\345.jpg: 640x640 1 River, 8.6ms\n",
      "image 346/800 C:\\Users\\15984\\Desktop\\COMP9517PROJECT\\skyview_yolo_dataset\\images\\test\\346.jpg: 640x640 1 Agriculture, 1 Residential, 16.2ms\n",
      "image 347/800 C:\\Users\\15984\\Desktop\\COMP9517PROJECT\\skyview_yolo_dataset\\images\\test\\347.jpg: 640x640 1 River, 9.1ms\n",
      "image 348/800 C:\\Users\\15984\\Desktop\\COMP9517PROJECT\\skyview_yolo_dataset\\images\\test\\348.jpg: 640x640 1 River, 16.6ms\n",
      "image 349/800 C:\\Users\\15984\\Desktop\\COMP9517PROJECT\\skyview_yolo_dataset\\images\\test\\349.jpg: 640x640 1 River, 8.9ms\n",
      "image 350/800 C:\\Users\\15984\\Desktop\\COMP9517PROJECT\\skyview_yolo_dataset\\images\\test\\350.jpg: 640x640 1 River, 10.5ms\n",
      "image 351/800 C:\\Users\\15984\\Desktop\\COMP9517PROJECT\\skyview_yolo_dataset\\images\\test\\351.jpg: 640x640 1 Lake, 9.2ms\n",
      "image 352/800 C:\\Users\\15984\\Desktop\\COMP9517PROJECT\\skyview_yolo_dataset\\images\\test\\352.jpg: 640x640 1 Residential, 15.7ms\n",
      "image 353/800 C:\\Users\\15984\\Desktop\\COMP9517PROJECT\\skyview_yolo_dataset\\images\\test\\353.jpg: 640x640 1 Residential, 8.2ms\n",
      "image 354/800 C:\\Users\\15984\\Desktop\\COMP9517PROJECT\\skyview_yolo_dataset\\images\\test\\354.jpg: 640x640 1 Residential, 8.9ms\n",
      "image 355/800 C:\\Users\\15984\\Desktop\\COMP9517PROJECT\\skyview_yolo_dataset\\images\\test\\355.jpg: 640x640 1 Agriculture, 1 River, 8.4ms\n",
      "image 356/800 C:\\Users\\15984\\Desktop\\COMP9517PROJECT\\skyview_yolo_dataset\\images\\test\\356.jpg: 640x640 1 River, 8.5ms\n",
      "image 357/800 C:\\Users\\15984\\Desktop\\COMP9517PROJECT\\skyview_yolo_dataset\\images\\test\\357.jpg: 640x640 1 Residential, 8.4ms\n",
      "image 358/800 C:\\Users\\15984\\Desktop\\COMP9517PROJECT\\skyview_yolo_dataset\\images\\test\\358.jpg: 640x640 1 River, 8.2ms\n",
      "image 359/800 C:\\Users\\15984\\Desktop\\COMP9517PROJECT\\skyview_yolo_dataset\\images\\test\\359.jpg: 640x640 1 Port, 15.8ms\n",
      "image 360/800 C:\\Users\\15984\\Desktop\\COMP9517PROJECT\\skyview_yolo_dataset\\images\\test\\360.jpg: 640x640 1 River, 8.6ms\n",
      "image 361/800 C:\\Users\\15984\\Desktop\\COMP9517PROJECT\\skyview_yolo_dataset\\images\\test\\361.jpg: 640x640 1 River, 9.2ms\n",
      "image 362/800 C:\\Users\\15984\\Desktop\\COMP9517PROJECT\\skyview_yolo_dataset\\images\\test\\362.jpg: 640x640 1 River, 8.1ms\n",
      "image 363/800 C:\\Users\\15984\\Desktop\\COMP9517PROJECT\\skyview_yolo_dataset\\images\\test\\363.jpg: 640x640 1 Highway, 1 River, 8.5ms\n",
      "image 364/800 C:\\Users\\15984\\Desktop\\COMP9517PROJECT\\skyview_yolo_dataset\\images\\test\\364.jpg: 640x640 1 River, 8.3ms\n",
      "image 365/800 C:\\Users\\15984\\Desktop\\COMP9517PROJECT\\skyview_yolo_dataset\\images\\test\\365.jpg: 640x640 1 River, 8.6ms\n",
      "image 366/800 C:\\Users\\15984\\Desktop\\COMP9517PROJECT\\skyview_yolo_dataset\\images\\test\\366.jpg: 640x640 1 Railway, 8.6ms\n",
      "image 367/800 C:\\Users\\15984\\Desktop\\COMP9517PROJECT\\skyview_yolo_dataset\\images\\test\\367.jpg: 640x640 1 River, 8.9ms\n",
      "image 368/800 C:\\Users\\15984\\Desktop\\COMP9517PROJECT\\skyview_yolo_dataset\\images\\test\\368.jpg: 640x640 1 Residential, 11.8ms\n",
      "image 369/800 C:\\Users\\15984\\Desktop\\COMP9517PROJECT\\skyview_yolo_dataset\\images\\test\\369.jpg: 640x640 1 Lake, 1 River, 8.5ms\n",
      "image 370/800 C:\\Users\\15984\\Desktop\\COMP9517PROJECT\\skyview_yolo_dataset\\images\\test\\370.jpg: 640x640 1 Highway, 10.8ms\n",
      "image 371/800 C:\\Users\\15984\\Desktop\\COMP9517PROJECT\\skyview_yolo_dataset\\images\\test\\371.jpg: 640x640 1 Railway, 9.0ms\n",
      "image 372/800 C:\\Users\\15984\\Desktop\\COMP9517PROJECT\\skyview_yolo_dataset\\images\\test\\372.jpg: 640x640 1 Residential, 8.3ms\n",
      "image 373/800 C:\\Users\\15984\\Desktop\\COMP9517PROJECT\\skyview_yolo_dataset\\images\\test\\373.jpg: 640x640 1 River, 12.0ms\n",
      "image 374/800 C:\\Users\\15984\\Desktop\\COMP9517PROJECT\\skyview_yolo_dataset\\images\\test\\374.jpg: 640x640 1 River, 11.8ms\n",
      "image 375/800 C:\\Users\\15984\\Desktop\\COMP9517PROJECT\\skyview_yolo_dataset\\images\\test\\375.jpg: 640x640 1 River, 8.5ms\n",
      "image 376/800 C:\\Users\\15984\\Desktop\\COMP9517PROJECT\\skyview_yolo_dataset\\images\\test\\376.jpg: 640x640 1 River, 8.5ms\n",
      "image 377/800 C:\\Users\\15984\\Desktop\\COMP9517PROJECT\\skyview_yolo_dataset\\images\\test\\377.jpg: 640x640 1 Residential, 9.0ms\n",
      "image 378/800 C:\\Users\\15984\\Desktop\\COMP9517PROJECT\\skyview_yolo_dataset\\images\\test\\378.jpg: 640x640 1 River, 8.4ms\n",
      "image 379/800 C:\\Users\\15984\\Desktop\\COMP9517PROJECT\\skyview_yolo_dataset\\images\\test\\379.jpg: 640x640 1 River, 16.3ms\n",
      "image 380/800 C:\\Users\\15984\\Desktop\\COMP9517PROJECT\\skyview_yolo_dataset\\images\\test\\380.jpg: 640x640 1 Residential, 8.4ms\n",
      "image 381/800 C:\\Users\\15984\\Desktop\\COMP9517PROJECT\\skyview_yolo_dataset\\images\\test\\381.jpg: 640x640 1 Railway, 9.2ms\n",
      "image 382/800 C:\\Users\\15984\\Desktop\\COMP9517PROJECT\\skyview_yolo_dataset\\images\\test\\382.jpg: 640x640 1 River, 8.6ms\n",
      "image 383/800 C:\\Users\\15984\\Desktop\\COMP9517PROJECT\\skyview_yolo_dataset\\images\\test\\383.jpg: 640x640 1 Beach, 1 River, 15.5ms\n",
      "image 384/800 C:\\Users\\15984\\Desktop\\COMP9517PROJECT\\skyview_yolo_dataset\\images\\test\\384.jpg: 640x640 1 River, 8.5ms\n",
      "image 385/800 C:\\Users\\15984\\Desktop\\COMP9517PROJECT\\skyview_yolo_dataset\\images\\test\\385.jpg: 640x640 1 Residential, 8.6ms\n",
      "image 386/800 C:\\Users\\15984\\Desktop\\COMP9517PROJECT\\skyview_yolo_dataset\\images\\test\\386.jpg: 640x640 1 Residential, 8.3ms\n",
      "image 387/800 C:\\Users\\15984\\Desktop\\COMP9517PROJECT\\skyview_yolo_dataset\\images\\test\\387.jpg: 640x640 1 River, 15.1ms\n",
      "image 388/800 C:\\Users\\15984\\Desktop\\COMP9517PROJECT\\skyview_yolo_dataset\\images\\test\\388.jpg: 640x640 1 River, 7.9ms\n",
      "image 389/800 C:\\Users\\15984\\Desktop\\COMP9517PROJECT\\skyview_yolo_dataset\\images\\test\\389.jpg: 640x640 1 Residential, 8.7ms\n",
      "image 390/800 C:\\Users\\15984\\Desktop\\COMP9517PROJECT\\skyview_yolo_dataset\\images\\test\\390.jpg: 640x640 1 River, 7.9ms\n",
      "image 391/800 C:\\Users\\15984\\Desktop\\COMP9517PROJECT\\skyview_yolo_dataset\\images\\test\\391.jpg: 640x640 1 River, 8.2ms\n",
      "image 392/800 C:\\Users\\15984\\Desktop\\COMP9517PROJECT\\skyview_yolo_dataset\\images\\test\\392.jpg: 640x640 1 River, 8.6ms\n",
      "image 393/800 C:\\Users\\15984\\Desktop\\COMP9517PROJECT\\skyview_yolo_dataset\\images\\test\\393.jpg: 640x640 1 Residential, 8.8ms\n",
      "image 394/800 C:\\Users\\15984\\Desktop\\COMP9517PROJECT\\skyview_yolo_dataset\\images\\test\\394.jpg: 640x640 1 Airport, 1 Port, 8.7ms\n",
      "image 395/800 C:\\Users\\15984\\Desktop\\COMP9517PROJECT\\skyview_yolo_dataset\\images\\test\\395.jpg: 640x640 1 River, 8.8ms\n",
      "image 396/800 C:\\Users\\15984\\Desktop\\COMP9517PROJECT\\skyview_yolo_dataset\\images\\test\\396.jpg: 640x640 1 River, 8.9ms\n",
      "image 397/800 C:\\Users\\15984\\Desktop\\COMP9517PROJECT\\skyview_yolo_dataset\\images\\test\\397.jpg: 640x640 1 River, 8.7ms\n",
      "image 398/800 C:\\Users\\15984\\Desktop\\COMP9517PROJECT\\skyview_yolo_dataset\\images\\test\\398.jpg: 640x640 1 Residential, 9.0ms\n",
      "image 399/800 C:\\Users\\15984\\Desktop\\COMP9517PROJECT\\skyview_yolo_dataset\\images\\test\\399.jpg: 640x640 1 Highway, 8.8ms\n",
      "image 400/800 C:\\Users\\15984\\Desktop\\COMP9517PROJECT\\skyview_yolo_dataset\\images\\test\\400.jpg: 640x640 1 River, 9.3ms\n",
      "image 401/800 C:\\Users\\15984\\Desktop\\COMP9517PROJECT\\skyview_yolo_dataset\\images\\test\\401.jpg: 640x640 1 River, 8.5ms\n",
      "image 402/800 C:\\Users\\15984\\Desktop\\COMP9517PROJECT\\skyview_yolo_dataset\\images\\test\\402.jpg: 640x640 1 River, 14.2ms\n",
      "image 403/800 C:\\Users\\15984\\Desktop\\COMP9517PROJECT\\skyview_yolo_dataset\\images\\test\\403.jpg: 640x640 1 River, 8.1ms\n",
      "image 404/800 C:\\Users\\15984\\Desktop\\COMP9517PROJECT\\skyview_yolo_dataset\\images\\test\\404.jpg: 640x640 1 Residential, 8.6ms\n",
      "image 405/800 C:\\Users\\15984\\Desktop\\COMP9517PROJECT\\skyview_yolo_dataset\\images\\test\\405.jpg: 640x640 1 River, 8.4ms\n",
      "image 406/800 C:\\Users\\15984\\Desktop\\COMP9517PROJECT\\skyview_yolo_dataset\\images\\test\\406.jpg: 640x640 1 River, 8.7ms\n",
      "image 407/800 C:\\Users\\15984\\Desktop\\COMP9517PROJECT\\skyview_yolo_dataset\\images\\test\\407.jpg: 640x640 1 River, 8.3ms\n",
      "image 408/800 C:\\Users\\15984\\Desktop\\COMP9517PROJECT\\skyview_yolo_dataset\\images\\test\\408.jpg: 640x640 1 River, 8.5ms\n",
      "image 409/800 C:\\Users\\15984\\Desktop\\COMP9517PROJECT\\skyview_yolo_dataset\\images\\test\\409.jpg: 640x640 1 Residential, 8.6ms\n",
      "image 410/800 C:\\Users\\15984\\Desktop\\COMP9517PROJECT\\skyview_yolo_dataset\\images\\test\\410.jpg: 640x640 1 River, 8.4ms\n",
      "image 411/800 C:\\Users\\15984\\Desktop\\COMP9517PROJECT\\skyview_yolo_dataset\\images\\test\\411.jpg: 640x640 1 Residential, 8.3ms\n",
      "image 412/800 C:\\Users\\15984\\Desktop\\COMP9517PROJECT\\skyview_yolo_dataset\\images\\test\\412.jpg: 640x640 1 River, 8.2ms\n",
      "image 413/800 C:\\Users\\15984\\Desktop\\COMP9517PROJECT\\skyview_yolo_dataset\\images\\test\\413.jpg: 640x640 1 River, 15.4ms\n",
      "image 414/800 C:\\Users\\15984\\Desktop\\COMP9517PROJECT\\skyview_yolo_dataset\\images\\test\\414.jpg: 640x640 1 River, 8.5ms\n",
      "image 415/800 C:\\Users\\15984\\Desktop\\COMP9517PROJECT\\skyview_yolo_dataset\\images\\test\\415.jpg: 640x640 1 River, 8.3ms\n",
      "image 416/800 C:\\Users\\15984\\Desktop\\COMP9517PROJECT\\skyview_yolo_dataset\\images\\test\\416.jpg: 640x640 1 River, 8.4ms\n",
      "image 417/800 C:\\Users\\15984\\Desktop\\COMP9517PROJECT\\skyview_yolo_dataset\\images\\test\\417.jpg: 640x640 1 Residential, 7.6ms\n",
      "image 418/800 C:\\Users\\15984\\Desktop\\COMP9517PROJECT\\skyview_yolo_dataset\\images\\test\\418.jpg: 640x640 1 River, 8.6ms\n",
      "image 419/800 C:\\Users\\15984\\Desktop\\COMP9517PROJECT\\skyview_yolo_dataset\\images\\test\\419.jpg: 640x640 1 Port, 8.2ms\n",
      "image 420/800 C:\\Users\\15984\\Desktop\\COMP9517PROJECT\\skyview_yolo_dataset\\images\\test\\420.jpg: 640x640 1 Residential, 8.5ms\n",
      "image 421/800 C:\\Users\\15984\\Desktop\\COMP9517PROJECT\\skyview_yolo_dataset\\images\\test\\421.jpg: 640x640 1 Port, 7.9ms\n",
      "image 422/800 C:\\Users\\15984\\Desktop\\COMP9517PROJECT\\skyview_yolo_dataset\\images\\test\\422.jpg: 640x640 1 Residential, 9.6ms\n",
      "image 423/800 C:\\Users\\15984\\Desktop\\COMP9517PROJECT\\skyview_yolo_dataset\\images\\test\\423.jpg: 640x640 1 Railway, 7.8ms\n",
      "image 424/800 C:\\Users\\15984\\Desktop\\COMP9517PROJECT\\skyview_yolo_dataset\\images\\test\\424.jpg: 640x640 1 Port, 8.2ms\n",
      "image 425/800 C:\\Users\\15984\\Desktop\\COMP9517PROJECT\\skyview_yolo_dataset\\images\\test\\425.jpg: 640x640 1 River, 8.7ms\n",
      "image 426/800 C:\\Users\\15984\\Desktop\\COMP9517PROJECT\\skyview_yolo_dataset\\images\\test\\426.jpg: 640x640 1 Residential, 8.3ms\n",
      "image 427/800 C:\\Users\\15984\\Desktop\\COMP9517PROJECT\\skyview_yolo_dataset\\images\\test\\427.jpg: 640x640 1 River, 8.4ms\n",
      "image 428/800 C:\\Users\\15984\\Desktop\\COMP9517PROJECT\\skyview_yolo_dataset\\images\\test\\428.jpg: 640x640 1 Lake, 1 River, 8.7ms\n",
      "image 429/800 C:\\Users\\15984\\Desktop\\COMP9517PROJECT\\skyview_yolo_dataset\\images\\test\\429.jpg: 640x640 1 River, 8.7ms\n",
      "image 430/800 C:\\Users\\15984\\Desktop\\COMP9517PROJECT\\skyview_yolo_dataset\\images\\test\\430.jpg: 640x640 1 River, 8.5ms\n",
      "image 431/800 C:\\Users\\15984\\Desktop\\COMP9517PROJECT\\skyview_yolo_dataset\\images\\test\\431.jpg: 640x640 1 City, 1 Residential, 8.2ms\n",
      "image 432/800 C:\\Users\\15984\\Desktop\\COMP9517PROJECT\\skyview_yolo_dataset\\images\\test\\432.jpg: 640x640 1 Port, 8.4ms\n",
      "image 433/800 C:\\Users\\15984\\Desktop\\COMP9517PROJECT\\skyview_yolo_dataset\\images\\test\\433.jpg: 640x640 1 River, 9.2ms\n",
      "image 434/800 C:\\Users\\15984\\Desktop\\COMP9517PROJECT\\skyview_yolo_dataset\\images\\test\\434.jpg: 640x640 1 River, 14.1ms\n",
      "image 435/800 C:\\Users\\15984\\Desktop\\COMP9517PROJECT\\skyview_yolo_dataset\\images\\test\\435.jpg: 640x640 1 River, 8.7ms\n",
      "image 436/800 C:\\Users\\15984\\Desktop\\COMP9517PROJECT\\skyview_yolo_dataset\\images\\test\\436.jpg: 640x640 1 River, 9.6ms\n",
      "image 437/800 C:\\Users\\15984\\Desktop\\COMP9517PROJECT\\skyview_yolo_dataset\\images\\test\\437.jpg: 640x640 1 River, 9.4ms\n",
      "image 438/800 C:\\Users\\15984\\Desktop\\COMP9517PROJECT\\skyview_yolo_dataset\\images\\test\\438.jpg: 640x640 1 River, 8.9ms\n",
      "image 439/800 C:\\Users\\15984\\Desktop\\COMP9517PROJECT\\skyview_yolo_dataset\\images\\test\\439.jpg: 640x640 1 Residential, 8.8ms\n",
      "image 440/800 C:\\Users\\15984\\Desktop\\COMP9517PROJECT\\skyview_yolo_dataset\\images\\test\\440.jpg: 640x640 1 Residential, 9.0ms\n",
      "image 441/800 C:\\Users\\15984\\Desktop\\COMP9517PROJECT\\skyview_yolo_dataset\\images\\test\\441.jpg: 640x640 1 Residential, 8.4ms\n",
      "image 442/800 C:\\Users\\15984\\Desktop\\COMP9517PROJECT\\skyview_yolo_dataset\\images\\test\\442.jpg: 640x640 1 River, 9.8ms\n",
      "image 443/800 C:\\Users\\15984\\Desktop\\COMP9517PROJECT\\skyview_yolo_dataset\\images\\test\\443.jpg: 640x640 1 River, 8.5ms\n",
      "image 444/800 C:\\Users\\15984\\Desktop\\COMP9517PROJECT\\skyview_yolo_dataset\\images\\test\\444.jpg: 640x640 1 River, 8.2ms\n",
      "image 445/800 C:\\Users\\15984\\Desktop\\COMP9517PROJECT\\skyview_yolo_dataset\\images\\test\\445.jpg: 640x640 1 River, 8.6ms\n",
      "image 446/800 C:\\Users\\15984\\Desktop\\COMP9517PROJECT\\skyview_yolo_dataset\\images\\test\\446.jpg: 640x640 1 River, 8.6ms\n",
      "image 447/800 C:\\Users\\15984\\Desktop\\COMP9517PROJECT\\skyview_yolo_dataset\\images\\test\\447.jpg: 640x640 1 River, 8.2ms\n",
      "image 448/800 C:\\Users\\15984\\Desktop\\COMP9517PROJECT\\skyview_yolo_dataset\\images\\test\\448.jpg: 640x640 1 Grassland, 10.7ms\n",
      "image 449/800 C:\\Users\\15984\\Desktop\\COMP9517PROJECT\\skyview_yolo_dataset\\images\\test\\449.jpg: 640x640 1 Residential, 16.7ms\n",
      "image 450/800 C:\\Users\\15984\\Desktop\\COMP9517PROJECT\\skyview_yolo_dataset\\images\\test\\450.jpg: 640x640 1 River, 8.7ms\n",
      "image 451/800 C:\\Users\\15984\\Desktop\\COMP9517PROJECT\\skyview_yolo_dataset\\images\\test\\451.jpg: 640x640 1 River, 8.4ms\n",
      "image 452/800 C:\\Users\\15984\\Desktop\\COMP9517PROJECT\\skyview_yolo_dataset\\images\\test\\452.jpg: 640x640 1 Residential, 8.2ms\n",
      "image 453/800 C:\\Users\\15984\\Desktop\\COMP9517PROJECT\\skyview_yolo_dataset\\images\\test\\453.jpg: 640x640 1 River, 15.0ms\n",
      "image 454/800 C:\\Users\\15984\\Desktop\\COMP9517PROJECT\\skyview_yolo_dataset\\images\\test\\454.jpg: 640x640 1 Residential, 15.6ms\n",
      "image 455/800 C:\\Users\\15984\\Desktop\\COMP9517PROJECT\\skyview_yolo_dataset\\images\\test\\455.jpg: 640x640 1 Railway, 1 River, 13.9ms\n",
      "image 456/800 C:\\Users\\15984\\Desktop\\COMP9517PROJECT\\skyview_yolo_dataset\\images\\test\\456.jpg: 640x640 1 River, 10.0ms\n",
      "image 457/800 C:\\Users\\15984\\Desktop\\COMP9517PROJECT\\skyview_yolo_dataset\\images\\test\\457.jpg: 640x640 1 River, 8.9ms\n",
      "image 458/800 C:\\Users\\15984\\Desktop\\COMP9517PROJECT\\skyview_yolo_dataset\\images\\test\\458.jpg: 640x640 1 Highway, 8.8ms\n",
      "image 459/800 C:\\Users\\15984\\Desktop\\COMP9517PROJECT\\skyview_yolo_dataset\\images\\test\\459.jpg: 640x640 1 Residential, 10.2ms\n",
      "image 460/800 C:\\Users\\15984\\Desktop\\COMP9517PROJECT\\skyview_yolo_dataset\\images\\test\\460.jpg: 640x640 1 Residential, 9.5ms\n",
      "image 461/800 C:\\Users\\15984\\Desktop\\COMP9517PROJECT\\skyview_yolo_dataset\\images\\test\\461.jpg: 640x640 1 Residential, 8.5ms\n",
      "image 462/800 C:\\Users\\15984\\Desktop\\COMP9517PROJECT\\skyview_yolo_dataset\\images\\test\\462.jpg: 640x640 1 Residential, 9.1ms\n",
      "image 463/800 C:\\Users\\15984\\Desktop\\COMP9517PROJECT\\skyview_yolo_dataset\\images\\test\\463.jpg: 640x640 1 Residential, 9.0ms\n",
      "image 464/800 C:\\Users\\15984\\Desktop\\COMP9517PROJECT\\skyview_yolo_dataset\\images\\test\\464.jpg: 640x640 1 River, 8.6ms\n",
      "image 465/800 C:\\Users\\15984\\Desktop\\COMP9517PROJECT\\skyview_yolo_dataset\\images\\test\\465.jpg: 640x640 1 Parking, 8.6ms\n",
      "image 466/800 C:\\Users\\15984\\Desktop\\COMP9517PROJECT\\skyview_yolo_dataset\\images\\test\\466.jpg: 640x640 1 Railway, 8.4ms\n",
      "image 467/800 C:\\Users\\15984\\Desktop\\COMP9517PROJECT\\skyview_yolo_dataset\\images\\test\\467.jpg: 640x640 1 Railway, 8.1ms\n",
      "image 468/800 C:\\Users\\15984\\Desktop\\COMP9517PROJECT\\skyview_yolo_dataset\\images\\test\\468.jpg: 640x640 1 River, 8.8ms\n",
      "image 469/800 C:\\Users\\15984\\Desktop\\COMP9517PROJECT\\skyview_yolo_dataset\\images\\test\\469.jpg: 640x640 1 River, 9.0ms\n",
      "image 470/800 C:\\Users\\15984\\Desktop\\COMP9517PROJECT\\skyview_yolo_dataset\\images\\test\\470.jpg: 640x640 1 River, 8.8ms\n",
      "image 471/800 C:\\Users\\15984\\Desktop\\COMP9517PROJECT\\skyview_yolo_dataset\\images\\test\\471.jpg: 640x640 1 Lake, 8.6ms\n",
      "image 472/800 C:\\Users\\15984\\Desktop\\COMP9517PROJECT\\skyview_yolo_dataset\\images\\test\\472.jpg: 640x640 1 Railway, 8.5ms\n",
      "image 473/800 C:\\Users\\15984\\Desktop\\COMP9517PROJECT\\skyview_yolo_dataset\\images\\test\\473.jpg: 640x640 1 Railway, 9.4ms\n",
      "image 474/800 C:\\Users\\15984\\Desktop\\COMP9517PROJECT\\skyview_yolo_dataset\\images\\test\\474.jpg: 640x640 1 Residential, 8.9ms\n",
      "image 475/800 C:\\Users\\15984\\Desktop\\COMP9517PROJECT\\skyview_yolo_dataset\\images\\test\\475.jpg: 640x640 1 River, 8.4ms\n",
      "image 476/800 C:\\Users\\15984\\Desktop\\COMP9517PROJECT\\skyview_yolo_dataset\\images\\test\\476.jpg: 640x640 1 Residential, 8.4ms\n",
      "image 477/800 C:\\Users\\15984\\Desktop\\COMP9517PROJECT\\skyview_yolo_dataset\\images\\test\\477.jpg: 640x640 1 River, 8.5ms\n",
      "image 478/800 C:\\Users\\15984\\Desktop\\COMP9517PROJECT\\skyview_yolo_dataset\\images\\test\\478.jpg: 640x640 1 Residential, 8.8ms\n",
      "image 479/800 C:\\Users\\15984\\Desktop\\COMP9517PROJECT\\skyview_yolo_dataset\\images\\test\\479.jpg: 640x640 1 River, 8.5ms\n",
      "image 480/800 C:\\Users\\15984\\Desktop\\COMP9517PROJECT\\skyview_yolo_dataset\\images\\test\\480.jpg: 640x640 1 River, 8.6ms\n",
      "image 481/800 C:\\Users\\15984\\Desktop\\COMP9517PROJECT\\skyview_yolo_dataset\\images\\test\\481.jpg: 640x640 1 Railway, 8.7ms\n",
      "image 482/800 C:\\Users\\15984\\Desktop\\COMP9517PROJECT\\skyview_yolo_dataset\\images\\test\\482.jpg: 640x640 1 River, 15.4ms\n",
      "image 483/800 C:\\Users\\15984\\Desktop\\COMP9517PROJECT\\skyview_yolo_dataset\\images\\test\\483.jpg: 640x640 1 River, 8.5ms\n",
      "image 484/800 C:\\Users\\15984\\Desktop\\COMP9517PROJECT\\skyview_yolo_dataset\\images\\test\\484.jpg: 640x640 1 River, 8.5ms\n",
      "image 485/800 C:\\Users\\15984\\Desktop\\COMP9517PROJECT\\skyview_yolo_dataset\\images\\test\\485.jpg: 640x640 1 Mountain, 1 River, 7.8ms\n",
      "image 486/800 C:\\Users\\15984\\Desktop\\COMP9517PROJECT\\skyview_yolo_dataset\\images\\test\\486.jpg: 640x640 1 River, 12.8ms\n",
      "image 487/800 C:\\Users\\15984\\Desktop\\COMP9517PROJECT\\skyview_yolo_dataset\\images\\test\\487.jpg: 640x640 1 River, 8.1ms\n",
      "image 488/800 C:\\Users\\15984\\Desktop\\COMP9517PROJECT\\skyview_yolo_dataset\\images\\test\\488.jpg: 640x640 1 Residential, 8.9ms\n",
      "image 489/800 C:\\Users\\15984\\Desktop\\COMP9517PROJECT\\skyview_yolo_dataset\\images\\test\\489.jpg: 640x640 1 River, 15.8ms\n",
      "image 490/800 C:\\Users\\15984\\Desktop\\COMP9517PROJECT\\skyview_yolo_dataset\\images\\test\\490.jpg: 640x640 1 River, 10.4ms\n",
      "image 491/800 C:\\Users\\15984\\Desktop\\COMP9517PROJECT\\skyview_yolo_dataset\\images\\test\\491.jpg: 640x640 1 River, 8.3ms\n",
      "image 492/800 C:\\Users\\15984\\Desktop\\COMP9517PROJECT\\skyview_yolo_dataset\\images\\test\\492.jpg: 640x640 1 River, 8.7ms\n",
      "image 493/800 C:\\Users\\15984\\Desktop\\COMP9517PROJECT\\skyview_yolo_dataset\\images\\test\\493.jpg: 640x640 1 River, 8.8ms\n",
      "image 494/800 C:\\Users\\15984\\Desktop\\COMP9517PROJECT\\skyview_yolo_dataset\\images\\test\\494.jpg: 640x640 1 River, 16.1ms\n",
      "image 495/800 C:\\Users\\15984\\Desktop\\COMP9517PROJECT\\skyview_yolo_dataset\\images\\test\\495.jpg: 640x640 1 River, 8.5ms\n",
      "image 496/800 C:\\Users\\15984\\Desktop\\COMP9517PROJECT\\skyview_yolo_dataset\\images\\test\\496.jpg: 640x640 1 Railway, 1 River, 8.8ms\n",
      "image 497/800 C:\\Users\\15984\\Desktop\\COMP9517PROJECT\\skyview_yolo_dataset\\images\\test\\497.jpg: 640x640 1 River, 8.2ms\n",
      "image 498/800 C:\\Users\\15984\\Desktop\\COMP9517PROJECT\\skyview_yolo_dataset\\images\\test\\498.jpg: 640x640 1 Railway, 8.4ms\n",
      "image 499/800 C:\\Users\\15984\\Desktop\\COMP9517PROJECT\\skyview_yolo_dataset\\images\\test\\499.jpg: 640x640 1 River, 8.5ms\n",
      "image 500/800 C:\\Users\\15984\\Desktop\\COMP9517PROJECT\\skyview_yolo_dataset\\images\\test\\500.jpg: 640x640 1 River, 8.8ms\n",
      "image 501/800 C:\\Users\\15984\\Desktop\\COMP9517PROJECT\\skyview_yolo_dataset\\images\\test\\501.jpg: 640x640 1 River, 16.0ms\n",
      "image 502/800 C:\\Users\\15984\\Desktop\\COMP9517PROJECT\\skyview_yolo_dataset\\images\\test\\502.jpg: 640x640 1 Railway, 8.5ms\n",
      "image 503/800 C:\\Users\\15984\\Desktop\\COMP9517PROJECT\\skyview_yolo_dataset\\images\\test\\503.jpg: 640x640 1 River, 8.1ms\n",
      "image 504/800 C:\\Users\\15984\\Desktop\\COMP9517PROJECT\\skyview_yolo_dataset\\images\\test\\504.jpg: 640x640 1 River, 13.4ms\n",
      "image 505/800 C:\\Users\\15984\\Desktop\\COMP9517PROJECT\\skyview_yolo_dataset\\images\\test\\505.jpg: 640x640 1 Railway, 8.4ms\n",
      "image 506/800 C:\\Users\\15984\\Desktop\\COMP9517PROJECT\\skyview_yolo_dataset\\images\\test\\506.jpg: 640x640 1 River, 8.5ms\n",
      "image 507/800 C:\\Users\\15984\\Desktop\\COMP9517PROJECT\\skyview_yolo_dataset\\images\\test\\507.jpg: 640x640 1 River, 8.6ms\n",
      "image 508/800 C:\\Users\\15984\\Desktop\\COMP9517PROJECT\\skyview_yolo_dataset\\images\\test\\508.jpg: 640x640 1 River, 8.7ms\n",
      "image 509/800 C:\\Users\\15984\\Desktop\\COMP9517PROJECT\\skyview_yolo_dataset\\images\\test\\509.jpg: 640x640 1 River, 11.7ms\n",
      "image 510/800 C:\\Users\\15984\\Desktop\\COMP9517PROJECT\\skyview_yolo_dataset\\images\\test\\510.jpg: 640x640 1 River, 8.4ms\n",
      "image 511/800 C:\\Users\\15984\\Desktop\\COMP9517PROJECT\\skyview_yolo_dataset\\images\\test\\511.jpg: 640x640 1 River, 8.2ms\n",
      "image 512/800 C:\\Users\\15984\\Desktop\\COMP9517PROJECT\\skyview_yolo_dataset\\images\\test\\512.jpg: 640x640 1 River, 8.1ms\n",
      "image 513/800 C:\\Users\\15984\\Desktop\\COMP9517PROJECT\\skyview_yolo_dataset\\images\\test\\513.jpg: 640x640 1 Agriculture, 9.2ms\n",
      "image 514/800 C:\\Users\\15984\\Desktop\\COMP9517PROJECT\\skyview_yolo_dataset\\images\\test\\514.jpg: 640x640 1 Railway, 9.2ms\n",
      "image 515/800 C:\\Users\\15984\\Desktop\\COMP9517PROJECT\\skyview_yolo_dataset\\images\\test\\515.jpg: 640x640 1 River, 11.0ms\n",
      "image 516/800 C:\\Users\\15984\\Desktop\\COMP9517PROJECT\\skyview_yolo_dataset\\images\\test\\516.jpg: 640x640 1 River, 8.5ms\n",
      "image 517/800 C:\\Users\\15984\\Desktop\\COMP9517PROJECT\\skyview_yolo_dataset\\images\\test\\517.jpg: 640x640 1 Residential, 11.2ms\n",
      "image 518/800 C:\\Users\\15984\\Desktop\\COMP9517PROJECT\\skyview_yolo_dataset\\images\\test\\518.jpg: 640x640 1 River, 13.1ms\n",
      "image 519/800 C:\\Users\\15984\\Desktop\\COMP9517PROJECT\\skyview_yolo_dataset\\images\\test\\519.jpg: 640x640 1 River, 8.8ms\n",
      "image 520/800 C:\\Users\\15984\\Desktop\\COMP9517PROJECT\\skyview_yolo_dataset\\images\\test\\520.jpg: 640x640 1 River, 12.1ms\n",
      "image 521/800 C:\\Users\\15984\\Desktop\\COMP9517PROJECT\\skyview_yolo_dataset\\images\\test\\521.jpg: 640x640 1 Railway, 9.1ms\n",
      "image 522/800 C:\\Users\\15984\\Desktop\\COMP9517PROJECT\\skyview_yolo_dataset\\images\\test\\522.jpg: 640x640 1 River, 8.8ms\n",
      "image 523/800 C:\\Users\\15984\\Desktop\\COMP9517PROJECT\\skyview_yolo_dataset\\images\\test\\523.jpg: 640x640 1 River, 8.2ms\n",
      "image 524/800 C:\\Users\\15984\\Desktop\\COMP9517PROJECT\\skyview_yolo_dataset\\images\\test\\524.jpg: 640x640 1 River, 9.0ms\n",
      "image 525/800 C:\\Users\\15984\\Desktop\\COMP9517PROJECT\\skyview_yolo_dataset\\images\\test\\525.jpg: 640x640 1 Port, 8.3ms\n",
      "image 526/800 C:\\Users\\15984\\Desktop\\COMP9517PROJECT\\skyview_yolo_dataset\\images\\test\\526.jpg: 640x640 1 Residential, 10.8ms\n",
      "image 527/800 C:\\Users\\15984\\Desktop\\COMP9517PROJECT\\skyview_yolo_dataset\\images\\test\\527.jpg: 640x640 1 River, 8.4ms\n",
      "image 528/800 C:\\Users\\15984\\Desktop\\COMP9517PROJECT\\skyview_yolo_dataset\\images\\test\\528.jpg: 640x640 1 River, 8.4ms\n",
      "image 529/800 C:\\Users\\15984\\Desktop\\COMP9517PROJECT\\skyview_yolo_dataset\\images\\test\\529.jpg: 640x640 1 Mountain, 1 River, 8.5ms\n",
      "image 530/800 C:\\Users\\15984\\Desktop\\COMP9517PROJECT\\skyview_yolo_dataset\\images\\test\\530.jpg: 640x640 1 River, 8.6ms\n",
      "image 531/800 C:\\Users\\15984\\Desktop\\COMP9517PROJECT\\skyview_yolo_dataset\\images\\test\\531.jpg: 640x640 1 Residential, 8.3ms\n",
      "image 532/800 C:\\Users\\15984\\Desktop\\COMP9517PROJECT\\skyview_yolo_dataset\\images\\test\\532.jpg: 640x640 1 Residential, 15.3ms\n",
      "image 533/800 C:\\Users\\15984\\Desktop\\COMP9517PROJECT\\skyview_yolo_dataset\\images\\test\\533.jpg: 640x640 1 Residential, 8.7ms\n",
      "image 534/800 C:\\Users\\15984\\Desktop\\COMP9517PROJECT\\skyview_yolo_dataset\\images\\test\\534.jpg: 640x640 1 River, 8.2ms\n",
      "image 535/800 C:\\Users\\15984\\Desktop\\COMP9517PROJECT\\skyview_yolo_dataset\\images\\test\\535.jpg: 640x640 1 River, 8.4ms\n",
      "image 536/800 C:\\Users\\15984\\Desktop\\COMP9517PROJECT\\skyview_yolo_dataset\\images\\test\\536.jpg: 640x640 1 Lake, 8.3ms\n",
      "image 537/800 C:\\Users\\15984\\Desktop\\COMP9517PROJECT\\skyview_yolo_dataset\\images\\test\\537.jpg: 640x640 1 Airport, 1 Residential, 8.1ms\n",
      "image 538/800 C:\\Users\\15984\\Desktop\\COMP9517PROJECT\\skyview_yolo_dataset\\images\\test\\538.jpg: 640x640 1 River, 8.2ms\n",
      "image 539/800 C:\\Users\\15984\\Desktop\\COMP9517PROJECT\\skyview_yolo_dataset\\images\\test\\539.jpg: 640x640 1 River, 8.1ms\n",
      "image 540/800 C:\\Users\\15984\\Desktop\\COMP9517PROJECT\\skyview_yolo_dataset\\images\\test\\540.jpg: 640x640 1 River, 8.2ms\n",
      "image 541/800 C:\\Users\\15984\\Desktop\\COMP9517PROJECT\\skyview_yolo_dataset\\images\\test\\541.jpg: 640x640 1 River, 8.1ms\n",
      "image 542/800 C:\\Users\\15984\\Desktop\\COMP9517PROJECT\\skyview_yolo_dataset\\images\\test\\542.jpg: 640x640 1 Residential, 15.0ms\n",
      "image 543/800 C:\\Users\\15984\\Desktop\\COMP9517PROJECT\\skyview_yolo_dataset\\images\\test\\543.jpg: 640x640 1 River, 8.4ms\n",
      "image 544/800 C:\\Users\\15984\\Desktop\\COMP9517PROJECT\\skyview_yolo_dataset\\images\\test\\544.jpg: 640x640 1 River, 7.9ms\n",
      "image 545/800 C:\\Users\\15984\\Desktop\\COMP9517PROJECT\\skyview_yolo_dataset\\images\\test\\545.jpg: 640x640 1 River, 8.6ms\n",
      "image 546/800 C:\\Users\\15984\\Desktop\\COMP9517PROJECT\\skyview_yolo_dataset\\images\\test\\546.jpg: 640x640 1 River, 8.6ms\n",
      "image 547/800 C:\\Users\\15984\\Desktop\\COMP9517PROJECT\\skyview_yolo_dataset\\images\\test\\547.jpg: 640x640 1 River, 8.4ms\n",
      "image 548/800 C:\\Users\\15984\\Desktop\\COMP9517PROJECT\\skyview_yolo_dataset\\images\\test\\548.jpg: 640x640 1 Grassland, 1 River, 14.5ms\n",
      "image 549/800 C:\\Users\\15984\\Desktop\\COMP9517PROJECT\\skyview_yolo_dataset\\images\\test\\549.jpg: 640x640 1 River, 8.6ms\n",
      "image 550/800 C:\\Users\\15984\\Desktop\\COMP9517PROJECT\\skyview_yolo_dataset\\images\\test\\550.jpg: 640x640 1 Railway, 8.5ms\n",
      "image 551/800 C:\\Users\\15984\\Desktop\\COMP9517PROJECT\\skyview_yolo_dataset\\images\\test\\551.jpg: 640x640 1 Residential, 8.5ms\n",
      "image 552/800 C:\\Users\\15984\\Desktop\\COMP9517PROJECT\\skyview_yolo_dataset\\images\\test\\552.jpg: 640x640 1 River, 8.7ms\n",
      "image 553/800 C:\\Users\\15984\\Desktop\\COMP9517PROJECT\\skyview_yolo_dataset\\images\\test\\553.jpg: 640x640 1 River, 8.6ms\n",
      "image 554/800 C:\\Users\\15984\\Desktop\\COMP9517PROJECT\\skyview_yolo_dataset\\images\\test\\554.jpg: 640x640 1 River, 8.4ms\n",
      "image 555/800 C:\\Users\\15984\\Desktop\\COMP9517PROJECT\\skyview_yolo_dataset\\images\\test\\555.jpg: 640x640 1 Residential, 8.2ms\n",
      "image 556/800 C:\\Users\\15984\\Desktop\\COMP9517PROJECT\\skyview_yolo_dataset\\images\\test\\556.jpg: 640x640 1 Railway, 8.2ms\n",
      "image 557/800 C:\\Users\\15984\\Desktop\\COMP9517PROJECT\\skyview_yolo_dataset\\images\\test\\557.jpg: 640x640 1 River, 8.2ms\n",
      "image 558/800 C:\\Users\\15984\\Desktop\\COMP9517PROJECT\\skyview_yolo_dataset\\images\\test\\558.jpg: 640x640 1 Residential, 8.2ms\n",
      "image 559/800 C:\\Users\\15984\\Desktop\\COMP9517PROJECT\\skyview_yolo_dataset\\images\\test\\559.jpg: 640x640 1 River, 8.8ms\n",
      "image 560/800 C:\\Users\\15984\\Desktop\\COMP9517PROJECT\\skyview_yolo_dataset\\images\\test\\560.jpg: 640x640 1 River, 8.3ms\n",
      "image 561/800 C:\\Users\\15984\\Desktop\\COMP9517PROJECT\\skyview_yolo_dataset\\images\\test\\561.jpg: 640x640 1 River, 9.4ms\n",
      "image 562/800 C:\\Users\\15984\\Desktop\\COMP9517PROJECT\\skyview_yolo_dataset\\images\\test\\562.jpg: 640x640 1 River, 8.1ms\n",
      "image 563/800 C:\\Users\\15984\\Desktop\\COMP9517PROJECT\\skyview_yolo_dataset\\images\\test\\563.jpg: 640x640 1 River, 15.8ms\n",
      "image 564/800 C:\\Users\\15984\\Desktop\\COMP9517PROJECT\\skyview_yolo_dataset\\images\\test\\564.jpg: 640x640 1 River, 8.8ms\n",
      "image 565/800 C:\\Users\\15984\\Desktop\\COMP9517PROJECT\\skyview_yolo_dataset\\images\\test\\565.jpg: 640x640 1 River, 8.6ms\n",
      "image 566/800 C:\\Users\\15984\\Desktop\\COMP9517PROJECT\\skyview_yolo_dataset\\images\\test\\566.jpg: 640x640 1 Residential, 15.2ms\n",
      "image 567/800 C:\\Users\\15984\\Desktop\\COMP9517PROJECT\\skyview_yolo_dataset\\images\\test\\567.jpg: 640x640 1 River, 8.4ms\n",
      "image 568/800 C:\\Users\\15984\\Desktop\\COMP9517PROJECT\\skyview_yolo_dataset\\images\\test\\568.jpg: 640x640 1 Port, 7.9ms\n",
      "image 569/800 C:\\Users\\15984\\Desktop\\COMP9517PROJECT\\skyview_yolo_dataset\\images\\test\\569.jpg: 640x640 1 River, 8.3ms\n",
      "image 570/800 C:\\Users\\15984\\Desktop\\COMP9517PROJECT\\skyview_yolo_dataset\\images\\test\\570.jpg: 640x640 1 Railway, 8.1ms\n",
      "image 571/800 C:\\Users\\15984\\Desktop\\COMP9517PROJECT\\skyview_yolo_dataset\\images\\test\\571.jpg: 640x640 1 River, 16.9ms\n",
      "image 572/800 C:\\Users\\15984\\Desktop\\COMP9517PROJECT\\skyview_yolo_dataset\\images\\test\\572.jpg: 640x640 1 Highway, 8.1ms\n",
      "image 573/800 C:\\Users\\15984\\Desktop\\COMP9517PROJECT\\skyview_yolo_dataset\\images\\test\\573.jpg: 640x640 1 River, 8.5ms\n",
      "image 574/800 C:\\Users\\15984\\Desktop\\COMP9517PROJECT\\skyview_yolo_dataset\\images\\test\\574.jpg: 640x640 1 River, 11.0ms\n",
      "image 575/800 C:\\Users\\15984\\Desktop\\COMP9517PROJECT\\skyview_yolo_dataset\\images\\test\\575.jpg: 640x640 1 River, 8.7ms\n",
      "image 576/800 C:\\Users\\15984\\Desktop\\COMP9517PROJECT\\skyview_yolo_dataset\\images\\test\\576.jpg: 640x640 1 River, 9.8ms\n",
      "image 577/800 C:\\Users\\15984\\Desktop\\COMP9517PROJECT\\skyview_yolo_dataset\\images\\test\\577.jpg: 640x640 1 Lake, 8.8ms\n",
      "image 578/800 C:\\Users\\15984\\Desktop\\COMP9517PROJECT\\skyview_yolo_dataset\\images\\test\\578.jpg: 640x640 1 River, 12.8ms\n",
      "image 579/800 C:\\Users\\15984\\Desktop\\COMP9517PROJECT\\skyview_yolo_dataset\\images\\test\\579.jpg: 640x640 1 Residential, 10.1ms\n",
      "image 580/800 C:\\Users\\15984\\Desktop\\COMP9517PROJECT\\skyview_yolo_dataset\\images\\test\\580.jpg: 640x640 1 Railway, 8.5ms\n",
      "image 581/800 C:\\Users\\15984\\Desktop\\COMP9517PROJECT\\skyview_yolo_dataset\\images\\test\\581.jpg: 640x640 1 Railway, 11.2ms\n",
      "image 582/800 C:\\Users\\15984\\Desktop\\COMP9517PROJECT\\skyview_yolo_dataset\\images\\test\\582.jpg: 640x640 1 Railway, 11.0ms\n",
      "image 583/800 C:\\Users\\15984\\Desktop\\COMP9517PROJECT\\skyview_yolo_dataset\\images\\test\\583.jpg: 640x640 1 Railway, 8.8ms\n",
      "image 584/800 C:\\Users\\15984\\Desktop\\COMP9517PROJECT\\skyview_yolo_dataset\\images\\test\\584.jpg: 640x640 1 Lake, 1 River, 8.8ms\n",
      "image 585/800 C:\\Users\\15984\\Desktop\\COMP9517PROJECT\\skyview_yolo_dataset\\images\\test\\585.jpg: 640x640 1 River, 8.3ms\n",
      "image 586/800 C:\\Users\\15984\\Desktop\\COMP9517PROJECT\\skyview_yolo_dataset\\images\\test\\586.jpg: 640x640 1 River, 8.1ms\n",
      "image 587/800 C:\\Users\\15984\\Desktop\\COMP9517PROJECT\\skyview_yolo_dataset\\images\\test\\587.jpg: 640x640 1 River, 8.6ms\n",
      "image 588/800 C:\\Users\\15984\\Desktop\\COMP9517PROJECT\\skyview_yolo_dataset\\images\\test\\588.jpg: 640x640 1 River, 8.4ms\n",
      "image 589/800 C:\\Users\\15984\\Desktop\\COMP9517PROJECT\\skyview_yolo_dataset\\images\\test\\589.jpg: 640x640 1 River, 8.2ms\n",
      "image 590/800 C:\\Users\\15984\\Desktop\\COMP9517PROJECT\\skyview_yolo_dataset\\images\\test\\590.jpg: 640x640 1 Beach, 1 River, 14.3ms\n",
      "image 591/800 C:\\Users\\15984\\Desktop\\COMP9517PROJECT\\skyview_yolo_dataset\\images\\test\\591.jpg: 640x640 1 River, 11.6ms\n",
      "image 592/800 C:\\Users\\15984\\Desktop\\COMP9517PROJECT\\skyview_yolo_dataset\\images\\test\\592.jpg: 640x640 1 River, 8.1ms\n",
      "image 593/800 C:\\Users\\15984\\Desktop\\COMP9517PROJECT\\skyview_yolo_dataset\\images\\test\\593.jpg: 640x640 1 Residential, 10.7ms\n",
      "image 594/800 C:\\Users\\15984\\Desktop\\COMP9517PROJECT\\skyview_yolo_dataset\\images\\test\\594.jpg: 640x640 1 River, 8.5ms\n",
      "image 595/800 C:\\Users\\15984\\Desktop\\COMP9517PROJECT\\skyview_yolo_dataset\\images\\test\\595.jpg: 640x640 1 Railway, 8.5ms\n",
      "image 596/800 C:\\Users\\15984\\Desktop\\COMP9517PROJECT\\skyview_yolo_dataset\\images\\test\\596.jpg: 640x640 1 Railway, 1 River, 9.0ms\n",
      "image 597/800 C:\\Users\\15984\\Desktop\\COMP9517PROJECT\\skyview_yolo_dataset\\images\\test\\597.jpg: 640x640 1 River, 9.4ms\n",
      "image 598/800 C:\\Users\\15984\\Desktop\\COMP9517PROJECT\\skyview_yolo_dataset\\images\\test\\598.jpg: 640x640 1 River, 8.3ms\n",
      "image 599/800 C:\\Users\\15984\\Desktop\\COMP9517PROJECT\\skyview_yolo_dataset\\images\\test\\599.jpg: 640x640 1 River, 9.0ms\n",
      "image 600/800 C:\\Users\\15984\\Desktop\\COMP9517PROJECT\\skyview_yolo_dataset\\images\\test\\600.jpg: 640x640 1 River, 9.0ms\n",
      "image 601/800 C:\\Users\\15984\\Desktop\\COMP9517PROJECT\\skyview_yolo_dataset\\images\\test\\601.jpg: 640x640 1 River, 8.8ms\n",
      "image 602/800 C:\\Users\\15984\\Desktop\\COMP9517PROJECT\\skyview_yolo_dataset\\images\\test\\602.jpg: 640x640 1 River, 12.5ms\n",
      "image 603/800 C:\\Users\\15984\\Desktop\\COMP9517PROJECT\\skyview_yolo_dataset\\images\\test\\603.jpg: 640x640 1 River, 8.3ms\n",
      "image 604/800 C:\\Users\\15984\\Desktop\\COMP9517PROJECT\\skyview_yolo_dataset\\images\\test\\604.jpg: 640x640 1 River, 8.4ms\n",
      "image 605/800 C:\\Users\\15984\\Desktop\\COMP9517PROJECT\\skyview_yolo_dataset\\images\\test\\605.jpg: 640x640 1 Railway, 8.8ms\n",
      "image 606/800 C:\\Users\\15984\\Desktop\\COMP9517PROJECT\\skyview_yolo_dataset\\images\\test\\606.jpg: 640x640 1 Railway, 8.3ms\n",
      "image 607/800 C:\\Users\\15984\\Desktop\\COMP9517PROJECT\\skyview_yolo_dataset\\images\\test\\607.jpg: 640x640 1 Agriculture, 1 River, 16.4ms\n",
      "image 608/800 C:\\Users\\15984\\Desktop\\COMP9517PROJECT\\skyview_yolo_dataset\\images\\test\\608.jpg: 640x640 1 River, 8.3ms\n",
      "image 609/800 C:\\Users\\15984\\Desktop\\COMP9517PROJECT\\skyview_yolo_dataset\\images\\test\\609.jpg: 640x640 1 Highway, 1 Parking, 8.6ms\n",
      "image 610/800 C:\\Users\\15984\\Desktop\\COMP9517PROJECT\\skyview_yolo_dataset\\images\\test\\610.jpg: 640x640 1 Residential, 8.2ms\n",
      "image 611/800 C:\\Users\\15984\\Desktop\\COMP9517PROJECT\\skyview_yolo_dataset\\images\\test\\611.jpg: 640x640 1 River, 8.9ms\n",
      "image 612/800 C:\\Users\\15984\\Desktop\\COMP9517PROJECT\\skyview_yolo_dataset\\images\\test\\612.jpg: 640x640 1 Residential, 8.3ms\n",
      "image 613/800 C:\\Users\\15984\\Desktop\\COMP9517PROJECT\\skyview_yolo_dataset\\images\\test\\613.jpg: 640x640 1 River, 8.1ms\n",
      "image 614/800 C:\\Users\\15984\\Desktop\\COMP9517PROJECT\\skyview_yolo_dataset\\images\\test\\614.jpg: 640x640 1 River, 8.2ms\n",
      "image 615/800 C:\\Users\\15984\\Desktop\\COMP9517PROJECT\\skyview_yolo_dataset\\images\\test\\615.jpg: 640x640 1 River, 8.2ms\n",
      "image 616/800 C:\\Users\\15984\\Desktop\\COMP9517PROJECT\\skyview_yolo_dataset\\images\\test\\616.jpg: 640x640 1 Railway, 8.6ms\n",
      "image 617/800 C:\\Users\\15984\\Desktop\\COMP9517PROJECT\\skyview_yolo_dataset\\images\\test\\617.jpg: 640x640 1 River, 8.5ms\n",
      "image 618/800 C:\\Users\\15984\\Desktop\\COMP9517PROJECT\\skyview_yolo_dataset\\images\\test\\618.jpg: 640x640 1 Railway, 8.3ms\n",
      "image 619/800 C:\\Users\\15984\\Desktop\\COMP9517PROJECT\\skyview_yolo_dataset\\images\\test\\619.jpg: 640x640 1 Railway, 8.4ms\n",
      "image 620/800 C:\\Users\\15984\\Desktop\\COMP9517PROJECT\\skyview_yolo_dataset\\images\\test\\620.jpg: 640x640 1 Residential, 8.5ms\n",
      "image 621/800 C:\\Users\\15984\\Desktop\\COMP9517PROJECT\\skyview_yolo_dataset\\images\\test\\621.jpg: 640x640 1 River, 8.2ms\n",
      "image 622/800 C:\\Users\\15984\\Desktop\\COMP9517PROJECT\\skyview_yolo_dataset\\images\\test\\622.jpg: 640x640 1 River, 8.8ms\n",
      "image 623/800 C:\\Users\\15984\\Desktop\\COMP9517PROJECT\\skyview_yolo_dataset\\images\\test\\623.jpg: 640x640 1 River, 8.1ms\n",
      "image 624/800 C:\\Users\\15984\\Desktop\\COMP9517PROJECT\\skyview_yolo_dataset\\images\\test\\624.jpg: 640x640 1 River, 15.3ms\n",
      "image 625/800 C:\\Users\\15984\\Desktop\\COMP9517PROJECT\\skyview_yolo_dataset\\images\\test\\625.jpg: 640x640 1 River, 8.4ms\n",
      "image 626/800 C:\\Users\\15984\\Desktop\\COMP9517PROJECT\\skyview_yolo_dataset\\images\\test\\626.jpg: 640x640 1 River, 8.6ms\n",
      "image 627/800 C:\\Users\\15984\\Desktop\\COMP9517PROJECT\\skyview_yolo_dataset\\images\\test\\627.jpg: 640x640 1 Residential, 8.4ms\n",
      "image 628/800 C:\\Users\\15984\\Desktop\\COMP9517PROJECT\\skyview_yolo_dataset\\images\\test\\628.jpg: 640x640 1 River, 8.4ms\n",
      "image 629/800 C:\\Users\\15984\\Desktop\\COMP9517PROJECT\\skyview_yolo_dataset\\images\\test\\629.jpg: 640x640 1 River, 7.8ms\n",
      "image 630/800 C:\\Users\\15984\\Desktop\\COMP9517PROJECT\\skyview_yolo_dataset\\images\\test\\630.jpg: 640x640 1 River, 8.3ms\n",
      "image 631/800 C:\\Users\\15984\\Desktop\\COMP9517PROJECT\\skyview_yolo_dataset\\images\\test\\631.jpg: 640x640 1 River, 8.1ms\n",
      "image 632/800 C:\\Users\\15984\\Desktop\\COMP9517PROJECT\\skyview_yolo_dataset\\images\\test\\632.jpg: 640x640 1 River, 8.8ms\n",
      "image 633/800 C:\\Users\\15984\\Desktop\\COMP9517PROJECT\\skyview_yolo_dataset\\images\\test\\633.jpg: 640x640 1 River, 8.9ms\n",
      "image 634/800 C:\\Users\\15984\\Desktop\\COMP9517PROJECT\\skyview_yolo_dataset\\images\\test\\634.jpg: 640x640 1 River, 8.2ms\n",
      "image 635/800 C:\\Users\\15984\\Desktop\\COMP9517PROJECT\\skyview_yolo_dataset\\images\\test\\635.jpg: 640x640 1 River, 7.9ms\n",
      "image 636/800 C:\\Users\\15984\\Desktop\\COMP9517PROJECT\\skyview_yolo_dataset\\images\\test\\636.jpg: 640x640 1 River, 8.2ms\n",
      "image 637/800 C:\\Users\\15984\\Desktop\\COMP9517PROJECT\\skyview_yolo_dataset\\images\\test\\637.jpg: 640x640 1 River, 8.2ms\n",
      "image 638/800 C:\\Users\\15984\\Desktop\\COMP9517PROJECT\\skyview_yolo_dataset\\images\\test\\638.jpg: 640x640 1 Residential, 10.0ms\n",
      "image 639/800 C:\\Users\\15984\\Desktop\\COMP9517PROJECT\\skyview_yolo_dataset\\images\\test\\639.jpg: 640x640 1 River, 7.8ms\n",
      "image 640/800 C:\\Users\\15984\\Desktop\\COMP9517PROJECT\\skyview_yolo_dataset\\images\\test\\640.jpg: 640x640 1 River, 8.3ms\n",
      "image 641/800 C:\\Users\\15984\\Desktop\\COMP9517PROJECT\\skyview_yolo_dataset\\images\\test\\641.jpg: 640x640 1 River, 8.7ms\n",
      "image 642/800 C:\\Users\\15984\\Desktop\\COMP9517PROJECT\\skyview_yolo_dataset\\images\\test\\642.jpg: 640x640 1 River, 8.0ms\n",
      "image 643/800 C:\\Users\\15984\\Desktop\\COMP9517PROJECT\\skyview_yolo_dataset\\images\\test\\643.jpg: 640x640 1 River, 8.5ms\n",
      "image 644/800 C:\\Users\\15984\\Desktop\\COMP9517PROJECT\\skyview_yolo_dataset\\images\\test\\644.jpg: 640x640 1 River, 8.5ms\n",
      "image 645/800 C:\\Users\\15984\\Desktop\\COMP9517PROJECT\\skyview_yolo_dataset\\images\\test\\645.jpg: 640x640 1 River, 8.9ms\n",
      "image 646/800 C:\\Users\\15984\\Desktop\\COMP9517PROJECT\\skyview_yolo_dataset\\images\\test\\646.jpg: 640x640 1 River, 8.1ms\n",
      "image 647/800 C:\\Users\\15984\\Desktop\\COMP9517PROJECT\\skyview_yolo_dataset\\images\\test\\647.jpg: 640x640 1 Railway, 8.7ms\n",
      "image 648/800 C:\\Users\\15984\\Desktop\\COMP9517PROJECT\\skyview_yolo_dataset\\images\\test\\648.jpg: 640x640 1 River, 18.3ms\n",
      "image 649/800 C:\\Users\\15984\\Desktop\\COMP9517PROJECT\\skyview_yolo_dataset\\images\\test\\649.jpg: 640x640 1 Residential, 8.7ms\n",
      "image 650/800 C:\\Users\\15984\\Desktop\\COMP9517PROJECT\\skyview_yolo_dataset\\images\\test\\650.jpg: 640x640 1 River, 8.0ms\n",
      "image 651/800 C:\\Users\\15984\\Desktop\\COMP9517PROJECT\\skyview_yolo_dataset\\images\\test\\651.jpg: 640x640 1 Port, 13.6ms\n",
      "image 652/800 C:\\Users\\15984\\Desktop\\COMP9517PROJECT\\skyview_yolo_dataset\\images\\test\\652.jpg: 640x640 1 River, 8.1ms\n",
      "image 653/800 C:\\Users\\15984\\Desktop\\COMP9517PROJECT\\skyview_yolo_dataset\\images\\test\\653.jpg: 640x640 1 River, 13.2ms\n",
      "image 654/800 C:\\Users\\15984\\Desktop\\COMP9517PROJECT\\skyview_yolo_dataset\\images\\test\\654.jpg: 640x640 1 Residential, 15.0ms\n",
      "image 655/800 C:\\Users\\15984\\Desktop\\COMP9517PROJECT\\skyview_yolo_dataset\\images\\test\\655.jpg: 640x640 1 Residential, 9.6ms\n",
      "image 656/800 C:\\Users\\15984\\Desktop\\COMP9517PROJECT\\skyview_yolo_dataset\\images\\test\\656.jpg: 640x640 1 Airport, 9.0ms\n",
      "image 657/800 C:\\Users\\15984\\Desktop\\COMP9517PROJECT\\skyview_yolo_dataset\\images\\test\\657.jpg: 640x640 1 Residential, 8.1ms\n",
      "image 658/800 C:\\Users\\15984\\Desktop\\COMP9517PROJECT\\skyview_yolo_dataset\\images\\test\\658.jpg: 640x640 1 River, 8.0ms\n",
      "image 659/800 C:\\Users\\15984\\Desktop\\COMP9517PROJECT\\skyview_yolo_dataset\\images\\test\\659.jpg: 640x640 1 River, 14.1ms\n",
      "image 660/800 C:\\Users\\15984\\Desktop\\COMP9517PROJECT\\skyview_yolo_dataset\\images\\test\\660.jpg: 640x640 1 River, 15.7ms\n",
      "image 661/800 C:\\Users\\15984\\Desktop\\COMP9517PROJECT\\skyview_yolo_dataset\\images\\test\\661.jpg: 640x640 1 River, 8.0ms\n",
      "image 662/800 C:\\Users\\15984\\Desktop\\COMP9517PROJECT\\skyview_yolo_dataset\\images\\test\\662.jpg: 640x640 1 Residential, 8.0ms\n",
      "image 663/800 C:\\Users\\15984\\Desktop\\COMP9517PROJECT\\skyview_yolo_dataset\\images\\test\\663.jpg: 640x640 1 River, 9.7ms\n",
      "image 664/800 C:\\Users\\15984\\Desktop\\COMP9517PROJECT\\skyview_yolo_dataset\\images\\test\\664.jpg: 640x640 1 River, 8.5ms\n",
      "image 665/800 C:\\Users\\15984\\Desktop\\COMP9517PROJECT\\skyview_yolo_dataset\\images\\test\\665.jpg: 640x640 1 River, 7.9ms\n",
      "image 666/800 C:\\Users\\15984\\Desktop\\COMP9517PROJECT\\skyview_yolo_dataset\\images\\test\\666.jpg: 640x640 1 River, 11.4ms\n",
      "image 667/800 C:\\Users\\15984\\Desktop\\COMP9517PROJECT\\skyview_yolo_dataset\\images\\test\\667.jpg: 640x640 1 River, 8.4ms\n",
      "image 668/800 C:\\Users\\15984\\Desktop\\COMP9517PROJECT\\skyview_yolo_dataset\\images\\test\\668.jpg: 640x640 1 River, 16.0ms\n",
      "image 669/800 C:\\Users\\15984\\Desktop\\COMP9517PROJECT\\skyview_yolo_dataset\\images\\test\\669.jpg: 640x640 1 Railway, 8.6ms\n",
      "image 670/800 C:\\Users\\15984\\Desktop\\COMP9517PROJECT\\skyview_yolo_dataset\\images\\test\\670.jpg: 640x640 1 River, 8.8ms\n",
      "image 671/800 C:\\Users\\15984\\Desktop\\COMP9517PROJECT\\skyview_yolo_dataset\\images\\test\\671.jpg: 640x640 1 River, 8.1ms\n",
      "image 672/800 C:\\Users\\15984\\Desktop\\COMP9517PROJECT\\skyview_yolo_dataset\\images\\test\\672.jpg: 640x640 1 River, 12.6ms\n",
      "image 673/800 C:\\Users\\15984\\Desktop\\COMP9517PROJECT\\skyview_yolo_dataset\\images\\test\\673.jpg: 640x640 1 River, 8.5ms\n",
      "image 674/800 C:\\Users\\15984\\Desktop\\COMP9517PROJECT\\skyview_yolo_dataset\\images\\test\\674.jpg: 640x640 1 River, 8.4ms\n",
      "image 675/800 C:\\Users\\15984\\Desktop\\COMP9517PROJECT\\skyview_yolo_dataset\\images\\test\\675.jpg: 640x640 1 River, 8.3ms\n",
      "image 676/800 C:\\Users\\15984\\Desktop\\COMP9517PROJECT\\skyview_yolo_dataset\\images\\test\\676.jpg: 640x640 1 River, 8.5ms\n",
      "image 677/800 C:\\Users\\15984\\Desktop\\COMP9517PROJECT\\skyview_yolo_dataset\\images\\test\\677.jpg: 640x640 1 River, 8.0ms\n",
      "image 678/800 C:\\Users\\15984\\Desktop\\COMP9517PROJECT\\skyview_yolo_dataset\\images\\test\\678.jpg: 640x640 1 River, 8.2ms\n",
      "image 679/800 C:\\Users\\15984\\Desktop\\COMP9517PROJECT\\skyview_yolo_dataset\\images\\test\\679.jpg: 640x640 1 Residential, 8.2ms\n",
      "image 680/800 C:\\Users\\15984\\Desktop\\COMP9517PROJECT\\skyview_yolo_dataset\\images\\test\\680.jpg: 640x640 1 River, 8.3ms\n",
      "image 681/800 C:\\Users\\15984\\Desktop\\COMP9517PROJECT\\skyview_yolo_dataset\\images\\test\\681.jpg: 640x640 1 River, 8.4ms\n",
      "image 682/800 C:\\Users\\15984\\Desktop\\COMP9517PROJECT\\skyview_yolo_dataset\\images\\test\\682.jpg: 640x640 1 Lake, 1 Port, 14.8ms\n",
      "image 683/800 C:\\Users\\15984\\Desktop\\COMP9517PROJECT\\skyview_yolo_dataset\\images\\test\\683.jpg: 640x640 1 Residential, 8.2ms\n",
      "image 684/800 C:\\Users\\15984\\Desktop\\COMP9517PROJECT\\skyview_yolo_dataset\\images\\test\\684.jpg: 640x640 1 Lake, 11.4ms\n",
      "image 685/800 C:\\Users\\15984\\Desktop\\COMP9517PROJECT\\skyview_yolo_dataset\\images\\test\\685.jpg: 640x640 1 River, 8.2ms\n",
      "image 686/800 C:\\Users\\15984\\Desktop\\COMP9517PROJECT\\skyview_yolo_dataset\\images\\test\\686.jpg: 640x640 1 Residential, 8.4ms\n",
      "image 687/800 C:\\Users\\15984\\Desktop\\COMP9517PROJECT\\skyview_yolo_dataset\\images\\test\\687.jpg: 640x640 1 River, 8.4ms\n",
      "image 688/800 C:\\Users\\15984\\Desktop\\COMP9517PROJECT\\skyview_yolo_dataset\\images\\test\\688.jpg: 640x640 1 River, 10.3ms\n",
      "image 689/800 C:\\Users\\15984\\Desktop\\COMP9517PROJECT\\skyview_yolo_dataset\\images\\test\\689.jpg: 640x640 1 River, 8.3ms\n",
      "image 690/800 C:\\Users\\15984\\Desktop\\COMP9517PROJECT\\skyview_yolo_dataset\\images\\test\\690.jpg: 640x640 1 Railway, 15.6ms\n",
      "image 691/800 C:\\Users\\15984\\Desktop\\COMP9517PROJECT\\skyview_yolo_dataset\\images\\test\\691.jpg: 640x640 1 River, 8.4ms\n",
      "image 692/800 C:\\Users\\15984\\Desktop\\COMP9517PROJECT\\skyview_yolo_dataset\\images\\test\\692.jpg: 640x640 1 River, 8.6ms\n",
      "image 693/800 C:\\Users\\15984\\Desktop\\COMP9517PROJECT\\skyview_yolo_dataset\\images\\test\\693.jpg: 640x640 1 Residential, 8.1ms\n",
      "image 694/800 C:\\Users\\15984\\Desktop\\COMP9517PROJECT\\skyview_yolo_dataset\\images\\test\\694.jpg: 640x640 1 Railway, 7.9ms\n",
      "image 695/800 C:\\Users\\15984\\Desktop\\COMP9517PROJECT\\skyview_yolo_dataset\\images\\test\\695.jpg: 640x640 1 River, 8.7ms\n",
      "image 696/800 C:\\Users\\15984\\Desktop\\COMP9517PROJECT\\skyview_yolo_dataset\\images\\test\\696.jpg: 640x640 1 Residential, 10.1ms\n",
      "image 697/800 C:\\Users\\15984\\Desktop\\COMP9517PROJECT\\skyview_yolo_dataset\\images\\test\\697.jpg: 640x640 1 River, 8.4ms\n",
      "image 698/800 C:\\Users\\15984\\Desktop\\COMP9517PROJECT\\skyview_yolo_dataset\\images\\test\\698.jpg: 640x640 1 Residential, 8.7ms\n",
      "image 699/800 C:\\Users\\15984\\Desktop\\COMP9517PROJECT\\skyview_yolo_dataset\\images\\test\\699.jpg: 640x640 1 River, 8.7ms\n",
      "image 700/800 C:\\Users\\15984\\Desktop\\COMP9517PROJECT\\skyview_yolo_dataset\\images\\test\\700.jpg: 640x640 1 River, 8.8ms\n",
      "image 701/800 C:\\Users\\15984\\Desktop\\COMP9517PROJECT\\skyview_yolo_dataset\\images\\test\\701.jpg: 640x640 1 Residential, 10.8ms\n",
      "image 702/800 C:\\Users\\15984\\Desktop\\COMP9517PROJECT\\skyview_yolo_dataset\\images\\test\\702.jpg: 640x640 1 Railway, 9.3ms\n",
      "image 703/800 C:\\Users\\15984\\Desktop\\COMP9517PROJECT\\skyview_yolo_dataset\\images\\test\\703.jpg: 640x640 1 Highway, 9.0ms\n",
      "image 704/800 C:\\Users\\15984\\Desktop\\COMP9517PROJECT\\skyview_yolo_dataset\\images\\test\\704.jpg: 640x640 1 River, 8.7ms\n",
      "image 705/800 C:\\Users\\15984\\Desktop\\COMP9517PROJECT\\skyview_yolo_dataset\\images\\test\\705.jpg: 640x640 1 Agriculture, 11.1ms\n",
      "image 706/800 C:\\Users\\15984\\Desktop\\COMP9517PROJECT\\skyview_yolo_dataset\\images\\test\\706.jpg: 640x640 1 River, 8.7ms\n",
      "image 707/800 C:\\Users\\15984\\Desktop\\COMP9517PROJECT\\skyview_yolo_dataset\\images\\test\\707.jpg: 640x640 1 River, 8.3ms\n",
      "image 708/800 C:\\Users\\15984\\Desktop\\COMP9517PROJECT\\skyview_yolo_dataset\\images\\test\\708.jpg: 640x640 1 River, 8.4ms\n",
      "image 709/800 C:\\Users\\15984\\Desktop\\COMP9517PROJECT\\skyview_yolo_dataset\\images\\test\\709.jpg: 640x640 1 River, 8.2ms\n",
      "image 710/800 C:\\Users\\15984\\Desktop\\COMP9517PROJECT\\skyview_yolo_dataset\\images\\test\\710.jpg: 640x640 1 River, 8.8ms\n",
      "image 711/800 C:\\Users\\15984\\Desktop\\COMP9517PROJECT\\skyview_yolo_dataset\\images\\test\\711.jpg: 640x640 1 River, 10.2ms\n",
      "image 712/800 C:\\Users\\15984\\Desktop\\COMP9517PROJECT\\skyview_yolo_dataset\\images\\test\\712.jpg: 640x640 1 Port, 8.8ms\n",
      "image 713/800 C:\\Users\\15984\\Desktop\\COMP9517PROJECT\\skyview_yolo_dataset\\images\\test\\713.jpg: 640x640 1 River, 9.2ms\n",
      "image 714/800 C:\\Users\\15984\\Desktop\\COMP9517PROJECT\\skyview_yolo_dataset\\images\\test\\714.jpg: 640x640 1 River, 8.7ms\n",
      "image 715/800 C:\\Users\\15984\\Desktop\\COMP9517PROJECT\\skyview_yolo_dataset\\images\\test\\715.jpg: 640x640 1 River, 8.4ms\n",
      "image 716/800 C:\\Users\\15984\\Desktop\\COMP9517PROJECT\\skyview_yolo_dataset\\images\\test\\716.jpg: 640x640 1 River, 8.8ms\n",
      "image 717/800 C:\\Users\\15984\\Desktop\\COMP9517PROJECT\\skyview_yolo_dataset\\images\\test\\717.jpg: 640x640 1 River, 8.5ms\n",
      "image 718/800 C:\\Users\\15984\\Desktop\\COMP9517PROJECT\\skyview_yolo_dataset\\images\\test\\718.jpg: 640x640 1 Agriculture, 1 River, 8.7ms\n",
      "image 719/800 C:\\Users\\15984\\Desktop\\COMP9517PROJECT\\skyview_yolo_dataset\\images\\test\\719.jpg: 640x640 1 Residential, 8.7ms\n",
      "image 720/800 C:\\Users\\15984\\Desktop\\COMP9517PROJECT\\skyview_yolo_dataset\\images\\test\\720.jpg: 640x640 1 River, 8.8ms\n",
      "image 721/800 C:\\Users\\15984\\Desktop\\COMP9517PROJECT\\skyview_yolo_dataset\\images\\test\\721.jpg: 640x640 1 River, 8.8ms\n",
      "image 722/800 C:\\Users\\15984\\Desktop\\COMP9517PROJECT\\skyview_yolo_dataset\\images\\test\\722.jpg: 640x640 1 River, 12.0ms\n",
      "image 723/800 C:\\Users\\15984\\Desktop\\COMP9517PROJECT\\skyview_yolo_dataset\\images\\test\\723.jpg: 640x640 1 Residential, 10.5ms\n",
      "image 724/800 C:\\Users\\15984\\Desktop\\COMP9517PROJECT\\skyview_yolo_dataset\\images\\test\\724.jpg: 640x640 1 River, 9.8ms\n",
      "image 725/800 C:\\Users\\15984\\Desktop\\COMP9517PROJECT\\skyview_yolo_dataset\\images\\test\\725.jpg: 640x640 1 River, 8.7ms\n",
      "image 726/800 C:\\Users\\15984\\Desktop\\COMP9517PROJECT\\skyview_yolo_dataset\\images\\test\\726.jpg: 640x640 1 Lake, 1 River, 8.6ms\n",
      "image 727/800 C:\\Users\\15984\\Desktop\\COMP9517PROJECT\\skyview_yolo_dataset\\images\\test\\727.jpg: 640x640 1 Railway, 8.6ms\n",
      "image 728/800 C:\\Users\\15984\\Desktop\\COMP9517PROJECT\\skyview_yolo_dataset\\images\\test\\728.jpg: 640x640 1 River, 8.6ms\n",
      "image 729/800 C:\\Users\\15984\\Desktop\\COMP9517PROJECT\\skyview_yolo_dataset\\images\\test\\729.jpg: 640x640 1 River, 16.0ms\n",
      "image 730/800 C:\\Users\\15984\\Desktop\\COMP9517PROJECT\\skyview_yolo_dataset\\images\\test\\730.jpg: 640x640 1 Railway, 1 River, 8.5ms\n",
      "image 731/800 C:\\Users\\15984\\Desktop\\COMP9517PROJECT\\skyview_yolo_dataset\\images\\test\\731.jpg: 640x640 1 Lake, 9.8ms\n",
      "image 732/800 C:\\Users\\15984\\Desktop\\COMP9517PROJECT\\skyview_yolo_dataset\\images\\test\\732.jpg: 640x640 1 River, 8.1ms\n",
      "image 733/800 C:\\Users\\15984\\Desktop\\COMP9517PROJECT\\skyview_yolo_dataset\\images\\test\\733.jpg: 640x640 1 River, 8.2ms\n",
      "image 734/800 C:\\Users\\15984\\Desktop\\COMP9517PROJECT\\skyview_yolo_dataset\\images\\test\\734.jpg: 640x640 1 River, 9.5ms\n",
      "image 735/800 C:\\Users\\15984\\Desktop\\COMP9517PROJECT\\skyview_yolo_dataset\\images\\test\\735.jpg: 640x640 1 Railway, 8.4ms\n",
      "image 736/800 C:\\Users\\15984\\Desktop\\COMP9517PROJECT\\skyview_yolo_dataset\\images\\test\\736.jpg: 640x640 1 Railway, 9.1ms\n",
      "image 737/800 C:\\Users\\15984\\Desktop\\COMP9517PROJECT\\skyview_yolo_dataset\\images\\test\\737.jpg: 640x640 1 River, 16.8ms\n",
      "image 738/800 C:\\Users\\15984\\Desktop\\COMP9517PROJECT\\skyview_yolo_dataset\\images\\test\\738.jpg: 640x640 1 River, 8.5ms\n",
      "image 739/800 C:\\Users\\15984\\Desktop\\COMP9517PROJECT\\skyview_yolo_dataset\\images\\test\\739.jpg: 640x640 1 River, 8.6ms\n",
      "image 740/800 C:\\Users\\15984\\Desktop\\COMP9517PROJECT\\skyview_yolo_dataset\\images\\test\\740.jpg: 640x640 1 River, 9.1ms\n",
      "image 741/800 C:\\Users\\15984\\Desktop\\COMP9517PROJECT\\skyview_yolo_dataset\\images\\test\\741.jpg: 640x640 1 River, 8.7ms\n",
      "image 742/800 C:\\Users\\15984\\Desktop\\COMP9517PROJECT\\skyview_yolo_dataset\\images\\test\\742.jpg: 640x640 1 River, 8.7ms\n",
      "image 743/800 C:\\Users\\15984\\Desktop\\COMP9517PROJECT\\skyview_yolo_dataset\\images\\test\\743.jpg: 640x640 1 Mountain, 1 River, 9.3ms\n",
      "image 744/800 C:\\Users\\15984\\Desktop\\COMP9517PROJECT\\skyview_yolo_dataset\\images\\test\\744.jpg: 640x640 1 River, 8.4ms\n",
      "image 745/800 C:\\Users\\15984\\Desktop\\COMP9517PROJECT\\skyview_yolo_dataset\\images\\test\\745.jpg: 640x640 1 Residential, 8.3ms\n",
      "image 746/800 C:\\Users\\15984\\Desktop\\COMP9517PROJECT\\skyview_yolo_dataset\\images\\test\\746.jpg: 640x640 1 River, 8.3ms\n",
      "image 747/800 C:\\Users\\15984\\Desktop\\COMP9517PROJECT\\skyview_yolo_dataset\\images\\test\\747.jpg: 640x640 1 Residential, 11.8ms\n",
      "image 748/800 C:\\Users\\15984\\Desktop\\COMP9517PROJECT\\skyview_yolo_dataset\\images\\test\\748.jpg: 640x640 1 River, 15.6ms\n",
      "image 749/800 C:\\Users\\15984\\Desktop\\COMP9517PROJECT\\skyview_yolo_dataset\\images\\test\\749.jpg: 640x640 1 River, 8.5ms\n",
      "image 750/800 C:\\Users\\15984\\Desktop\\COMP9517PROJECT\\skyview_yolo_dataset\\images\\test\\750.jpg: 640x640 1 Railway, 8.6ms\n",
      "image 751/800 C:\\Users\\15984\\Desktop\\COMP9517PROJECT\\skyview_yolo_dataset\\images\\test\\751.jpg: 640x640 1 River, 10.1ms\n",
      "image 752/800 C:\\Users\\15984\\Desktop\\COMP9517PROJECT\\skyview_yolo_dataset\\images\\test\\752.jpg: 640x640 1 River, 8.2ms\n",
      "image 753/800 C:\\Users\\15984\\Desktop\\COMP9517PROJECT\\skyview_yolo_dataset\\images\\test\\753.jpg: 640x640 1 River, 9.1ms\n",
      "image 754/800 C:\\Users\\15984\\Desktop\\COMP9517PROJECT\\skyview_yolo_dataset\\images\\test\\754.jpg: 640x640 1 Residential, 8.0ms\n",
      "image 755/800 C:\\Users\\15984\\Desktop\\COMP9517PROJECT\\skyview_yolo_dataset\\images\\test\\755.jpg: 640x640 1 River, 8.4ms\n",
      "image 756/800 C:\\Users\\15984\\Desktop\\COMP9517PROJECT\\skyview_yolo_dataset\\images\\test\\756.jpg: 640x640 1 Residential, 15.5ms\n",
      "image 757/800 C:\\Users\\15984\\Desktop\\COMP9517PROJECT\\skyview_yolo_dataset\\images\\test\\757.jpg: 640x640 1 River, 11.4ms\n",
      "image 758/800 C:\\Users\\15984\\Desktop\\COMP9517PROJECT\\skyview_yolo_dataset\\images\\test\\758.jpg: 640x640 1 River, 9.0ms\n",
      "image 759/800 C:\\Users\\15984\\Desktop\\COMP9517PROJECT\\skyview_yolo_dataset\\images\\test\\759.jpg: 640x640 1 Highway, 9.7ms\n",
      "image 760/800 C:\\Users\\15984\\Desktop\\COMP9517PROJECT\\skyview_yolo_dataset\\images\\test\\760.jpg: 640x640 1 River, 8.2ms\n",
      "image 761/800 C:\\Users\\15984\\Desktop\\COMP9517PROJECT\\skyview_yolo_dataset\\images\\test\\761.jpg: 640x640 1 River, 13.3ms\n",
      "image 762/800 C:\\Users\\15984\\Desktop\\COMP9517PROJECT\\skyview_yolo_dataset\\images\\test\\762.jpg: 640x640 1 Residential, 8.5ms\n",
      "image 763/800 C:\\Users\\15984\\Desktop\\COMP9517PROJECT\\skyview_yolo_dataset\\images\\test\\763.jpg: 640x640 1 River, 9.0ms\n",
      "image 764/800 C:\\Users\\15984\\Desktop\\COMP9517PROJECT\\skyview_yolo_dataset\\images\\test\\764.jpg: 640x640 1 River, 8.0ms\n",
      "image 765/800 C:\\Users\\15984\\Desktop\\COMP9517PROJECT\\skyview_yolo_dataset\\images\\test\\765.jpg: 640x640 1 River, 9.0ms\n",
      "image 766/800 C:\\Users\\15984\\Desktop\\COMP9517PROJECT\\skyview_yolo_dataset\\images\\test\\766.jpg: 640x640 1 River, 8.7ms\n",
      "image 767/800 C:\\Users\\15984\\Desktop\\COMP9517PROJECT\\skyview_yolo_dataset\\images\\test\\767.jpg: 640x640 1 River, 8.8ms\n",
      "image 768/800 C:\\Users\\15984\\Desktop\\COMP9517PROJECT\\skyview_yolo_dataset\\images\\test\\768.jpg: 640x640 1 River, 8.0ms\n",
      "image 769/800 C:\\Users\\15984\\Desktop\\COMP9517PROJECT\\skyview_yolo_dataset\\images\\test\\769.jpg: 640x640 1 River, 8.4ms\n",
      "image 770/800 C:\\Users\\15984\\Desktop\\COMP9517PROJECT\\skyview_yolo_dataset\\images\\test\\770.jpg: 640x640 1 Residential, 8.4ms\n",
      "image 771/800 C:\\Users\\15984\\Desktop\\COMP9517PROJECT\\skyview_yolo_dataset\\images\\test\\771.jpg: 640x640 1 River, 8.0ms\n",
      "image 772/800 C:\\Users\\15984\\Desktop\\COMP9517PROJECT\\skyview_yolo_dataset\\images\\test\\772.jpg: 640x640 1 River, 8.3ms\n",
      "image 773/800 C:\\Users\\15984\\Desktop\\COMP9517PROJECT\\skyview_yolo_dataset\\images\\test\\773.jpg: 640x640 1 River, 11.3ms\n",
      "image 774/800 C:\\Users\\15984\\Desktop\\COMP9517PROJECT\\skyview_yolo_dataset\\images\\test\\774.jpg: 640x640 1 River, 11.7ms\n",
      "image 775/800 C:\\Users\\15984\\Desktop\\COMP9517PROJECT\\skyview_yolo_dataset\\images\\test\\775.jpg: 640x640 1 Airport, 1 River, 8.2ms\n",
      "image 776/800 C:\\Users\\15984\\Desktop\\COMP9517PROJECT\\skyview_yolo_dataset\\images\\test\\776.jpg: 640x640 1 River, 8.1ms\n",
      "image 777/800 C:\\Users\\15984\\Desktop\\COMP9517PROJECT\\skyview_yolo_dataset\\images\\test\\777.jpg: 640x640 1 River, 8.5ms\n",
      "image 778/800 C:\\Users\\15984\\Desktop\\COMP9517PROJECT\\skyview_yolo_dataset\\images\\test\\778.jpg: 640x640 1 River, 12.7ms\n",
      "image 779/800 C:\\Users\\15984\\Desktop\\COMP9517PROJECT\\skyview_yolo_dataset\\images\\test\\779.jpg: 640x640 1 River, 14.8ms\n",
      "image 780/800 C:\\Users\\15984\\Desktop\\COMP9517PROJECT\\skyview_yolo_dataset\\images\\test\\780.jpg: 640x640 1 River, 8.1ms\n",
      "image 781/800 C:\\Users\\15984\\Desktop\\COMP9517PROJECT\\skyview_yolo_dataset\\images\\test\\781.jpg: 640x640 1 River, 8.1ms\n",
      "image 782/800 C:\\Users\\15984\\Desktop\\COMP9517PROJECT\\skyview_yolo_dataset\\images\\test\\782.jpg: 640x640 1 Residential, 9.4ms\n",
      "image 783/800 C:\\Users\\15984\\Desktop\\COMP9517PROJECT\\skyview_yolo_dataset\\images\\test\\783.jpg: 640x640 1 Railway, 15.7ms\n",
      "image 784/800 C:\\Users\\15984\\Desktop\\COMP9517PROJECT\\skyview_yolo_dataset\\images\\test\\784.jpg: 640x640 1 River, 8.1ms\n",
      "image 785/800 C:\\Users\\15984\\Desktop\\COMP9517PROJECT\\skyview_yolo_dataset\\images\\test\\785.jpg: 640x640 1 Grassland, 1 River, 8.2ms\n",
      "image 786/800 C:\\Users\\15984\\Desktop\\COMP9517PROJECT\\skyview_yolo_dataset\\images\\test\\786.jpg: 640x640 1 River, 8.8ms\n",
      "image 787/800 C:\\Users\\15984\\Desktop\\COMP9517PROJECT\\skyview_yolo_dataset\\images\\test\\787.jpg: 640x640 1 River, 8.4ms\n",
      "image 788/800 C:\\Users\\15984\\Desktop\\COMP9517PROJECT\\skyview_yolo_dataset\\images\\test\\788.jpg: 640x640 1 River, 9.2ms\n",
      "image 789/800 C:\\Users\\15984\\Desktop\\COMP9517PROJECT\\skyview_yolo_dataset\\images\\test\\789.jpg: 640x640 1 River, 8.7ms\n",
      "image 790/800 C:\\Users\\15984\\Desktop\\COMP9517PROJECT\\skyview_yolo_dataset\\images\\test\\790.jpg: 640x640 1 River, 14.9ms\n",
      "image 791/800 C:\\Users\\15984\\Desktop\\COMP9517PROJECT\\skyview_yolo_dataset\\images\\test\\791.jpg: 640x640 1 Residential, 8.1ms\n",
      "image 792/800 C:\\Users\\15984\\Desktop\\COMP9517PROJECT\\skyview_yolo_dataset\\images\\test\\792.jpg: 640x640 1 River, 8.0ms\n",
      "image 793/800 C:\\Users\\15984\\Desktop\\COMP9517PROJECT\\skyview_yolo_dataset\\images\\test\\793.jpg: 640x640 1 River, 8.1ms\n",
      "image 794/800 C:\\Users\\15984\\Desktop\\COMP9517PROJECT\\skyview_yolo_dataset\\images\\test\\794.jpg: 640x640 1 River, 8.1ms\n",
      "image 795/800 C:\\Users\\15984\\Desktop\\COMP9517PROJECT\\skyview_yolo_dataset\\images\\test\\795.jpg: 640x640 1 Residential, 8.2ms\n",
      "image 796/800 C:\\Users\\15984\\Desktop\\COMP9517PROJECT\\skyview_yolo_dataset\\images\\test\\796.jpg: 640x640 1 River, 8.3ms\n",
      "image 797/800 C:\\Users\\15984\\Desktop\\COMP9517PROJECT\\skyview_yolo_dataset\\images\\test\\797.jpg: 640x640 1 River, 8.2ms\n",
      "image 798/800 C:\\Users\\15984\\Desktop\\COMP9517PROJECT\\skyview_yolo_dataset\\images\\test\\798.jpg: 640x640 1 Residential, 9.3ms\n",
      "image 799/800 C:\\Users\\15984\\Desktop\\COMP9517PROJECT\\skyview_yolo_dataset\\images\\test\\799.jpg: 640x640 1 Residential, 14.8ms\n",
      "image 800/800 C:\\Users\\15984\\Desktop\\COMP9517PROJECT\\skyview_yolo_dataset\\images\\test\\800.jpg: 640x640 1 River, 8.3ms\n",
      "Speed: 3.1ms preprocess, 9.7ms inference, 1.6ms postprocess per image at shape (1, 3, 640, 640)\n",
      "Results saved to \u001b[1mruns\\detect\\predict\u001b[0m\n"
     ]
    }
   ],
   "source": [
    "\n",
    "model = YOLO('runs/detect/skyview_yolo/weights/best.pt')\n",
    "\n",
    "\n",
    "results = model.predict(\n",
    "    source=str(OUTPUT_PATH / 'images/test'),\n",
    "    conf=0.25,\n",
    "    save=True\n",
    ")"
   ]
  },
  {
   "cell_type": "markdown",
   "metadata": {},
   "source": [
    "Then evaluate the model generally we can get the exact metrics"
   ]
  },
  {
   "cell_type": "code",
   "execution_count": 6,
   "metadata": {},
   "outputs": [
    {
     "name": "stdout",
     "output_type": "stream",
     "text": [
      "Ultralytics 8.3.107  Python-3.12.0 torch-2.3.0+cu121 CUDA:0 (NVIDIA GeForce RTX 3060 Laptop GPU, 6144MiB)\n"
     ]
    },
    {
     "name": "stderr",
     "output_type": "stream",
     "text": [
      "\u001b[34m\u001b[1mval: \u001b[0mScanning C:\\Users\\15984\\Desktop\\COMP9517PROJECT\\skyview_yolo_dataset\\labels\\val.cache... 798 images, 0 backgrounds, 0 corrupt: 100%|██████████| 798/798 [00:00<?, ?it/s]\n",
      "                 Class     Images  Instances      Box(P          R      mAP50  mAP50-95): 100%|██████████| 50/50 [00:08<00:00,  5.84it/s]\n"
     ]
    },
    {
     "name": "stdout",
     "output_type": "stream",
     "text": [
      "                   all        798        798      0.882      0.905      0.938      0.938\n",
      "           Agriculture          9          9      0.679      0.778       0.84       0.84\n",
      "               Airport          7          7      0.825      0.714       0.73       0.73\n",
      "                 Beach         17         17      0.917      0.941       0.99       0.99\n",
      "                  City         19         19      0.845      0.859      0.928      0.928\n",
      "                Desert         31         31      0.908      0.955      0.948      0.948\n",
      "                Forest         24         24      0.911      0.849      0.925      0.925\n",
      "             Grassland         22         22      0.718      0.927      0.937      0.937\n",
      "               Highway         36         36      0.885      0.944      0.964      0.964\n",
      "                  Lake         40         40      0.891      0.817      0.924      0.924\n",
      "              Mountain         69         69      0.975      0.928      0.982      0.982\n",
      "               Parking         65         65      0.984      0.935      0.962      0.962\n",
      "                  Port         82         82      0.941          1      0.994      0.994\n",
      "               Railway        104        104      0.875      0.981      0.984      0.984\n",
      "           Residential        122        122       0.96      0.988      0.991      0.991\n",
      "                 River        151        151      0.912      0.957       0.98       0.98\n",
      "Speed: 0.3ms preprocess, 5.6ms inference, 0.0ms loss, 0.8ms postprocess per image\n",
      "Results saved to \u001b[1mruns\\detect\\val2\u001b[0m\n",
      "\n",
      "=== Model Evaluation Results ===\n",
      "mAP50: 0.938\n",
      "Average Detection Confidence: 0.949\n",
      "Total Test Images: 800\n"
     ]
    }
   ],
   "source": [
    "import numpy as np\n",
    "# First evaluate the model to get metrics\n",
    "metrics = model.val()\n",
    "# Display the most important evaluation results\n",
    "print(\"\\n=== Model Evaluation Results ===\")\n",
    "print(f\"mAP50: {metrics.box.map50:.3f}\")  # Most important metric\n",
    "print(f\"Average Detection Confidence: {np.mean([box.conf.mean().item() for r in results for box in r.boxes]):.3f}\")\n",
    "print(f\"Total Test Images: {len(results)}\")\n",
    "\n"
   ]
  },
  {
   "cell_type": "markdown",
   "metadata": {},
   "source": [
    "Choosing one to see the classification result "
   ]
  },
  {
   "cell_type": "code",
   "execution_count": 7,
   "metadata": {},
   "outputs": [
    {
     "name": "stdout",
     "output_type": "stream",
     "text": [
      "\n",
      "=== Classification Results ===\n"
     ]
    },
    {
     "data": {
      "image/png": "[encoded data removed]",
      "text/plain": [
       "<Figure size 1200x1200 with 1 Axes>"
      ]
     },
     "metadata": {},
     "output_type": "display_data"
    },
    {
     "name": "stdout",
     "output_type": "stream",
     "text": [
      "\n",
      "Number of Detections: 1\n",
      "Class: Residential, Confidence: 0.99\n"
     ]
    }
   ],
   "source": [
    "import matplotlib.pyplot as plt\n",
    "%matplotlib inline\n",
    "\n",
    "# Display a classified image result\n",
    "if len(results) > 0:\n",
    "    print(\"\\n=== Classification Results ===\")\n",
    "    result = results[0]\n",
    "    \n",
    "    # Get the classified image\n",
    "    img = result.plot()\n",
    "    \n",
    "    # Create a new figure and display the image\n",
    "    fig, ax = plt.subplots(figsize=(12, 12))\n",
    "    ax.imshow(img)\n",
    "    ax.axis('off')\n",
    "    plt.show()\n",
    "    \n",
    "    # Print detection details\n",
    "    print(f\"\\nNumber of Detections: {len(result.boxes)}\")\n",
    "    for box in result.boxes:\n",
    "        print(f\"Class: {CLASSES[int(box.cls)]}, Confidence: {box.conf.item():.2f}\")"
   ]
  },
  {
   "cell_type": "markdown",
   "metadata": {},
   "source": [
    "Then we can have an analysis on our yolov5s model, The YOLO model demonstrates strong overall performance with an mAP50 of 0.938 and an average detection confidence of 0.949 across 800 test images. The model performs exceptionally well on several classes, particularly Residential areas (0.991 mAP50), Ports (0.994 mAP50), Railways (0.984 mAP50), and Mountains (0.982 mAP50), showing high precision and recall values for these categories. However, there are some areas that need improvement, particularly in the detection of Airports (0.73 mAP50) and Agricultural areas (0.84 mAP50), which show lower precision and recall values. These weaker performing classes also happen to have the smallest number of training instances (7 and 9 respectively), suggesting that the model's performance might be improved by increasing the training data for these specific classes. The model's processing speed is efficient, with a total processing time of 6.7ms per image, distributed across preprocessing (0.3ms), inference (5.6ms), and postprocessing (0.8ms) stages. The class distribution in the dataset shows significant imbalance, with some classes like River having 151 instances while others like Airport have only 7 instances. This imbalance might be contributing to the varying performance across classes, and addressing this through techniques like oversampling or weighted loss functions could potentially improve the model's overall performance."
   ]
  },
  {
   "cell_type": "markdown",
   "metadata": {},
   "source": [
    "In the next part I will try to use different types of What if the dataset is resampled to make it an imbalanced classification problem? For example, the number of images might follow a long-tail distribution."
   ]
  },
  {
   "cell_type": "code",
   "execution_count": 9,
   "metadata": {},
   "outputs": [],
   "source": [
    "import os\n",
    "import random\n",
    "import shutil\n",
    "from pathlib import Path\n",
    "\n",
    "\n",
    "IMAGE_PATH = Path(\"C:/Users/15984/Desktop/COMP9517PROJECT/Aerial_Landscapes\")\n",
    "OUTPUT_PATH = Path(\"C:/Users/15984/Desktop/COMP9517PROJECT/skyview_yolo_dataset\")  # save outside yolov5 folder\n",
    "\n",
    "\n",
    "TRAIN_SIZES = {\n",
    "    \"Agriculture\": 20,\n",
    "    \"Airport\": 30,\n",
    "    \"Beach\": 40,\n",
    "    \"City\": 50,\n",
    "    \"Desert\": 60,\n",
    "    \"Forest\": 70,\n",
    "    \"Grassland\": 80,\n",
    "    \"Highway\": 90,\n",
    "    \"Lake\": 100,\n",
    "    \"Mountain\": 20,\n",
    "    \"Parking\": 30,\n",
    "    \"Port\": 40,\n",
    "    \"Railway\": 50,\n",
    "    \"Residential\": 60,\n",
    "    \"River\": 70\n",
    "}\n",
    "\n",
    "\n",
    "CLASSES = sorted([d.name for d in IMAGE_PATH.iterdir() if d.is_dir()])\n",
    "CLASS_TO_ID = {cls: i for i, cls in enumerate(CLASSES)}\n",
    "\n",
    "\n",
    "for split in ['train', 'val', 'test']:\n",
    "    (OUTPUT_PATH / f\"images/{split}\").mkdir(parents=True, exist_ok=True)\n",
    "    (OUTPUT_PATH / f\"labels/{split}\").mkdir(parents=True, exist_ok=True)\n",
    "\n",
    "\n",
    "for cls in CLASSES:\n",
    "    img_files = list((IMAGE_PATH / cls).glob(\"*.*\"))\n",
    "    random.shuffle(img_files)\n",
    "    n_total = len(img_files)\n",
    "\n",
    "    \n",
    "    n_train = min(TRAIN_SIZES.get(cls, 100), n_total)\n",
    "    n_val = int((n_total - n_train) * 0.2)  \n",
    "    n_test = n_total - n_train - n_val   \n",
    "\n",
    "    splits = {\n",
    "        \"train\": img_files[:n_train],\n",
    "        \"val\": img_files[n_train:n_train + n_val],\n",
    "        \"test\": img_files[n_train + n_val:]\n",
    "    }\n",
    "\n",
    "    for split_name, files in splits.items():\n",
    "        for img_path in files:\n",
    "            dest_img = OUTPUT_PATH / f\"images/{split_name}\" / img_path.name\n",
    "            dest_label = OUTPUT_PATH / f\"labels/{split_name}\" / (img_path.stem + \".txt\")\n",
    "            shutil.copy(img_path, dest_img)\n",
    "\n",
    "            class_id = CLASS_TO_ID[cls]\n",
    "            with open(dest_label, \"w\") as f:\n",
    "                f.write(f\"{class_id} 0.5 0.5 1.0 1.0\\n\")"
   ]
  },
  {
   "cell_type": "code",
   "execution_count": 10,
   "metadata": {},
   "outputs": [
    {
     "name": "stdout",
     "output_type": "stream",
     "text": [
      "PRO TIP  Replace 'model=yolov5s.pt' with new 'model=yolov5su.pt'.\n",
      "YOLOv5 'u' models are trained with https://github.com/ultralytics/ultralytics and feature improved performance vs standard YOLOv5 models trained with https://github.com/ultralytics/yolov5.\n",
      "\n",
      "Ultralytics 8.3.107  Python-3.12.0 torch-2.3.0+cu121 CUDA:0 (NVIDIA GeForce RTX 3060 Laptop GPU, 6144MiB)\n",
      "\u001b[34m\u001b[1mengine\\trainer: \u001b[0mtask=detect, mode=train, model=yolov5s.pt, data=skyview.yaml, epochs=30, time=None, patience=100, batch=16, imgsz=640, save=True, save_period=-1, cache=False, device=None, workers=8, project=None, name=skyview_yolo2, exist_ok=False, pretrained=True, optimizer=auto, verbose=True, seed=0, deterministic=True, single_cls=False, rect=False, cos_lr=False, close_mosaic=10, resume=False, amp=True, fraction=1.0, profile=False, freeze=None, multi_scale=False, overlap_mask=True, mask_ratio=4, dropout=0.0, val=True, split=val, save_json=False, conf=None, iou=0.7, max_det=300, half=False, dnn=False, plots=True, source=None, vid_stride=1, stream_buffer=False, visualize=False, augment=False, agnostic_nms=False, classes=None, retina_masks=False, embed=None, show=False, save_frames=False, save_txt=False, save_conf=False, save_crop=False, show_labels=True, show_conf=True, show_boxes=True, line_width=None, format=torchscript, keras=False, optimize=False, int8=False, dynamic=False, simplify=True, opset=None, workspace=None, nms=False, lr0=0.01, lrf=0.01, momentum=0.937, weight_decay=0.0005, warmup_epochs=3.0, warmup_momentum=0.8, warmup_bias_lr=0.1, box=7.5, cls=0.5, dfl=1.5, pose=12.0, kobj=1.0, nbs=64, hsv_h=0.015, hsv_s=0.7, hsv_v=0.4, degrees=0.0, translate=0.1, scale=0.5, shear=0.0, perspective=0.0, flipud=0.0, fliplr=0.5, bgr=0.0, mosaic=1.0, mixup=0.0, copy_paste=0.0, copy_paste_mode=flip, auto_augment=randaugment, erasing=0.4, crop_fraction=1.0, cfg=None, tracker=botsort.yaml, save_dir=runs\\detect\\skyview_yolo2\n",
      "Overriding model.yaml nc=80 with nc=15\n",
      "\n",
      "                   from  n    params  module                                       arguments                     \n",
      "  0                  -1  1      3520  ultralytics.nn.modules.conv.Conv             [3, 32, 6, 2, 2]              \n",
      "  1                  -1  1     18560  ultralytics.nn.modules.conv.Conv             [32, 64, 3, 2]                \n",
      "  2                  -1  1     18816  ultralytics.nn.modules.block.C3              [64, 64, 1]                   \n",
      "  3                  -1  1     73984  ultralytics.nn.modules.conv.Conv             [64, 128, 3, 2]               \n",
      "  4                  -1  2    115712  ultralytics.nn.modules.block.C3              [128, 128, 2]                 \n",
      "  5                  -1  1    295424  ultralytics.nn.modules.conv.Conv             [128, 256, 3, 2]              \n",
      "  6                  -1  3    625152  ultralytics.nn.modules.block.C3              [256, 256, 3]                 \n",
      "  7                  -1  1   1180672  ultralytics.nn.modules.conv.Conv             [256, 512, 3, 2]              \n",
      "  8                  -1  1   1182720  ultralytics.nn.modules.block.C3              [512, 512, 1]                 \n",
      "  9                  -1  1    656896  ultralytics.nn.modules.block.SPPF            [512, 512, 5]                 \n",
      " 10                  -1  1    131584  ultralytics.nn.modules.conv.Conv             [512, 256, 1, 1]              \n",
      " 11                  -1  1         0  torch.nn.modules.upsampling.Upsample         [None, 2, 'nearest']          \n",
      " 12             [-1, 6]  1         0  ultralytics.nn.modules.conv.Concat           [1]                           \n",
      " 13                  -1  1    361984  ultralytics.nn.modules.block.C3              [512, 256, 1, False]          \n",
      " 14                  -1  1     33024  ultralytics.nn.modules.conv.Conv             [256, 128, 1, 1]              \n",
      " 15                  -1  1         0  torch.nn.modules.upsampling.Upsample         [None, 2, 'nearest']          \n",
      " 16             [-1, 4]  1         0  ultralytics.nn.modules.conv.Concat           [1]                           \n",
      " 17                  -1  1     90880  ultralytics.nn.modules.block.C3              [256, 128, 1, False]          \n",
      " 18                  -1  1    147712  ultralytics.nn.modules.conv.Conv             [128, 128, 3, 2]              \n",
      " 19            [-1, 14]  1         0  ultralytics.nn.modules.conv.Concat           [1]                           \n",
      " 20                  -1  1    296448  ultralytics.nn.modules.block.C3              [256, 256, 1, False]          \n",
      " 21                  -1  1    590336  ultralytics.nn.modules.conv.Conv             [256, 256, 3, 2]              \n",
      " 22            [-1, 10]  1         0  ultralytics.nn.modules.conv.Concat           [1]                           \n",
      " 23                  -1  1   1182720  ultralytics.nn.modules.block.C3              [512, 512, 1, False]          \n",
      " 24        [17, 20, 23]  1   2121853  ultralytics.nn.modules.head.Detect           [15, [128, 256, 512]]         \n",
      "YOLOv5s summary: 153 layers, 9,127,997 parameters, 9,127,981 gradients, 24.1 GFLOPs\n",
      "\n",
      "Transferred 421/427 items from pretrained weights\n",
      "\u001b[34m\u001b[1mTensorBoard: \u001b[0mStart with 'tensorboard --logdir runs\\detect\\skyview_yolo2', view at http://localhost:6006/\n",
      "Freezing layer 'model.24.dfl.conv.weight'\n",
      "\u001b[34m\u001b[1mAMP: \u001b[0mrunning Automatic Mixed Precision (AMP) checks...\n",
      "\u001b[34m\u001b[1mAMP: \u001b[0mchecks passed \n"
     ]
    },
    {
     "name": "stderr",
     "output_type": "stream",
     "text": [
      "\u001b[34m\u001b[1mtrain: \u001b[0mScanning C:\\Users\\15984\\Desktop\\COMP9517PROJECT\\skyview_yolo_dataset\\labels\\train... 800 images, 0 backgrounds, 0 corrupt: 100%|██████████| 800/800 [00:00<00:00, 1079.06it/s]"
     ]
    },
    {
     "name": "stdout",
     "output_type": "stream",
     "text": [
      "\u001b[34m\u001b[1mtrain: \u001b[0mNew cache created: C:\\Users\\15984\\Desktop\\COMP9517PROJECT\\skyview_yolo_dataset\\labels\\train.cache\n"
     ]
    },
    {
     "name": "stderr",
     "output_type": "stream",
     "text": [
      "\n",
      "\u001b[34m\u001b[1mval: \u001b[0mScanning C:\\Users\\15984\\Desktop\\COMP9517PROJECT\\skyview_yolo_dataset\\labels\\val... 800 images, 0 backgrounds, 0 corrupt: 100%|██████████| 800/800 [00:01<00:00, 517.77it/s]\n"
     ]
    },
    {
     "name": "stdout",
     "output_type": "stream",
     "text": [
      "\u001b[34m\u001b[1mval: \u001b[0mNew cache created: C:\\Users\\15984\\Desktop\\COMP9517PROJECT\\skyview_yolo_dataset\\labels\\val.cache\n",
      "Plotting labels to runs\\detect\\skyview_yolo2\\labels.jpg... \n",
      "\u001b[34m\u001b[1moptimizer:\u001b[0m 'optimizer=auto' found, ignoring 'lr0=0.01' and 'momentum=0.937' and determining best 'optimizer', 'lr0' and 'momentum' automatically... \n",
      "\u001b[34m\u001b[1moptimizer:\u001b[0m AdamW(lr=0.000526, momentum=0.9) with parameter groups 69 weight(decay=0.0), 76 weight(decay=0.0005), 75 bias(decay=0.0)\n",
      "\u001b[34m\u001b[1mTensorBoard: \u001b[0mmodel graph visualization added \n",
      "Image sizes 640 train, 640 val\n",
      "Using 8 dataloader workers\n",
      "Logging results to \u001b[1mruns\\detect\\skyview_yolo2\u001b[0m\n",
      "Starting training for 30 epochs...\n",
      "\n",
      "      Epoch    GPU_mem   box_loss   cls_loss   dfl_loss  Instances       Size\n"
     ]
    },
    {
     "name": "stderr",
     "output_type": "stream",
     "text": [
      "       1/30      3.48G     0.4941      3.086      1.196         44        640: 100%|██████████| 50/50 [00:11<00:00,  4.34it/s]\n",
      "                 Class     Images  Instances      Box(P          R      mAP50  mAP50-95): 100%|██████████| 25/25 [00:05<00:00,  4.26it/s]"
     ]
    },
    {
     "name": "stdout",
     "output_type": "stream",
     "text": [
      "                   all        800        800      0.549      0.285      0.315      0.244\n"
     ]
    },
    {
     "name": "stderr",
     "output_type": "stream",
     "text": [
      "\n"
     ]
    },
    {
     "name": "stdout",
     "output_type": "stream",
     "text": [
      "\n",
      "      Epoch    GPU_mem   box_loss   cls_loss   dfl_loss  Instances       Size\n"
     ]
    },
    {
     "name": "stderr",
     "output_type": "stream",
     "text": [
      "       2/30      4.04G     0.1688      1.622      0.955         44        640: 100%|██████████| 50/50 [00:10<00:00,  4.93it/s]\n",
      "                 Class     Images  Instances      Box(P          R      mAP50  mAP50-95): 100%|██████████| 25/25 [00:05<00:00,  4.23it/s]"
     ]
    },
    {
     "name": "stdout",
     "output_type": "stream",
     "text": [
      "                   all        800        800      0.598      0.506      0.497      0.465\n"
     ]
    },
    {
     "name": "stderr",
     "output_type": "stream",
     "text": [
      "\n"
     ]
    },
    {
     "name": "stdout",
     "output_type": "stream",
     "text": [
      "\n",
      "      Epoch    GPU_mem   box_loss   cls_loss   dfl_loss  Instances       Size\n"
     ]
    },
    {
     "name": "stderr",
     "output_type": "stream",
     "text": [
      "       3/30      4.04G     0.1646      1.275     0.9393         50        640: 100%|██████████| 50/50 [00:10<00:00,  4.86it/s]\n",
      "                 Class     Images  Instances      Box(P          R      mAP50  mAP50-95): 100%|██████████| 25/25 [00:06<00:00,  4.12it/s]"
     ]
    },
    {
     "name": "stdout",
     "output_type": "stream",
     "text": [
      "                   all        800        800      0.504      0.536      0.528      0.497\n"
     ]
    },
    {
     "name": "stderr",
     "output_type": "stream",
     "text": [
      "\n"
     ]
    },
    {
     "name": "stdout",
     "output_type": "stream",
     "text": [
      "\n",
      "      Epoch    GPU_mem   box_loss   cls_loss   dfl_loss  Instances       Size\n"
     ]
    },
    {
     "name": "stderr",
     "output_type": "stream",
     "text": [
      "       4/30      4.04G     0.1613      1.145     0.9474         46        640: 100%|██████████| 50/50 [00:10<00:00,  4.84it/s]\n",
      "                 Class     Images  Instances      Box(P          R      mAP50  mAP50-95): 100%|██████████| 25/25 [00:05<00:00,  4.25it/s]"
     ]
    },
    {
     "name": "stdout",
     "output_type": "stream",
     "text": [
      "                   all        800        800      0.744      0.586      0.655      0.626\n"
     ]
    },
    {
     "name": "stderr",
     "output_type": "stream",
     "text": [
      "\n"
     ]
    },
    {
     "name": "stdout",
     "output_type": "stream",
     "text": [
      "\n",
      "      Epoch    GPU_mem   box_loss   cls_loss   dfl_loss  Instances       Size\n"
     ]
    },
    {
     "name": "stderr",
     "output_type": "stream",
     "text": [
      "       5/30      4.04G     0.1549      1.069     0.9425         54        640: 100%|██████████| 50/50 [00:10<00:00,  4.88it/s]\n",
      "                 Class     Images  Instances      Box(P          R      mAP50  mAP50-95): 100%|██████████| 25/25 [00:05<00:00,  4.27it/s]"
     ]
    },
    {
     "name": "stdout",
     "output_type": "stream",
     "text": [
      "                   all        800        800      0.654      0.636      0.678      0.625\n"
     ]
    },
    {
     "name": "stderr",
     "output_type": "stream",
     "text": [
      "\n"
     ]
    },
    {
     "name": "stdout",
     "output_type": "stream",
     "text": [
      "\n",
      "      Epoch    GPU_mem   box_loss   cls_loss   dfl_loss  Instances       Size\n"
     ]
    },
    {
     "name": "stderr",
     "output_type": "stream",
     "text": [
      "       6/30      4.04G     0.1385      1.007       0.93         51        640: 100%|██████████| 50/50 [00:10<00:00,  4.90it/s]\n",
      "                 Class     Images  Instances      Box(P          R      mAP50  mAP50-95): 100%|██████████| 25/25 [00:05<00:00,  4.29it/s]"
     ]
    },
    {
     "name": "stdout",
     "output_type": "stream",
     "text": [
      "                   all        800        800       0.67      0.712      0.747       0.73\n"
     ]
    },
    {
     "name": "stderr",
     "output_type": "stream",
     "text": [
      "\n"
     ]
    },
    {
     "name": "stdout",
     "output_type": "stream",
     "text": [
      "\n",
      "      Epoch    GPU_mem   box_loss   cls_loss   dfl_loss  Instances       Size\n"
     ]
    },
    {
     "name": "stderr",
     "output_type": "stream",
     "text": [
      "       7/30      4.04G      0.135     0.9432     0.9217         47        640: 100%|██████████| 50/50 [00:10<00:00,  4.88it/s]\n",
      "                 Class     Images  Instances      Box(P          R      mAP50  mAP50-95): 100%|██████████| 25/25 [00:05<00:00,  4.22it/s]"
     ]
    },
    {
     "name": "stdout",
     "output_type": "stream",
     "text": [
      "                   all        800        800      0.776      0.623      0.751      0.749\n"
     ]
    },
    {
     "name": "stderr",
     "output_type": "stream",
     "text": [
      "\n"
     ]
    },
    {
     "name": "stdout",
     "output_type": "stream",
     "text": [
      "\n",
      "      Epoch    GPU_mem   box_loss   cls_loss   dfl_loss  Instances       Size\n"
     ]
    },
    {
     "name": "stderr",
     "output_type": "stream",
     "text": [
      "       8/30      4.04G      0.128     0.8879     0.9181         53        640: 100%|██████████| 50/50 [00:10<00:00,  4.87it/s]\n",
      "                 Class     Images  Instances      Box(P          R      mAP50  mAP50-95): 100%|██████████| 25/25 [00:06<00:00,  4.11it/s]"
     ]
    },
    {
     "name": "stdout",
     "output_type": "stream",
     "text": [
      "                   all        800        800      0.729      0.645      0.712      0.705\n"
     ]
    },
    {
     "name": "stderr",
     "output_type": "stream",
     "text": [
      "\n"
     ]
    },
    {
     "name": "stdout",
     "output_type": "stream",
     "text": [
      "\n",
      "      Epoch    GPU_mem   box_loss   cls_loss   dfl_loss  Instances       Size\n"
     ]
    },
    {
     "name": "stderr",
     "output_type": "stream",
     "text": [
      "       9/30      4.04G      0.125      0.819     0.9169         54        640: 100%|██████████| 50/50 [00:10<00:00,  4.87it/s]\n",
      "                 Class     Images  Instances      Box(P          R      mAP50  mAP50-95): 100%|██████████| 25/25 [00:05<00:00,  4.21it/s]"
     ]
    },
    {
     "name": "stdout",
     "output_type": "stream",
     "text": [
      "                   all        800        800      0.841      0.709      0.812      0.799\n"
     ]
    },
    {
     "name": "stderr",
     "output_type": "stream",
     "text": [
      "\n"
     ]
    },
    {
     "name": "stdout",
     "output_type": "stream",
     "text": [
      "\n",
      "      Epoch    GPU_mem   box_loss   cls_loss   dfl_loss  Instances       Size\n"
     ]
    },
    {
     "name": "stderr",
     "output_type": "stream",
     "text": [
      "      10/30      4.04G      0.116     0.8105     0.9142         43        640: 100%|██████████| 50/50 [00:10<00:00,  4.90it/s]\n",
      "                 Class     Images  Instances      Box(P          R      mAP50  mAP50-95): 100%|██████████| 25/25 [00:05<00:00,  4.38it/s]"
     ]
    },
    {
     "name": "stdout",
     "output_type": "stream",
     "text": [
      "                   all        800        800      0.793      0.738      0.797      0.786\n"
     ]
    },
    {
     "name": "stderr",
     "output_type": "stream",
     "text": [
      "\n"
     ]
    },
    {
     "name": "stdout",
     "output_type": "stream",
     "text": [
      "\n",
      "      Epoch    GPU_mem   box_loss   cls_loss   dfl_loss  Instances       Size\n"
     ]
    },
    {
     "name": "stderr",
     "output_type": "stream",
     "text": [
      "      11/30      4.04G     0.1091     0.7562     0.9109         54        640: 100%|██████████| 50/50 [00:09<00:00,  5.05it/s]\n",
      "                 Class     Images  Instances      Box(P          R      mAP50  mAP50-95): 100%|██████████| 25/25 [00:05<00:00,  4.36it/s]"
     ]
    },
    {
     "name": "stdout",
     "output_type": "stream",
     "text": [
      "                   all        800        800      0.723      0.736      0.772      0.768\n"
     ]
    },
    {
     "name": "stderr",
     "output_type": "stream",
     "text": [
      "\n"
     ]
    },
    {
     "name": "stdout",
     "output_type": "stream",
     "text": [
      "\n",
      "      Epoch    GPU_mem   box_loss   cls_loss   dfl_loss  Instances       Size\n"
     ]
    },
    {
     "name": "stderr",
     "output_type": "stream",
     "text": [
      "      12/30      4.04G     0.1066     0.7514     0.9138         50        640: 100%|██████████| 50/50 [00:09<00:00,  5.07it/s]\n",
      "                 Class     Images  Instances      Box(P          R      mAP50  mAP50-95): 100%|██████████| 25/25 [00:05<00:00,  4.41it/s]"
     ]
    },
    {
     "name": "stdout",
     "output_type": "stream",
     "text": [
      "                   all        800        800      0.774      0.704       0.79      0.768\n"
     ]
    },
    {
     "name": "stderr",
     "output_type": "stream",
     "text": [
      "\n"
     ]
    },
    {
     "name": "stdout",
     "output_type": "stream",
     "text": [
      "\n",
      "      Epoch    GPU_mem   box_loss   cls_loss   dfl_loss  Instances       Size\n"
     ]
    },
    {
     "name": "stderr",
     "output_type": "stream",
     "text": [
      "      13/30      4.04G     0.1012     0.7082     0.9147         47        640: 100%|██████████| 50/50 [00:09<00:00,  5.05it/s]\n",
      "                 Class     Images  Instances      Box(P          R      mAP50  mAP50-95): 100%|██████████| 25/25 [00:05<00:00,  4.37it/s]"
     ]
    },
    {
     "name": "stdout",
     "output_type": "stream",
     "text": [
      "                   all        800        800      0.669       0.76      0.797      0.793\n"
     ]
    },
    {
     "name": "stderr",
     "output_type": "stream",
     "text": [
      "\n"
     ]
    },
    {
     "name": "stdout",
     "output_type": "stream",
     "text": [
      "\n",
      "      Epoch    GPU_mem   box_loss   cls_loss   dfl_loss  Instances       Size\n"
     ]
    },
    {
     "name": "stderr",
     "output_type": "stream",
     "text": [
      "      14/30      4.04G    0.09686     0.6806     0.9075         51        640: 100%|██████████| 50/50 [00:10<00:00,  4.83it/s]\n",
      "                 Class     Images  Instances      Box(P          R      mAP50  mAP50-95): 100%|██████████| 25/25 [00:05<00:00,  4.24it/s]"
     ]
    },
    {
     "name": "stdout",
     "output_type": "stream",
     "text": [
      "                   all        800        800      0.793      0.776      0.866      0.848\n"
     ]
    },
    {
     "name": "stderr",
     "output_type": "stream",
     "text": [
      "\n"
     ]
    },
    {
     "name": "stdout",
     "output_type": "stream",
     "text": [
      "\n",
      "      Epoch    GPU_mem   box_loss   cls_loss   dfl_loss  Instances       Size\n"
     ]
    },
    {
     "name": "stderr",
     "output_type": "stream",
     "text": [
      "      15/30      4.04G    0.09549     0.6432     0.9039         49        640: 100%|██████████| 50/50 [00:10<00:00,  4.94it/s]\n",
      "                 Class     Images  Instances      Box(P          R      mAP50  mAP50-95): 100%|██████████| 25/25 [00:05<00:00,  4.37it/s]"
     ]
    },
    {
     "name": "stdout",
     "output_type": "stream",
     "text": [
      "                   all        800        800      0.772      0.781      0.851      0.835\n"
     ]
    },
    {
     "name": "stderr",
     "output_type": "stream",
     "text": [
      "\n"
     ]
    },
    {
     "name": "stdout",
     "output_type": "stream",
     "text": [
      "\n",
      "      Epoch    GPU_mem   box_loss   cls_loss   dfl_loss  Instances       Size\n"
     ]
    },
    {
     "name": "stderr",
     "output_type": "stream",
     "text": [
      "      16/30      4.04G    0.09167     0.6291      0.897         43        640: 100%|██████████| 50/50 [00:09<00:00,  5.02it/s]\n",
      "                 Class     Images  Instances      Box(P          R      mAP50  mAP50-95): 100%|██████████| 25/25 [00:05<00:00,  4.42it/s]"
     ]
    },
    {
     "name": "stdout",
     "output_type": "stream",
     "text": [
      "                   all        800        800      0.774      0.714      0.823      0.806\n"
     ]
    },
    {
     "name": "stderr",
     "output_type": "stream",
     "text": [
      "\n"
     ]
    },
    {
     "name": "stdout",
     "output_type": "stream",
     "text": [
      "\n",
      "      Epoch    GPU_mem   box_loss   cls_loss   dfl_loss  Instances       Size\n"
     ]
    },
    {
     "name": "stderr",
     "output_type": "stream",
     "text": [
      "      17/30      4.04G    0.09016     0.6429     0.9014         40        640: 100%|██████████| 50/50 [00:09<00:00,  5.00it/s]\n",
      "                 Class     Images  Instances      Box(P          R      mAP50  mAP50-95): 100%|██████████| 25/25 [00:05<00:00,  4.32it/s]"
     ]
    },
    {
     "name": "stdout",
     "output_type": "stream",
     "text": [
      "                   all        800        800      0.744      0.785      0.845      0.841\n"
     ]
    },
    {
     "name": "stderr",
     "output_type": "stream",
     "text": [
      "\n"
     ]
    },
    {
     "name": "stdout",
     "output_type": "stream",
     "text": [
      "\n",
      "      Epoch    GPU_mem   box_loss   cls_loss   dfl_loss  Instances       Size\n"
     ]
    },
    {
     "name": "stderr",
     "output_type": "stream",
     "text": [
      "      18/30      4.04G    0.08662     0.5664      0.901         47        640: 100%|██████████| 50/50 [00:09<00:00,  5.05it/s]\n",
      "                 Class     Images  Instances      Box(P          R      mAP50  mAP50-95): 100%|██████████| 25/25 [00:05<00:00,  4.29it/s]"
     ]
    },
    {
     "name": "stdout",
     "output_type": "stream",
     "text": [
      "                   all        800        800      0.846      0.799      0.883       0.87\n"
     ]
    },
    {
     "name": "stderr",
     "output_type": "stream",
     "text": [
      "\n"
     ]
    },
    {
     "name": "stdout",
     "output_type": "stream",
     "text": [
      "\n",
      "      Epoch    GPU_mem   box_loss   cls_loss   dfl_loss  Instances       Size\n"
     ]
    },
    {
     "name": "stderr",
     "output_type": "stream",
     "text": [
      "      19/30      4.04G    0.08455      0.576     0.9014         43        640: 100%|██████████| 50/50 [00:10<00:00,  4.86it/s]\n",
      "                 Class     Images  Instances      Box(P          R      mAP50  mAP50-95): 100%|██████████| 25/25 [00:05<00:00,  4.29it/s]"
     ]
    },
    {
     "name": "stdout",
     "output_type": "stream",
     "text": [
      "                   all        800        800      0.858        0.8      0.892      0.847\n"
     ]
    },
    {
     "name": "stderr",
     "output_type": "stream",
     "text": [
      "\n"
     ]
    },
    {
     "name": "stdout",
     "output_type": "stream",
     "text": [
      "\n",
      "      Epoch    GPU_mem   box_loss   cls_loss   dfl_loss  Instances       Size\n"
     ]
    },
    {
     "name": "stderr",
     "output_type": "stream",
     "text": [
      "      20/30      4.04G    0.08031     0.5282     0.9019         48        640: 100%|██████████| 50/50 [00:10<00:00,  4.88it/s]\n",
      "                 Class     Images  Instances      Box(P          R      mAP50  mAP50-95): 100%|██████████| 25/25 [00:05<00:00,  4.20it/s]"
     ]
    },
    {
     "name": "stdout",
     "output_type": "stream",
     "text": [
      "                   all        800        800      0.816       0.86      0.898      0.893\n"
     ]
    },
    {
     "name": "stderr",
     "output_type": "stream",
     "text": [
      "\n"
     ]
    },
    {
     "name": "stdout",
     "output_type": "stream",
     "text": [
      "Closing dataloader mosaic\n",
      "\n",
      "      Epoch    GPU_mem   box_loss   cls_loss   dfl_loss  Instances       Size\n"
     ]
    },
    {
     "name": "stderr",
     "output_type": "stream",
     "text": [
      "      21/30      4.04G     0.1014     0.5491     0.9377         16        640: 100%|██████████| 50/50 [00:10<00:00,  4.75it/s]\n",
      "                 Class     Images  Instances      Box(P          R      mAP50  mAP50-95): 100%|██████████| 25/25 [00:05<00:00,  4.33it/s]"
     ]
    },
    {
     "name": "stdout",
     "output_type": "stream",
     "text": [
      "                   all        800        800      0.789      0.869      0.903      0.894\n"
     ]
    },
    {
     "name": "stderr",
     "output_type": "stream",
     "text": [
      "\n"
     ]
    },
    {
     "name": "stdout",
     "output_type": "stream",
     "text": [
      "\n",
      "      Epoch    GPU_mem   box_loss   cls_loss   dfl_loss  Instances       Size\n"
     ]
    },
    {
     "name": "stderr",
     "output_type": "stream",
     "text": [
      "      22/30      4.04G     0.0768     0.3606     0.9218         16        640: 100%|██████████| 50/50 [00:10<00:00,  4.93it/s]\n",
      "                 Class     Images  Instances      Box(P          R      mAP50  mAP50-95): 100%|██████████| 25/25 [00:05<00:00,  4.40it/s]"
     ]
    },
    {
     "name": "stdout",
     "output_type": "stream",
     "text": [
      "                   all        800        800      0.865      0.817      0.889      0.888\n"
     ]
    },
    {
     "name": "stderr",
     "output_type": "stream",
     "text": [
      "\n"
     ]
    },
    {
     "name": "stdout",
     "output_type": "stream",
     "text": [
      "\n",
      "      Epoch    GPU_mem   box_loss   cls_loss   dfl_loss  Instances       Size\n"
     ]
    },
    {
     "name": "stderr",
     "output_type": "stream",
     "text": [
      "      23/30      4.04G     0.0635     0.2847     0.9226         16        640: 100%|██████████| 50/50 [00:10<00:00,  4.93it/s]\n",
      "                 Class     Images  Instances      Box(P          R      mAP50  mAP50-95): 100%|██████████| 25/25 [00:05<00:00,  4.41it/s]"
     ]
    },
    {
     "name": "stdout",
     "output_type": "stream",
     "text": [
      "                   all        800        800      0.789      0.832      0.883      0.879\n"
     ]
    },
    {
     "name": "stderr",
     "output_type": "stream",
     "text": [
      "\n"
     ]
    },
    {
     "name": "stdout",
     "output_type": "stream",
     "text": [
      "\n",
      "      Epoch    GPU_mem   box_loss   cls_loss   dfl_loss  Instances       Size\n"
     ]
    },
    {
     "name": "stderr",
     "output_type": "stream",
     "text": [
      "      24/30      4.04G    0.06011     0.3293     0.9032         16        640: 100%|██████████| 50/50 [00:10<00:00,  4.88it/s]\n",
      "                 Class     Images  Instances      Box(P          R      mAP50  mAP50-95): 100%|██████████| 25/25 [00:05<00:00,  4.39it/s]"
     ]
    },
    {
     "name": "stdout",
     "output_type": "stream",
     "text": [
      "                   all        800        800      0.834       0.83      0.898      0.896\n"
     ]
    },
    {
     "name": "stderr",
     "output_type": "stream",
     "text": [
      "\n"
     ]
    },
    {
     "name": "stdout",
     "output_type": "stream",
     "text": [
      "\n",
      "      Epoch    GPU_mem   box_loss   cls_loss   dfl_loss  Instances       Size\n"
     ]
    },
    {
     "name": "stderr",
     "output_type": "stream",
     "text": [
      "      25/30      4.04G      0.058     0.2777     0.9123         16        640: 100%|██████████| 50/50 [00:10<00:00,  4.91it/s]\n",
      "                 Class     Images  Instances      Box(P          R      mAP50  mAP50-95): 100%|██████████| 25/25 [00:05<00:00,  4.25it/s]"
     ]
    },
    {
     "name": "stdout",
     "output_type": "stream",
     "text": [
      "                   all        800        800      0.847      0.839      0.898      0.895\n"
     ]
    },
    {
     "name": "stderr",
     "output_type": "stream",
     "text": [
      "\n"
     ]
    },
    {
     "name": "stdout",
     "output_type": "stream",
     "text": [
      "\n",
      "      Epoch    GPU_mem   box_loss   cls_loss   dfl_loss  Instances       Size\n"
     ]
    },
    {
     "name": "stderr",
     "output_type": "stream",
     "text": [
      "      26/30      4.04G     0.0532     0.2657     0.9104         16        640: 100%|██████████| 50/50 [00:10<00:00,  4.88it/s]\n",
      "                 Class     Images  Instances      Box(P          R      mAP50  mAP50-95): 100%|██████████| 25/25 [00:05<00:00,  4.39it/s]"
     ]
    },
    {
     "name": "stdout",
     "output_type": "stream",
     "text": [
      "                   all        800        800      0.806      0.837      0.883      0.877\n"
     ]
    },
    {
     "name": "stderr",
     "output_type": "stream",
     "text": [
      "\n"
     ]
    },
    {
     "name": "stdout",
     "output_type": "stream",
     "text": [
      "\n",
      "      Epoch    GPU_mem   box_loss   cls_loss   dfl_loss  Instances       Size\n"
     ]
    },
    {
     "name": "stderr",
     "output_type": "stream",
     "text": [
      "      27/30      4.04G    0.05325     0.2366     0.9107         16        640: 100%|██████████| 50/50 [00:10<00:00,  4.91it/s]\n",
      "                 Class     Images  Instances      Box(P          R      mAP50  mAP50-95): 100%|██████████| 25/25 [00:05<00:00,  4.39it/s]"
     ]
    },
    {
     "name": "stdout",
     "output_type": "stream",
     "text": [
      "                   all        800        800       0.79      0.896       0.89      0.887\n"
     ]
    },
    {
     "name": "stderr",
     "output_type": "stream",
     "text": [
      "\n"
     ]
    },
    {
     "name": "stdout",
     "output_type": "stream",
     "text": [
      "\n",
      "      Epoch    GPU_mem   box_loss   cls_loss   dfl_loss  Instances       Size\n"
     ]
    },
    {
     "name": "stderr",
     "output_type": "stream",
     "text": [
      "      28/30      4.04G    0.04953     0.2081     0.9224         16        640: 100%|██████████| 50/50 [00:10<00:00,  4.92it/s]\n",
      "                 Class     Images  Instances      Box(P          R      mAP50  mAP50-95): 100%|██████████| 25/25 [00:05<00:00,  4.43it/s]"
     ]
    },
    {
     "name": "stdout",
     "output_type": "stream",
     "text": [
      "                   all        800        800      0.916      0.873      0.916      0.913\n"
     ]
    },
    {
     "name": "stderr",
     "output_type": "stream",
     "text": [
      "\n"
     ]
    },
    {
     "name": "stdout",
     "output_type": "stream",
     "text": [
      "\n",
      "      Epoch    GPU_mem   box_loss   cls_loss   dfl_loss  Instances       Size\n"
     ]
    },
    {
     "name": "stderr",
     "output_type": "stream",
     "text": [
      "      29/30      4.04G    0.04651     0.1932     0.9159         16        640: 100%|██████████| 50/50 [00:10<00:00,  4.93it/s]\n",
      "                 Class     Images  Instances      Box(P          R      mAP50  mAP50-95): 100%|██████████| 25/25 [00:05<00:00,  4.34it/s]"
     ]
    },
    {
     "name": "stdout",
     "output_type": "stream",
     "text": [
      "                   all        800        800      0.906      0.867      0.916      0.915\n"
     ]
    },
    {
     "name": "stderr",
     "output_type": "stream",
     "text": [
      "\n"
     ]
    },
    {
     "name": "stdout",
     "output_type": "stream",
     "text": [
      "\n",
      "      Epoch    GPU_mem   box_loss   cls_loss   dfl_loss  Instances       Size\n"
     ]
    },
    {
     "name": "stderr",
     "output_type": "stream",
     "text": [
      "      30/30      4.04G     0.0467     0.1816     0.8985         16        640: 100%|██████████| 50/50 [00:10<00:00,  4.89it/s]\n",
      "                 Class     Images  Instances      Box(P          R      mAP50  mAP50-95): 100%|██████████| 25/25 [00:05<00:00,  4.29it/s]"
     ]
    },
    {
     "name": "stdout",
     "output_type": "stream",
     "text": [
      "                   all        800        800      0.873      0.864      0.912      0.912\n"
     ]
    },
    {
     "name": "stderr",
     "output_type": "stream",
     "text": [
      "\n"
     ]
    },
    {
     "name": "stdout",
     "output_type": "stream",
     "text": [
      "\n",
      "30 epochs completed in 0.147 hours.\n",
      "Optimizer stripped from runs\\detect\\skyview_yolo2\\weights\\last.pt, 18.5MB\n",
      "Optimizer stripped from runs\\detect\\skyview_yolo2\\weights\\best.pt, 18.5MB\n",
      "\n",
      "Validating runs\\detect\\skyview_yolo2\\weights\\best.pt...\n",
      "Ultralytics 8.3.107  Python-3.12.0 torch-2.3.0+cu121 CUDA:0 (NVIDIA GeForce RTX 3060 Laptop GPU, 6144MiB)\n",
      "YOLOv5s summary (fused): 84 layers, 9,117,341 parameters, 0 gradients, 23.9 GFLOPs\n"
     ]
    },
    {
     "name": "stderr",
     "output_type": "stream",
     "text": [
      "                 Class     Images  Instances      Box(P          R      mAP50  mAP50-95): 100%|██████████| 25/25 [00:06<00:00,  3.95it/s]\n"
     ]
    },
    {
     "name": "stdout",
     "output_type": "stream",
     "text": [
      "                   all        800        800      0.905      0.867      0.916      0.915\n",
      "           Agriculture         11         11      0.603      0.727       0.61       0.61\n",
      "               Airport          5          5          1      0.374      0.545      0.545\n",
      "                 Beach         12         12      0.805       0.75      0.808      0.808\n",
      "                  City         24         24      0.855      0.917      0.971      0.971\n",
      "                Desert         17         17      0.938      0.893      0.982      0.982\n",
      "                Forest         24         24      0.898      0.875      0.965      0.965\n",
      "             Grassland         30         30      0.811      0.967      0.973      0.973\n",
      "               Highway         27         27      0.956      0.963      0.988      0.988\n",
      "                  Lake         44         44      0.904      0.955       0.98       0.98\n",
      "              Mountain         58         58      0.927       0.87      0.961      0.959\n",
      "               Parking         80         80      0.993      0.912      0.989      0.989\n",
      "                  Port         89         89      0.977      0.965      0.992      0.992\n",
      "               Railway        106        106      0.989      0.943      0.992       0.99\n",
      "           Residential        123        123      0.956      0.992      0.995      0.995\n",
      "                 River        150        150      0.964      0.901      0.985      0.983\n",
      "Speed: 0.2ms preprocess, 3.3ms inference, 0.0ms loss, 1.0ms postprocess per image\n",
      "Results saved to \u001b[1mruns\\detect\\skyview_yolo2\u001b[0m\n"
     ]
    },
    {
     "data": {
      "text/plain": [
       "ultralytics.utils.metrics.DetMetrics object with attributes:\n",
       "\n",
       "ap_class_index: array([ 0,  1,  2,  3,  4,  5,  6,  7,  8,  9, 10, 11, 12, 13, 14])\n",
       "box: ultralytics.utils.metrics.Metric object\n",
       "confusion_matrix: <ultralytics.utils.metrics.ConfusionMatrix object at 0x0000021604958EF0>\n",
       "curves: ['Precision-Recall(B)', 'F1-Confidence(B)', 'Precision-Confidence(B)', 'Recall-Confidence(B)']\n",
       "curves_results: [[array([          0,    0.001001,    0.002002,    0.003003,    0.004004,    0.005005,    0.006006,    0.007007,    0.008008,    0.009009,     0.01001,    0.011011,    0.012012,    0.013013,    0.014014,    0.015015,    0.016016,    0.017017,    0.018018,    0.019019,     0.02002,    0.021021,    0.022022,    0.023023,\n",
       "          0.024024,    0.025025,    0.026026,    0.027027,    0.028028,    0.029029,     0.03003,    0.031031,    0.032032,    0.033033,    0.034034,    0.035035,    0.036036,    0.037037,    0.038038,    0.039039,     0.04004,    0.041041,    0.042042,    0.043043,    0.044044,    0.045045,    0.046046,    0.047047,\n",
       "          0.048048,    0.049049,     0.05005,    0.051051,    0.052052,    0.053053,    0.054054,    0.055055,    0.056056,    0.057057,    0.058058,    0.059059,     0.06006,    0.061061,    0.062062,    0.063063,    0.064064,    0.065065,    0.066066,    0.067067,    0.068068,    0.069069,     0.07007,    0.071071,\n",
       "          0.072072,    0.073073,    0.074074,    0.075075,    0.076076,    0.077077,    0.078078,    0.079079,     0.08008,    0.081081,    0.082082,    0.083083,    0.084084,    0.085085,    0.086086,    0.087087,    0.088088,    0.089089,     0.09009,    0.091091,    0.092092,    0.093093,    0.094094,    0.095095,\n",
       "          0.096096,    0.097097,    0.098098,    0.099099,      0.1001,      0.1011,      0.1021,      0.1031,      0.1041,     0.10511,     0.10611,     0.10711,     0.10811,     0.10911,     0.11011,     0.11111,     0.11211,     0.11311,     0.11411,     0.11512,     0.11612,     0.11712,     0.11812,     0.11912,\n",
       "           0.12012,     0.12112,     0.12212,     0.12312,     0.12412,     0.12513,     0.12613,     0.12713,     0.12813,     0.12913,     0.13013,     0.13113,     0.13213,     0.13313,     0.13413,     0.13514,     0.13614,     0.13714,     0.13814,     0.13914,     0.14014,     0.14114,     0.14214,     0.14314,\n",
       "           0.14414,     0.14515,     0.14615,     0.14715,     0.14815,     0.14915,     0.15015,     0.15115,     0.15215,     0.15315,     0.15415,     0.15516,     0.15616,     0.15716,     0.15816,     0.15916,     0.16016,     0.16116,     0.16216,     0.16316,     0.16416,     0.16517,     0.16617,     0.16717,\n",
       "           0.16817,     0.16917,     0.17017,     0.17117,     0.17217,     0.17317,     0.17417,     0.17518,     0.17618,     0.17718,     0.17818,     0.17918,     0.18018,     0.18118,     0.18218,     0.18318,     0.18418,     0.18519,     0.18619,     0.18719,     0.18819,     0.18919,     0.19019,     0.19119,\n",
       "           0.19219,     0.19319,     0.19419,      0.1952,      0.1962,      0.1972,      0.1982,      0.1992,      0.2002,      0.2012,      0.2022,      0.2032,      0.2042,     0.20521,     0.20621,     0.20721,     0.20821,     0.20921,     0.21021,     0.21121,     0.21221,     0.21321,     0.21421,     0.21522,\n",
       "           0.21622,     0.21722,     0.21822,     0.21922,     0.22022,     0.22122,     0.22222,     0.22322,     0.22422,     0.22523,     0.22623,     0.22723,     0.22823,     0.22923,     0.23023,     0.23123,     0.23223,     0.23323,     0.23423,     0.23524,     0.23624,     0.23724,     0.23824,     0.23924,\n",
       "           0.24024,     0.24124,     0.24224,     0.24324,     0.24424,     0.24525,     0.24625,     0.24725,     0.24825,     0.24925,     0.25025,     0.25125,     0.25225,     0.25325,     0.25425,     0.25526,     0.25626,     0.25726,     0.25826,     0.25926,     0.26026,     0.26126,     0.26226,     0.26326,\n",
       "           0.26426,     0.26527,     0.26627,     0.26727,     0.26827,     0.26927,     0.27027,     0.27127,     0.27227,     0.27327,     0.27427,     0.27528,     0.27628,     0.27728,     0.27828,     0.27928,     0.28028,     0.28128,     0.28228,     0.28328,     0.28428,     0.28529,     0.28629,     0.28729,\n",
       "           0.28829,     0.28929,     0.29029,     0.29129,     0.29229,     0.29329,     0.29429,      0.2953,      0.2963,      0.2973,      0.2983,      0.2993,      0.3003,      0.3013,      0.3023,      0.3033,      0.3043,     0.30531,     0.30631,     0.30731,     0.30831,     0.30931,     0.31031,     0.31131,\n",
       "           0.31231,     0.31331,     0.31431,     0.31532,     0.31632,     0.31732,     0.31832,     0.31932,     0.32032,     0.32132,     0.32232,     0.32332,     0.32432,     0.32533,     0.32633,     0.32733,     0.32833,     0.32933,     0.33033,     0.33133,     0.33233,     0.33333,     0.33433,     0.33534,\n",
       "           0.33634,     0.33734,     0.33834,     0.33934,     0.34034,     0.34134,     0.34234,     0.34334,     0.34434,     0.34535,     0.34635,     0.34735,     0.34835,     0.34935,     0.35035,     0.35135,     0.35235,     0.35335,     0.35435,     0.35536,     0.35636,     0.35736,     0.35836,     0.35936,\n",
       "           0.36036,     0.36136,     0.36236,     0.36336,     0.36436,     0.36537,     0.36637,     0.36737,     0.36837,     0.36937,     0.37037,     0.37137,     0.37237,     0.37337,     0.37437,     0.37538,     0.37638,     0.37738,     0.37838,     0.37938,     0.38038,     0.38138,     0.38238,     0.38338,\n",
       "           0.38438,     0.38539,     0.38639,     0.38739,     0.38839,     0.38939,     0.39039,     0.39139,     0.39239,     0.39339,     0.39439,      0.3954,      0.3964,      0.3974,      0.3984,      0.3994,      0.4004,      0.4014,      0.4024,      0.4034,      0.4044,     0.40541,     0.40641,     0.40741,\n",
       "           0.40841,     0.40941,     0.41041,     0.41141,     0.41241,     0.41341,     0.41441,     0.41542,     0.41642,     0.41742,     0.41842,     0.41942,     0.42042,     0.42142,     0.42242,     0.42342,     0.42442,     0.42543,     0.42643,     0.42743,     0.42843,     0.42943,     0.43043,     0.43143,\n",
       "           0.43243,     0.43343,     0.43443,     0.43544,     0.43644,     0.43744,     0.43844,     0.43944,     0.44044,     0.44144,     0.44244,     0.44344,     0.44444,     0.44545,     0.44645,     0.44745,     0.44845,     0.44945,     0.45045,     0.45145,     0.45245,     0.45345,     0.45445,     0.45546,\n",
       "           0.45646,     0.45746,     0.45846,     0.45946,     0.46046,     0.46146,     0.46246,     0.46346,     0.46446,     0.46547,     0.46647,     0.46747,     0.46847,     0.46947,     0.47047,     0.47147,     0.47247,     0.47347,     0.47447,     0.47548,     0.47648,     0.47748,     0.47848,     0.47948,\n",
       "           0.48048,     0.48148,     0.48248,     0.48348,     0.48448,     0.48549,     0.48649,     0.48749,     0.48849,     0.48949,     0.49049,     0.49149,     0.49249,     0.49349,     0.49449,      0.4955,      0.4965,      0.4975,      0.4985,      0.4995,      0.5005,      0.5015,      0.5025,      0.5035,\n",
       "            0.5045,     0.50551,     0.50651,     0.50751,     0.50851,     0.50951,     0.51051,     0.51151,     0.51251,     0.51351,     0.51451,     0.51552,     0.51652,     0.51752,     0.51852,     0.51952,     0.52052,     0.52152,     0.52252,     0.52352,     0.52452,     0.52553,     0.52653,     0.52753,\n",
       "           0.52853,     0.52953,     0.53053,     0.53153,     0.53253,     0.53353,     0.53453,     0.53554,     0.53654,     0.53754,     0.53854,     0.53954,     0.54054,     0.54154,     0.54254,     0.54354,     0.54454,     0.54555,     0.54655,     0.54755,     0.54855,     0.54955,     0.55055,     0.55155,\n",
       "           0.55255,     0.55355,     0.55455,     0.55556,     0.55656,     0.55756,     0.55856,     0.55956,     0.56056,     0.56156,     0.56256,     0.56356,     0.56456,     0.56557,     0.56657,     0.56757,     0.56857,     0.56957,     0.57057,     0.57157,     0.57257,     0.57357,     0.57457,     0.57558,\n",
       "           0.57658,     0.57758,     0.57858,     0.57958,     0.58058,     0.58158,     0.58258,     0.58358,     0.58458,     0.58559,     0.58659,     0.58759,     0.58859,     0.58959,     0.59059,     0.59159,     0.59259,     0.59359,     0.59459,      0.5956,      0.5966,      0.5976,      0.5986,      0.5996,\n",
       "            0.6006,      0.6016,      0.6026,      0.6036,      0.6046,     0.60561,     0.60661,     0.60761,     0.60861,     0.60961,     0.61061,     0.61161,     0.61261,     0.61361,     0.61461,     0.61562,     0.61662,     0.61762,     0.61862,     0.61962,     0.62062,     0.62162,     0.62262,     0.62362,\n",
       "           0.62462,     0.62563,     0.62663,     0.62763,     0.62863,     0.62963,     0.63063,     0.63163,     0.63263,     0.63363,     0.63463,     0.63564,     0.63664,     0.63764,     0.63864,     0.63964,     0.64064,     0.64164,     0.64264,     0.64364,     0.64464,     0.64565,     0.64665,     0.64765,\n",
       "           0.64865,     0.64965,     0.65065,     0.65165,     0.65265,     0.65365,     0.65465,     0.65566,     0.65666,     0.65766,     0.65866,     0.65966,     0.66066,     0.66166,     0.66266,     0.66366,     0.66466,     0.66567,     0.66667,     0.66767,     0.66867,     0.66967,     0.67067,     0.67167,\n",
       "           0.67267,     0.67367,     0.67467,     0.67568,     0.67668,     0.67768,     0.67868,     0.67968,     0.68068,     0.68168,     0.68268,     0.68368,     0.68468,     0.68569,     0.68669,     0.68769,     0.68869,     0.68969,     0.69069,     0.69169,     0.69269,     0.69369,     0.69469,      0.6957,\n",
       "            0.6967,      0.6977,      0.6987,      0.6997,      0.7007,      0.7017,      0.7027,      0.7037,      0.7047,     0.70571,     0.70671,     0.70771,     0.70871,     0.70971,     0.71071,     0.71171,     0.71271,     0.71371,     0.71471,     0.71572,     0.71672,     0.71772,     0.71872,     0.71972,\n",
       "           0.72072,     0.72172,     0.72272,     0.72372,     0.72472,     0.72573,     0.72673,     0.72773,     0.72873,     0.72973,     0.73073,     0.73173,     0.73273,     0.73373,     0.73473,     0.73574,     0.73674,     0.73774,     0.73874,     0.73974,     0.74074,     0.74174,     0.74274,     0.74374,\n",
       "           0.74474,     0.74575,     0.74675,     0.74775,     0.74875,     0.74975,     0.75075,     0.75175,     0.75275,     0.75375,     0.75475,     0.75576,     0.75676,     0.75776,     0.75876,     0.75976,     0.76076,     0.76176,     0.76276,     0.76376,     0.76476,     0.76577,     0.76677,     0.76777,\n",
       "           0.76877,     0.76977,     0.77077,     0.77177,     0.77277,     0.77377,     0.77477,     0.77578,     0.77678,     0.77778,     0.77878,     0.77978,     0.78078,     0.78178,     0.78278,     0.78378,     0.78478,     0.78579,     0.78679,     0.78779,     0.78879,     0.78979,     0.79079,     0.79179,\n",
       "           0.79279,     0.79379,     0.79479,      0.7958,      0.7968,      0.7978,      0.7988,      0.7998,      0.8008,      0.8018,      0.8028,      0.8038,      0.8048,     0.80581,     0.80681,     0.80781,     0.80881,     0.80981,     0.81081,     0.81181,     0.81281,     0.81381,     0.81481,     0.81582,\n",
       "           0.81682,     0.81782,     0.81882,     0.81982,     0.82082,     0.82182,     0.82282,     0.82382,     0.82482,     0.82583,     0.82683,     0.82783,     0.82883,     0.82983,     0.83083,     0.83183,     0.83283,     0.83383,     0.83483,     0.83584,     0.83684,     0.83784,     0.83884,     0.83984,\n",
       "           0.84084,     0.84184,     0.84284,     0.84384,     0.84484,     0.84585,     0.84685,     0.84785,     0.84885,     0.84985,     0.85085,     0.85185,     0.85285,     0.85385,     0.85485,     0.85586,     0.85686,     0.85786,     0.85886,     0.85986,     0.86086,     0.86186,     0.86286,     0.86386,\n",
       "           0.86486,     0.86587,     0.86687,     0.86787,     0.86887,     0.86987,     0.87087,     0.87187,     0.87287,     0.87387,     0.87487,     0.87588,     0.87688,     0.87788,     0.87888,     0.87988,     0.88088,     0.88188,     0.88288,     0.88388,     0.88488,     0.88589,     0.88689,     0.88789,\n",
       "           0.88889,     0.88989,     0.89089,     0.89189,     0.89289,     0.89389,     0.89489,      0.8959,      0.8969,      0.8979,      0.8989,      0.8999,      0.9009,      0.9019,      0.9029,      0.9039,      0.9049,     0.90591,     0.90691,     0.90791,     0.90891,     0.90991,     0.91091,     0.91191,\n",
       "           0.91291,     0.91391,     0.91491,     0.91592,     0.91692,     0.91792,     0.91892,     0.91992,     0.92092,     0.92192,     0.92292,     0.92392,     0.92492,     0.92593,     0.92693,     0.92793,     0.92893,     0.92993,     0.93093,     0.93193,     0.93293,     0.93393,     0.93493,     0.93594,\n",
       "           0.93694,     0.93794,     0.93894,     0.93994,     0.94094,     0.94194,     0.94294,     0.94394,     0.94494,     0.94595,     0.94695,     0.94795,     0.94895,     0.94995,     0.95095,     0.95195,     0.95295,     0.95395,     0.95495,     0.95596,     0.95696,     0.95796,     0.95896,     0.95996,\n",
       "           0.96096,     0.96196,     0.96296,     0.96396,     0.96496,     0.96597,     0.96697,     0.96797,     0.96897,     0.96997,     0.97097,     0.97197,     0.97297,     0.97397,     0.97497,     0.97598,     0.97698,     0.97798,     0.97898,     0.97998,     0.98098,     0.98198,     0.98298,     0.98398,\n",
       "           0.98498,     0.98599,     0.98699,     0.98799,     0.98899,     0.98999,     0.99099,     0.99199,     0.99299,     0.99399,     0.99499,       0.996,       0.997,       0.998,       0.999,           1]), array([[        0.8,         0.8,         0.8, ...,  0.00067876,  0.00033938,           0],\n",
       "       [          1,           1,           1, ...,        0.25,        0.25,           0],\n",
       "       [          1,           1,           1, ...,   0.0013147,  0.00065737,           0],\n",
       "       ...,\n",
       "       [          1,           1,           1, ...,     0.81538,     0.81538,           0],\n",
       "       [          1,           1,           1, ...,     0.84247,     0.84247,           0],\n",
       "       [          1,           1,           1, ...,     0.58594,     0.58594,           0]]), 'Recall', 'Precision'], [array([          0,    0.001001,    0.002002,    0.003003,    0.004004,    0.005005,    0.006006,    0.007007,    0.008008,    0.009009,     0.01001,    0.011011,    0.012012,    0.013013,    0.014014,    0.015015,    0.016016,    0.017017,    0.018018,    0.019019,     0.02002,    0.021021,    0.022022,    0.023023,\n",
       "          0.024024,    0.025025,    0.026026,    0.027027,    0.028028,    0.029029,     0.03003,    0.031031,    0.032032,    0.033033,    0.034034,    0.035035,    0.036036,    0.037037,    0.038038,    0.039039,     0.04004,    0.041041,    0.042042,    0.043043,    0.044044,    0.045045,    0.046046,    0.047047,\n",
       "          0.048048,    0.049049,     0.05005,    0.051051,    0.052052,    0.053053,    0.054054,    0.055055,    0.056056,    0.057057,    0.058058,    0.059059,     0.06006,    0.061061,    0.062062,    0.063063,    0.064064,    0.065065,    0.066066,    0.067067,    0.068068,    0.069069,     0.07007,    0.071071,\n",
       "          0.072072,    0.073073,    0.074074,    0.075075,    0.076076,    0.077077,    0.078078,    0.079079,     0.08008,    0.081081,    0.082082,    0.083083,    0.084084,    0.085085,    0.086086,    0.087087,    0.088088,    0.089089,     0.09009,    0.091091,    0.092092,    0.093093,    0.094094,    0.095095,\n",
       "          0.096096,    0.097097,    0.098098,    0.099099,      0.1001,      0.1011,      0.1021,      0.1031,      0.1041,     0.10511,     0.10611,     0.10711,     0.10811,     0.10911,     0.11011,     0.11111,     0.11211,     0.11311,     0.11411,     0.11512,     0.11612,     0.11712,     0.11812,     0.11912,\n",
       "           0.12012,     0.12112,     0.12212,     0.12312,     0.12412,     0.12513,     0.12613,     0.12713,     0.12813,     0.12913,     0.13013,     0.13113,     0.13213,     0.13313,     0.13413,     0.13514,     0.13614,     0.13714,     0.13814,     0.13914,     0.14014,     0.14114,     0.14214,     0.14314,\n",
       "           0.14414,     0.14515,     0.14615,     0.14715,     0.14815,     0.14915,     0.15015,     0.15115,     0.15215,     0.15315,     0.15415,     0.15516,     0.15616,     0.15716,     0.15816,     0.15916,     0.16016,     0.16116,     0.16216,     0.16316,     0.16416,     0.16517,     0.16617,     0.16717,\n",
       "           0.16817,     0.16917,     0.17017,     0.17117,     0.17217,     0.17317,     0.17417,     0.17518,     0.17618,     0.17718,     0.17818,     0.17918,     0.18018,     0.18118,     0.18218,     0.18318,     0.18418,     0.18519,     0.18619,     0.18719,     0.18819,     0.18919,     0.19019,     0.19119,\n",
       "           0.19219,     0.19319,     0.19419,      0.1952,      0.1962,      0.1972,      0.1982,      0.1992,      0.2002,      0.2012,      0.2022,      0.2032,      0.2042,     0.20521,     0.20621,     0.20721,     0.20821,     0.20921,     0.21021,     0.21121,     0.21221,     0.21321,     0.21421,     0.21522,\n",
       "           0.21622,     0.21722,     0.21822,     0.21922,     0.22022,     0.22122,     0.22222,     0.22322,     0.22422,     0.22523,     0.22623,     0.22723,     0.22823,     0.22923,     0.23023,     0.23123,     0.23223,     0.23323,     0.23423,     0.23524,     0.23624,     0.23724,     0.23824,     0.23924,\n",
       "           0.24024,     0.24124,     0.24224,     0.24324,     0.24424,     0.24525,     0.24625,     0.24725,     0.24825,     0.24925,     0.25025,     0.25125,     0.25225,     0.25325,     0.25425,     0.25526,     0.25626,     0.25726,     0.25826,     0.25926,     0.26026,     0.26126,     0.26226,     0.26326,\n",
       "           0.26426,     0.26527,     0.26627,     0.26727,     0.26827,     0.26927,     0.27027,     0.27127,     0.27227,     0.27327,     0.27427,     0.27528,     0.27628,     0.27728,     0.27828,     0.27928,     0.28028,     0.28128,     0.28228,     0.28328,     0.28428,     0.28529,     0.28629,     0.28729,\n",
       "           0.28829,     0.28929,     0.29029,     0.29129,     0.29229,     0.29329,     0.29429,      0.2953,      0.2963,      0.2973,      0.2983,      0.2993,      0.3003,      0.3013,      0.3023,      0.3033,      0.3043,     0.30531,     0.30631,     0.30731,     0.30831,     0.30931,     0.31031,     0.31131,\n",
       "           0.31231,     0.31331,     0.31431,     0.31532,     0.31632,     0.31732,     0.31832,     0.31932,     0.32032,     0.32132,     0.32232,     0.32332,     0.32432,     0.32533,     0.32633,     0.32733,     0.32833,     0.32933,     0.33033,     0.33133,     0.33233,     0.33333,     0.33433,     0.33534,\n",
       "           0.33634,     0.33734,     0.33834,     0.33934,     0.34034,     0.34134,     0.34234,     0.34334,     0.34434,     0.34535,     0.34635,     0.34735,     0.34835,     0.34935,     0.35035,     0.35135,     0.35235,     0.35335,     0.35435,     0.35536,     0.35636,     0.35736,     0.35836,     0.35936,\n",
       "           0.36036,     0.36136,     0.36236,     0.36336,     0.36436,     0.36537,     0.36637,     0.36737,     0.36837,     0.36937,     0.37037,     0.37137,     0.37237,     0.37337,     0.37437,     0.37538,     0.37638,     0.37738,     0.37838,     0.37938,     0.38038,     0.38138,     0.38238,     0.38338,\n",
       "           0.38438,     0.38539,     0.38639,     0.38739,     0.38839,     0.38939,     0.39039,     0.39139,     0.39239,     0.39339,     0.39439,      0.3954,      0.3964,      0.3974,      0.3984,      0.3994,      0.4004,      0.4014,      0.4024,      0.4034,      0.4044,     0.40541,     0.40641,     0.40741,\n",
       "           0.40841,     0.40941,     0.41041,     0.41141,     0.41241,     0.41341,     0.41441,     0.41542,     0.41642,     0.41742,     0.41842,     0.41942,     0.42042,     0.42142,     0.42242,     0.42342,     0.42442,     0.42543,     0.42643,     0.42743,     0.42843,     0.42943,     0.43043,     0.43143,\n",
       "           0.43243,     0.43343,     0.43443,     0.43544,     0.43644,     0.43744,     0.43844,     0.43944,     0.44044,     0.44144,     0.44244,     0.44344,     0.44444,     0.44545,     0.44645,     0.44745,     0.44845,     0.44945,     0.45045,     0.45145,     0.45245,     0.45345,     0.45445,     0.45546,\n",
       "           0.45646,     0.45746,     0.45846,     0.45946,     0.46046,     0.46146,     0.46246,     0.46346,     0.46446,     0.46547,     0.46647,     0.46747,     0.46847,     0.46947,     0.47047,     0.47147,     0.47247,     0.47347,     0.47447,     0.47548,     0.47648,     0.47748,     0.47848,     0.47948,\n",
       "           0.48048,     0.48148,     0.48248,     0.48348,     0.48448,     0.48549,     0.48649,     0.48749,     0.48849,     0.48949,     0.49049,     0.49149,     0.49249,     0.49349,     0.49449,      0.4955,      0.4965,      0.4975,      0.4985,      0.4995,      0.5005,      0.5015,      0.5025,      0.5035,\n",
       "            0.5045,     0.50551,     0.50651,     0.50751,     0.50851,     0.50951,     0.51051,     0.51151,     0.51251,     0.51351,     0.51451,     0.51552,     0.51652,     0.51752,     0.51852,     0.51952,     0.52052,     0.52152,     0.52252,     0.52352,     0.52452,     0.52553,     0.52653,     0.52753,\n",
       "           0.52853,     0.52953,     0.53053,     0.53153,     0.53253,     0.53353,     0.53453,     0.53554,     0.53654,     0.53754,     0.53854,     0.53954,     0.54054,     0.54154,     0.54254,     0.54354,     0.54454,     0.54555,     0.54655,     0.54755,     0.54855,     0.54955,     0.55055,     0.55155,\n",
       "           0.55255,     0.55355,     0.55455,     0.55556,     0.55656,     0.55756,     0.55856,     0.55956,     0.56056,     0.56156,     0.56256,     0.56356,     0.56456,     0.56557,     0.56657,     0.56757,     0.56857,     0.56957,     0.57057,     0.57157,     0.57257,     0.57357,     0.57457,     0.57558,\n",
       "           0.57658,     0.57758,     0.57858,     0.57958,     0.58058,     0.58158,     0.58258,     0.58358,     0.58458,     0.58559,     0.58659,     0.58759,     0.58859,     0.58959,     0.59059,     0.59159,     0.59259,     0.59359,     0.59459,      0.5956,      0.5966,      0.5976,      0.5986,      0.5996,\n",
       "            0.6006,      0.6016,      0.6026,      0.6036,      0.6046,     0.60561,     0.60661,     0.60761,     0.60861,     0.60961,     0.61061,     0.61161,     0.61261,     0.61361,     0.61461,     0.61562,     0.61662,     0.61762,     0.61862,     0.61962,     0.62062,     0.62162,     0.62262,     0.62362,\n",
       "           0.62462,     0.62563,     0.62663,     0.62763,     0.62863,     0.62963,     0.63063,     0.63163,     0.63263,     0.63363,     0.63463,     0.63564,     0.63664,     0.63764,     0.63864,     0.63964,     0.64064,     0.64164,     0.64264,     0.64364,     0.64464,     0.64565,     0.64665,     0.64765,\n",
       "           0.64865,     0.64965,     0.65065,     0.65165,     0.65265,     0.65365,     0.65465,     0.65566,     0.65666,     0.65766,     0.65866,     0.65966,     0.66066,     0.66166,     0.66266,     0.66366,     0.66466,     0.66567,     0.66667,     0.66767,     0.66867,     0.66967,     0.67067,     0.67167,\n",
       "           0.67267,     0.67367,     0.67467,     0.67568,     0.67668,     0.67768,     0.67868,     0.67968,     0.68068,     0.68168,     0.68268,     0.68368,     0.68468,     0.68569,     0.68669,     0.68769,     0.68869,     0.68969,     0.69069,     0.69169,     0.69269,     0.69369,     0.69469,      0.6957,\n",
       "            0.6967,      0.6977,      0.6987,      0.6997,      0.7007,      0.7017,      0.7027,      0.7037,      0.7047,     0.70571,     0.70671,     0.70771,     0.70871,     0.70971,     0.71071,     0.71171,     0.71271,     0.71371,     0.71471,     0.71572,     0.71672,     0.71772,     0.71872,     0.71972,\n",
       "           0.72072,     0.72172,     0.72272,     0.72372,     0.72472,     0.72573,     0.72673,     0.72773,     0.72873,     0.72973,     0.73073,     0.73173,     0.73273,     0.73373,     0.73473,     0.73574,     0.73674,     0.73774,     0.73874,     0.73974,     0.74074,     0.74174,     0.74274,     0.74374,\n",
       "           0.74474,     0.74575,     0.74675,     0.74775,     0.74875,     0.74975,     0.75075,     0.75175,     0.75275,     0.75375,     0.75475,     0.75576,     0.75676,     0.75776,     0.75876,     0.75976,     0.76076,     0.76176,     0.76276,     0.76376,     0.76476,     0.76577,     0.76677,     0.76777,\n",
       "           0.76877,     0.76977,     0.77077,     0.77177,     0.77277,     0.77377,     0.77477,     0.77578,     0.77678,     0.77778,     0.77878,     0.77978,     0.78078,     0.78178,     0.78278,     0.78378,     0.78478,     0.78579,     0.78679,     0.78779,     0.78879,     0.78979,     0.79079,     0.79179,\n",
       "           0.79279,     0.79379,     0.79479,      0.7958,      0.7968,      0.7978,      0.7988,      0.7998,      0.8008,      0.8018,      0.8028,      0.8038,      0.8048,     0.80581,     0.80681,     0.80781,     0.80881,     0.80981,     0.81081,     0.81181,     0.81281,     0.81381,     0.81481,     0.81582,\n",
       "           0.81682,     0.81782,     0.81882,     0.81982,     0.82082,     0.82182,     0.82282,     0.82382,     0.82482,     0.82583,     0.82683,     0.82783,     0.82883,     0.82983,     0.83083,     0.83183,     0.83283,     0.83383,     0.83483,     0.83584,     0.83684,     0.83784,     0.83884,     0.83984,\n",
       "           0.84084,     0.84184,     0.84284,     0.84384,     0.84484,     0.84585,     0.84685,     0.84785,     0.84885,     0.84985,     0.85085,     0.85185,     0.85285,     0.85385,     0.85485,     0.85586,     0.85686,     0.85786,     0.85886,     0.85986,     0.86086,     0.86186,     0.86286,     0.86386,\n",
       "           0.86486,     0.86587,     0.86687,     0.86787,     0.86887,     0.86987,     0.87087,     0.87187,     0.87287,     0.87387,     0.87487,     0.87588,     0.87688,     0.87788,     0.87888,     0.87988,     0.88088,     0.88188,     0.88288,     0.88388,     0.88488,     0.88589,     0.88689,     0.88789,\n",
       "           0.88889,     0.88989,     0.89089,     0.89189,     0.89289,     0.89389,     0.89489,      0.8959,      0.8969,      0.8979,      0.8989,      0.8999,      0.9009,      0.9019,      0.9029,      0.9039,      0.9049,     0.90591,     0.90691,     0.90791,     0.90891,     0.90991,     0.91091,     0.91191,\n",
       "           0.91291,     0.91391,     0.91491,     0.91592,     0.91692,     0.91792,     0.91892,     0.91992,     0.92092,     0.92192,     0.92292,     0.92392,     0.92492,     0.92593,     0.92693,     0.92793,     0.92893,     0.92993,     0.93093,     0.93193,     0.93293,     0.93393,     0.93493,     0.93594,\n",
       "           0.93694,     0.93794,     0.93894,     0.93994,     0.94094,     0.94194,     0.94294,     0.94394,     0.94494,     0.94595,     0.94695,     0.94795,     0.94895,     0.94995,     0.95095,     0.95195,     0.95295,     0.95395,     0.95495,     0.95596,     0.95696,     0.95796,     0.95896,     0.95996,\n",
       "           0.96096,     0.96196,     0.96296,     0.96396,     0.96496,     0.96597,     0.96697,     0.96797,     0.96897,     0.96997,     0.97097,     0.97197,     0.97297,     0.97397,     0.97497,     0.97598,     0.97698,     0.97798,     0.97898,     0.97998,     0.98098,     0.98198,     0.98298,     0.98398,\n",
       "           0.98498,     0.98599,     0.98699,     0.98799,     0.98899,     0.98999,     0.99099,     0.99199,     0.99299,     0.99399,     0.99499,       0.996,       0.997,       0.998,       0.999,           1]), array([[    0.11465,     0.11465,     0.19118, ...,           0,           0,           0],\n",
       "       [   0.069444,    0.069444,       0.111, ...,           0,           0,           0],\n",
       "       [    0.10329,     0.10329,     0.13689, ...,           0,           0,           0],\n",
       "       ...,\n",
       "       [    0.41245,     0.41245,     0.69197, ...,           0,           0,           0],\n",
       "       [    0.61347,     0.61347,     0.72901, ...,           0,           0,           0],\n",
       "       [      0.611,       0.611,     0.72353, ...,           0,           0,           0]]), 'Confidence', 'F1'], [array([          0,    0.001001,    0.002002,    0.003003,    0.004004,    0.005005,    0.006006,    0.007007,    0.008008,    0.009009,     0.01001,    0.011011,    0.012012,    0.013013,    0.014014,    0.015015,    0.016016,    0.017017,    0.018018,    0.019019,     0.02002,    0.021021,    0.022022,    0.023023,\n",
       "          0.024024,    0.025025,    0.026026,    0.027027,    0.028028,    0.029029,     0.03003,    0.031031,    0.032032,    0.033033,    0.034034,    0.035035,    0.036036,    0.037037,    0.038038,    0.039039,     0.04004,    0.041041,    0.042042,    0.043043,    0.044044,    0.045045,    0.046046,    0.047047,\n",
       "          0.048048,    0.049049,     0.05005,    0.051051,    0.052052,    0.053053,    0.054054,    0.055055,    0.056056,    0.057057,    0.058058,    0.059059,     0.06006,    0.061061,    0.062062,    0.063063,    0.064064,    0.065065,    0.066066,    0.067067,    0.068068,    0.069069,     0.07007,    0.071071,\n",
       "          0.072072,    0.073073,    0.074074,    0.075075,    0.076076,    0.077077,    0.078078,    0.079079,     0.08008,    0.081081,    0.082082,    0.083083,    0.084084,    0.085085,    0.086086,    0.087087,    0.088088,    0.089089,     0.09009,    0.091091,    0.092092,    0.093093,    0.094094,    0.095095,\n",
       "          0.096096,    0.097097,    0.098098,    0.099099,      0.1001,      0.1011,      0.1021,      0.1031,      0.1041,     0.10511,     0.10611,     0.10711,     0.10811,     0.10911,     0.11011,     0.11111,     0.11211,     0.11311,     0.11411,     0.11512,     0.11612,     0.11712,     0.11812,     0.11912,\n",
       "           0.12012,     0.12112,     0.12212,     0.12312,     0.12412,     0.12513,     0.12613,     0.12713,     0.12813,     0.12913,     0.13013,     0.13113,     0.13213,     0.13313,     0.13413,     0.13514,     0.13614,     0.13714,     0.13814,     0.13914,     0.14014,     0.14114,     0.14214,     0.14314,\n",
       "           0.14414,     0.14515,     0.14615,     0.14715,     0.14815,     0.14915,     0.15015,     0.15115,     0.15215,     0.15315,     0.15415,     0.15516,     0.15616,     0.15716,     0.15816,     0.15916,     0.16016,     0.16116,     0.16216,     0.16316,     0.16416,     0.16517,     0.16617,     0.16717,\n",
       "           0.16817,     0.16917,     0.17017,     0.17117,     0.17217,     0.17317,     0.17417,     0.17518,     0.17618,     0.17718,     0.17818,     0.17918,     0.18018,     0.18118,     0.18218,     0.18318,     0.18418,     0.18519,     0.18619,     0.18719,     0.18819,     0.18919,     0.19019,     0.19119,\n",
       "           0.19219,     0.19319,     0.19419,      0.1952,      0.1962,      0.1972,      0.1982,      0.1992,      0.2002,      0.2012,      0.2022,      0.2032,      0.2042,     0.20521,     0.20621,     0.20721,     0.20821,     0.20921,     0.21021,     0.21121,     0.21221,     0.21321,     0.21421,     0.21522,\n",
       "           0.21622,     0.21722,     0.21822,     0.21922,     0.22022,     0.22122,     0.22222,     0.22322,     0.22422,     0.22523,     0.22623,     0.22723,     0.22823,     0.22923,     0.23023,     0.23123,     0.23223,     0.23323,     0.23423,     0.23524,     0.23624,     0.23724,     0.23824,     0.23924,\n",
       "           0.24024,     0.24124,     0.24224,     0.24324,     0.24424,     0.24525,     0.24625,     0.24725,     0.24825,     0.24925,     0.25025,     0.25125,     0.25225,     0.25325,     0.25425,     0.25526,     0.25626,     0.25726,     0.25826,     0.25926,     0.26026,     0.26126,     0.26226,     0.26326,\n",
       "           0.26426,     0.26527,     0.26627,     0.26727,     0.26827,     0.26927,     0.27027,     0.27127,     0.27227,     0.27327,     0.27427,     0.27528,     0.27628,     0.27728,     0.27828,     0.27928,     0.28028,     0.28128,     0.28228,     0.28328,     0.28428,     0.28529,     0.28629,     0.28729,\n",
       "           0.28829,     0.28929,     0.29029,     0.29129,     0.29229,     0.29329,     0.29429,      0.2953,      0.2963,      0.2973,      0.2983,      0.2993,      0.3003,      0.3013,      0.3023,      0.3033,      0.3043,     0.30531,     0.30631,     0.30731,     0.30831,     0.30931,     0.31031,     0.31131,\n",
       "           0.31231,     0.31331,     0.31431,     0.31532,     0.31632,     0.31732,     0.31832,     0.31932,     0.32032,     0.32132,     0.32232,     0.32332,     0.32432,     0.32533,     0.32633,     0.32733,     0.32833,     0.32933,     0.33033,     0.33133,     0.33233,     0.33333,     0.33433,     0.33534,\n",
       "           0.33634,     0.33734,     0.33834,     0.33934,     0.34034,     0.34134,     0.34234,     0.34334,     0.34434,     0.34535,     0.34635,     0.34735,     0.34835,     0.34935,     0.35035,     0.35135,     0.35235,     0.35335,     0.35435,     0.35536,     0.35636,     0.35736,     0.35836,     0.35936,\n",
       "           0.36036,     0.36136,     0.36236,     0.36336,     0.36436,     0.36537,     0.36637,     0.36737,     0.36837,     0.36937,     0.37037,     0.37137,     0.37237,     0.37337,     0.37437,     0.37538,     0.37638,     0.37738,     0.37838,     0.37938,     0.38038,     0.38138,     0.38238,     0.38338,\n",
       "           0.38438,     0.38539,     0.38639,     0.38739,     0.38839,     0.38939,     0.39039,     0.39139,     0.39239,     0.39339,     0.39439,      0.3954,      0.3964,      0.3974,      0.3984,      0.3994,      0.4004,      0.4014,      0.4024,      0.4034,      0.4044,     0.40541,     0.40641,     0.40741,\n",
       "           0.40841,     0.40941,     0.41041,     0.41141,     0.41241,     0.41341,     0.41441,     0.41542,     0.41642,     0.41742,     0.41842,     0.41942,     0.42042,     0.42142,     0.42242,     0.42342,     0.42442,     0.42543,     0.42643,     0.42743,     0.42843,     0.42943,     0.43043,     0.43143,\n",
       "           0.43243,     0.43343,     0.43443,     0.43544,     0.43644,     0.43744,     0.43844,     0.43944,     0.44044,     0.44144,     0.44244,     0.44344,     0.44444,     0.44545,     0.44645,     0.44745,     0.44845,     0.44945,     0.45045,     0.45145,     0.45245,     0.45345,     0.45445,     0.45546,\n",
       "           0.45646,     0.45746,     0.45846,     0.45946,     0.46046,     0.46146,     0.46246,     0.46346,     0.46446,     0.46547,     0.46647,     0.46747,     0.46847,     0.46947,     0.47047,     0.47147,     0.47247,     0.47347,     0.47447,     0.47548,     0.47648,     0.47748,     0.47848,     0.47948,\n",
       "           0.48048,     0.48148,     0.48248,     0.48348,     0.48448,     0.48549,     0.48649,     0.48749,     0.48849,     0.48949,     0.49049,     0.49149,     0.49249,     0.49349,     0.49449,      0.4955,      0.4965,      0.4975,      0.4985,      0.4995,      0.5005,      0.5015,      0.5025,      0.5035,\n",
       "            0.5045,     0.50551,     0.50651,     0.50751,     0.50851,     0.50951,     0.51051,     0.51151,     0.51251,     0.51351,     0.51451,     0.51552,     0.51652,     0.51752,     0.51852,     0.51952,     0.52052,     0.52152,     0.52252,     0.52352,     0.52452,     0.52553,     0.52653,     0.52753,\n",
       "           0.52853,     0.52953,     0.53053,     0.53153,     0.53253,     0.53353,     0.53453,     0.53554,     0.53654,     0.53754,     0.53854,     0.53954,     0.54054,     0.54154,     0.54254,     0.54354,     0.54454,     0.54555,     0.54655,     0.54755,     0.54855,     0.54955,     0.55055,     0.55155,\n",
       "           0.55255,     0.55355,     0.55455,     0.55556,     0.55656,     0.55756,     0.55856,     0.55956,     0.56056,     0.56156,     0.56256,     0.56356,     0.56456,     0.56557,     0.56657,     0.56757,     0.56857,     0.56957,     0.57057,     0.57157,     0.57257,     0.57357,     0.57457,     0.57558,\n",
       "           0.57658,     0.57758,     0.57858,     0.57958,     0.58058,     0.58158,     0.58258,     0.58358,     0.58458,     0.58559,     0.58659,     0.58759,     0.58859,     0.58959,     0.59059,     0.59159,     0.59259,     0.59359,     0.59459,      0.5956,      0.5966,      0.5976,      0.5986,      0.5996,\n",
       "            0.6006,      0.6016,      0.6026,      0.6036,      0.6046,     0.60561,     0.60661,     0.60761,     0.60861,     0.60961,     0.61061,     0.61161,     0.61261,     0.61361,     0.61461,     0.61562,     0.61662,     0.61762,     0.61862,     0.61962,     0.62062,     0.62162,     0.62262,     0.62362,\n",
       "           0.62462,     0.62563,     0.62663,     0.62763,     0.62863,     0.62963,     0.63063,     0.63163,     0.63263,     0.63363,     0.63463,     0.63564,     0.63664,     0.63764,     0.63864,     0.63964,     0.64064,     0.64164,     0.64264,     0.64364,     0.64464,     0.64565,     0.64665,     0.64765,\n",
       "           0.64865,     0.64965,     0.65065,     0.65165,     0.65265,     0.65365,     0.65465,     0.65566,     0.65666,     0.65766,     0.65866,     0.65966,     0.66066,     0.66166,     0.66266,     0.66366,     0.66466,     0.66567,     0.66667,     0.66767,     0.66867,     0.66967,     0.67067,     0.67167,\n",
       "           0.67267,     0.67367,     0.67467,     0.67568,     0.67668,     0.67768,     0.67868,     0.67968,     0.68068,     0.68168,     0.68268,     0.68368,     0.68468,     0.68569,     0.68669,     0.68769,     0.68869,     0.68969,     0.69069,     0.69169,     0.69269,     0.69369,     0.69469,      0.6957,\n",
       "            0.6967,      0.6977,      0.6987,      0.6997,      0.7007,      0.7017,      0.7027,      0.7037,      0.7047,     0.70571,     0.70671,     0.70771,     0.70871,     0.70971,     0.71071,     0.71171,     0.71271,     0.71371,     0.71471,     0.71572,     0.71672,     0.71772,     0.71872,     0.71972,\n",
       "           0.72072,     0.72172,     0.72272,     0.72372,     0.72472,     0.72573,     0.72673,     0.72773,     0.72873,     0.72973,     0.73073,     0.73173,     0.73273,     0.73373,     0.73473,     0.73574,     0.73674,     0.73774,     0.73874,     0.73974,     0.74074,     0.74174,     0.74274,     0.74374,\n",
       "           0.74474,     0.74575,     0.74675,     0.74775,     0.74875,     0.74975,     0.75075,     0.75175,     0.75275,     0.75375,     0.75475,     0.75576,     0.75676,     0.75776,     0.75876,     0.75976,     0.76076,     0.76176,     0.76276,     0.76376,     0.76476,     0.76577,     0.76677,     0.76777,\n",
       "           0.76877,     0.76977,     0.77077,     0.77177,     0.77277,     0.77377,     0.77477,     0.77578,     0.77678,     0.77778,     0.77878,     0.77978,     0.78078,     0.78178,     0.78278,     0.78378,     0.78478,     0.78579,     0.78679,     0.78779,     0.78879,     0.78979,     0.79079,     0.79179,\n",
       "           0.79279,     0.79379,     0.79479,      0.7958,      0.7968,      0.7978,      0.7988,      0.7998,      0.8008,      0.8018,      0.8028,      0.8038,      0.8048,     0.80581,     0.80681,     0.80781,     0.80881,     0.80981,     0.81081,     0.81181,     0.81281,     0.81381,     0.81481,     0.81582,\n",
       "           0.81682,     0.81782,     0.81882,     0.81982,     0.82082,     0.82182,     0.82282,     0.82382,     0.82482,     0.82583,     0.82683,     0.82783,     0.82883,     0.82983,     0.83083,     0.83183,     0.83283,     0.83383,     0.83483,     0.83584,     0.83684,     0.83784,     0.83884,     0.83984,\n",
       "           0.84084,     0.84184,     0.84284,     0.84384,     0.84484,     0.84585,     0.84685,     0.84785,     0.84885,     0.84985,     0.85085,     0.85185,     0.85285,     0.85385,     0.85485,     0.85586,     0.85686,     0.85786,     0.85886,     0.85986,     0.86086,     0.86186,     0.86286,     0.86386,\n",
       "           0.86486,     0.86587,     0.86687,     0.86787,     0.86887,     0.86987,     0.87087,     0.87187,     0.87287,     0.87387,     0.87487,     0.87588,     0.87688,     0.87788,     0.87888,     0.87988,     0.88088,     0.88188,     0.88288,     0.88388,     0.88488,     0.88589,     0.88689,     0.88789,\n",
       "           0.88889,     0.88989,     0.89089,     0.89189,     0.89289,     0.89389,     0.89489,      0.8959,      0.8969,      0.8979,      0.8989,      0.8999,      0.9009,      0.9019,      0.9029,      0.9039,      0.9049,     0.90591,     0.90691,     0.90791,     0.90891,     0.90991,     0.91091,     0.91191,\n",
       "           0.91291,     0.91391,     0.91491,     0.91592,     0.91692,     0.91792,     0.91892,     0.91992,     0.92092,     0.92192,     0.92292,     0.92392,     0.92492,     0.92593,     0.92693,     0.92793,     0.92893,     0.92993,     0.93093,     0.93193,     0.93293,     0.93393,     0.93493,     0.93594,\n",
       "           0.93694,     0.93794,     0.93894,     0.93994,     0.94094,     0.94194,     0.94294,     0.94394,     0.94494,     0.94595,     0.94695,     0.94795,     0.94895,     0.94995,     0.95095,     0.95195,     0.95295,     0.95395,     0.95495,     0.95596,     0.95696,     0.95796,     0.95896,     0.95996,\n",
       "           0.96096,     0.96196,     0.96296,     0.96396,     0.96496,     0.96597,     0.96697,     0.96797,     0.96897,     0.96997,     0.97097,     0.97197,     0.97297,     0.97397,     0.97497,     0.97598,     0.97698,     0.97798,     0.97898,     0.97998,     0.98098,     0.98198,     0.98298,     0.98398,\n",
       "           0.98498,     0.98599,     0.98699,     0.98799,     0.98899,     0.98999,     0.99099,     0.99199,     0.99299,     0.99399,     0.99499,       0.996,       0.997,       0.998,       0.999,           1]), array([[   0.061644,    0.061644,     0.10823, ...,           1,           1,           1],\n",
       "       [   0.035971,    0.035971,     0.05876, ...,           1,           1,           1],\n",
       "       [   0.054726,    0.054726,    0.073967, ...,           1,           1,           1],\n",
       "       ...,\n",
       "       [     0.2598,      0.2598,     0.52901, ...,           1,           1,           1],\n",
       "       [    0.44245,     0.44245,     0.57357, ...,           1,           1,           1],\n",
       "       [    0.43988,     0.43988,     0.56682, ...,           1,           1,           1]]), 'Confidence', 'Precision'], [array([          0,    0.001001,    0.002002,    0.003003,    0.004004,    0.005005,    0.006006,    0.007007,    0.008008,    0.009009,     0.01001,    0.011011,    0.012012,    0.013013,    0.014014,    0.015015,    0.016016,    0.017017,    0.018018,    0.019019,     0.02002,    0.021021,    0.022022,    0.023023,\n",
       "          0.024024,    0.025025,    0.026026,    0.027027,    0.028028,    0.029029,     0.03003,    0.031031,    0.032032,    0.033033,    0.034034,    0.035035,    0.036036,    0.037037,    0.038038,    0.039039,     0.04004,    0.041041,    0.042042,    0.043043,    0.044044,    0.045045,    0.046046,    0.047047,\n",
       "          0.048048,    0.049049,     0.05005,    0.051051,    0.052052,    0.053053,    0.054054,    0.055055,    0.056056,    0.057057,    0.058058,    0.059059,     0.06006,    0.061061,    0.062062,    0.063063,    0.064064,    0.065065,    0.066066,    0.067067,    0.068068,    0.069069,     0.07007,    0.071071,\n",
       "          0.072072,    0.073073,    0.074074,    0.075075,    0.076076,    0.077077,    0.078078,    0.079079,     0.08008,    0.081081,    0.082082,    0.083083,    0.084084,    0.085085,    0.086086,    0.087087,    0.088088,    0.089089,     0.09009,    0.091091,    0.092092,    0.093093,    0.094094,    0.095095,\n",
       "          0.096096,    0.097097,    0.098098,    0.099099,      0.1001,      0.1011,      0.1021,      0.1031,      0.1041,     0.10511,     0.10611,     0.10711,     0.10811,     0.10911,     0.11011,     0.11111,     0.11211,     0.11311,     0.11411,     0.11512,     0.11612,     0.11712,     0.11812,     0.11912,\n",
       "           0.12012,     0.12112,     0.12212,     0.12312,     0.12412,     0.12513,     0.12613,     0.12713,     0.12813,     0.12913,     0.13013,     0.13113,     0.13213,     0.13313,     0.13413,     0.13514,     0.13614,     0.13714,     0.13814,     0.13914,     0.14014,     0.14114,     0.14214,     0.14314,\n",
       "           0.14414,     0.14515,     0.14615,     0.14715,     0.14815,     0.14915,     0.15015,     0.15115,     0.15215,     0.15315,     0.15415,     0.15516,     0.15616,     0.15716,     0.15816,     0.15916,     0.16016,     0.16116,     0.16216,     0.16316,     0.16416,     0.16517,     0.16617,     0.16717,\n",
       "           0.16817,     0.16917,     0.17017,     0.17117,     0.17217,     0.17317,     0.17417,     0.17518,     0.17618,     0.17718,     0.17818,     0.17918,     0.18018,     0.18118,     0.18218,     0.18318,     0.18418,     0.18519,     0.18619,     0.18719,     0.18819,     0.18919,     0.19019,     0.19119,\n",
       "           0.19219,     0.19319,     0.19419,      0.1952,      0.1962,      0.1972,      0.1982,      0.1992,      0.2002,      0.2012,      0.2022,      0.2032,      0.2042,     0.20521,     0.20621,     0.20721,     0.20821,     0.20921,     0.21021,     0.21121,     0.21221,     0.21321,     0.21421,     0.21522,\n",
       "           0.21622,     0.21722,     0.21822,     0.21922,     0.22022,     0.22122,     0.22222,     0.22322,     0.22422,     0.22523,     0.22623,     0.22723,     0.22823,     0.22923,     0.23023,     0.23123,     0.23223,     0.23323,     0.23423,     0.23524,     0.23624,     0.23724,     0.23824,     0.23924,\n",
       "           0.24024,     0.24124,     0.24224,     0.24324,     0.24424,     0.24525,     0.24625,     0.24725,     0.24825,     0.24925,     0.25025,     0.25125,     0.25225,     0.25325,     0.25425,     0.25526,     0.25626,     0.25726,     0.25826,     0.25926,     0.26026,     0.26126,     0.26226,     0.26326,\n",
       "           0.26426,     0.26527,     0.26627,     0.26727,     0.26827,     0.26927,     0.27027,     0.27127,     0.27227,     0.27327,     0.27427,     0.27528,     0.27628,     0.27728,     0.27828,     0.27928,     0.28028,     0.28128,     0.28228,     0.28328,     0.28428,     0.28529,     0.28629,     0.28729,\n",
       "           0.28829,     0.28929,     0.29029,     0.29129,     0.29229,     0.29329,     0.29429,      0.2953,      0.2963,      0.2973,      0.2983,      0.2993,      0.3003,      0.3013,      0.3023,      0.3033,      0.3043,     0.30531,     0.30631,     0.30731,     0.30831,     0.30931,     0.31031,     0.31131,\n",
       "           0.31231,     0.31331,     0.31431,     0.31532,     0.31632,     0.31732,     0.31832,     0.31932,     0.32032,     0.32132,     0.32232,     0.32332,     0.32432,     0.32533,     0.32633,     0.32733,     0.32833,     0.32933,     0.33033,     0.33133,     0.33233,     0.33333,     0.33433,     0.33534,\n",
       "           0.33634,     0.33734,     0.33834,     0.33934,     0.34034,     0.34134,     0.34234,     0.34334,     0.34434,     0.34535,     0.34635,     0.34735,     0.34835,     0.34935,     0.35035,     0.35135,     0.35235,     0.35335,     0.35435,     0.35536,     0.35636,     0.35736,     0.35836,     0.35936,\n",
       "           0.36036,     0.36136,     0.36236,     0.36336,     0.36436,     0.36537,     0.36637,     0.36737,     0.36837,     0.36937,     0.37037,     0.37137,     0.37237,     0.37337,     0.37437,     0.37538,     0.37638,     0.37738,     0.37838,     0.37938,     0.38038,     0.38138,     0.38238,     0.38338,\n",
       "           0.38438,     0.38539,     0.38639,     0.38739,     0.38839,     0.38939,     0.39039,     0.39139,     0.39239,     0.39339,     0.39439,      0.3954,      0.3964,      0.3974,      0.3984,      0.3994,      0.4004,      0.4014,      0.4024,      0.4034,      0.4044,     0.40541,     0.40641,     0.40741,\n",
       "           0.40841,     0.40941,     0.41041,     0.41141,     0.41241,     0.41341,     0.41441,     0.41542,     0.41642,     0.41742,     0.41842,     0.41942,     0.42042,     0.42142,     0.42242,     0.42342,     0.42442,     0.42543,     0.42643,     0.42743,     0.42843,     0.42943,     0.43043,     0.43143,\n",
       "           0.43243,     0.43343,     0.43443,     0.43544,     0.43644,     0.43744,     0.43844,     0.43944,     0.44044,     0.44144,     0.44244,     0.44344,     0.44444,     0.44545,     0.44645,     0.44745,     0.44845,     0.44945,     0.45045,     0.45145,     0.45245,     0.45345,     0.45445,     0.45546,\n",
       "           0.45646,     0.45746,     0.45846,     0.45946,     0.46046,     0.46146,     0.46246,     0.46346,     0.46446,     0.46547,     0.46647,     0.46747,     0.46847,     0.46947,     0.47047,     0.47147,     0.47247,     0.47347,     0.47447,     0.47548,     0.47648,     0.47748,     0.47848,     0.47948,\n",
       "           0.48048,     0.48148,     0.48248,     0.48348,     0.48448,     0.48549,     0.48649,     0.48749,     0.48849,     0.48949,     0.49049,     0.49149,     0.49249,     0.49349,     0.49449,      0.4955,      0.4965,      0.4975,      0.4985,      0.4995,      0.5005,      0.5015,      0.5025,      0.5035,\n",
       "            0.5045,     0.50551,     0.50651,     0.50751,     0.50851,     0.50951,     0.51051,     0.51151,     0.51251,     0.51351,     0.51451,     0.51552,     0.51652,     0.51752,     0.51852,     0.51952,     0.52052,     0.52152,     0.52252,     0.52352,     0.52452,     0.52553,     0.52653,     0.52753,\n",
       "           0.52853,     0.52953,     0.53053,     0.53153,     0.53253,     0.53353,     0.53453,     0.53554,     0.53654,     0.53754,     0.53854,     0.53954,     0.54054,     0.54154,     0.54254,     0.54354,     0.54454,     0.54555,     0.54655,     0.54755,     0.54855,     0.54955,     0.55055,     0.55155,\n",
       "           0.55255,     0.55355,     0.55455,     0.55556,     0.55656,     0.55756,     0.55856,     0.55956,     0.56056,     0.56156,     0.56256,     0.56356,     0.56456,     0.56557,     0.56657,     0.56757,     0.56857,     0.56957,     0.57057,     0.57157,     0.57257,     0.57357,     0.57457,     0.57558,\n",
       "           0.57658,     0.57758,     0.57858,     0.57958,     0.58058,     0.58158,     0.58258,     0.58358,     0.58458,     0.58559,     0.58659,     0.58759,     0.58859,     0.58959,     0.59059,     0.59159,     0.59259,     0.59359,     0.59459,      0.5956,      0.5966,      0.5976,      0.5986,      0.5996,\n",
       "            0.6006,      0.6016,      0.6026,      0.6036,      0.6046,     0.60561,     0.60661,     0.60761,     0.60861,     0.60961,     0.61061,     0.61161,     0.61261,     0.61361,     0.61461,     0.61562,     0.61662,     0.61762,     0.61862,     0.61962,     0.62062,     0.62162,     0.62262,     0.62362,\n",
       "           0.62462,     0.62563,     0.62663,     0.62763,     0.62863,     0.62963,     0.63063,     0.63163,     0.63263,     0.63363,     0.63463,     0.63564,     0.63664,     0.63764,     0.63864,     0.63964,     0.64064,     0.64164,     0.64264,     0.64364,     0.64464,     0.64565,     0.64665,     0.64765,\n",
       "           0.64865,     0.64965,     0.65065,     0.65165,     0.65265,     0.65365,     0.65465,     0.65566,     0.65666,     0.65766,     0.65866,     0.65966,     0.66066,     0.66166,     0.66266,     0.66366,     0.66466,     0.66567,     0.66667,     0.66767,     0.66867,     0.66967,     0.67067,     0.67167,\n",
       "           0.67267,     0.67367,     0.67467,     0.67568,     0.67668,     0.67768,     0.67868,     0.67968,     0.68068,     0.68168,     0.68268,     0.68368,     0.68468,     0.68569,     0.68669,     0.68769,     0.68869,     0.68969,     0.69069,     0.69169,     0.69269,     0.69369,     0.69469,      0.6957,\n",
       "            0.6967,      0.6977,      0.6987,      0.6997,      0.7007,      0.7017,      0.7027,      0.7037,      0.7047,     0.70571,     0.70671,     0.70771,     0.70871,     0.70971,     0.71071,     0.71171,     0.71271,     0.71371,     0.71471,     0.71572,     0.71672,     0.71772,     0.71872,     0.71972,\n",
       "           0.72072,     0.72172,     0.72272,     0.72372,     0.72472,     0.72573,     0.72673,     0.72773,     0.72873,     0.72973,     0.73073,     0.73173,     0.73273,     0.73373,     0.73473,     0.73574,     0.73674,     0.73774,     0.73874,     0.73974,     0.74074,     0.74174,     0.74274,     0.74374,\n",
       "           0.74474,     0.74575,     0.74675,     0.74775,     0.74875,     0.74975,     0.75075,     0.75175,     0.75275,     0.75375,     0.75475,     0.75576,     0.75676,     0.75776,     0.75876,     0.75976,     0.76076,     0.76176,     0.76276,     0.76376,     0.76476,     0.76577,     0.76677,     0.76777,\n",
       "           0.76877,     0.76977,     0.77077,     0.77177,     0.77277,     0.77377,     0.77477,     0.77578,     0.77678,     0.77778,     0.77878,     0.77978,     0.78078,     0.78178,     0.78278,     0.78378,     0.78478,     0.78579,     0.78679,     0.78779,     0.78879,     0.78979,     0.79079,     0.79179,\n",
       "           0.79279,     0.79379,     0.79479,      0.7958,      0.7968,      0.7978,      0.7988,      0.7998,      0.8008,      0.8018,      0.8028,      0.8038,      0.8048,     0.80581,     0.80681,     0.80781,     0.80881,     0.80981,     0.81081,     0.81181,     0.81281,     0.81381,     0.81481,     0.81582,\n",
       "           0.81682,     0.81782,     0.81882,     0.81982,     0.82082,     0.82182,     0.82282,     0.82382,     0.82482,     0.82583,     0.82683,     0.82783,     0.82883,     0.82983,     0.83083,     0.83183,     0.83283,     0.83383,     0.83483,     0.83584,     0.83684,     0.83784,     0.83884,     0.83984,\n",
       "           0.84084,     0.84184,     0.84284,     0.84384,     0.84484,     0.84585,     0.84685,     0.84785,     0.84885,     0.84985,     0.85085,     0.85185,     0.85285,     0.85385,     0.85485,     0.85586,     0.85686,     0.85786,     0.85886,     0.85986,     0.86086,     0.86186,     0.86286,     0.86386,\n",
       "           0.86486,     0.86587,     0.86687,     0.86787,     0.86887,     0.86987,     0.87087,     0.87187,     0.87287,     0.87387,     0.87487,     0.87588,     0.87688,     0.87788,     0.87888,     0.87988,     0.88088,     0.88188,     0.88288,     0.88388,     0.88488,     0.88589,     0.88689,     0.88789,\n",
       "           0.88889,     0.88989,     0.89089,     0.89189,     0.89289,     0.89389,     0.89489,      0.8959,      0.8969,      0.8979,      0.8989,      0.8999,      0.9009,      0.9019,      0.9029,      0.9039,      0.9049,     0.90591,     0.90691,     0.90791,     0.90891,     0.90991,     0.91091,     0.91191,\n",
       "           0.91291,     0.91391,     0.91491,     0.91592,     0.91692,     0.91792,     0.91892,     0.91992,     0.92092,     0.92192,     0.92292,     0.92392,     0.92492,     0.92593,     0.92693,     0.92793,     0.92893,     0.92993,     0.93093,     0.93193,     0.93293,     0.93393,     0.93493,     0.93594,\n",
       "           0.93694,     0.93794,     0.93894,     0.93994,     0.94094,     0.94194,     0.94294,     0.94394,     0.94494,     0.94595,     0.94695,     0.94795,     0.94895,     0.94995,     0.95095,     0.95195,     0.95295,     0.95395,     0.95495,     0.95596,     0.95696,     0.95796,     0.95896,     0.95996,\n",
       "           0.96096,     0.96196,     0.96296,     0.96396,     0.96496,     0.96597,     0.96697,     0.96797,     0.96897,     0.96997,     0.97097,     0.97197,     0.97297,     0.97397,     0.97497,     0.97598,     0.97698,     0.97798,     0.97898,     0.97998,     0.98098,     0.98198,     0.98298,     0.98398,\n",
       "           0.98498,     0.98599,     0.98699,     0.98799,     0.98899,     0.98999,     0.99099,     0.99199,     0.99299,     0.99399,     0.99499,       0.996,       0.997,       0.998,       0.999,           1]), array([[    0.81818,     0.81818,     0.81818, ...,           0,           0,           0],\n",
       "       [          1,           1,           1, ...,           0,           0,           0],\n",
       "       [    0.91667,     0.91667,     0.91667, ...,           0,           0,           0],\n",
       "       ...,\n",
       "       [          1,           1,           1, ...,           0,           0,           0],\n",
       "       [          1,           1,           1, ...,           0,           0,           0],\n",
       "       [          1,           1,           1, ...,           0,           0,           0]]), 'Confidence', 'Recall']]\n",
       "fitness: 0.9153482387786702\n",
       "keys: ['metrics/precision(B)', 'metrics/recall(B)', 'metrics/mAP50(B)', 'metrics/mAP50-95(B)']\n",
       "maps: array([    0.61043,       0.545,     0.80796,     0.97091,     0.98195,     0.96543,      0.9734,      0.9875,     0.97954,     0.95868,     0.98936,     0.99164,     0.99004,      0.9946,     0.98322])\n",
       "names: {0: 'Agriculture', 1: 'Airport', 2: 'Beach', 3: 'City', 4: 'Desert', 5: 'Forest', 6: 'Grassland', 7: 'Highway', 8: 'Lake', 9: 'Mountain', 10: 'Parking', 11: 'Port', 12: 'Railway', 13: 'Residential', 14: 'River'}\n",
       "plot: True\n",
       "results_dict: {'metrics/precision(B)': 0.9051061135974973, 'metrics/recall(B)': 0.8669655950488686, 'metrics/mAP50(B)': 0.9156907250599587, 'metrics/mAP50-95(B)': 0.9153101847474159, 'fitness': 0.9153482387786702}\n",
       "save_dir: WindowsPath('runs/detect/skyview_yolo2')\n",
       "speed: {'preprocess': 0.21034662509919144, 'inference': 3.2811633750316105, 'loss': 0.00026425001124152914, 'postprocess': 0.9765516250990913}\n",
       "task: 'detect'"
      ]
     },
     "execution_count": 10,
     "metadata": {},
     "output_type": "execute_result"
    }
   ],
   "source": [
    "from ultralytics import YOLO\n",
    "\n",
    "\n",
    "model = YOLO('yolov5s.pt')\n",
    "\n",
    "\n",
    "model.train(\n",
    "    data='skyview.yaml',\n",
    "    epochs=30,\n",
    "    imgsz=640,\n",
    "    batch=16,\n",
    "    name='skyview_yolo'\n",
    ")"
   ]
  },
  {
   "cell_type": "code",
   "execution_count": 12,
   "metadata": {},
   "outputs": [
    {
     "name": "stdout",
     "output_type": "stream",
     "text": [
      "\n",
      "image 1/800 C:\\Users\\15984\\Desktop\\COMP9517PROJECT\\skyview_yolo_dataset\\images\\test\\001.jpg: 640x640 1 River, 31.1ms\n",
      "image 2/800 C:\\Users\\15984\\Desktop\\COMP9517PROJECT\\skyview_yolo_dataset\\images\\test\\002.jpg: 640x640 1 River, 32.0ms\n",
      "image 3/800 C:\\Users\\15984\\Desktop\\COMP9517PROJECT\\skyview_yolo_dataset\\images\\test\\003.jpg: 640x640 1 River, 31.3ms\n",
      "image 4/800 C:\\Users\\15984\\Desktop\\COMP9517PROJECT\\skyview_yolo_dataset\\images\\test\\004.jpg: 640x640 1 Residential, 18.7ms\n",
      "image 5/800 C:\\Users\\15984\\Desktop\\COMP9517PROJECT\\skyview_yolo_dataset\\images\\test\\005.jpg: 640x640 1 Port, 8.4ms\n",
      "image 6/800 C:\\Users\\15984\\Desktop\\COMP9517PROJECT\\skyview_yolo_dataset\\images\\test\\006.jpg: 640x640 1 Residential, 8.6ms\n",
      "image 7/800 C:\\Users\\15984\\Desktop\\COMP9517PROJECT\\skyview_yolo_dataset\\images\\test\\007.jpg: 640x640 1 Railway, 8.6ms\n",
      "image 8/800 C:\\Users\\15984\\Desktop\\COMP9517PROJECT\\skyview_yolo_dataset\\images\\test\\008.jpg: 640x640 1 River, 15.6ms\n",
      "image 9/800 C:\\Users\\15984\\Desktop\\COMP9517PROJECT\\skyview_yolo_dataset\\images\\test\\009.jpg: 640x640 1 River, 8.3ms\n",
      "image 10/800 C:\\Users\\15984\\Desktop\\COMP9517PROJECT\\skyview_yolo_dataset\\images\\test\\010.jpg: 640x640 1 Residential, 15.0ms\n",
      "image 11/800 C:\\Users\\15984\\Desktop\\COMP9517PROJECT\\skyview_yolo_dataset\\images\\test\\011.jpg: 640x640 1 River, 8.6ms\n",
      "image 12/800 C:\\Users\\15984\\Desktop\\COMP9517PROJECT\\skyview_yolo_dataset\\images\\test\\012.jpg: 640x640 1 River, 9.7ms\n",
      "image 13/800 C:\\Users\\15984\\Desktop\\COMP9517PROJECT\\skyview_yolo_dataset\\images\\test\\013.jpg: 640x640 1 Residential, 8.5ms\n",
      "image 14/800 C:\\Users\\15984\\Desktop\\COMP9517PROJECT\\skyview_yolo_dataset\\images\\test\\014.jpg: 640x640 1 Residential, 9.2ms\n",
      "image 15/800 C:\\Users\\15984\\Desktop\\COMP9517PROJECT\\skyview_yolo_dataset\\images\\test\\015.jpg: 640x640 1 River, 8.5ms\n",
      "image 16/800 C:\\Users\\15984\\Desktop\\COMP9517PROJECT\\skyview_yolo_dataset\\images\\test\\016.jpg: 640x640 1 River, 15.8ms\n",
      "image 17/800 C:\\Users\\15984\\Desktop\\COMP9517PROJECT\\skyview_yolo_dataset\\images\\test\\017.jpg: 640x640 1 River, 8.9ms\n",
      "image 18/800 C:\\Users\\15984\\Desktop\\COMP9517PROJECT\\skyview_yolo_dataset\\images\\test\\018.jpg: 640x640 1 River, 8.6ms\n",
      "image 19/800 C:\\Users\\15984\\Desktop\\COMP9517PROJECT\\skyview_yolo_dataset\\images\\test\\019.jpg: 640x640 1 River, 8.7ms\n",
      "image 20/800 C:\\Users\\15984\\Desktop\\COMP9517PROJECT\\skyview_yolo_dataset\\images\\test\\020.jpg: 640x640 1 Residential, 8.3ms\n",
      "image 21/800 C:\\Users\\15984\\Desktop\\COMP9517PROJECT\\skyview_yolo_dataset\\images\\test\\021.jpg: 640x640 1 River, 8.1ms\n",
      "image 22/800 C:\\Users\\15984\\Desktop\\COMP9517PROJECT\\skyview_yolo_dataset\\images\\test\\022.jpg: 640x640 1 River, 8.3ms\n",
      "image 23/800 C:\\Users\\15984\\Desktop\\COMP9517PROJECT\\skyview_yolo_dataset\\images\\test\\023.jpg: 640x640 1 River, 8.7ms\n",
      "image 24/800 C:\\Users\\15984\\Desktop\\COMP9517PROJECT\\skyview_yolo_dataset\\images\\test\\024.jpg: 640x640 1 River, 8.6ms\n",
      "image 25/800 C:\\Users\\15984\\Desktop\\COMP9517PROJECT\\skyview_yolo_dataset\\images\\test\\025.jpg: 640x640 1 River, 8.4ms\n",
      "image 26/800 C:\\Users\\15984\\Desktop\\COMP9517PROJECT\\skyview_yolo_dataset\\images\\test\\026.jpg: 640x640 1 Agriculture, 1 River, 8.9ms\n",
      "image 27/800 C:\\Users\\15984\\Desktop\\COMP9517PROJECT\\skyview_yolo_dataset\\images\\test\\027.jpg: 640x640 1 River, 8.8ms\n",
      "image 28/800 C:\\Users\\15984\\Desktop\\COMP9517PROJECT\\skyview_yolo_dataset\\images\\test\\028.jpg: 640x640 1 Residential, 8.8ms\n",
      "image 29/800 C:\\Users\\15984\\Desktop\\COMP9517PROJECT\\skyview_yolo_dataset\\images\\test\\029.jpg: 640x640 1 River, 8.3ms\n",
      "image 30/800 C:\\Users\\15984\\Desktop\\COMP9517PROJECT\\skyview_yolo_dataset\\images\\test\\030.jpg: 640x640 1 River, 8.9ms\n",
      "image 31/800 C:\\Users\\15984\\Desktop\\COMP9517PROJECT\\skyview_yolo_dataset\\images\\test\\031.jpg: 640x640 1 Residential, 8.7ms\n",
      "image 32/800 C:\\Users\\15984\\Desktop\\COMP9517PROJECT\\skyview_yolo_dataset\\images\\test\\032.jpg: 640x640 1 River, 8.7ms\n",
      "image 33/800 C:\\Users\\15984\\Desktop\\COMP9517PROJECT\\skyview_yolo_dataset\\images\\test\\033.jpg: 640x640 1 River, 8.4ms\n",
      "image 34/800 C:\\Users\\15984\\Desktop\\COMP9517PROJECT\\skyview_yolo_dataset\\images\\test\\034.jpg: 640x640 1 River, 9.2ms\n",
      "image 35/800 C:\\Users\\15984\\Desktop\\COMP9517PROJECT\\skyview_yolo_dataset\\images\\test\\035.jpg: 640x640 1 River, 8.5ms\n",
      "image 36/800 C:\\Users\\15984\\Desktop\\COMP9517PROJECT\\skyview_yolo_dataset\\images\\test\\036.jpg: 640x640 1 Residential, 8.5ms\n",
      "image 37/800 C:\\Users\\15984\\Desktop\\COMP9517PROJECT\\skyview_yolo_dataset\\images\\test\\037.jpg: 640x640 1 River, 8.6ms\n",
      "image 38/800 C:\\Users\\15984\\Desktop\\COMP9517PROJECT\\skyview_yolo_dataset\\images\\test\\038.jpg: 640x640 1 Residential, 1 River, 8.5ms\n",
      "image 39/800 C:\\Users\\15984\\Desktop\\COMP9517PROJECT\\skyview_yolo_dataset\\images\\test\\039.jpg: 640x640 1 River, 9.3ms\n",
      "image 40/800 C:\\Users\\15984\\Desktop\\COMP9517PROJECT\\skyview_yolo_dataset\\images\\test\\040.jpg: 640x640 1 Port, 9.0ms\n",
      "image 41/800 C:\\Users\\15984\\Desktop\\COMP9517PROJECT\\skyview_yolo_dataset\\images\\test\\041.jpg: 640x640 1 River, 17.0ms\n",
      "image 42/800 C:\\Users\\15984\\Desktop\\COMP9517PROJECT\\skyview_yolo_dataset\\images\\test\\042.jpg: 640x640 1 River, 9.4ms\n",
      "image 43/800 C:\\Users\\15984\\Desktop\\COMP9517PROJECT\\skyview_yolo_dataset\\images\\test\\043.jpg: 640x640 1 Grassland, 9.9ms\n",
      "image 44/800 C:\\Users\\15984\\Desktop\\COMP9517PROJECT\\skyview_yolo_dataset\\images\\test\\044.jpg: 640x640 1 Residential, 8.9ms\n",
      "image 45/800 C:\\Users\\15984\\Desktop\\COMP9517PROJECT\\skyview_yolo_dataset\\images\\test\\045.jpg: 640x640 1 River, 10.2ms\n",
      "image 46/800 C:\\Users\\15984\\Desktop\\COMP9517PROJECT\\skyview_yolo_dataset\\images\\test\\046.jpg: 640x640 1 River, 17.3ms\n",
      "image 47/800 C:\\Users\\15984\\Desktop\\COMP9517PROJECT\\skyview_yolo_dataset\\images\\test\\047.jpg: 640x640 1 Residential, 8.9ms\n",
      "image 48/800 C:\\Users\\15984\\Desktop\\COMP9517PROJECT\\skyview_yolo_dataset\\images\\test\\048.jpg: 640x640 1 Railway, 9.6ms\n",
      "image 49/800 C:\\Users\\15984\\Desktop\\COMP9517PROJECT\\skyview_yolo_dataset\\images\\test\\049.jpg: 640x640 1 River, 9.2ms\n",
      "image 50/800 C:\\Users\\15984\\Desktop\\COMP9517PROJECT\\skyview_yolo_dataset\\images\\test\\050.jpg: 640x640 1 River, 9.3ms\n",
      "image 51/800 C:\\Users\\15984\\Desktop\\COMP9517PROJECT\\skyview_yolo_dataset\\images\\test\\051.jpg: 640x640 1 River, 17.2ms\n",
      "image 52/800 C:\\Users\\15984\\Desktop\\COMP9517PROJECT\\skyview_yolo_dataset\\images\\test\\052.jpg: 640x640 1 Residential, 9.2ms\n",
      "image 53/800 C:\\Users\\15984\\Desktop\\COMP9517PROJECT\\skyview_yolo_dataset\\images\\test\\053.jpg: 640x640 1 River, 12.1ms\n",
      "image 54/800 C:\\Users\\15984\\Desktop\\COMP9517PROJECT\\skyview_yolo_dataset\\images\\test\\054.jpg: 640x640 1 River, 11.7ms\n",
      "image 55/800 C:\\Users\\15984\\Desktop\\COMP9517PROJECT\\skyview_yolo_dataset\\images\\test\\055.jpg: 640x640 1 River, 13.1ms\n",
      "image 56/800 C:\\Users\\15984\\Desktop\\COMP9517PROJECT\\skyview_yolo_dataset\\images\\test\\056.jpg: 640x640 1 River, 9.8ms\n",
      "image 57/800 C:\\Users\\15984\\Desktop\\COMP9517PROJECT\\skyview_yolo_dataset\\images\\test\\057.jpg: 640x640 1 Railway, 10.0ms\n",
      "image 58/800 C:\\Users\\15984\\Desktop\\COMP9517PROJECT\\skyview_yolo_dataset\\images\\test\\058.jpg: 640x640 1 Mountain, 1 River, 9.6ms\n",
      "image 59/800 C:\\Users\\15984\\Desktop\\COMP9517PROJECT\\skyview_yolo_dataset\\images\\test\\059.jpg: 640x640 1 River, 10.0ms\n",
      "image 60/800 C:\\Users\\15984\\Desktop\\COMP9517PROJECT\\skyview_yolo_dataset\\images\\test\\060.jpg: 640x640 1 River, 9.4ms\n",
      "image 61/800 C:\\Users\\15984\\Desktop\\COMP9517PROJECT\\skyview_yolo_dataset\\images\\test\\061.jpg: 640x640 1 River, 9.8ms\n",
      "image 62/800 C:\\Users\\15984\\Desktop\\COMP9517PROJECT\\skyview_yolo_dataset\\images\\test\\062.jpg: 640x640 1 Parking, 9.4ms\n",
      "image 63/800 C:\\Users\\15984\\Desktop\\COMP9517PROJECT\\skyview_yolo_dataset\\images\\test\\063.jpg: 640x640 1 Residential, 9.6ms\n",
      "image 64/800 C:\\Users\\15984\\Desktop\\COMP9517PROJECT\\skyview_yolo_dataset\\images\\test\\064.jpg: 640x640 1 River, 9.3ms\n",
      "image 65/800 C:\\Users\\15984\\Desktop\\COMP9517PROJECT\\skyview_yolo_dataset\\images\\test\\065.jpg: 640x640 1 Residential, 9.3ms\n",
      "image 66/800 C:\\Users\\15984\\Desktop\\COMP9517PROJECT\\skyview_yolo_dataset\\images\\test\\066.jpg: 640x640 1 River, 9.2ms\n",
      "image 67/800 C:\\Users\\15984\\Desktop\\COMP9517PROJECT\\skyview_yolo_dataset\\images\\test\\067.jpg: 640x640 1 River, 9.4ms\n",
      "image 68/800 C:\\Users\\15984\\Desktop\\COMP9517PROJECT\\skyview_yolo_dataset\\images\\test\\068.jpg: 640x640 1 River, 9.1ms\n",
      "image 69/800 C:\\Users\\15984\\Desktop\\COMP9517PROJECT\\skyview_yolo_dataset\\images\\test\\069.jpg: 640x640 1 River, 9.2ms\n",
      "image 70/800 C:\\Users\\15984\\Desktop\\COMP9517PROJECT\\skyview_yolo_dataset\\images\\test\\070.jpg: 640x640 1 Railway, 13.2ms\n",
      "image 71/800 C:\\Users\\15984\\Desktop\\COMP9517PROJECT\\skyview_yolo_dataset\\images\\test\\071.jpg: 640x640 1 River, 15.7ms\n",
      "image 72/800 C:\\Users\\15984\\Desktop\\COMP9517PROJECT\\skyview_yolo_dataset\\images\\test\\072.jpg: 640x640 1 River, 9.4ms\n",
      "image 73/800 C:\\Users\\15984\\Desktop\\COMP9517PROJECT\\skyview_yolo_dataset\\images\\test\\073.jpg: 640x640 1 River, 8.6ms\n",
      "image 74/800 C:\\Users\\15984\\Desktop\\COMP9517PROJECT\\skyview_yolo_dataset\\images\\test\\074.jpg: 640x640 1 Residential, 8.7ms\n",
      "image 75/800 C:\\Users\\15984\\Desktop\\COMP9517PROJECT\\skyview_yolo_dataset\\images\\test\\075.jpg: 640x640 1 Residential, 8.8ms\n",
      "image 76/800 C:\\Users\\15984\\Desktop\\COMP9517PROJECT\\skyview_yolo_dataset\\images\\test\\076.jpg: 640x640 1 River, 9.2ms\n",
      "image 77/800 C:\\Users\\15984\\Desktop\\COMP9517PROJECT\\skyview_yolo_dataset\\images\\test\\077.jpg: 640x640 1 River, 9.0ms\n",
      "image 78/800 C:\\Users\\15984\\Desktop\\COMP9517PROJECT\\skyview_yolo_dataset\\images\\test\\078.jpg: 640x640 1 River, 8.7ms\n",
      "image 79/800 C:\\Users\\15984\\Desktop\\COMP9517PROJECT\\skyview_yolo_dataset\\images\\test\\079.jpg: 640x640 1 River, 8.9ms\n",
      "image 80/800 C:\\Users\\15984\\Desktop\\COMP9517PROJECT\\skyview_yolo_dataset\\images\\test\\080.jpg: 640x640 1 Grassland, 9.0ms\n",
      "image 81/800 C:\\Users\\15984\\Desktop\\COMP9517PROJECT\\skyview_yolo_dataset\\images\\test\\081.jpg: 640x640 1 Residential, 8.9ms\n",
      "image 82/800 C:\\Users\\15984\\Desktop\\COMP9517PROJECT\\skyview_yolo_dataset\\images\\test\\082.jpg: 640x640 1 Residential, 9.2ms\n",
      "image 83/800 C:\\Users\\15984\\Desktop\\COMP9517PROJECT\\skyview_yolo_dataset\\images\\test\\083.jpg: 640x640 1 Highway, 1 River, 15.8ms\n",
      "image 84/800 C:\\Users\\15984\\Desktop\\COMP9517PROJECT\\skyview_yolo_dataset\\images\\test\\084.jpg: 640x640 1 Residential, 8.9ms\n",
      "image 85/800 C:\\Users\\15984\\Desktop\\COMP9517PROJECT\\skyview_yolo_dataset\\images\\test\\085.jpg: 640x640 1 River, 9.3ms\n",
      "image 86/800 C:\\Users\\15984\\Desktop\\COMP9517PROJECT\\skyview_yolo_dataset\\images\\test\\086.jpg: 640x640 1 Lake, 9.2ms\n",
      "image 87/800 C:\\Users\\15984\\Desktop\\COMP9517PROJECT\\skyview_yolo_dataset\\images\\test\\087.jpg: 640x640 1 Residential, 10.0ms\n",
      "image 88/800 C:\\Users\\15984\\Desktop\\COMP9517PROJECT\\skyview_yolo_dataset\\images\\test\\088.jpg: 640x640 1 River, 9.1ms\n",
      "image 89/800 C:\\Users\\15984\\Desktop\\COMP9517PROJECT\\skyview_yolo_dataset\\images\\test\\089.jpg: 640x640 1 River, 9.0ms\n",
      "image 90/800 C:\\Users\\15984\\Desktop\\COMP9517PROJECT\\skyview_yolo_dataset\\images\\test\\090.jpg: 640x640 1 Railway, 9.2ms\n",
      "image 91/800 C:\\Users\\15984\\Desktop\\COMP9517PROJECT\\skyview_yolo_dataset\\images\\test\\091.jpg: 640x640 1 Mountain, 8.8ms\n",
      "image 92/800 C:\\Users\\15984\\Desktop\\COMP9517PROJECT\\skyview_yolo_dataset\\images\\test\\092.jpg: 640x640 1 River, 8.8ms\n",
      "image 93/800 C:\\Users\\15984\\Desktop\\COMP9517PROJECT\\skyview_yolo_dataset\\images\\test\\093.jpg: 640x640 1 River, 8.7ms\n",
      "image 94/800 C:\\Users\\15984\\Desktop\\COMP9517PROJECT\\skyview_yolo_dataset\\images\\test\\094.jpg: 640x640 1 River, 9.4ms\n",
      "image 95/800 C:\\Users\\15984\\Desktop\\COMP9517PROJECT\\skyview_yolo_dataset\\images\\test\\095.jpg: 640x640 1 Residential, 8.6ms\n",
      "image 96/800 C:\\Users\\15984\\Desktop\\COMP9517PROJECT\\skyview_yolo_dataset\\images\\test\\096.jpg: 640x640 1 River, 8.5ms\n",
      "image 97/800 C:\\Users\\15984\\Desktop\\COMP9517PROJECT\\skyview_yolo_dataset\\images\\test\\097.jpg: 640x640 1 River, 8.6ms\n",
      "image 98/800 C:\\Users\\15984\\Desktop\\COMP9517PROJECT\\skyview_yolo_dataset\\images\\test\\098.jpg: 640x640 1 River, 13.2ms\n",
      "image 99/800 C:\\Users\\15984\\Desktop\\COMP9517PROJECT\\skyview_yolo_dataset\\images\\test\\099.jpg: 640x640 1 Lake, 8.2ms\n",
      "image 100/800 C:\\Users\\15984\\Desktop\\COMP9517PROJECT\\skyview_yolo_dataset\\images\\test\\100.jpg: 640x640 1 Railway, 8.9ms\n",
      "image 101/800 C:\\Users\\15984\\Desktop\\COMP9517PROJECT\\skyview_yolo_dataset\\images\\test\\101.jpg: 640x640 1 River, 8.5ms\n",
      "image 102/800 C:\\Users\\15984\\Desktop\\COMP9517PROJECT\\skyview_yolo_dataset\\images\\test\\102.jpg: 640x640 1 River, 8.7ms\n",
      "image 103/800 C:\\Users\\15984\\Desktop\\COMP9517PROJECT\\skyview_yolo_dataset\\images\\test\\103.jpg: 640x640 1 River, 8.6ms\n",
      "image 104/800 C:\\Users\\15984\\Desktop\\COMP9517PROJECT\\skyview_yolo_dataset\\images\\test\\104.jpg: 640x640 1 River, 8.4ms\n",
      "image 105/800 C:\\Users\\15984\\Desktop\\COMP9517PROJECT\\skyview_yolo_dataset\\images\\test\\105.jpg: 640x640 1 Agriculture, 1 River, 8.1ms\n",
      "image 106/800 C:\\Users\\15984\\Desktop\\COMP9517PROJECT\\skyview_yolo_dataset\\images\\test\\106.jpg: 640x640 1 Residential, 8.9ms\n",
      "image 107/800 C:\\Users\\15984\\Desktop\\COMP9517PROJECT\\skyview_yolo_dataset\\images\\test\\107.jpg: 640x640 1 Residential, 8.3ms\n",
      "image 108/800 C:\\Users\\15984\\Desktop\\COMP9517PROJECT\\skyview_yolo_dataset\\images\\test\\108.jpg: 640x640 1 River, 8.2ms\n",
      "image 109/800 C:\\Users\\15984\\Desktop\\COMP9517PROJECT\\skyview_yolo_dataset\\images\\test\\109.jpg: 640x640 1 Residential, 8.6ms\n",
      "image 110/800 C:\\Users\\15984\\Desktop\\COMP9517PROJECT\\skyview_yolo_dataset\\images\\test\\110.jpg: 640x640 1 River, 8.3ms\n",
      "image 111/800 C:\\Users\\15984\\Desktop\\COMP9517PROJECT\\skyview_yolo_dataset\\images\\test\\111.jpg: 640x640 1 Agriculture, 1 River, 8.4ms\n",
      "image 112/800 C:\\Users\\15984\\Desktop\\COMP9517PROJECT\\skyview_yolo_dataset\\images\\test\\112.jpg: 640x640 1 River, 8.3ms\n",
      "image 113/800 C:\\Users\\15984\\Desktop\\COMP9517PROJECT\\skyview_yolo_dataset\\images\\test\\113.jpg: 640x640 1 Agriculture, 1 River, 8.8ms\n",
      "image 114/800 C:\\Users\\15984\\Desktop\\COMP9517PROJECT\\skyview_yolo_dataset\\images\\test\\114.jpg: 640x640 1 River, 8.8ms\n",
      "image 115/800 C:\\Users\\15984\\Desktop\\COMP9517PROJECT\\skyview_yolo_dataset\\images\\test\\115.jpg: 640x640 1 River, 8.5ms\n",
      "image 116/800 C:\\Users\\15984\\Desktop\\COMP9517PROJECT\\skyview_yolo_dataset\\images\\test\\116.jpg: 640x640 1 River, 8.5ms\n",
      "image 117/800 C:\\Users\\15984\\Desktop\\COMP9517PROJECT\\skyview_yolo_dataset\\images\\test\\117.jpg: 640x640 1 River, 14.4ms\n",
      "image 118/800 C:\\Users\\15984\\Desktop\\COMP9517PROJECT\\skyview_yolo_dataset\\images\\test\\118.jpg: 640x640 1 River, 16.4ms\n",
      "image 119/800 C:\\Users\\15984\\Desktop\\COMP9517PROJECT\\skyview_yolo_dataset\\images\\test\\119.jpg: 640x640 1 River, 9.0ms\n",
      "image 120/800 C:\\Users\\15984\\Desktop\\COMP9517PROJECT\\skyview_yolo_dataset\\images\\test\\120.jpg: 640x640 1 River, 8.7ms\n",
      "image 121/800 C:\\Users\\15984\\Desktop\\COMP9517PROJECT\\skyview_yolo_dataset\\images\\test\\121.jpg: 640x640 1 River, 14.0ms\n",
      "image 122/800 C:\\Users\\15984\\Desktop\\COMP9517PROJECT\\skyview_yolo_dataset\\images\\test\\122.jpg: 640x640 1 River, 8.7ms\n",
      "image 123/800 C:\\Users\\15984\\Desktop\\COMP9517PROJECT\\skyview_yolo_dataset\\images\\test\\123.jpg: 640x640 1 Railway, 8.7ms\n",
      "image 124/800 C:\\Users\\15984\\Desktop\\COMP9517PROJECT\\skyview_yolo_dataset\\images\\test\\124.jpg: 640x640 1 River, 8.4ms\n",
      "image 125/800 C:\\Users\\15984\\Desktop\\COMP9517PROJECT\\skyview_yolo_dataset\\images\\test\\125.jpg: 640x640 1 River, 13.7ms\n",
      "image 126/800 C:\\Users\\15984\\Desktop\\COMP9517PROJECT\\skyview_yolo_dataset\\images\\test\\126.jpg: 640x640 1 River, 11.2ms\n",
      "image 127/800 C:\\Users\\15984\\Desktop\\COMP9517PROJECT\\skyview_yolo_dataset\\images\\test\\127.jpg: 640x640 1 River, 9.0ms\n",
      "image 128/800 C:\\Users\\15984\\Desktop\\COMP9517PROJECT\\skyview_yolo_dataset\\images\\test\\128.jpg: 640x640 1 Residential, 8.4ms\n",
      "image 129/800 C:\\Users\\15984\\Desktop\\COMP9517PROJECT\\skyview_yolo_dataset\\images\\test\\129.jpg: 640x640 1 River, 8.2ms\n",
      "image 130/800 C:\\Users\\15984\\Desktop\\COMP9517PROJECT\\skyview_yolo_dataset\\images\\test\\130.jpg: 640x640 1 River, 8.4ms\n",
      "image 131/800 C:\\Users\\15984\\Desktop\\COMP9517PROJECT\\skyview_yolo_dataset\\images\\test\\131.jpg: 640x640 1 River, 8.6ms\n",
      "image 132/800 C:\\Users\\15984\\Desktop\\COMP9517PROJECT\\skyview_yolo_dataset\\images\\test\\132.jpg: 640x640 1 River, 9.0ms\n",
      "image 133/800 C:\\Users\\15984\\Desktop\\COMP9517PROJECT\\skyview_yolo_dataset\\images\\test\\133.jpg: 640x640 1 River, 8.5ms\n",
      "image 134/800 C:\\Users\\15984\\Desktop\\COMP9517PROJECT\\skyview_yolo_dataset\\images\\test\\134.jpg: 640x640 1 River, 8.3ms\n",
      "image 135/800 C:\\Users\\15984\\Desktop\\COMP9517PROJECT\\skyview_yolo_dataset\\images\\test\\135.jpg: 640x640 1 Residential, 7.9ms\n",
      "image 136/800 C:\\Users\\15984\\Desktop\\COMP9517PROJECT\\skyview_yolo_dataset\\images\\test\\136.jpg: 640x640 1 Residential, 8.5ms\n",
      "image 137/800 C:\\Users\\15984\\Desktop\\COMP9517PROJECT\\skyview_yolo_dataset\\images\\test\\137.jpg: 640x640 1 River, 13.5ms\n",
      "image 138/800 C:\\Users\\15984\\Desktop\\COMP9517PROJECT\\skyview_yolo_dataset\\images\\test\\138.jpg: 640x640 1 River, 8.2ms\n",
      "image 139/800 C:\\Users\\15984\\Desktop\\COMP9517PROJECT\\skyview_yolo_dataset\\images\\test\\139.jpg: 640x640 1 River, 8.3ms\n",
      "image 140/800 C:\\Users\\15984\\Desktop\\COMP9517PROJECT\\skyview_yolo_dataset\\images\\test\\140.jpg: 640x640 1 River, 9.3ms\n",
      "image 141/800 C:\\Users\\15984\\Desktop\\COMP9517PROJECT\\skyview_yolo_dataset\\images\\test\\141.jpg: 640x640 1 River, 9.5ms\n",
      "image 142/800 C:\\Users\\15984\\Desktop\\COMP9517PROJECT\\skyview_yolo_dataset\\images\\test\\142.jpg: 640x640 1 Residential, 9.1ms\n",
      "image 143/800 C:\\Users\\15984\\Desktop\\COMP9517PROJECT\\skyview_yolo_dataset\\images\\test\\143.jpg: 640x640 1 Residential, 16.0ms\n",
      "image 144/800 C:\\Users\\15984\\Desktop\\COMP9517PROJECT\\skyview_yolo_dataset\\images\\test\\144.jpg: 640x640 1 River, 17.5ms\n",
      "image 145/800 C:\\Users\\15984\\Desktop\\COMP9517PROJECT\\skyview_yolo_dataset\\images\\test\\145.jpg: 640x640 1 Residential, 8.8ms\n",
      "image 146/800 C:\\Users\\15984\\Desktop\\COMP9517PROJECT\\skyview_yolo_dataset\\images\\test\\146.jpg: 640x640 1 River, 11.4ms\n",
      "image 147/800 C:\\Users\\15984\\Desktop\\COMP9517PROJECT\\skyview_yolo_dataset\\images\\test\\147.jpg: 640x640 1 River, 8.6ms\n",
      "image 148/800 C:\\Users\\15984\\Desktop\\COMP9517PROJECT\\skyview_yolo_dataset\\images\\test\\148.jpg: 640x640 1 Lake, 1 River, 8.9ms\n",
      "image 149/800 C:\\Users\\15984\\Desktop\\COMP9517PROJECT\\skyview_yolo_dataset\\images\\test\\149.jpg: 640x640 1 River, 8.6ms\n",
      "image 150/800 C:\\Users\\15984\\Desktop\\COMP9517PROJECT\\skyview_yolo_dataset\\images\\test\\150.jpg: 640x640 1 Residential, 8.7ms\n",
      "image 151/800 C:\\Users\\15984\\Desktop\\COMP9517PROJECT\\skyview_yolo_dataset\\images\\test\\151.jpg: 640x640 1 Railway, 14.7ms\n",
      "image 152/800 C:\\Users\\15984\\Desktop\\COMP9517PROJECT\\skyview_yolo_dataset\\images\\test\\152.jpg: 640x640 1 Residential, 9.2ms\n",
      "image 153/800 C:\\Users\\15984\\Desktop\\COMP9517PROJECT\\skyview_yolo_dataset\\images\\test\\153.jpg: 640x640 1 River, 8.7ms\n",
      "image 154/800 C:\\Users\\15984\\Desktop\\COMP9517PROJECT\\skyview_yolo_dataset\\images\\test\\154.jpg: 640x640 1 River, 13.4ms\n",
      "image 155/800 C:\\Users\\15984\\Desktop\\COMP9517PROJECT\\skyview_yolo_dataset\\images\\test\\155.jpg: 640x640 1 Residential, 8.7ms\n",
      "image 156/800 C:\\Users\\15984\\Desktop\\COMP9517PROJECT\\skyview_yolo_dataset\\images\\test\\156.jpg: 640x640 1 River, 8.9ms\n",
      "image 157/800 C:\\Users\\15984\\Desktop\\COMP9517PROJECT\\skyview_yolo_dataset\\images\\test\\157.jpg: 640x640 1 River, 8.2ms\n",
      "image 158/800 C:\\Users\\15984\\Desktop\\COMP9517PROJECT\\skyview_yolo_dataset\\images\\test\\158.jpg: 640x640 1 River, 8.7ms\n",
      "image 159/800 C:\\Users\\15984\\Desktop\\COMP9517PROJECT\\skyview_yolo_dataset\\images\\test\\159.jpg: 640x640 1 River, 8.4ms\n",
      "image 160/800 C:\\Users\\15984\\Desktop\\COMP9517PROJECT\\skyview_yolo_dataset\\images\\test\\160.jpg: 640x640 1 Residential, 9.5ms\n",
      "image 161/800 C:\\Users\\15984\\Desktop\\COMP9517PROJECT\\skyview_yolo_dataset\\images\\test\\161.jpg: 640x640 1 River, 8.2ms\n",
      "image 162/800 C:\\Users\\15984\\Desktop\\COMP9517PROJECT\\skyview_yolo_dataset\\images\\test\\162.jpg: 640x640 1 Residential, 9.3ms\n",
      "image 163/800 C:\\Users\\15984\\Desktop\\COMP9517PROJECT\\skyview_yolo_dataset\\images\\test\\163.jpg: 640x640 1 Residential, 10.9ms\n",
      "image 164/800 C:\\Users\\15984\\Desktop\\COMP9517PROJECT\\skyview_yolo_dataset\\images\\test\\164.jpg: 640x640 1 Residential, 9.2ms\n",
      "image 165/800 C:\\Users\\15984\\Desktop\\COMP9517PROJECT\\skyview_yolo_dataset\\images\\test\\165.jpg: 640x640 1 Residential, 9.2ms\n",
      "image 166/800 C:\\Users\\15984\\Desktop\\COMP9517PROJECT\\skyview_yolo_dataset\\images\\test\\166.jpg: 640x640 1 Residential, 9.0ms\n",
      "image 167/800 C:\\Users\\15984\\Desktop\\COMP9517PROJECT\\skyview_yolo_dataset\\images\\test\\167.jpg: 640x640 1 River, 8.9ms\n",
      "image 168/800 C:\\Users\\15984\\Desktop\\COMP9517PROJECT\\skyview_yolo_dataset\\images\\test\\168.jpg: 640x640 1 River, 10.0ms\n",
      "image 169/800 C:\\Users\\15984\\Desktop\\COMP9517PROJECT\\skyview_yolo_dataset\\images\\test\\169.jpg: 640x640 1 Railway, 9.5ms\n",
      "image 170/800 C:\\Users\\15984\\Desktop\\COMP9517PROJECT\\skyview_yolo_dataset\\images\\test\\170.jpg: 640x640 1 River, 18.1ms\n",
      "image 171/800 C:\\Users\\15984\\Desktop\\COMP9517PROJECT\\skyview_yolo_dataset\\images\\test\\171.jpg: 640x640 1 River, 10.1ms\n",
      "image 172/800 C:\\Users\\15984\\Desktop\\COMP9517PROJECT\\skyview_yolo_dataset\\images\\test\\172.jpg: 640x640 1 Residential, 9.8ms\n",
      "image 173/800 C:\\Users\\15984\\Desktop\\COMP9517PROJECT\\skyview_yolo_dataset\\images\\test\\173.jpg: 640x640 1 River, 9.8ms\n",
      "image 174/800 C:\\Users\\15984\\Desktop\\COMP9517PROJECT\\skyview_yolo_dataset\\images\\test\\174.jpg: 640x640 1 River, 12.9ms\n",
      "image 175/800 C:\\Users\\15984\\Desktop\\COMP9517PROJECT\\skyview_yolo_dataset\\images\\test\\175.jpg: 640x640 1 River, 9.5ms\n",
      "image 176/800 C:\\Users\\15984\\Desktop\\COMP9517PROJECT\\skyview_yolo_dataset\\images\\test\\176.jpg: 640x640 1 River, 13.6ms\n",
      "image 177/800 C:\\Users\\15984\\Desktop\\COMP9517PROJECT\\skyview_yolo_dataset\\images\\test\\177.jpg: 640x640 1 River, 9.0ms\n",
      "image 178/800 C:\\Users\\15984\\Desktop\\COMP9517PROJECT\\skyview_yolo_dataset\\images\\test\\178.jpg: 640x640 1 River, 9.0ms\n",
      "image 179/800 C:\\Users\\15984\\Desktop\\COMP9517PROJECT\\skyview_yolo_dataset\\images\\test\\179.jpg: 640x640 1 River, 9.2ms\n",
      "image 180/800 C:\\Users\\15984\\Desktop\\COMP9517PROJECT\\skyview_yolo_dataset\\images\\test\\180.jpg: 640x640 1 River, 9.1ms\n",
      "image 181/800 C:\\Users\\15984\\Desktop\\COMP9517PROJECT\\skyview_yolo_dataset\\images\\test\\181.jpg: 640x640 1 River, 16.8ms\n",
      "image 182/800 C:\\Users\\15984\\Desktop\\COMP9517PROJECT\\skyview_yolo_dataset\\images\\test\\182.jpg: 640x640 1 River, 9.6ms\n",
      "image 183/800 C:\\Users\\15984\\Desktop\\COMP9517PROJECT\\skyview_yolo_dataset\\images\\test\\183.jpg: 640x640 1 Residential, 9.2ms\n",
      "image 184/800 C:\\Users\\15984\\Desktop\\COMP9517PROJECT\\skyview_yolo_dataset\\images\\test\\184.jpg: 640x640 1 River, 9.3ms\n",
      "image 185/800 C:\\Users\\15984\\Desktop\\COMP9517PROJECT\\skyview_yolo_dataset\\images\\test\\185.jpg: 640x640 1 Railway, 9.1ms\n",
      "image 186/800 C:\\Users\\15984\\Desktop\\COMP9517PROJECT\\skyview_yolo_dataset\\images\\test\\186.jpg: 640x640 1 River, 13.0ms\n",
      "image 187/800 C:\\Users\\15984\\Desktop\\COMP9517PROJECT\\skyview_yolo_dataset\\images\\test\\187.jpg: 640x640 1 Residential, 10.4ms\n",
      "image 188/800 C:\\Users\\15984\\Desktop\\COMP9517PROJECT\\skyview_yolo_dataset\\images\\test\\188.jpg: 640x640 1 River, 14.2ms\n",
      "image 189/800 C:\\Users\\15984\\Desktop\\COMP9517PROJECT\\skyview_yolo_dataset\\images\\test\\189.jpg: 640x640 1 Residential, 10.3ms\n",
      "image 190/800 C:\\Users\\15984\\Desktop\\COMP9517PROJECT\\skyview_yolo_dataset\\images\\test\\190.jpg: 640x640 1 River, 10.4ms\n",
      "image 191/800 C:\\Users\\15984\\Desktop\\COMP9517PROJECT\\skyview_yolo_dataset\\images\\test\\191.jpg: 640x640 1 Residential, 14.6ms\n",
      "image 192/800 C:\\Users\\15984\\Desktop\\COMP9517PROJECT\\skyview_yolo_dataset\\images\\test\\192.jpg: 640x640 1 River, 10.2ms\n",
      "image 193/800 C:\\Users\\15984\\Desktop\\COMP9517PROJECT\\skyview_yolo_dataset\\images\\test\\193.jpg: 640x640 1 River, 9.0ms\n",
      "image 194/800 C:\\Users\\15984\\Desktop\\COMP9517PROJECT\\skyview_yolo_dataset\\images\\test\\194.jpg: 640x640 1 Lake, 1 River, 12.4ms\n",
      "image 195/800 C:\\Users\\15984\\Desktop\\COMP9517PROJECT\\skyview_yolo_dataset\\images\\test\\195.jpg: 640x640 1 River, 9.4ms\n",
      "image 196/800 C:\\Users\\15984\\Desktop\\COMP9517PROJECT\\skyview_yolo_dataset\\images\\test\\196.jpg: 640x640 1 River, 8.9ms\n",
      "image 197/800 C:\\Users\\15984\\Desktop\\COMP9517PROJECT\\skyview_yolo_dataset\\images\\test\\197.jpg: 640x640 1 River, 11.3ms\n",
      "image 198/800 C:\\Users\\15984\\Desktop\\COMP9517PROJECT\\skyview_yolo_dataset\\images\\test\\198.jpg: 640x640 1 River, 9.2ms\n",
      "image 199/800 C:\\Users\\15984\\Desktop\\COMP9517PROJECT\\skyview_yolo_dataset\\images\\test\\199.jpg: 640x640 1 River, 10.1ms\n",
      "image 200/800 C:\\Users\\15984\\Desktop\\COMP9517PROJECT\\skyview_yolo_dataset\\images\\test\\200.jpg: 640x640 1 River, 9.1ms\n",
      "image 201/800 C:\\Users\\15984\\Desktop\\COMP9517PROJECT\\skyview_yolo_dataset\\images\\test\\201.jpg: 640x640 1 River, 10.0ms\n",
      "image 202/800 C:\\Users\\15984\\Desktop\\COMP9517PROJECT\\skyview_yolo_dataset\\images\\test\\202.jpg: 640x640 1 Residential, 9.4ms\n",
      "image 203/800 C:\\Users\\15984\\Desktop\\COMP9517PROJECT\\skyview_yolo_dataset\\images\\test\\203.jpg: 640x640 1 Railway, 8.4ms\n",
      "image 204/800 C:\\Users\\15984\\Desktop\\COMP9517PROJECT\\skyview_yolo_dataset\\images\\test\\204.jpg: 640x640 1 River, 8.8ms\n",
      "image 205/800 C:\\Users\\15984\\Desktop\\COMP9517PROJECT\\skyview_yolo_dataset\\images\\test\\205.jpg: 640x640 1 Airport, 1 Highway, 1 Residential, 8.3ms\n",
      "image 206/800 C:\\Users\\15984\\Desktop\\COMP9517PROJECT\\skyview_yolo_dataset\\images\\test\\206.jpg: 640x640 1 Residential, 8.5ms\n",
      "image 207/800 C:\\Users\\15984\\Desktop\\COMP9517PROJECT\\skyview_yolo_dataset\\images\\test\\207.jpg: 640x640 1 River, 8.3ms\n",
      "image 208/800 C:\\Users\\15984\\Desktop\\COMP9517PROJECT\\skyview_yolo_dataset\\images\\test\\208.jpg: 640x640 1 River, 8.6ms\n",
      "image 209/800 C:\\Users\\15984\\Desktop\\COMP9517PROJECT\\skyview_yolo_dataset\\images\\test\\209.jpg: 640x640 1 River, 8.5ms\n",
      "image 210/800 C:\\Users\\15984\\Desktop\\COMP9517PROJECT\\skyview_yolo_dataset\\images\\test\\210.jpg: 640x640 1 Grassland, 1 River, 9.3ms\n",
      "image 211/800 C:\\Users\\15984\\Desktop\\COMP9517PROJECT\\skyview_yolo_dataset\\images\\test\\211.jpg: 640x640 1 Port, 16.0ms\n",
      "image 212/800 C:\\Users\\15984\\Desktop\\COMP9517PROJECT\\skyview_yolo_dataset\\images\\test\\212.jpg: 640x640 1 Residential, 8.8ms\n",
      "image 213/800 C:\\Users\\15984\\Desktop\\COMP9517PROJECT\\skyview_yolo_dataset\\images\\test\\213.jpg: 640x640 1 River, 12.7ms\n",
      "image 214/800 C:\\Users\\15984\\Desktop\\COMP9517PROJECT\\skyview_yolo_dataset\\images\\test\\214.jpg: 640x640 1 Railway, 8.3ms\n",
      "image 215/800 C:\\Users\\15984\\Desktop\\COMP9517PROJECT\\skyview_yolo_dataset\\images\\test\\215.jpg: 640x640 1 Grassland, 1 River, 9.5ms\n",
      "image 216/800 C:\\Users\\15984\\Desktop\\COMP9517PROJECT\\skyview_yolo_dataset\\images\\test\\216.jpg: 640x640 1 Residential, 8.1ms\n",
      "image 217/800 C:\\Users\\15984\\Desktop\\COMP9517PROJECT\\skyview_yolo_dataset\\images\\test\\217.jpg: 640x640 1 Residential, 8.3ms\n",
      "image 218/800 C:\\Users\\15984\\Desktop\\COMP9517PROJECT\\skyview_yolo_dataset\\images\\test\\218.jpg: 640x640 1 Residential, 15.7ms\n",
      "image 219/800 C:\\Users\\15984\\Desktop\\COMP9517PROJECT\\skyview_yolo_dataset\\images\\test\\219.jpg: 640x640 1 Lake, 1 River, 8.5ms\n",
      "image 220/800 C:\\Users\\15984\\Desktop\\COMP9517PROJECT\\skyview_yolo_dataset\\images\\test\\220.jpg: 640x640 1 River, 7.9ms\n",
      "image 221/800 C:\\Users\\15984\\Desktop\\COMP9517PROJECT\\skyview_yolo_dataset\\images\\test\\221.jpg: 640x640 1 Railway, 15.2ms\n",
      "image 222/800 C:\\Users\\15984\\Desktop\\COMP9517PROJECT\\skyview_yolo_dataset\\images\\test\\222.jpg: 640x640 1 River, 8.5ms\n",
      "image 223/800 C:\\Users\\15984\\Desktop\\COMP9517PROJECT\\skyview_yolo_dataset\\images\\test\\223.jpg: 640x640 1 River, 16.3ms\n",
      "image 224/800 C:\\Users\\15984\\Desktop\\COMP9517PROJECT\\skyview_yolo_dataset\\images\\test\\224.jpg: 640x640 1 River, 8.2ms\n",
      "image 225/800 C:\\Users\\15984\\Desktop\\COMP9517PROJECT\\skyview_yolo_dataset\\images\\test\\225.jpg: 640x640 1 Residential, 9.1ms\n",
      "image 226/800 C:\\Users\\15984\\Desktop\\COMP9517PROJECT\\skyview_yolo_dataset\\images\\test\\226.jpg: 640x640 1 River, 8.8ms\n",
      "image 227/800 C:\\Users\\15984\\Desktop\\COMP9517PROJECT\\skyview_yolo_dataset\\images\\test\\227.jpg: 640x640 1 River, 16.2ms\n",
      "image 228/800 C:\\Users\\15984\\Desktop\\COMP9517PROJECT\\skyview_yolo_dataset\\images\\test\\228.jpg: 640x640 1 River, 8.4ms\n",
      "image 229/800 C:\\Users\\15984\\Desktop\\COMP9517PROJECT\\skyview_yolo_dataset\\images\\test\\229.jpg: 640x640 1 Residential, 8.9ms\n",
      "image 230/800 C:\\Users\\15984\\Desktop\\COMP9517PROJECT\\skyview_yolo_dataset\\images\\test\\230.jpg: 640x640 1 River, 9.0ms\n",
      "image 231/800 C:\\Users\\15984\\Desktop\\COMP9517PROJECT\\skyview_yolo_dataset\\images\\test\\231.jpg: 640x640 1 River, 8.2ms\n",
      "image 232/800 C:\\Users\\15984\\Desktop\\COMP9517PROJECT\\skyview_yolo_dataset\\images\\test\\232.jpg: 640x640 1 River, 8.0ms\n",
      "image 233/800 C:\\Users\\15984\\Desktop\\COMP9517PROJECT\\skyview_yolo_dataset\\images\\test\\233.jpg: 640x640 1 River, 8.3ms\n",
      "image 234/800 C:\\Users\\15984\\Desktop\\COMP9517PROJECT\\skyview_yolo_dataset\\images\\test\\234.jpg: 640x640 1 River, 8.6ms\n",
      "image 235/800 C:\\Users\\15984\\Desktop\\COMP9517PROJECT\\skyview_yolo_dataset\\images\\test\\235.jpg: 640x640 1 River, 8.5ms\n",
      "image 236/800 C:\\Users\\15984\\Desktop\\COMP9517PROJECT\\skyview_yolo_dataset\\images\\test\\236.jpg: 640x640 1 River, 8.1ms\n",
      "image 237/800 C:\\Users\\15984\\Desktop\\COMP9517PROJECT\\skyview_yolo_dataset\\images\\test\\237.jpg: 640x640 1 River, 9.4ms\n",
      "image 238/800 C:\\Users\\15984\\Desktop\\COMP9517PROJECT\\skyview_yolo_dataset\\images\\test\\238.jpg: 640x640 1 River, 16.4ms\n",
      "image 239/800 C:\\Users\\15984\\Desktop\\COMP9517PROJECT\\skyview_yolo_dataset\\images\\test\\239.jpg: 640x640 1 River, 9.0ms\n",
      "image 240/800 C:\\Users\\15984\\Desktop\\COMP9517PROJECT\\skyview_yolo_dataset\\images\\test\\240.jpg: 640x640 1 River, 8.6ms\n",
      "image 241/800 C:\\Users\\15984\\Desktop\\COMP9517PROJECT\\skyview_yolo_dataset\\images\\test\\241.jpg: 640x640 1 River, 8.6ms\n",
      "image 242/800 C:\\Users\\15984\\Desktop\\COMP9517PROJECT\\skyview_yolo_dataset\\images\\test\\242.jpg: 640x640 1 Grassland, 1 River, 8.4ms\n",
      "image 243/800 C:\\Users\\15984\\Desktop\\COMP9517PROJECT\\skyview_yolo_dataset\\images\\test\\243.jpg: 640x640 1 River, 14.1ms\n",
      "image 244/800 C:\\Users\\15984\\Desktop\\COMP9517PROJECT\\skyview_yolo_dataset\\images\\test\\244.jpg: 640x640 1 River, 11.3ms\n",
      "image 245/800 C:\\Users\\15984\\Desktop\\COMP9517PROJECT\\skyview_yolo_dataset\\images\\test\\245.jpg: 640x640 1 Residential, 8.7ms\n",
      "image 246/800 C:\\Users\\15984\\Desktop\\COMP9517PROJECT\\skyview_yolo_dataset\\images\\test\\246.jpg: 640x640 1 River, 8.7ms\n",
      "image 247/800 C:\\Users\\15984\\Desktop\\COMP9517PROJECT\\skyview_yolo_dataset\\images\\test\\247.jpg: 640x640 1 River, 8.8ms\n",
      "image 248/800 C:\\Users\\15984\\Desktop\\COMP9517PROJECT\\skyview_yolo_dataset\\images\\test\\248.jpg: 640x640 1 River, 10.3ms\n",
      "image 249/800 C:\\Users\\15984\\Desktop\\COMP9517PROJECT\\skyview_yolo_dataset\\images\\test\\249.jpg: 640x640 1 Residential, 8.9ms\n",
      "image 250/800 C:\\Users\\15984\\Desktop\\COMP9517PROJECT\\skyview_yolo_dataset\\images\\test\\250.jpg: 640x640 1 River, 12.2ms\n",
      "image 251/800 C:\\Users\\15984\\Desktop\\COMP9517PROJECT\\skyview_yolo_dataset\\images\\test\\251.jpg: 640x640 1 River, 12.8ms\n",
      "image 252/800 C:\\Users\\15984\\Desktop\\COMP9517PROJECT\\skyview_yolo_dataset\\images\\test\\252.jpg: 640x640 1 River, 9.0ms\n",
      "image 253/800 C:\\Users\\15984\\Desktop\\COMP9517PROJECT\\skyview_yolo_dataset\\images\\test\\253.jpg: 640x640 1 River, 8.9ms\n",
      "image 254/800 C:\\Users\\15984\\Desktop\\COMP9517PROJECT\\skyview_yolo_dataset\\images\\test\\254.jpg: 640x640 1 River, 8.7ms\n",
      "image 255/800 C:\\Users\\15984\\Desktop\\COMP9517PROJECT\\skyview_yolo_dataset\\images\\test\\255.jpg: 640x640 1 Lake, 1 River, 10.3ms\n",
      "image 256/800 C:\\Users\\15984\\Desktop\\COMP9517PROJECT\\skyview_yolo_dataset\\images\\test\\256.jpg: 640x640 1 River, 11.6ms\n",
      "image 257/800 C:\\Users\\15984\\Desktop\\COMP9517PROJECT\\skyview_yolo_dataset\\images\\test\\257.jpg: 640x640 1 River, 8.2ms\n",
      "image 258/800 C:\\Users\\15984\\Desktop\\COMP9517PROJECT\\skyview_yolo_dataset\\images\\test\\258.jpg: 640x640 1 Residential, 9.2ms\n",
      "image 259/800 C:\\Users\\15984\\Desktop\\COMP9517PROJECT\\skyview_yolo_dataset\\images\\test\\259.jpg: 640x640 1 River, 8.9ms\n",
      "image 260/800 C:\\Users\\15984\\Desktop\\COMP9517PROJECT\\skyview_yolo_dataset\\images\\test\\260.jpg: 640x640 1 River, 8.3ms\n",
      "image 261/800 C:\\Users\\15984\\Desktop\\COMP9517PROJECT\\skyview_yolo_dataset\\images\\test\\261.jpg: 640x640 1 River, 9.2ms\n",
      "image 262/800 C:\\Users\\15984\\Desktop\\COMP9517PROJECT\\skyview_yolo_dataset\\images\\test\\262.jpg: 640x640 1 River, 16.4ms\n",
      "image 263/800 C:\\Users\\15984\\Desktop\\COMP9517PROJECT\\skyview_yolo_dataset\\images\\test\\263.jpg: 640x640 1 River, 8.6ms\n",
      "image 264/800 C:\\Users\\15984\\Desktop\\COMP9517PROJECT\\skyview_yolo_dataset\\images\\test\\264.jpg: 640x640 1 River, 8.6ms\n",
      "image 265/800 C:\\Users\\15984\\Desktop\\COMP9517PROJECT\\skyview_yolo_dataset\\images\\test\\265.jpg: 640x640 1 River, 8.8ms\n",
      "image 266/800 C:\\Users\\15984\\Desktop\\COMP9517PROJECT\\skyview_yolo_dataset\\images\\test\\266.jpg: 640x640 1 River, 8.8ms\n",
      "image 267/800 C:\\Users\\15984\\Desktop\\COMP9517PROJECT\\skyview_yolo_dataset\\images\\test\\267.jpg: 640x640 1 Residential, 8.6ms\n",
      "image 268/800 C:\\Users\\15984\\Desktop\\COMP9517PROJECT\\skyview_yolo_dataset\\images\\test\\268.jpg: 640x640 1 River, 9.0ms\n",
      "image 269/800 C:\\Users\\15984\\Desktop\\COMP9517PROJECT\\skyview_yolo_dataset\\images\\test\\269.jpg: 640x640 1 River, 8.4ms\n",
      "image 270/800 C:\\Users\\15984\\Desktop\\COMP9517PROJECT\\skyview_yolo_dataset\\images\\test\\270.jpg: 640x640 1 River, 8.6ms\n",
      "image 271/800 C:\\Users\\15984\\Desktop\\COMP9517PROJECT\\skyview_yolo_dataset\\images\\test\\271.jpg: 640x640 1 Residential, 8.8ms\n",
      "image 272/800 C:\\Users\\15984\\Desktop\\COMP9517PROJECT\\skyview_yolo_dataset\\images\\test\\272.jpg: 640x640 1 Residential, 8.7ms\n",
      "image 273/800 C:\\Users\\15984\\Desktop\\COMP9517PROJECT\\skyview_yolo_dataset\\images\\test\\273.jpg: 640x640 1 River, 8.9ms\n",
      "image 274/800 C:\\Users\\15984\\Desktop\\COMP9517PROJECT\\skyview_yolo_dataset\\images\\test\\274.jpg: 640x640 1 River, 11.7ms\n",
      "image 275/800 C:\\Users\\15984\\Desktop\\COMP9517PROJECT\\skyview_yolo_dataset\\images\\test\\275.jpg: 640x640 1 River, 11.5ms\n",
      "image 276/800 C:\\Users\\15984\\Desktop\\COMP9517PROJECT\\skyview_yolo_dataset\\images\\test\\276.jpg: 640x640 1 River, 8.8ms\n",
      "image 277/800 C:\\Users\\15984\\Desktop\\COMP9517PROJECT\\skyview_yolo_dataset\\images\\test\\277.jpg: 640x640 1 Lake, 1 River, 12.1ms\n",
      "image 278/800 C:\\Users\\15984\\Desktop\\COMP9517PROJECT\\skyview_yolo_dataset\\images\\test\\278.jpg: 640x640 1 River, 9.6ms\n",
      "image 279/800 C:\\Users\\15984\\Desktop\\COMP9517PROJECT\\skyview_yolo_dataset\\images\\test\\279.jpg: 640x640 1 River, 8.9ms\n",
      "image 280/800 C:\\Users\\15984\\Desktop\\COMP9517PROJECT\\skyview_yolo_dataset\\images\\test\\280.jpg: 640x640 1 River, 8.5ms\n",
      "image 281/800 C:\\Users\\15984\\Desktop\\COMP9517PROJECT\\skyview_yolo_dataset\\images\\test\\281.jpg: 640x640 1 Residential, 8.5ms\n",
      "image 282/800 C:\\Users\\15984\\Desktop\\COMP9517PROJECT\\skyview_yolo_dataset\\images\\test\\282.jpg: 640x640 1 Residential, 8.5ms\n",
      "image 283/800 C:\\Users\\15984\\Desktop\\COMP9517PROJECT\\skyview_yolo_dataset\\images\\test\\283.jpg: 640x640 1 River, 9.2ms\n",
      "image 284/800 C:\\Users\\15984\\Desktop\\COMP9517PROJECT\\skyview_yolo_dataset\\images\\test\\284.jpg: 640x640 1 Lake, 1 River, 9.7ms\n",
      "image 285/800 C:\\Users\\15984\\Desktop\\COMP9517PROJECT\\skyview_yolo_dataset\\images\\test\\285.jpg: 640x640 1 River, 8.7ms\n",
      "image 286/800 C:\\Users\\15984\\Desktop\\COMP9517PROJECT\\skyview_yolo_dataset\\images\\test\\286.jpg: 640x640 1 River, 9.6ms\n",
      "image 287/800 C:\\Users\\15984\\Desktop\\COMP9517PROJECT\\skyview_yolo_dataset\\images\\test\\287.jpg: 640x640 1 Residential, 13.4ms\n",
      "image 288/800 C:\\Users\\15984\\Desktop\\COMP9517PROJECT\\skyview_yolo_dataset\\images\\test\\288.jpg: 640x640 1 Railway, 8.6ms\n",
      "image 289/800 C:\\Users\\15984\\Desktop\\COMP9517PROJECT\\skyview_yolo_dataset\\images\\test\\289.jpg: 640x640 1 River, 8.4ms\n",
      "image 290/800 C:\\Users\\15984\\Desktop\\COMP9517PROJECT\\skyview_yolo_dataset\\images\\test\\290.jpg: 640x640 1 River, 8.9ms\n",
      "image 291/800 C:\\Users\\15984\\Desktop\\COMP9517PROJECT\\skyview_yolo_dataset\\images\\test\\291.jpg: 640x640 1 River, 9.1ms\n",
      "image 292/800 C:\\Users\\15984\\Desktop\\COMP9517PROJECT\\skyview_yolo_dataset\\images\\test\\292.jpg: 640x640 1 Residential, 8.3ms\n",
      "image 293/800 C:\\Users\\15984\\Desktop\\COMP9517PROJECT\\skyview_yolo_dataset\\images\\test\\293.jpg: 640x640 1 River, 8.1ms\n",
      "image 294/800 C:\\Users\\15984\\Desktop\\COMP9517PROJECT\\skyview_yolo_dataset\\images\\test\\294.jpg: 640x640 1 River, 8.4ms\n",
      "image 295/800 C:\\Users\\15984\\Desktop\\COMP9517PROJECT\\skyview_yolo_dataset\\images\\test\\295.jpg: 640x640 1 River, 9.6ms\n",
      "image 296/800 C:\\Users\\15984\\Desktop\\COMP9517PROJECT\\skyview_yolo_dataset\\images\\test\\296.jpg: 640x640 1 River, 9.2ms\n",
      "image 297/800 C:\\Users\\15984\\Desktop\\COMP9517PROJECT\\skyview_yolo_dataset\\images\\test\\297.jpg: 640x640 1 River, 9.5ms\n",
      "image 298/800 C:\\Users\\15984\\Desktop\\COMP9517PROJECT\\skyview_yolo_dataset\\images\\test\\298.jpg: 640x640 1 River, 9.3ms\n",
      "image 299/800 C:\\Users\\15984\\Desktop\\COMP9517PROJECT\\skyview_yolo_dataset\\images\\test\\299.jpg: 640x640 1 River, 9.1ms\n",
      "image 300/800 C:\\Users\\15984\\Desktop\\COMP9517PROJECT\\skyview_yolo_dataset\\images\\test\\300.jpg: 640x640 1 River, 11.6ms\n",
      "image 301/800 C:\\Users\\15984\\Desktop\\COMP9517PROJECT\\skyview_yolo_dataset\\images\\test\\301.jpg: 640x640 1 River, 9.0ms\n",
      "image 302/800 C:\\Users\\15984\\Desktop\\COMP9517PROJECT\\skyview_yolo_dataset\\images\\test\\302.jpg: 640x640 1 Residential, 9.1ms\n",
      "image 303/800 C:\\Users\\15984\\Desktop\\COMP9517PROJECT\\skyview_yolo_dataset\\images\\test\\303.jpg: 640x640 1 River, 9.0ms\n",
      "image 304/800 C:\\Users\\15984\\Desktop\\COMP9517PROJECT\\skyview_yolo_dataset\\images\\test\\304.jpg: 640x640 1 River, 9.5ms\n",
      "image 305/800 C:\\Users\\15984\\Desktop\\COMP9517PROJECT\\skyview_yolo_dataset\\images\\test\\305.jpg: 640x640 1 Residential, 8.6ms\n",
      "image 306/800 C:\\Users\\15984\\Desktop\\COMP9517PROJECT\\skyview_yolo_dataset\\images\\test\\306.jpg: 640x640 1 River, 8.7ms\n",
      "image 307/800 C:\\Users\\15984\\Desktop\\COMP9517PROJECT\\skyview_yolo_dataset\\images\\test\\307.jpg: 640x640 1 Parking, 17.0ms\n",
      "image 308/800 C:\\Users\\15984\\Desktop\\COMP9517PROJECT\\skyview_yolo_dataset\\images\\test\\308.jpg: 640x640 1 Residential, 9.3ms\n",
      "image 309/800 C:\\Users\\15984\\Desktop\\COMP9517PROJECT\\skyview_yolo_dataset\\images\\test\\309.jpg: 640x640 1 River, 15.7ms\n",
      "image 310/800 C:\\Users\\15984\\Desktop\\COMP9517PROJECT\\skyview_yolo_dataset\\images\\test\\310.jpg: 640x640 1 Residential, 8.7ms\n",
      "image 311/800 C:\\Users\\15984\\Desktop\\COMP9517PROJECT\\skyview_yolo_dataset\\images\\test\\311.jpg: 640x640 1 River, 9.0ms\n",
      "image 312/800 C:\\Users\\15984\\Desktop\\COMP9517PROJECT\\skyview_yolo_dataset\\images\\test\\312.jpg: 640x640 1 Residential, 13.3ms\n",
      "image 313/800 C:\\Users\\15984\\Desktop\\COMP9517PROJECT\\skyview_yolo_dataset\\images\\test\\313.jpg: 640x640 1 River, 8.6ms\n",
      "image 314/800 C:\\Users\\15984\\Desktop\\COMP9517PROJECT\\skyview_yolo_dataset\\images\\test\\314.jpg: 640x640 1 River, 9.3ms\n",
      "image 315/800 C:\\Users\\15984\\Desktop\\COMP9517PROJECT\\skyview_yolo_dataset\\images\\test\\315.jpg: 640x640 1 River, 9.2ms\n",
      "image 316/800 C:\\Users\\15984\\Desktop\\COMP9517PROJECT\\skyview_yolo_dataset\\images\\test\\316.jpg: 640x640 1 River, 8.8ms\n",
      "image 317/800 C:\\Users\\15984\\Desktop\\COMP9517PROJECT\\skyview_yolo_dataset\\images\\test\\317.jpg: 640x640 1 Residential, 9.6ms\n",
      "image 318/800 C:\\Users\\15984\\Desktop\\COMP9517PROJECT\\skyview_yolo_dataset\\images\\test\\318.jpg: 640x640 1 Railway, 9.0ms\n",
      "image 319/800 C:\\Users\\15984\\Desktop\\COMP9517PROJECT\\skyview_yolo_dataset\\images\\test\\319.jpg: 640x640 1 River, 8.4ms\n",
      "image 320/800 C:\\Users\\15984\\Desktop\\COMP9517PROJECT\\skyview_yolo_dataset\\images\\test\\320.jpg: 640x640 1 River, 9.6ms\n",
      "image 321/800 C:\\Users\\15984\\Desktop\\COMP9517PROJECT\\skyview_yolo_dataset\\images\\test\\321.jpg: 640x640 1 Lake, 17.3ms\n",
      "image 322/800 C:\\Users\\15984\\Desktop\\COMP9517PROJECT\\skyview_yolo_dataset\\images\\test\\322.jpg: 640x640 1 Railway, 1 River, 12.7ms\n",
      "image 323/800 C:\\Users\\15984\\Desktop\\COMP9517PROJECT\\skyview_yolo_dataset\\images\\test\\323.jpg: 640x640 1 Residential, 9.2ms\n",
      "image 324/800 C:\\Users\\15984\\Desktop\\COMP9517PROJECT\\skyview_yolo_dataset\\images\\test\\324.jpg: 640x640 1 River, 8.3ms\n",
      "image 325/800 C:\\Users\\15984\\Desktop\\COMP9517PROJECT\\skyview_yolo_dataset\\images\\test\\325.jpg: 640x640 1 River, 9.5ms\n",
      "image 326/800 C:\\Users\\15984\\Desktop\\COMP9517PROJECT\\skyview_yolo_dataset\\images\\test\\326.jpg: 640x640 1 River, 9.1ms\n",
      "image 327/800 C:\\Users\\15984\\Desktop\\COMP9517PROJECT\\skyview_yolo_dataset\\images\\test\\327.jpg: 640x640 1 Residential, 8.4ms\n",
      "image 328/800 C:\\Users\\15984\\Desktop\\COMP9517PROJECT\\skyview_yolo_dataset\\images\\test\\328.jpg: 640x640 1 River, 9.0ms\n",
      "image 329/800 C:\\Users\\15984\\Desktop\\COMP9517PROJECT\\skyview_yolo_dataset\\images\\test\\329.jpg: 640x640 1 River, 8.4ms\n",
      "image 330/800 C:\\Users\\15984\\Desktop\\COMP9517PROJECT\\skyview_yolo_dataset\\images\\test\\330.jpg: 640x640 1 River, 9.0ms\n",
      "image 331/800 C:\\Users\\15984\\Desktop\\COMP9517PROJECT\\skyview_yolo_dataset\\images\\test\\331.jpg: 640x640 1 River, 8.2ms\n",
      "image 332/800 C:\\Users\\15984\\Desktop\\COMP9517PROJECT\\skyview_yolo_dataset\\images\\test\\332.jpg: 640x640 1 River, 11.6ms\n",
      "image 333/800 C:\\Users\\15984\\Desktop\\COMP9517PROJECT\\skyview_yolo_dataset\\images\\test\\333.jpg: 640x640 1 River, 8.5ms\n",
      "image 334/800 C:\\Users\\15984\\Desktop\\COMP9517PROJECT\\skyview_yolo_dataset\\images\\test\\334.jpg: 640x640 1 Residential, 8.9ms\n",
      "image 335/800 C:\\Users\\15984\\Desktop\\COMP9517PROJECT\\skyview_yolo_dataset\\images\\test\\335.jpg: 640x640 1 River, 8.3ms\n",
      "image 336/800 C:\\Users\\15984\\Desktop\\COMP9517PROJECT\\skyview_yolo_dataset\\images\\test\\336.jpg: 640x640 1 River, 13.2ms\n",
      "image 337/800 C:\\Users\\15984\\Desktop\\COMP9517PROJECT\\skyview_yolo_dataset\\images\\test\\337.jpg: 640x640 1 Residential, 9.1ms\n",
      "image 338/800 C:\\Users\\15984\\Desktop\\COMP9517PROJECT\\skyview_yolo_dataset\\images\\test\\338.jpg: 640x640 1 Port, 12.7ms\n",
      "image 339/800 C:\\Users\\15984\\Desktop\\COMP9517PROJECT\\skyview_yolo_dataset\\images\\test\\339.jpg: 640x640 1 River, 9.5ms\n",
      "image 340/800 C:\\Users\\15984\\Desktop\\COMP9517PROJECT\\skyview_yolo_dataset\\images\\test\\340.jpg: 640x640 1 River, 9.5ms\n",
      "image 341/800 C:\\Users\\15984\\Desktop\\COMP9517PROJECT\\skyview_yolo_dataset\\images\\test\\341.jpg: 640x640 1 River, 9.2ms\n",
      "image 342/800 C:\\Users\\15984\\Desktop\\COMP9517PROJECT\\skyview_yolo_dataset\\images\\test\\342.jpg: 640x640 1 River, 8.7ms\n",
      "image 343/800 C:\\Users\\15984\\Desktop\\COMP9517PROJECT\\skyview_yolo_dataset\\images\\test\\343.jpg: 640x640 1 River, 12.4ms\n",
      "image 344/800 C:\\Users\\15984\\Desktop\\COMP9517PROJECT\\skyview_yolo_dataset\\images\\test\\344.jpg: 640x640 1 River, 9.4ms\n",
      "image 345/800 C:\\Users\\15984\\Desktop\\COMP9517PROJECT\\skyview_yolo_dataset\\images\\test\\345.jpg: 640x640 1 Railway, 9.0ms\n",
      "image 346/800 C:\\Users\\15984\\Desktop\\COMP9517PROJECT\\skyview_yolo_dataset\\images\\test\\346.jpg: 640x640 1 Residential, 8.2ms\n",
      "image 347/800 C:\\Users\\15984\\Desktop\\COMP9517PROJECT\\skyview_yolo_dataset\\images\\test\\347.jpg: 640x640 1 Residential, 11.1ms\n",
      "image 348/800 C:\\Users\\15984\\Desktop\\COMP9517PROJECT\\skyview_yolo_dataset\\images\\test\\348.jpg: 640x640 1 River, 8.5ms\n",
      "image 349/800 C:\\Users\\15984\\Desktop\\COMP9517PROJECT\\skyview_yolo_dataset\\images\\test\\349.jpg: 640x640 1 Residential, 8.3ms\n",
      "image 350/800 C:\\Users\\15984\\Desktop\\COMP9517PROJECT\\skyview_yolo_dataset\\images\\test\\350.jpg: 640x640 1 Mountain, 1 River, 8.7ms\n",
      "image 351/800 C:\\Users\\15984\\Desktop\\COMP9517PROJECT\\skyview_yolo_dataset\\images\\test\\351.jpg: 640x640 1 Lake, 8.4ms\n",
      "image 352/800 C:\\Users\\15984\\Desktop\\COMP9517PROJECT\\skyview_yolo_dataset\\images\\test\\352.jpg: 640x640 1 River, 8.3ms\n",
      "image 353/800 C:\\Users\\15984\\Desktop\\COMP9517PROJECT\\skyview_yolo_dataset\\images\\test\\353.jpg: 640x640 1 Lake, 16.0ms\n",
      "image 354/800 C:\\Users\\15984\\Desktop\\COMP9517PROJECT\\skyview_yolo_dataset\\images\\test\\354.jpg: 640x640 1 River, 8.6ms\n",
      "image 355/800 C:\\Users\\15984\\Desktop\\COMP9517PROJECT\\skyview_yolo_dataset\\images\\test\\355.jpg: 640x640 1 River, 8.8ms\n",
      "image 356/800 C:\\Users\\15984\\Desktop\\COMP9517PROJECT\\skyview_yolo_dataset\\images\\test\\356.jpg: 640x640 1 River, 10.3ms\n",
      "image 357/800 C:\\Users\\15984\\Desktop\\COMP9517PROJECT\\skyview_yolo_dataset\\images\\test\\357.jpg: 640x640 1 River, 8.6ms\n",
      "image 358/800 C:\\Users\\15984\\Desktop\\COMP9517PROJECT\\skyview_yolo_dataset\\images\\test\\358.jpg: 640x640 1 River, 8.3ms\n",
      "image 359/800 C:\\Users\\15984\\Desktop\\COMP9517PROJECT\\skyview_yolo_dataset\\images\\test\\359.jpg: 640x640 1 River, 8.5ms\n",
      "image 360/800 C:\\Users\\15984\\Desktop\\COMP9517PROJECT\\skyview_yolo_dataset\\images\\test\\360.jpg: 640x640 1 River, 8.6ms\n",
      "image 361/800 C:\\Users\\15984\\Desktop\\COMP9517PROJECT\\skyview_yolo_dataset\\images\\test\\361.jpg: 640x640 1 River, 9.4ms\n",
      "image 362/800 C:\\Users\\15984\\Desktop\\COMP9517PROJECT\\skyview_yolo_dataset\\images\\test\\362.jpg: 640x640 1 River, 8.4ms\n",
      "image 363/800 C:\\Users\\15984\\Desktop\\COMP9517PROJECT\\skyview_yolo_dataset\\images\\test\\363.jpg: 640x640 1 Lake, 1 River, 17.2ms\n",
      "image 364/800 C:\\Users\\15984\\Desktop\\COMP9517PROJECT\\skyview_yolo_dataset\\images\\test\\364.jpg: 640x640 1 Parking, 9.0ms\n",
      "image 365/800 C:\\Users\\15984\\Desktop\\COMP9517PROJECT\\skyview_yolo_dataset\\images\\test\\365.jpg: 640x640 1 River, 8.7ms\n",
      "image 366/800 C:\\Users\\15984\\Desktop\\COMP9517PROJECT\\skyview_yolo_dataset\\images\\test\\366.jpg: 640x640 1 Residential, 9.0ms\n",
      "image 367/800 C:\\Users\\15984\\Desktop\\COMP9517PROJECT\\skyview_yolo_dataset\\images\\test\\367.jpg: 640x640 1 River, 8.9ms\n",
      "image 368/800 C:\\Users\\15984\\Desktop\\COMP9517PROJECT\\skyview_yolo_dataset\\images\\test\\368.jpg: 640x640 1 Port, 9.2ms\n",
      "image 369/800 C:\\Users\\15984\\Desktop\\COMP9517PROJECT\\skyview_yolo_dataset\\images\\test\\369.jpg: 640x640 1 River, 9.2ms\n",
      "image 370/800 C:\\Users\\15984\\Desktop\\COMP9517PROJECT\\skyview_yolo_dataset\\images\\test\\370.jpg: 640x640 1 Port, 9.7ms\n",
      "image 371/800 C:\\Users\\15984\\Desktop\\COMP9517PROJECT\\skyview_yolo_dataset\\images\\test\\371.jpg: 640x640 1 City, 1 River, 8.6ms\n",
      "image 372/800 C:\\Users\\15984\\Desktop\\COMP9517PROJECT\\skyview_yolo_dataset\\images\\test\\372.jpg: 640x640 1 Highway, 9.5ms\n",
      "image 373/800 C:\\Users\\15984\\Desktop\\COMP9517PROJECT\\skyview_yolo_dataset\\images\\test\\373.jpg: 640x640 1 River, 8.9ms\n",
      "image 374/800 C:\\Users\\15984\\Desktop\\COMP9517PROJECT\\skyview_yolo_dataset\\images\\test\\374.jpg: 640x640 1 River, 8.5ms\n",
      "image 375/800 C:\\Users\\15984\\Desktop\\COMP9517PROJECT\\skyview_yolo_dataset\\images\\test\\375.jpg: 640x640 1 Railway, 16.7ms\n",
      "image 376/800 C:\\Users\\15984\\Desktop\\COMP9517PROJECT\\skyview_yolo_dataset\\images\\test\\376.jpg: 640x640 1 River, 8.9ms\n",
      "image 377/800 C:\\Users\\15984\\Desktop\\COMP9517PROJECT\\skyview_yolo_dataset\\images\\test\\377.jpg: 640x640 1 Residential, 9.3ms\n",
      "image 378/800 C:\\Users\\15984\\Desktop\\COMP9517PROJECT\\skyview_yolo_dataset\\images\\test\\378.jpg: 640x640 1 River, 8.6ms\n",
      "image 379/800 C:\\Users\\15984\\Desktop\\COMP9517PROJECT\\skyview_yolo_dataset\\images\\test\\379.jpg: 640x640 1 River, 16.0ms\n",
      "image 380/800 C:\\Users\\15984\\Desktop\\COMP9517PROJECT\\skyview_yolo_dataset\\images\\test\\380.jpg: 640x640 1 Railway, 9.5ms\n",
      "image 381/800 C:\\Users\\15984\\Desktop\\COMP9517PROJECT\\skyview_yolo_dataset\\images\\test\\381.jpg: 640x640 1 River, 16.6ms\n",
      "image 382/800 C:\\Users\\15984\\Desktop\\COMP9517PROJECT\\skyview_yolo_dataset\\images\\test\\382.jpg: 640x640 1 River, 8.6ms\n",
      "image 383/800 C:\\Users\\15984\\Desktop\\COMP9517PROJECT\\skyview_yolo_dataset\\images\\test\\383.jpg: 640x640 1 Beach, 1 River, 8.7ms\n",
      "image 384/800 C:\\Users\\15984\\Desktop\\COMP9517PROJECT\\skyview_yolo_dataset\\images\\test\\384.jpg: 640x640 1 River, 16.6ms\n",
      "image 385/800 C:\\Users\\15984\\Desktop\\COMP9517PROJECT\\skyview_yolo_dataset\\images\\test\\385.jpg: 640x640 1 Lake, 1 River, 8.7ms\n",
      "image 386/800 C:\\Users\\15984\\Desktop\\COMP9517PROJECT\\skyview_yolo_dataset\\images\\test\\386.jpg: 640x640 1 Railway, 8.7ms\n",
      "image 387/800 C:\\Users\\15984\\Desktop\\COMP9517PROJECT\\skyview_yolo_dataset\\images\\test\\387.jpg: 640x640 1 River, 13.9ms\n",
      "image 388/800 C:\\Users\\15984\\Desktop\\COMP9517PROJECT\\skyview_yolo_dataset\\images\\test\\388.jpg: 640x640 1 Airport, 11.6ms\n",
      "image 389/800 C:\\Users\\15984\\Desktop\\COMP9517PROJECT\\skyview_yolo_dataset\\images\\test\\389.jpg: 640x640 1 River, 8.5ms\n",
      "image 390/800 C:\\Users\\15984\\Desktop\\COMP9517PROJECT\\skyview_yolo_dataset\\images\\test\\390.jpg: 640x640 1 River, 9.5ms\n",
      "image 391/800 C:\\Users\\15984\\Desktop\\COMP9517PROJECT\\skyview_yolo_dataset\\images\\test\\391.jpg: 640x640 1 Highway, 1 River, 9.2ms\n",
      "image 392/800 C:\\Users\\15984\\Desktop\\COMP9517PROJECT\\skyview_yolo_dataset\\images\\test\\392.jpg: 640x640 1 River, 12.3ms\n",
      "image 393/800 C:\\Users\\15984\\Desktop\\COMP9517PROJECT\\skyview_yolo_dataset\\images\\test\\393.jpg: 640x640 1 River, 9.0ms\n",
      "image 394/800 C:\\Users\\15984\\Desktop\\COMP9517PROJECT\\skyview_yolo_dataset\\images\\test\\394.jpg: 640x640 1 Port, 9.4ms\n",
      "image 395/800 C:\\Users\\15984\\Desktop\\COMP9517PROJECT\\skyview_yolo_dataset\\images\\test\\395.jpg: 640x640 1 River, 9.2ms\n",
      "image 396/800 C:\\Users\\15984\\Desktop\\COMP9517PROJECT\\skyview_yolo_dataset\\images\\test\\396.jpg: 640x640 1 Lake, 1 River, 9.6ms\n",
      "image 397/800 C:\\Users\\15984\\Desktop\\COMP9517PROJECT\\skyview_yolo_dataset\\images\\test\\397.jpg: 640x640 1 Railway, 9.5ms\n",
      "image 398/800 C:\\Users\\15984\\Desktop\\COMP9517PROJECT\\skyview_yolo_dataset\\images\\test\\398.jpg: 640x640 1 Lake, 9.8ms\n",
      "image 399/800 C:\\Users\\15984\\Desktop\\COMP9517PROJECT\\skyview_yolo_dataset\\images\\test\\399.jpg: 640x640 1 River, 8.8ms\n",
      "image 400/800 C:\\Users\\15984\\Desktop\\COMP9517PROJECT\\skyview_yolo_dataset\\images\\test\\400.jpg: 640x640 1 River, 8.7ms\n",
      "image 401/800 C:\\Users\\15984\\Desktop\\COMP9517PROJECT\\skyview_yolo_dataset\\images\\test\\401.jpg: 640x640 1 River, 8.4ms\n",
      "image 402/800 C:\\Users\\15984\\Desktop\\COMP9517PROJECT\\skyview_yolo_dataset\\images\\test\\402.jpg: 640x640 1 River, 9.3ms\n",
      "image 403/800 C:\\Users\\15984\\Desktop\\COMP9517PROJECT\\skyview_yolo_dataset\\images\\test\\403.jpg: 640x640 1 Residential, 8.5ms\n",
      "image 404/800 C:\\Users\\15984\\Desktop\\COMP9517PROJECT\\skyview_yolo_dataset\\images\\test\\404.jpg: 640x640 1 River, 8.4ms\n",
      "image 405/800 C:\\Users\\15984\\Desktop\\COMP9517PROJECT\\skyview_yolo_dataset\\images\\test\\405.jpg: 640x640 1 River, 8.2ms\n",
      "image 406/800 C:\\Users\\15984\\Desktop\\COMP9517PROJECT\\skyview_yolo_dataset\\images\\test\\406.jpg: 640x640 1 River, 8.7ms\n",
      "image 407/800 C:\\Users\\15984\\Desktop\\COMP9517PROJECT\\skyview_yolo_dataset\\images\\test\\407.jpg: 640x640 1 City, 9.0ms\n",
      "image 408/800 C:\\Users\\15984\\Desktop\\COMP9517PROJECT\\skyview_yolo_dataset\\images\\test\\408.jpg: 640x640 1 River, 8.6ms\n",
      "image 409/800 C:\\Users\\15984\\Desktop\\COMP9517PROJECT\\skyview_yolo_dataset\\images\\test\\409.jpg: 640x640 1 River, 8.9ms\n",
      "image 410/800 C:\\Users\\15984\\Desktop\\COMP9517PROJECT\\skyview_yolo_dataset\\images\\test\\410.jpg: 640x640 1 River, 8.9ms\n",
      "image 411/800 C:\\Users\\15984\\Desktop\\COMP9517PROJECT\\skyview_yolo_dataset\\images\\test\\411.jpg: 640x640 1 Residential, 13.1ms\n",
      "image 412/800 C:\\Users\\15984\\Desktop\\COMP9517PROJECT\\skyview_yolo_dataset\\images\\test\\412.jpg: 640x640 1 River, 8.8ms\n",
      "image 413/800 C:\\Users\\15984\\Desktop\\COMP9517PROJECT\\skyview_yolo_dataset\\images\\test\\413.jpg: 640x640 1 River, 8.7ms\n",
      "image 414/800 C:\\Users\\15984\\Desktop\\COMP9517PROJECT\\skyview_yolo_dataset\\images\\test\\414.jpg: 640x640 1 River, 9.4ms\n",
      "image 415/800 C:\\Users\\15984\\Desktop\\COMP9517PROJECT\\skyview_yolo_dataset\\images\\test\\415.jpg: 640x640 1 Residential, 8.6ms\n",
      "image 416/800 C:\\Users\\15984\\Desktop\\COMP9517PROJECT\\skyview_yolo_dataset\\images\\test\\416.jpg: 640x640 1 River, 8.5ms\n",
      "image 417/800 C:\\Users\\15984\\Desktop\\COMP9517PROJECT\\skyview_yolo_dataset\\images\\test\\417.jpg: 640x640 1 Residential, 9.3ms\n",
      "image 418/800 C:\\Users\\15984\\Desktop\\COMP9517PROJECT\\skyview_yolo_dataset\\images\\test\\418.jpg: 640x640 1 Lake, 1 River, 9.3ms\n",
      "image 419/800 C:\\Users\\15984\\Desktop\\COMP9517PROJECT\\skyview_yolo_dataset\\images\\test\\419.jpg: 640x640 1 River, 11.5ms\n",
      "image 420/800 C:\\Users\\15984\\Desktop\\COMP9517PROJECT\\skyview_yolo_dataset\\images\\test\\420.jpg: 640x640 1 Railway, 8.8ms\n",
      "image 421/800 C:\\Users\\15984\\Desktop\\COMP9517PROJECT\\skyview_yolo_dataset\\images\\test\\421.jpg: 640x640 1 River, 8.6ms\n",
      "image 422/800 C:\\Users\\15984\\Desktop\\COMP9517PROJECT\\skyview_yolo_dataset\\images\\test\\422.jpg: 640x640 1 River, 14.1ms\n",
      "image 423/800 C:\\Users\\15984\\Desktop\\COMP9517PROJECT\\skyview_yolo_dataset\\images\\test\\423.jpg: 640x640 1 River, 13.4ms\n",
      "image 424/800 C:\\Users\\15984\\Desktop\\COMP9517PROJECT\\skyview_yolo_dataset\\images\\test\\424.jpg: 640x640 1 River, 9.6ms\n",
      "image 425/800 C:\\Users\\15984\\Desktop\\COMP9517PROJECT\\skyview_yolo_dataset\\images\\test\\425.jpg: 640x640 1 Grassland, 1 River, 9.0ms\n",
      "image 426/800 C:\\Users\\15984\\Desktop\\COMP9517PROJECT\\skyview_yolo_dataset\\images\\test\\426.jpg: 640x640 1 River, 13.5ms\n",
      "image 427/800 C:\\Users\\15984\\Desktop\\COMP9517PROJECT\\skyview_yolo_dataset\\images\\test\\427.jpg: 640x640 1 Residential, 10.5ms\n",
      "image 428/800 C:\\Users\\15984\\Desktop\\COMP9517PROJECT\\skyview_yolo_dataset\\images\\test\\428.jpg: 640x640 1 River, 10.2ms\n",
      "image 429/800 C:\\Users\\15984\\Desktop\\COMP9517PROJECT\\skyview_yolo_dataset\\images\\test\\429.jpg: 640x640 1 Residential, 9.2ms\n",
      "image 430/800 C:\\Users\\15984\\Desktop\\COMP9517PROJECT\\skyview_yolo_dataset\\images\\test\\430.jpg: 640x640 1 River, 9.4ms\n",
      "image 431/800 C:\\Users\\15984\\Desktop\\COMP9517PROJECT\\skyview_yolo_dataset\\images\\test\\431.jpg: 640x640 1 Residential, 9.7ms\n",
      "image 432/800 C:\\Users\\15984\\Desktop\\COMP9517PROJECT\\skyview_yolo_dataset\\images\\test\\432.jpg: 640x640 1 River, 9.5ms\n",
      "image 433/800 C:\\Users\\15984\\Desktop\\COMP9517PROJECT\\skyview_yolo_dataset\\images\\test\\433.jpg: 640x640 1 River, 9.8ms\n",
      "image 434/800 C:\\Users\\15984\\Desktop\\COMP9517PROJECT\\skyview_yolo_dataset\\images\\test\\434.jpg: 640x640 1 Railway, 10.1ms\n",
      "image 435/800 C:\\Users\\15984\\Desktop\\COMP9517PROJECT\\skyview_yolo_dataset\\images\\test\\435.jpg: 640x640 1 Residential, 9.2ms\n",
      "image 436/800 C:\\Users\\15984\\Desktop\\COMP9517PROJECT\\skyview_yolo_dataset\\images\\test\\436.jpg: 640x640 1 River, 10.4ms\n",
      "image 437/800 C:\\Users\\15984\\Desktop\\COMP9517PROJECT\\skyview_yolo_dataset\\images\\test\\437.jpg: 640x640 1 Residential, 9.5ms\n",
      "image 438/800 C:\\Users\\15984\\Desktop\\COMP9517PROJECT\\skyview_yolo_dataset\\images\\test\\438.jpg: 640x640 1 River, 9.8ms\n",
      "image 439/800 C:\\Users\\15984\\Desktop\\COMP9517PROJECT\\skyview_yolo_dataset\\images\\test\\439.jpg: 640x640 1 River, 9.8ms\n",
      "image 440/800 C:\\Users\\15984\\Desktop\\COMP9517PROJECT\\skyview_yolo_dataset\\images\\test\\440.jpg: 640x640 1 River, 9.0ms\n",
      "image 441/800 C:\\Users\\15984\\Desktop\\COMP9517PROJECT\\skyview_yolo_dataset\\images\\test\\441.jpg: 640x640 1 Residential, 9.2ms\n",
      "image 442/800 C:\\Users\\15984\\Desktop\\COMP9517PROJECT\\skyview_yolo_dataset\\images\\test\\442.jpg: 640x640 1 River, 9.0ms\n",
      "image 443/800 C:\\Users\\15984\\Desktop\\COMP9517PROJECT\\skyview_yolo_dataset\\images\\test\\443.jpg: 640x640 1 River, 9.2ms\n",
      "image 444/800 C:\\Users\\15984\\Desktop\\COMP9517PROJECT\\skyview_yolo_dataset\\images\\test\\444.jpg: 640x640 1 Railway, 8.6ms\n",
      "image 445/800 C:\\Users\\15984\\Desktop\\COMP9517PROJECT\\skyview_yolo_dataset\\images\\test\\445.jpg: 640x640 1 River, 11.1ms\n",
      "image 446/800 C:\\Users\\15984\\Desktop\\COMP9517PROJECT\\skyview_yolo_dataset\\images\\test\\446.jpg: 640x640 1 River, 8.8ms\n",
      "image 447/800 C:\\Users\\15984\\Desktop\\COMP9517PROJECT\\skyview_yolo_dataset\\images\\test\\447.jpg: 640x640 1 River, 8.3ms\n",
      "image 448/800 C:\\Users\\15984\\Desktop\\COMP9517PROJECT\\skyview_yolo_dataset\\images\\test\\448.jpg: 640x640 1 Residential, 8.7ms\n",
      "image 449/800 C:\\Users\\15984\\Desktop\\COMP9517PROJECT\\skyview_yolo_dataset\\images\\test\\449.jpg: 640x640 1 River, 9.0ms\n",
      "image 450/800 C:\\Users\\15984\\Desktop\\COMP9517PROJECT\\skyview_yolo_dataset\\images\\test\\450.jpg: 640x640 1 River, 9.8ms\n",
      "image 451/800 C:\\Users\\15984\\Desktop\\COMP9517PROJECT\\skyview_yolo_dataset\\images\\test\\451.jpg: 640x640 1 River, 11.6ms\n",
      "image 452/800 C:\\Users\\15984\\Desktop\\COMP9517PROJECT\\skyview_yolo_dataset\\images\\test\\452.jpg: 640x640 1 Residential, 10.3ms\n",
      "image 453/800 C:\\Users\\15984\\Desktop\\COMP9517PROJECT\\skyview_yolo_dataset\\images\\test\\453.jpg: 640x640 1 River, 10.4ms\n",
      "image 454/800 C:\\Users\\15984\\Desktop\\COMP9517PROJECT\\skyview_yolo_dataset\\images\\test\\454.jpg: 640x640 1 Residential, 9.3ms\n",
      "image 455/800 C:\\Users\\15984\\Desktop\\COMP9517PROJECT\\skyview_yolo_dataset\\images\\test\\455.jpg: 640x640 1 River, 9.6ms\n",
      "image 456/800 C:\\Users\\15984\\Desktop\\COMP9517PROJECT\\skyview_yolo_dataset\\images\\test\\456.jpg: 640x640 1 River, 9.0ms\n",
      "image 457/800 C:\\Users\\15984\\Desktop\\COMP9517PROJECT\\skyview_yolo_dataset\\images\\test\\457.jpg: 640x640 1 Residential, 9.0ms\n",
      "image 458/800 C:\\Users\\15984\\Desktop\\COMP9517PROJECT\\skyview_yolo_dataset\\images\\test\\458.jpg: 640x640 1 River, 11.5ms\n",
      "image 459/800 C:\\Users\\15984\\Desktop\\COMP9517PROJECT\\skyview_yolo_dataset\\images\\test\\459.jpg: 640x640 1 River, 9.4ms\n",
      "image 460/800 C:\\Users\\15984\\Desktop\\COMP9517PROJECT\\skyview_yolo_dataset\\images\\test\\460.jpg: 640x640 1 Parking, 8.9ms\n",
      "image 461/800 C:\\Users\\15984\\Desktop\\COMP9517PROJECT\\skyview_yolo_dataset\\images\\test\\461.jpg: 640x640 1 Residential, 8.7ms\n",
      "image 462/800 C:\\Users\\15984\\Desktop\\COMP9517PROJECT\\skyview_yolo_dataset\\images\\test\\462.jpg: 640x640 1 River, 11.8ms\n",
      "image 463/800 C:\\Users\\15984\\Desktop\\COMP9517PROJECT\\skyview_yolo_dataset\\images\\test\\463.jpg: 640x640 1 Residential, 11.1ms\n",
      "image 464/800 C:\\Users\\15984\\Desktop\\COMP9517PROJECT\\skyview_yolo_dataset\\images\\test\\464.jpg: 640x640 1 Residential, 9.1ms\n",
      "image 465/800 C:\\Users\\15984\\Desktop\\COMP9517PROJECT\\skyview_yolo_dataset\\images\\test\\465.jpg: 640x640 1 Agriculture, 1 Airport, 11.7ms\n",
      "image 466/800 C:\\Users\\15984\\Desktop\\COMP9517PROJECT\\skyview_yolo_dataset\\images\\test\\466.jpg: 640x640 1 Port, 8.3ms\n",
      "image 467/800 C:\\Users\\15984\\Desktop\\COMP9517PROJECT\\skyview_yolo_dataset\\images\\test\\467.jpg: 640x640 1 River, 8.2ms\n",
      "image 468/800 C:\\Users\\15984\\Desktop\\COMP9517PROJECT\\skyview_yolo_dataset\\images\\test\\468.jpg: 640x640 1 Railway, 8.5ms\n",
      "image 469/800 C:\\Users\\15984\\Desktop\\COMP9517PROJECT\\skyview_yolo_dataset\\images\\test\\469.jpg: 640x640 1 River, 8.3ms\n",
      "image 470/800 C:\\Users\\15984\\Desktop\\COMP9517PROJECT\\skyview_yolo_dataset\\images\\test\\470.jpg: 640x640 1 River, 8.4ms\n",
      "image 471/800 C:\\Users\\15984\\Desktop\\COMP9517PROJECT\\skyview_yolo_dataset\\images\\test\\471.jpg: 640x640 1 Lake, 7.9ms\n",
      "image 472/800 C:\\Users\\15984\\Desktop\\COMP9517PROJECT\\skyview_yolo_dataset\\images\\test\\472.jpg: 640x640 1 River, 8.0ms\n",
      "image 473/800 C:\\Users\\15984\\Desktop\\COMP9517PROJECT\\skyview_yolo_dataset\\images\\test\\473.jpg: 640x640 1 River, 8.0ms\n",
      "image 474/800 C:\\Users\\15984\\Desktop\\COMP9517PROJECT\\skyview_yolo_dataset\\images\\test\\474.jpg: 640x640 1 Railway, 8.0ms\n",
      "image 475/800 C:\\Users\\15984\\Desktop\\COMP9517PROJECT\\skyview_yolo_dataset\\images\\test\\475.jpg: 640x640 1 River, 8.2ms\n",
      "image 476/800 C:\\Users\\15984\\Desktop\\COMP9517PROJECT\\skyview_yolo_dataset\\images\\test\\476.jpg: 640x640 1 River, 8.4ms\n",
      "image 477/800 C:\\Users\\15984\\Desktop\\COMP9517PROJECT\\skyview_yolo_dataset\\images\\test\\477.jpg: 640x640 1 River, 8.6ms\n",
      "image 478/800 C:\\Users\\15984\\Desktop\\COMP9517PROJECT\\skyview_yolo_dataset\\images\\test\\478.jpg: 640x640 1 Residential, 8.3ms\n",
      "image 479/800 C:\\Users\\15984\\Desktop\\COMP9517PROJECT\\skyview_yolo_dataset\\images\\test\\479.jpg: 640x640 1 River, 11.2ms\n",
      "image 480/800 C:\\Users\\15984\\Desktop\\COMP9517PROJECT\\skyview_yolo_dataset\\images\\test\\480.jpg: 640x640 1 River, 8.7ms\n",
      "image 481/800 C:\\Users\\15984\\Desktop\\COMP9517PROJECT\\skyview_yolo_dataset\\images\\test\\481.jpg: 640x640 1 River, 9.5ms\n",
      "image 482/800 C:\\Users\\15984\\Desktop\\COMP9517PROJECT\\skyview_yolo_dataset\\images\\test\\482.jpg: 640x640 1 Railway, 8.7ms\n",
      "image 483/800 C:\\Users\\15984\\Desktop\\COMP9517PROJECT\\skyview_yolo_dataset\\images\\test\\483.jpg: 640x640 1 River, 9.6ms\n",
      "image 484/800 C:\\Users\\15984\\Desktop\\COMP9517PROJECT\\skyview_yolo_dataset\\images\\test\\484.jpg: 640x640 1 River, 8.8ms\n",
      "image 485/800 C:\\Users\\15984\\Desktop\\COMP9517PROJECT\\skyview_yolo_dataset\\images\\test\\485.jpg: 640x640 1 Mountain, 1 River, 16.2ms\n",
      "image 486/800 C:\\Users\\15984\\Desktop\\COMP9517PROJECT\\skyview_yolo_dataset\\images\\test\\486.jpg: 640x640 1 Residential, 8.5ms\n",
      "image 487/800 C:\\Users\\15984\\Desktop\\COMP9517PROJECT\\skyview_yolo_dataset\\images\\test\\487.jpg: 640x640 1 River, 8.9ms\n",
      "image 488/800 C:\\Users\\15984\\Desktop\\COMP9517PROJECT\\skyview_yolo_dataset\\images\\test\\488.jpg: 640x640 1 River, 8.6ms\n",
      "image 489/800 C:\\Users\\15984\\Desktop\\COMP9517PROJECT\\skyview_yolo_dataset\\images\\test\\489.jpg: 640x640 1 River, 9.3ms\n",
      "image 490/800 C:\\Users\\15984\\Desktop\\COMP9517PROJECT\\skyview_yolo_dataset\\images\\test\\490.jpg: 640x640 1 River, 8.9ms\n",
      "image 491/800 C:\\Users\\15984\\Desktop\\COMP9517PROJECT\\skyview_yolo_dataset\\images\\test\\491.jpg: 640x640 1 Residential, 8.5ms\n",
      "image 492/800 C:\\Users\\15984\\Desktop\\COMP9517PROJECT\\skyview_yolo_dataset\\images\\test\\492.jpg: 640x640 1 River, 8.3ms\n",
      "image 493/800 C:\\Users\\15984\\Desktop\\COMP9517PROJECT\\skyview_yolo_dataset\\images\\test\\493.jpg: 640x640 1 River, 8.3ms\n",
      "image 494/800 C:\\Users\\15984\\Desktop\\COMP9517PROJECT\\skyview_yolo_dataset\\images\\test\\494.jpg: 640x640 1 Highway, 1 Residential, 9.0ms\n",
      "image 495/800 C:\\Users\\15984\\Desktop\\COMP9517PROJECT\\skyview_yolo_dataset\\images\\test\\495.jpg: 640x640 1 River, 8.4ms\n",
      "image 496/800 C:\\Users\\15984\\Desktop\\COMP9517PROJECT\\skyview_yolo_dataset\\images\\test\\496.jpg: 640x640 1 River, 9.0ms\n",
      "image 497/800 C:\\Users\\15984\\Desktop\\COMP9517PROJECT\\skyview_yolo_dataset\\images\\test\\497.jpg: 640x640 1 River, 8.3ms\n",
      "image 498/800 C:\\Users\\15984\\Desktop\\COMP9517PROJECT\\skyview_yolo_dataset\\images\\test\\498.jpg: 640x640 1 Residential, 8.3ms\n",
      "image 499/800 C:\\Users\\15984\\Desktop\\COMP9517PROJECT\\skyview_yolo_dataset\\images\\test\\499.jpg: 640x640 1 River, 8.3ms\n",
      "image 500/800 C:\\Users\\15984\\Desktop\\COMP9517PROJECT\\skyview_yolo_dataset\\images\\test\\500.jpg: 640x640 1 River, 8.6ms\n",
      "image 501/800 C:\\Users\\15984\\Desktop\\COMP9517PROJECT\\skyview_yolo_dataset\\images\\test\\501.jpg: 640x640 1 Residential, 8.4ms\n",
      "image 502/800 C:\\Users\\15984\\Desktop\\COMP9517PROJECT\\skyview_yolo_dataset\\images\\test\\502.jpg: 640x640 1 River, 8.3ms\n",
      "image 503/800 C:\\Users\\15984\\Desktop\\COMP9517PROJECT\\skyview_yolo_dataset\\images\\test\\503.jpg: 640x640 1 River, 10.5ms\n",
      "image 504/800 C:\\Users\\15984\\Desktop\\COMP9517PROJECT\\skyview_yolo_dataset\\images\\test\\504.jpg: 640x640 1 River, 11.6ms\n",
      "image 505/800 C:\\Users\\15984\\Desktop\\COMP9517PROJECT\\skyview_yolo_dataset\\images\\test\\505.jpg: 640x640 1 River, 8.8ms\n",
      "image 506/800 C:\\Users\\15984\\Desktop\\COMP9517PROJECT\\skyview_yolo_dataset\\images\\test\\506.jpg: 640x640 1 River, 8.6ms\n",
      "image 507/800 C:\\Users\\15984\\Desktop\\COMP9517PROJECT\\skyview_yolo_dataset\\images\\test\\507.jpg: 640x640 1 River, 13.8ms\n",
      "image 508/800 C:\\Users\\15984\\Desktop\\COMP9517PROJECT\\skyview_yolo_dataset\\images\\test\\508.jpg: 640x640 1 Residential, 8.5ms\n",
      "image 509/800 C:\\Users\\15984\\Desktop\\COMP9517PROJECT\\skyview_yolo_dataset\\images\\test\\509.jpg: 640x640 1 Mountain, 1 River, 8.9ms\n",
      "image 510/800 C:\\Users\\15984\\Desktop\\COMP9517PROJECT\\skyview_yolo_dataset\\images\\test\\510.jpg: 640x640 1 Residential, 8.9ms\n",
      "image 511/800 C:\\Users\\15984\\Desktop\\COMP9517PROJECT\\skyview_yolo_dataset\\images\\test\\511.jpg: 640x640 1 River, 8.8ms\n",
      "image 512/800 C:\\Users\\15984\\Desktop\\COMP9517PROJECT\\skyview_yolo_dataset\\images\\test\\512.jpg: 640x640 1 Residential, 8.8ms\n",
      "image 513/800 C:\\Users\\15984\\Desktop\\COMP9517PROJECT\\skyview_yolo_dataset\\images\\test\\513.jpg: 640x640 1 Railway, 15.8ms\n",
      "image 514/800 C:\\Users\\15984\\Desktop\\COMP9517PROJECT\\skyview_yolo_dataset\\images\\test\\514.jpg: 640x640 1 Mountain, 1 River, 8.9ms\n",
      "image 515/800 C:\\Users\\15984\\Desktop\\COMP9517PROJECT\\skyview_yolo_dataset\\images\\test\\515.jpg: 640x640 1 River, 10.4ms\n",
      "image 516/800 C:\\Users\\15984\\Desktop\\COMP9517PROJECT\\skyview_yolo_dataset\\images\\test\\516.jpg: 640x640 1 Beach, 1 Grassland, 8.4ms\n",
      "image 517/800 C:\\Users\\15984\\Desktop\\COMP9517PROJECT\\skyview_yolo_dataset\\images\\test\\517.jpg: 640x640 1 Mountain, 8.5ms\n",
      "image 518/800 C:\\Users\\15984\\Desktop\\COMP9517PROJECT\\skyview_yolo_dataset\\images\\test\\518.jpg: 640x640 1 Residential, 15.2ms\n",
      "image 519/800 C:\\Users\\15984\\Desktop\\COMP9517PROJECT\\skyview_yolo_dataset\\images\\test\\519.jpg: 640x640 1 Beach, 1 River, 12.5ms\n",
      "image 520/800 C:\\Users\\15984\\Desktop\\COMP9517PROJECT\\skyview_yolo_dataset\\images\\test\\520.jpg: 640x640 1 City, 1 River, 15.3ms\n",
      "image 521/800 C:\\Users\\15984\\Desktop\\COMP9517PROJECT\\skyview_yolo_dataset\\images\\test\\521.jpg: 640x640 1 River, 8.3ms\n",
      "image 522/800 C:\\Users\\15984\\Desktop\\COMP9517PROJECT\\skyview_yolo_dataset\\images\\test\\522.jpg: 640x640 1 River, 8.4ms\n",
      "image 523/800 C:\\Users\\15984\\Desktop\\COMP9517PROJECT\\skyview_yolo_dataset\\images\\test\\523.jpg: 640x640 1 River, 8.4ms\n",
      "image 524/800 C:\\Users\\15984\\Desktop\\COMP9517PROJECT\\skyview_yolo_dataset\\images\\test\\524.jpg: 640x640 1 River, 8.1ms\n",
      "image 525/800 C:\\Users\\15984\\Desktop\\COMP9517PROJECT\\skyview_yolo_dataset\\images\\test\\525.jpg: 640x640 1 River, 8.3ms\n",
      "image 526/800 C:\\Users\\15984\\Desktop\\COMP9517PROJECT\\skyview_yolo_dataset\\images\\test\\526.jpg: 640x640 1 River, 8.2ms\n",
      "image 527/800 C:\\Users\\15984\\Desktop\\COMP9517PROJECT\\skyview_yolo_dataset\\images\\test\\527.jpg: 640x640 1 River, 10.1ms\n",
      "image 528/800 C:\\Users\\15984\\Desktop\\COMP9517PROJECT\\skyview_yolo_dataset\\images\\test\\528.jpg: 640x640 1 Parking, 8.5ms\n",
      "image 529/800 C:\\Users\\15984\\Desktop\\COMP9517PROJECT\\skyview_yolo_dataset\\images\\test\\529.jpg: 640x640 1 Mountain, 1 River, 8.5ms\n",
      "image 530/800 C:\\Users\\15984\\Desktop\\COMP9517PROJECT\\skyview_yolo_dataset\\images\\test\\530.jpg: 640x640 1 Residential, 13.8ms\n",
      "image 531/800 C:\\Users\\15984\\Desktop\\COMP9517PROJECT\\skyview_yolo_dataset\\images\\test\\531.jpg: 640x640 1 River, 8.4ms\n",
      "image 532/800 C:\\Users\\15984\\Desktop\\COMP9517PROJECT\\skyview_yolo_dataset\\images\\test\\532.jpg: 640x640 1 River, 15.8ms\n",
      "image 533/800 C:\\Users\\15984\\Desktop\\COMP9517PROJECT\\skyview_yolo_dataset\\images\\test\\533.jpg: 640x640 1 Port, 10.2ms\n",
      "image 534/800 C:\\Users\\15984\\Desktop\\COMP9517PROJECT\\skyview_yolo_dataset\\images\\test\\534.jpg: 640x640 1 River, 8.6ms\n",
      "image 535/800 C:\\Users\\15984\\Desktop\\COMP9517PROJECT\\skyview_yolo_dataset\\images\\test\\535.jpg: 640x640 1 River, 9.1ms\n",
      "image 536/800 C:\\Users\\15984\\Desktop\\COMP9517PROJECT\\skyview_yolo_dataset\\images\\test\\536.jpg: 640x640 1 Lake, 8.9ms\n",
      "image 537/800 C:\\Users\\15984\\Desktop\\COMP9517PROJECT\\skyview_yolo_dataset\\images\\test\\537.jpg: 640x640 1 River, 9.0ms\n",
      "image 538/800 C:\\Users\\15984\\Desktop\\COMP9517PROJECT\\skyview_yolo_dataset\\images\\test\\538.jpg: 640x640 1 River, 8.8ms\n",
      "image 539/800 C:\\Users\\15984\\Desktop\\COMP9517PROJECT\\skyview_yolo_dataset\\images\\test\\539.jpg: 640x640 1 River, 8.6ms\n",
      "image 540/800 C:\\Users\\15984\\Desktop\\COMP9517PROJECT\\skyview_yolo_dataset\\images\\test\\540.jpg: 640x640 1 Railway, 9.2ms\n",
      "image 541/800 C:\\Users\\15984\\Desktop\\COMP9517PROJECT\\skyview_yolo_dataset\\images\\test\\541.jpg: 640x640 1 Residential, 9.2ms\n",
      "image 542/800 C:\\Users\\15984\\Desktop\\COMP9517PROJECT\\skyview_yolo_dataset\\images\\test\\542.jpg: 640x640 1 River, 8.6ms\n",
      "image 543/800 C:\\Users\\15984\\Desktop\\COMP9517PROJECT\\skyview_yolo_dataset\\images\\test\\543.jpg: 640x640 1 River, 16.0ms\n",
      "image 544/800 C:\\Users\\15984\\Desktop\\COMP9517PROJECT\\skyview_yolo_dataset\\images\\test\\544.jpg: 640x640 1 River, 9.4ms\n",
      "image 545/800 C:\\Users\\15984\\Desktop\\COMP9517PROJECT\\skyview_yolo_dataset\\images\\test\\545.jpg: 640x640 1 River, 8.4ms\n",
      "image 546/800 C:\\Users\\15984\\Desktop\\COMP9517PROJECT\\skyview_yolo_dataset\\images\\test\\546.jpg: 640x640 1 Agriculture, 1 River, 8.5ms\n",
      "image 547/800 C:\\Users\\15984\\Desktop\\COMP9517PROJECT\\skyview_yolo_dataset\\images\\test\\547.jpg: 640x640 (no detections), 8.1ms\n",
      "image 548/800 C:\\Users\\15984\\Desktop\\COMP9517PROJECT\\skyview_yolo_dataset\\images\\test\\548.jpg: 640x640 1 Grassland, 1 River, 8.6ms\n",
      "image 549/800 C:\\Users\\15984\\Desktop\\COMP9517PROJECT\\skyview_yolo_dataset\\images\\test\\549.jpg: 640x640 1 River, 8.9ms\n",
      "image 550/800 C:\\Users\\15984\\Desktop\\COMP9517PROJECT\\skyview_yolo_dataset\\images\\test\\550.jpg: 640x640 1 Lake, 8.3ms\n",
      "image 551/800 C:\\Users\\15984\\Desktop\\COMP9517PROJECT\\skyview_yolo_dataset\\images\\test\\551.jpg: 640x640 1 Forest, 8.8ms\n",
      "image 552/800 C:\\Users\\15984\\Desktop\\COMP9517PROJECT\\skyview_yolo_dataset\\images\\test\\552.jpg: 640x640 1 Residential, 13.9ms\n",
      "image 553/800 C:\\Users\\15984\\Desktop\\COMP9517PROJECT\\skyview_yolo_dataset\\images\\test\\553.jpg: 640x640 1 Residential, 8.8ms\n",
      "image 554/800 C:\\Users\\15984\\Desktop\\COMP9517PROJECT\\skyview_yolo_dataset\\images\\test\\554.jpg: 640x640 1 River, 8.3ms\n",
      "image 555/800 C:\\Users\\15984\\Desktop\\COMP9517PROJECT\\skyview_yolo_dataset\\images\\test\\555.jpg: 640x640 1 Residential, 16.4ms\n",
      "image 556/800 C:\\Users\\15984\\Desktop\\COMP9517PROJECT\\skyview_yolo_dataset\\images\\test\\556.jpg: 640x640 1 River, 11.6ms\n",
      "image 557/800 C:\\Users\\15984\\Desktop\\COMP9517PROJECT\\skyview_yolo_dataset\\images\\test\\557.jpg: 640x640 1 River, 15.7ms\n",
      "image 558/800 C:\\Users\\15984\\Desktop\\COMP9517PROJECT\\skyview_yolo_dataset\\images\\test\\558.jpg: 640x640 1 River, 8.2ms\n",
      "image 559/800 C:\\Users\\15984\\Desktop\\COMP9517PROJECT\\skyview_yolo_dataset\\images\\test\\559.jpg: 640x640 1 River, 8.4ms\n",
      "image 560/800 C:\\Users\\15984\\Desktop\\COMP9517PROJECT\\skyview_yolo_dataset\\images\\test\\560.jpg: 640x640 1 Port, 15.1ms\n",
      "image 561/800 C:\\Users\\15984\\Desktop\\COMP9517PROJECT\\skyview_yolo_dataset\\images\\test\\561.jpg: 640x640 1 River, 7.9ms\n",
      "image 562/800 C:\\Users\\15984\\Desktop\\COMP9517PROJECT\\skyview_yolo_dataset\\images\\test\\562.jpg: 640x640 1 River, 11.7ms\n",
      "image 563/800 C:\\Users\\15984\\Desktop\\COMP9517PROJECT\\skyview_yolo_dataset\\images\\test\\563.jpg: 640x640 1 Agriculture, 1 River, 8.2ms\n",
      "image 564/800 C:\\Users\\15984\\Desktop\\COMP9517PROJECT\\skyview_yolo_dataset\\images\\test\\564.jpg: 640x640 1 Residential, 9.4ms\n",
      "image 565/800 C:\\Users\\15984\\Desktop\\COMP9517PROJECT\\skyview_yolo_dataset\\images\\test\\565.jpg: 640x640 1 River, 9.1ms\n",
      "image 566/800 C:\\Users\\15984\\Desktop\\COMP9517PROJECT\\skyview_yolo_dataset\\images\\test\\566.jpg: 640x640 1 Lake, 8.3ms\n",
      "image 567/800 C:\\Users\\15984\\Desktop\\COMP9517PROJECT\\skyview_yolo_dataset\\images\\test\\567.jpg: 640x640 1 River, 9.9ms\n",
      "image 568/800 C:\\Users\\15984\\Desktop\\COMP9517PROJECT\\skyview_yolo_dataset\\images\\test\\568.jpg: 640x640 1 Residential, 9.0ms\n",
      "image 569/800 C:\\Users\\15984\\Desktop\\COMP9517PROJECT\\skyview_yolo_dataset\\images\\test\\569.jpg: 640x640 1 River, 8.7ms\n",
      "image 570/800 C:\\Users\\15984\\Desktop\\COMP9517PROJECT\\skyview_yolo_dataset\\images\\test\\570.jpg: 640x640 1 River, 17.5ms\n",
      "image 571/800 C:\\Users\\15984\\Desktop\\COMP9517PROJECT\\skyview_yolo_dataset\\images\\test\\571.jpg: 640x640 1 Residential, 11.8ms\n",
      "image 572/800 C:\\Users\\15984\\Desktop\\COMP9517PROJECT\\skyview_yolo_dataset\\images\\test\\572.jpg: 640x640 1 Grassland, 17.5ms\n",
      "image 573/800 C:\\Users\\15984\\Desktop\\COMP9517PROJECT\\skyview_yolo_dataset\\images\\test\\573.jpg: 640x640 1 River, 8.9ms\n",
      "image 574/800 C:\\Users\\15984\\Desktop\\COMP9517PROJECT\\skyview_yolo_dataset\\images\\test\\574.jpg: 640x640 1 River, 8.7ms\n",
      "image 575/800 C:\\Users\\15984\\Desktop\\COMP9517PROJECT\\skyview_yolo_dataset\\images\\test\\575.jpg: 640x640 1 River, 9.8ms\n",
      "image 576/800 C:\\Users\\15984\\Desktop\\COMP9517PROJECT\\skyview_yolo_dataset\\images\\test\\576.jpg: 640x640 1 River, 9.1ms\n",
      "image 577/800 C:\\Users\\15984\\Desktop\\COMP9517PROJECT\\skyview_yolo_dataset\\images\\test\\577.jpg: 640x640 1 Residential, 9.0ms\n",
      "image 578/800 C:\\Users\\15984\\Desktop\\COMP9517PROJECT\\skyview_yolo_dataset\\images\\test\\578.jpg: 640x640 1 River, 8.4ms\n",
      "image 579/800 C:\\Users\\15984\\Desktop\\COMP9517PROJECT\\skyview_yolo_dataset\\images\\test\\579.jpg: 640x640 1 Forest, 1 River, 8.5ms\n",
      "image 580/800 C:\\Users\\15984\\Desktop\\COMP9517PROJECT\\skyview_yolo_dataset\\images\\test\\580.jpg: 640x640 1 River, 15.8ms\n",
      "image 581/800 C:\\Users\\15984\\Desktop\\COMP9517PROJECT\\skyview_yolo_dataset\\images\\test\\581.jpg: 640x640 1 River, 8.7ms\n",
      "image 582/800 C:\\Users\\15984\\Desktop\\COMP9517PROJECT\\skyview_yolo_dataset\\images\\test\\582.jpg: 640x640 1 River, 8.6ms\n",
      "image 583/800 C:\\Users\\15984\\Desktop\\COMP9517PROJECT\\skyview_yolo_dataset\\images\\test\\583.jpg: 640x640 1 River, 15.4ms\n",
      "image 584/800 C:\\Users\\15984\\Desktop\\COMP9517PROJECT\\skyview_yolo_dataset\\images\\test\\584.jpg: 640x640 1 River, 8.5ms\n",
      "image 585/800 C:\\Users\\15984\\Desktop\\COMP9517PROJECT\\skyview_yolo_dataset\\images\\test\\585.jpg: 640x640 1 River, 8.7ms\n",
      "image 586/800 C:\\Users\\15984\\Desktop\\COMP9517PROJECT\\skyview_yolo_dataset\\images\\test\\586.jpg: 640x640 1 River, 10.4ms\n",
      "image 587/800 C:\\Users\\15984\\Desktop\\COMP9517PROJECT\\skyview_yolo_dataset\\images\\test\\587.jpg: 640x640 1 River, 9.4ms\n",
      "image 588/800 C:\\Users\\15984\\Desktop\\COMP9517PROJECT\\skyview_yolo_dataset\\images\\test\\588.jpg: 640x640 1 River, 9.2ms\n",
      "image 589/800 C:\\Users\\15984\\Desktop\\COMP9517PROJECT\\skyview_yolo_dataset\\images\\test\\589.jpg: 640x640 1 River, 18.3ms\n",
      "image 590/800 C:\\Users\\15984\\Desktop\\COMP9517PROJECT\\skyview_yolo_dataset\\images\\test\\590.jpg: 640x640 1 Residential, 12.8ms\n",
      "image 591/800 C:\\Users\\15984\\Desktop\\COMP9517PROJECT\\skyview_yolo_dataset\\images\\test\\591.jpg: 640x640 1 River, 11.9ms\n",
      "image 592/800 C:\\Users\\15984\\Desktop\\COMP9517PROJECT\\skyview_yolo_dataset\\images\\test\\592.jpg: 640x640 1 River, 8.8ms\n",
      "image 593/800 C:\\Users\\15984\\Desktop\\COMP9517PROJECT\\skyview_yolo_dataset\\images\\test\\593.jpg: 640x640 1 River, 8.7ms\n",
      "image 594/800 C:\\Users\\15984\\Desktop\\COMP9517PROJECT\\skyview_yolo_dataset\\images\\test\\594.jpg: 640x640 1 Lake, 13.0ms\n",
      "image 595/800 C:\\Users\\15984\\Desktop\\COMP9517PROJECT\\skyview_yolo_dataset\\images\\test\\595.jpg: 640x640 1 Port, 9.1ms\n",
      "image 596/800 C:\\Users\\15984\\Desktop\\COMP9517PROJECT\\skyview_yolo_dataset\\images\\test\\596.jpg: 640x640 1 Railway, 16.4ms\n",
      "image 597/800 C:\\Users\\15984\\Desktop\\COMP9517PROJECT\\skyview_yolo_dataset\\images\\test\\597.jpg: 640x640 1 River, 11.1ms\n",
      "image 598/800 C:\\Users\\15984\\Desktop\\COMP9517PROJECT\\skyview_yolo_dataset\\images\\test\\598.jpg: 640x640 1 River, 8.5ms\n",
      "image 599/800 C:\\Users\\15984\\Desktop\\COMP9517PROJECT\\skyview_yolo_dataset\\images\\test\\599.jpg: 640x640 1 River, 9.3ms\n",
      "image 600/800 C:\\Users\\15984\\Desktop\\COMP9517PROJECT\\skyview_yolo_dataset\\images\\test\\600.jpg: 640x640 1 River, 8.8ms\n",
      "image 601/800 C:\\Users\\15984\\Desktop\\COMP9517PROJECT\\skyview_yolo_dataset\\images\\test\\601.jpg: 640x640 1 Port, 8.7ms\n",
      "image 602/800 C:\\Users\\15984\\Desktop\\COMP9517PROJECT\\skyview_yolo_dataset\\images\\test\\602.jpg: 640x640 1 Residential, 8.4ms\n",
      "image 603/800 C:\\Users\\15984\\Desktop\\COMP9517PROJECT\\skyview_yolo_dataset\\images\\test\\603.jpg: 640x640 1 River, 8.3ms\n",
      "image 604/800 C:\\Users\\15984\\Desktop\\COMP9517PROJECT\\skyview_yolo_dataset\\images\\test\\604.jpg: 640x640 1 River, 8.4ms\n",
      "image 605/800 C:\\Users\\15984\\Desktop\\COMP9517PROJECT\\skyview_yolo_dataset\\images\\test\\605.jpg: 640x640 1 Lake, 12.7ms\n",
      "image 606/800 C:\\Users\\15984\\Desktop\\COMP9517PROJECT\\skyview_yolo_dataset\\images\\test\\606.jpg: 640x640 1 River, 8.4ms\n",
      "image 607/800 C:\\Users\\15984\\Desktop\\COMP9517PROJECT\\skyview_yolo_dataset\\images\\test\\607.jpg: 640x640 1 Agriculture, 1 River, 11.2ms\n",
      "image 608/800 C:\\Users\\15984\\Desktop\\COMP9517PROJECT\\skyview_yolo_dataset\\images\\test\\608.jpg: 640x640 1 River, 8.4ms\n",
      "image 609/800 C:\\Users\\15984\\Desktop\\COMP9517PROJECT\\skyview_yolo_dataset\\images\\test\\609.jpg: 640x640 1 River, 9.3ms\n",
      "image 610/800 C:\\Users\\15984\\Desktop\\COMP9517PROJECT\\skyview_yolo_dataset\\images\\test\\610.jpg: 640x640 1 Residential, 8.3ms\n",
      "image 611/800 C:\\Users\\15984\\Desktop\\COMP9517PROJECT\\skyview_yolo_dataset\\images\\test\\611.jpg: 640x640 1 Residential, 8.8ms\n",
      "image 612/800 C:\\Users\\15984\\Desktop\\COMP9517PROJECT\\skyview_yolo_dataset\\images\\test\\612.jpg: 640x640 1 River, 8.7ms\n",
      "image 613/800 C:\\Users\\15984\\Desktop\\COMP9517PROJECT\\skyview_yolo_dataset\\images\\test\\613.jpg: 640x640 1 River, 8.5ms\n",
      "image 614/800 C:\\Users\\15984\\Desktop\\COMP9517PROJECT\\skyview_yolo_dataset\\images\\test\\614.jpg: 640x640 1 Residential, 8.5ms\n",
      "image 615/800 C:\\Users\\15984\\Desktop\\COMP9517PROJECT\\skyview_yolo_dataset\\images\\test\\615.jpg: 640x640 1 River, 8.7ms\n",
      "image 616/800 C:\\Users\\15984\\Desktop\\COMP9517PROJECT\\skyview_yolo_dataset\\images\\test\\616.jpg: 640x640 1 River, 8.4ms\n",
      "image 617/800 C:\\Users\\15984\\Desktop\\COMP9517PROJECT\\skyview_yolo_dataset\\images\\test\\617.jpg: 640x640 1 Residential, 8.9ms\n",
      "image 618/800 C:\\Users\\15984\\Desktop\\COMP9517PROJECT\\skyview_yolo_dataset\\images\\test\\618.jpg: 640x640 1 River, 15.4ms\n",
      "image 619/800 C:\\Users\\15984\\Desktop\\COMP9517PROJECT\\skyview_yolo_dataset\\images\\test\\619.jpg: 640x640 1 River, 15.0ms\n",
      "image 620/800 C:\\Users\\15984\\Desktop\\COMP9517PROJECT\\skyview_yolo_dataset\\images\\test\\620.jpg: 640x640 1 River, 8.7ms\n",
      "image 621/800 C:\\Users\\15984\\Desktop\\COMP9517PROJECT\\skyview_yolo_dataset\\images\\test\\621.jpg: 640x640 1 River, 8.5ms\n",
      "image 622/800 C:\\Users\\15984\\Desktop\\COMP9517PROJECT\\skyview_yolo_dataset\\images\\test\\622.jpg: 640x640 1 River, 8.8ms\n",
      "image 623/800 C:\\Users\\15984\\Desktop\\COMP9517PROJECT\\skyview_yolo_dataset\\images\\test\\623.jpg: 640x640 1 River, 8.1ms\n",
      "image 624/800 C:\\Users\\15984\\Desktop\\COMP9517PROJECT\\skyview_yolo_dataset\\images\\test\\624.jpg: 640x640 1 River, 8.5ms\n",
      "image 625/800 C:\\Users\\15984\\Desktop\\COMP9517PROJECT\\skyview_yolo_dataset\\images\\test\\625.jpg: 640x640 1 Residential, 8.5ms\n",
      "image 626/800 C:\\Users\\15984\\Desktop\\COMP9517PROJECT\\skyview_yolo_dataset\\images\\test\\626.jpg: 640x640 1 River, 8.6ms\n",
      "image 627/800 C:\\Users\\15984\\Desktop\\COMP9517PROJECT\\skyview_yolo_dataset\\images\\test\\627.jpg: 640x640 1 Residential, 8.6ms\n",
      "image 628/800 C:\\Users\\15984\\Desktop\\COMP9517PROJECT\\skyview_yolo_dataset\\images\\test\\628.jpg: 640x640 1 River, 10.1ms\n",
      "image 629/800 C:\\Users\\15984\\Desktop\\COMP9517PROJECT\\skyview_yolo_dataset\\images\\test\\629.jpg: 640x640 1 River, 9.2ms\n",
      "image 630/800 C:\\Users\\15984\\Desktop\\COMP9517PROJECT\\skyview_yolo_dataset\\images\\test\\630.jpg: 640x640 1 Residential, 1 River, 9.0ms\n",
      "image 631/800 C:\\Users\\15984\\Desktop\\COMP9517PROJECT\\skyview_yolo_dataset\\images\\test\\631.jpg: 640x640 1 River, 8.6ms\n",
      "image 632/800 C:\\Users\\15984\\Desktop\\COMP9517PROJECT\\skyview_yolo_dataset\\images\\test\\632.jpg: 640x640 1 Mountain, 8.4ms\n",
      "image 633/800 C:\\Users\\15984\\Desktop\\COMP9517PROJECT\\skyview_yolo_dataset\\images\\test\\633.jpg: 640x640 1 River, 8.3ms\n",
      "image 634/800 C:\\Users\\15984\\Desktop\\COMP9517PROJECT\\skyview_yolo_dataset\\images\\test\\634.jpg: 640x640 1 Residential, 8.6ms\n",
      "image 635/800 C:\\Users\\15984\\Desktop\\COMP9517PROJECT\\skyview_yolo_dataset\\images\\test\\635.jpg: 640x640 1 River, 8.5ms\n",
      "image 636/800 C:\\Users\\15984\\Desktop\\COMP9517PROJECT\\skyview_yolo_dataset\\images\\test\\636.jpg: 640x640 1 Port, 8.3ms\n",
      "image 637/800 C:\\Users\\15984\\Desktop\\COMP9517PROJECT\\skyview_yolo_dataset\\images\\test\\637.jpg: 640x640 1 Residential, 8.2ms\n",
      "image 638/800 C:\\Users\\15984\\Desktop\\COMP9517PROJECT\\skyview_yolo_dataset\\images\\test\\638.jpg: 640x640 1 Forest, 8.4ms\n",
      "image 639/800 C:\\Users\\15984\\Desktop\\COMP9517PROJECT\\skyview_yolo_dataset\\images\\test\\639.jpg: 640x640 1 River, 15.9ms\n",
      "image 640/800 C:\\Users\\15984\\Desktop\\COMP9517PROJECT\\skyview_yolo_dataset\\images\\test\\640.jpg: 640x640 1 Residential, 8.3ms\n",
      "image 641/800 C:\\Users\\15984\\Desktop\\COMP9517PROJECT\\skyview_yolo_dataset\\images\\test\\641.jpg: 640x640 1 Residential, 9.0ms\n",
      "image 642/800 C:\\Users\\15984\\Desktop\\COMP9517PROJECT\\skyview_yolo_dataset\\images\\test\\642.jpg: 640x640 1 River, 8.6ms\n",
      "image 643/800 C:\\Users\\15984\\Desktop\\COMP9517PROJECT\\skyview_yolo_dataset\\images\\test\\643.jpg: 640x640 1 River, 7.9ms\n",
      "image 644/800 C:\\Users\\15984\\Desktop\\COMP9517PROJECT\\skyview_yolo_dataset\\images\\test\\644.jpg: 640x640 1 River, 8.5ms\n",
      "image 645/800 C:\\Users\\15984\\Desktop\\COMP9517PROJECT\\skyview_yolo_dataset\\images\\test\\645.jpg: 640x640 1 Grassland, 8.8ms\n",
      "image 646/800 C:\\Users\\15984\\Desktop\\COMP9517PROJECT\\skyview_yolo_dataset\\images\\test\\646.jpg: 640x640 1 River, 8.1ms\n",
      "image 647/800 C:\\Users\\15984\\Desktop\\COMP9517PROJECT\\skyview_yolo_dataset\\images\\test\\647.jpg: 640x640 1 Residential, 8.2ms\n",
      "image 648/800 C:\\Users\\15984\\Desktop\\COMP9517PROJECT\\skyview_yolo_dataset\\images\\test\\648.jpg: 640x640 1 Residential, 8.2ms\n",
      "image 649/800 C:\\Users\\15984\\Desktop\\COMP9517PROJECT\\skyview_yolo_dataset\\images\\test\\649.jpg: 640x640 1 Residential, 8.9ms\n",
      "image 650/800 C:\\Users\\15984\\Desktop\\COMP9517PROJECT\\skyview_yolo_dataset\\images\\test\\650.jpg: 640x640 1 River, 9.1ms\n",
      "image 651/800 C:\\Users\\15984\\Desktop\\COMP9517PROJECT\\skyview_yolo_dataset\\images\\test\\651.jpg: 640x640 1 River, 8.2ms\n",
      "image 652/800 C:\\Users\\15984\\Desktop\\COMP9517PROJECT\\skyview_yolo_dataset\\images\\test\\652.jpg: 640x640 1 River, 8.6ms\n",
      "image 653/800 C:\\Users\\15984\\Desktop\\COMP9517PROJECT\\skyview_yolo_dataset\\images\\test\\653.jpg: 640x640 1 River, 8.2ms\n",
      "image 654/800 C:\\Users\\15984\\Desktop\\COMP9517PROJECT\\skyview_yolo_dataset\\images\\test\\654.jpg: 640x640 1 Airport, 1 Railway, 9.4ms\n",
      "image 655/800 C:\\Users\\15984\\Desktop\\COMP9517PROJECT\\skyview_yolo_dataset\\images\\test\\655.jpg: 640x640 1 River, 8.5ms\n",
      "image 656/800 C:\\Users\\15984\\Desktop\\COMP9517PROJECT\\skyview_yolo_dataset\\images\\test\\656.jpg: 640x640 1 Residential, 8.6ms\n",
      "image 657/800 C:\\Users\\15984\\Desktop\\COMP9517PROJECT\\skyview_yolo_dataset\\images\\test\\657.jpg: 640x640 1 River, 15.5ms\n",
      "image 658/800 C:\\Users\\15984\\Desktop\\COMP9517PROJECT\\skyview_yolo_dataset\\images\\test\\658.jpg: 640x640 1 River, 13.3ms\n",
      "image 659/800 C:\\Users\\15984\\Desktop\\COMP9517PROJECT\\skyview_yolo_dataset\\images\\test\\659.jpg: 640x640 1 Residential, 8.4ms\n",
      "image 660/800 C:\\Users\\15984\\Desktop\\COMP9517PROJECT\\skyview_yolo_dataset\\images\\test\\660.jpg: 640x640 1 River, 8.5ms\n",
      "image 661/800 C:\\Users\\15984\\Desktop\\COMP9517PROJECT\\skyview_yolo_dataset\\images\\test\\661.jpg: 640x640 1 Railway, 8.3ms\n",
      "image 662/800 C:\\Users\\15984\\Desktop\\COMP9517PROJECT\\skyview_yolo_dataset\\images\\test\\662.jpg: 640x640 1 Residential, 10.5ms\n",
      "image 663/800 C:\\Users\\15984\\Desktop\\COMP9517PROJECT\\skyview_yolo_dataset\\images\\test\\663.jpg: 640x640 1 River, 8.3ms\n",
      "image 664/800 C:\\Users\\15984\\Desktop\\COMP9517PROJECT\\skyview_yolo_dataset\\images\\test\\664.jpg: 640x640 1 River, 8.1ms\n",
      "image 665/800 C:\\Users\\15984\\Desktop\\COMP9517PROJECT\\skyview_yolo_dataset\\images\\test\\665.jpg: 640x640 1 River, 14.6ms\n",
      "image 666/800 C:\\Users\\15984\\Desktop\\COMP9517PROJECT\\skyview_yolo_dataset\\images\\test\\666.jpg: 640x640 1 River, 9.6ms\n",
      "image 667/800 C:\\Users\\15984\\Desktop\\COMP9517PROJECT\\skyview_yolo_dataset\\images\\test\\667.jpg: 640x640 1 River, 8.7ms\n",
      "image 668/800 C:\\Users\\15984\\Desktop\\COMP9517PROJECT\\skyview_yolo_dataset\\images\\test\\668.jpg: 640x640 1 River, 8.1ms\n",
      "image 669/800 C:\\Users\\15984\\Desktop\\COMP9517PROJECT\\skyview_yolo_dataset\\images\\test\\669.jpg: 640x640 1 River, 8.4ms\n",
      "image 670/800 C:\\Users\\15984\\Desktop\\COMP9517PROJECT\\skyview_yolo_dataset\\images\\test\\670.jpg: 640x640 1 River, 11.9ms\n",
      "image 671/800 C:\\Users\\15984\\Desktop\\COMP9517PROJECT\\skyview_yolo_dataset\\images\\test\\671.jpg: 640x640 1 River, 15.1ms\n",
      "image 672/800 C:\\Users\\15984\\Desktop\\COMP9517PROJECT\\skyview_yolo_dataset\\images\\test\\672.jpg: 640x640 1 River, 8.7ms\n",
      "image 673/800 C:\\Users\\15984\\Desktop\\COMP9517PROJECT\\skyview_yolo_dataset\\images\\test\\673.jpg: 640x640 1 River, 9.1ms\n",
      "image 674/800 C:\\Users\\15984\\Desktop\\COMP9517PROJECT\\skyview_yolo_dataset\\images\\test\\674.jpg: 640x640 1 Lake, 1 River, 9.7ms\n",
      "image 675/800 C:\\Users\\15984\\Desktop\\COMP9517PROJECT\\skyview_yolo_dataset\\images\\test\\675.jpg: 640x640 1 River, 8.3ms\n",
      "image 676/800 C:\\Users\\15984\\Desktop\\COMP9517PROJECT\\skyview_yolo_dataset\\images\\test\\676.jpg: 640x640 1 River, 9.0ms\n",
      "image 677/800 C:\\Users\\15984\\Desktop\\COMP9517PROJECT\\skyview_yolo_dataset\\images\\test\\677.jpg: 640x640 1 River, 8.6ms\n",
      "image 678/800 C:\\Users\\15984\\Desktop\\COMP9517PROJECT\\skyview_yolo_dataset\\images\\test\\678.jpg: 640x640 1 River, 8.9ms\n",
      "image 679/800 C:\\Users\\15984\\Desktop\\COMP9517PROJECT\\skyview_yolo_dataset\\images\\test\\679.jpg: 640x640 1 River, 8.6ms\n",
      "image 680/800 C:\\Users\\15984\\Desktop\\COMP9517PROJECT\\skyview_yolo_dataset\\images\\test\\680.jpg: 640x640 1 River, 8.2ms\n",
      "image 681/800 C:\\Users\\15984\\Desktop\\COMP9517PROJECT\\skyview_yolo_dataset\\images\\test\\681.jpg: 640x640 1 River, 9.2ms\n",
      "image 682/800 C:\\Users\\15984\\Desktop\\COMP9517PROJECT\\skyview_yolo_dataset\\images\\test\\682.jpg: 640x640 1 River, 15.3ms\n",
      "image 683/800 C:\\Users\\15984\\Desktop\\COMP9517PROJECT\\skyview_yolo_dataset\\images\\test\\683.jpg: 640x640 1 Railway, 8.6ms\n",
      "image 684/800 C:\\Users\\15984\\Desktop\\COMP9517PROJECT\\skyview_yolo_dataset\\images\\test\\684.jpg: 640x640 1 Lake, 8.5ms\n",
      "image 685/800 C:\\Users\\15984\\Desktop\\COMP9517PROJECT\\skyview_yolo_dataset\\images\\test\\685.jpg: 640x640 1 River, 9.4ms\n",
      "image 686/800 C:\\Users\\15984\\Desktop\\COMP9517PROJECT\\skyview_yolo_dataset\\images\\test\\686.jpg: 640x640 1 River, 10.2ms\n",
      "image 687/800 C:\\Users\\15984\\Desktop\\COMP9517PROJECT\\skyview_yolo_dataset\\images\\test\\687.jpg: 640x640 1 River, 15.2ms\n",
      "image 688/800 C:\\Users\\15984\\Desktop\\COMP9517PROJECT\\skyview_yolo_dataset\\images\\test\\688.jpg: 640x640 1 Forest, 1 River, 11.3ms\n",
      "image 689/800 C:\\Users\\15984\\Desktop\\COMP9517PROJECT\\skyview_yolo_dataset\\images\\test\\689.jpg: 640x640 1 Residential, 11.2ms\n",
      "image 690/800 C:\\Users\\15984\\Desktop\\COMP9517PROJECT\\skyview_yolo_dataset\\images\\test\\690.jpg: 640x640 1 Residential, 8.6ms\n",
      "image 691/800 C:\\Users\\15984\\Desktop\\COMP9517PROJECT\\skyview_yolo_dataset\\images\\test\\691.jpg: 640x640 1 River, 10.1ms\n",
      "image 692/800 C:\\Users\\15984\\Desktop\\COMP9517PROJECT\\skyview_yolo_dataset\\images\\test\\692.jpg: 640x640 1 River, 8.5ms\n",
      "image 693/800 C:\\Users\\15984\\Desktop\\COMP9517PROJECT\\skyview_yolo_dataset\\images\\test\\693.jpg: 640x640 1 River, 8.5ms\n",
      "image 694/800 C:\\Users\\15984\\Desktop\\COMP9517PROJECT\\skyview_yolo_dataset\\images\\test\\694.jpg: 640x640 1 River, 8.4ms\n",
      "image 695/800 C:\\Users\\15984\\Desktop\\COMP9517PROJECT\\skyview_yolo_dataset\\images\\test\\695.jpg: 640x640 1 River, 8.3ms\n",
      "image 696/800 C:\\Users\\15984\\Desktop\\COMP9517PROJECT\\skyview_yolo_dataset\\images\\test\\696.jpg: 640x640 1 River, 9.7ms\n",
      "image 697/800 C:\\Users\\15984\\Desktop\\COMP9517PROJECT\\skyview_yolo_dataset\\images\\test\\697.jpg: 640x640 1 River, 8.1ms\n",
      "image 698/800 C:\\Users\\15984\\Desktop\\COMP9517PROJECT\\skyview_yolo_dataset\\images\\test\\698.jpg: 640x640 1 River, 8.5ms\n",
      "image 699/800 C:\\Users\\15984\\Desktop\\COMP9517PROJECT\\skyview_yolo_dataset\\images\\test\\699.jpg: 640x640 1 River, 8.3ms\n",
      "image 700/800 C:\\Users\\15984\\Desktop\\COMP9517PROJECT\\skyview_yolo_dataset\\images\\test\\700.jpg: 640x640 1 River, 15.4ms\n",
      "image 701/800 C:\\Users\\15984\\Desktop\\COMP9517PROJECT\\skyview_yolo_dataset\\images\\test\\701.jpg: 640x640 1 Residential, 8.5ms\n",
      "image 702/800 C:\\Users\\15984\\Desktop\\COMP9517PROJECT\\skyview_yolo_dataset\\images\\test\\702.jpg: 640x640 1 Lake, 1 River, 9.0ms\n",
      "image 703/800 C:\\Users\\15984\\Desktop\\COMP9517PROJECT\\skyview_yolo_dataset\\images\\test\\703.jpg: 640x640 1 Mountain, 8.7ms\n",
      "image 704/800 C:\\Users\\15984\\Desktop\\COMP9517PROJECT\\skyview_yolo_dataset\\images\\test\\704.jpg: 640x640 1 Residential, 9.0ms\n",
      "image 705/800 C:\\Users\\15984\\Desktop\\COMP9517PROJECT\\skyview_yolo_dataset\\images\\test\\705.jpg: 640x640 1 Agriculture, 8.3ms\n",
      "image 706/800 C:\\Users\\15984\\Desktop\\COMP9517PROJECT\\skyview_yolo_dataset\\images\\test\\706.jpg: 640x640 1 River, 9.0ms\n",
      "image 707/800 C:\\Users\\15984\\Desktop\\COMP9517PROJECT\\skyview_yolo_dataset\\images\\test\\707.jpg: 640x640 1 Residential, 9.0ms\n",
      "image 708/800 C:\\Users\\15984\\Desktop\\COMP9517PROJECT\\skyview_yolo_dataset\\images\\test\\708.jpg: 640x640 1 River, 8.7ms\n",
      "image 709/800 C:\\Users\\15984\\Desktop\\COMP9517PROJECT\\skyview_yolo_dataset\\images\\test\\709.jpg: 640x640 1 Residential, 17.1ms\n",
      "image 710/800 C:\\Users\\15984\\Desktop\\COMP9517PROJECT\\skyview_yolo_dataset\\images\\test\\710.jpg: 640x640 1 River, 8.9ms\n",
      "image 711/800 C:\\Users\\15984\\Desktop\\COMP9517PROJECT\\skyview_yolo_dataset\\images\\test\\711.jpg: 640x640 1 River, 8.8ms\n",
      "image 712/800 C:\\Users\\15984\\Desktop\\COMP9517PROJECT\\skyview_yolo_dataset\\images\\test\\712.jpg: 640x640 1 Lake, 1 River, 8.8ms\n",
      "image 713/800 C:\\Users\\15984\\Desktop\\COMP9517PROJECT\\skyview_yolo_dataset\\images\\test\\713.jpg: 640x640 1 River, 9.1ms\n",
      "image 714/800 C:\\Users\\15984\\Desktop\\COMP9517PROJECT\\skyview_yolo_dataset\\images\\test\\714.jpg: 640x640 1 River, 9.0ms\n",
      "image 715/800 C:\\Users\\15984\\Desktop\\COMP9517PROJECT\\skyview_yolo_dataset\\images\\test\\715.jpg: 640x640 1 Residential, 8.4ms\n",
      "image 716/800 C:\\Users\\15984\\Desktop\\COMP9517PROJECT\\skyview_yolo_dataset\\images\\test\\716.jpg: 640x640 1 Railway, 14.5ms\n",
      "image 717/800 C:\\Users\\15984\\Desktop\\COMP9517PROJECT\\skyview_yolo_dataset\\images\\test\\717.jpg: 640x640 1 River, 8.4ms\n",
      "image 718/800 C:\\Users\\15984\\Desktop\\COMP9517PROJECT\\skyview_yolo_dataset\\images\\test\\718.jpg: 640x640 1 River, 9.2ms\n",
      "image 719/800 C:\\Users\\15984\\Desktop\\COMP9517PROJECT\\skyview_yolo_dataset\\images\\test\\719.jpg: 640x640 1 River, 8.4ms\n",
      "image 720/800 C:\\Users\\15984\\Desktop\\COMP9517PROJECT\\skyview_yolo_dataset\\images\\test\\720.jpg: 640x640 1 River, 10.5ms\n",
      "image 721/800 C:\\Users\\15984\\Desktop\\COMP9517PROJECT\\skyview_yolo_dataset\\images\\test\\721.jpg: 640x640 1 River, 8.2ms\n",
      "image 722/800 C:\\Users\\15984\\Desktop\\COMP9517PROJECT\\skyview_yolo_dataset\\images\\test\\722.jpg: 640x640 1 River, 8.6ms\n",
      "image 723/800 C:\\Users\\15984\\Desktop\\COMP9517PROJECT\\skyview_yolo_dataset\\images\\test\\723.jpg: 640x640 1 River, 8.8ms\n",
      "image 724/800 C:\\Users\\15984\\Desktop\\COMP9517PROJECT\\skyview_yolo_dataset\\images\\test\\724.jpg: 640x640 1 River, 9.1ms\n",
      "image 725/800 C:\\Users\\15984\\Desktop\\COMP9517PROJECT\\skyview_yolo_dataset\\images\\test\\725.jpg: 640x640 1 River, 9.2ms\n",
      "image 726/800 C:\\Users\\15984\\Desktop\\COMP9517PROJECT\\skyview_yolo_dataset\\images\\test\\726.jpg: 640x640 1 River, 8.4ms\n",
      "image 727/800 C:\\Users\\15984\\Desktop\\COMP9517PROJECT\\skyview_yolo_dataset\\images\\test\\727.jpg: 640x640 1 Railway, 16.3ms\n",
      "image 728/800 C:\\Users\\15984\\Desktop\\COMP9517PROJECT\\skyview_yolo_dataset\\images\\test\\728.jpg: 640x640 1 River, 10.2ms\n",
      "image 729/800 C:\\Users\\15984\\Desktop\\COMP9517PROJECT\\skyview_yolo_dataset\\images\\test\\729.jpg: 640x640 1 Railway, 9.0ms\n",
      "image 730/800 C:\\Users\\15984\\Desktop\\COMP9517PROJECT\\skyview_yolo_dataset\\images\\test\\730.jpg: 640x640 1 River, 8.7ms\n",
      "image 731/800 C:\\Users\\15984\\Desktop\\COMP9517PROJECT\\skyview_yolo_dataset\\images\\test\\731.jpg: 640x640 1 Lake, 17.3ms\n",
      "image 732/800 C:\\Users\\15984\\Desktop\\COMP9517PROJECT\\skyview_yolo_dataset\\images\\test\\732.jpg: 640x640 1 River, 9.4ms\n",
      "image 733/800 C:\\Users\\15984\\Desktop\\COMP9517PROJECT\\skyview_yolo_dataset\\images\\test\\733.jpg: 640x640 1 Residential, 10.7ms\n",
      "image 734/800 C:\\Users\\15984\\Desktop\\COMP9517PROJECT\\skyview_yolo_dataset\\images\\test\\734.jpg: 640x640 1 River, 9.9ms\n",
      "image 735/800 C:\\Users\\15984\\Desktop\\COMP9517PROJECT\\skyview_yolo_dataset\\images\\test\\735.jpg: 640x640 1 River, 8.6ms\n",
      "image 736/800 C:\\Users\\15984\\Desktop\\COMP9517PROJECT\\skyview_yolo_dataset\\images\\test\\736.jpg: 640x640 1 River, 8.8ms\n",
      "image 737/800 C:\\Users\\15984\\Desktop\\COMP9517PROJECT\\skyview_yolo_dataset\\images\\test\\737.jpg: 640x640 1 River, 8.8ms\n",
      "image 738/800 C:\\Users\\15984\\Desktop\\COMP9517PROJECT\\skyview_yolo_dataset\\images\\test\\738.jpg: 640x640 1 Railway, 9.0ms\n",
      "image 739/800 C:\\Users\\15984\\Desktop\\COMP9517PROJECT\\skyview_yolo_dataset\\images\\test\\739.jpg: 640x640 1 River, 8.2ms\n",
      "image 740/800 C:\\Users\\15984\\Desktop\\COMP9517PROJECT\\skyview_yolo_dataset\\images\\test\\740.jpg: 640x640 1 River, 9.1ms\n",
      "image 741/800 C:\\Users\\15984\\Desktop\\COMP9517PROJECT\\skyview_yolo_dataset\\images\\test\\741.jpg: 640x640 1 Agriculture, 1 River, 9.1ms\n",
      "image 742/800 C:\\Users\\15984\\Desktop\\COMP9517PROJECT\\skyview_yolo_dataset\\images\\test\\742.jpg: 640x640 1 Residential, 12.5ms\n",
      "image 743/800 C:\\Users\\15984\\Desktop\\COMP9517PROJECT\\skyview_yolo_dataset\\images\\test\\743.jpg: 640x640 1 River, 8.5ms\n",
      "image 744/800 C:\\Users\\15984\\Desktop\\COMP9517PROJECT\\skyview_yolo_dataset\\images\\test\\744.jpg: 640x640 1 Highway, 1 River, 8.9ms\n",
      "image 745/800 C:\\Users\\15984\\Desktop\\COMP9517PROJECT\\skyview_yolo_dataset\\images\\test\\745.jpg: 640x640 1 River, 8.1ms\n",
      "image 746/800 C:\\Users\\15984\\Desktop\\COMP9517PROJECT\\skyview_yolo_dataset\\images\\test\\746.jpg: 640x640 1 River, 8.9ms\n",
      "image 747/800 C:\\Users\\15984\\Desktop\\COMP9517PROJECT\\skyview_yolo_dataset\\images\\test\\747.jpg: 640x640 1 Residential, 8.5ms\n",
      "image 748/800 C:\\Users\\15984\\Desktop\\COMP9517PROJECT\\skyview_yolo_dataset\\images\\test\\748.jpg: 640x640 1 River, 8.0ms\n",
      "image 749/800 C:\\Users\\15984\\Desktop\\COMP9517PROJECT\\skyview_yolo_dataset\\images\\test\\749.jpg: 640x640 1 River, 8.5ms\n",
      "image 750/800 C:\\Users\\15984\\Desktop\\COMP9517PROJECT\\skyview_yolo_dataset\\images\\test\\750.jpg: 640x640 1 River, 8.3ms\n",
      "image 751/800 C:\\Users\\15984\\Desktop\\COMP9517PROJECT\\skyview_yolo_dataset\\images\\test\\751.jpg: 640x640 1 Residential, 8.2ms\n",
      "image 752/800 C:\\Users\\15984\\Desktop\\COMP9517PROJECT\\skyview_yolo_dataset\\images\\test\\752.jpg: 640x640 1 River, 9.1ms\n",
      "image 753/800 C:\\Users\\15984\\Desktop\\COMP9517PROJECT\\skyview_yolo_dataset\\images\\test\\753.jpg: 640x640 1 River, 8.2ms\n",
      "image 754/800 C:\\Users\\15984\\Desktop\\COMP9517PROJECT\\skyview_yolo_dataset\\images\\test\\754.jpg: 640x640 1 River, 9.0ms\n",
      "image 755/800 C:\\Users\\15984\\Desktop\\COMP9517PROJECT\\skyview_yolo_dataset\\images\\test\\755.jpg: 640x640 1 Railway, 8.2ms\n",
      "image 756/800 C:\\Users\\15984\\Desktop\\COMP9517PROJECT\\skyview_yolo_dataset\\images\\test\\756.jpg: 640x640 1 River, 8.7ms\n",
      "image 757/800 C:\\Users\\15984\\Desktop\\COMP9517PROJECT\\skyview_yolo_dataset\\images\\test\\757.jpg: 640x640 1 River, 8.2ms\n",
      "image 758/800 C:\\Users\\15984\\Desktop\\COMP9517PROJECT\\skyview_yolo_dataset\\images\\test\\758.jpg: 640x640 1 Residential, 12.1ms\n",
      "image 759/800 C:\\Users\\15984\\Desktop\\COMP9517PROJECT\\skyview_yolo_dataset\\images\\test\\759.jpg: 640x640 1 Residential, 8.2ms\n",
      "image 760/800 C:\\Users\\15984\\Desktop\\COMP9517PROJECT\\skyview_yolo_dataset\\images\\test\\760.jpg: 640x640 1 Residential, 9.0ms\n",
      "image 761/800 C:\\Users\\15984\\Desktop\\COMP9517PROJECT\\skyview_yolo_dataset\\images\\test\\761.jpg: 640x640 1 River, 8.4ms\n",
      "image 762/800 C:\\Users\\15984\\Desktop\\COMP9517PROJECT\\skyview_yolo_dataset\\images\\test\\762.jpg: 640x640 1 River, 8.4ms\n",
      "image 763/800 C:\\Users\\15984\\Desktop\\COMP9517PROJECT\\skyview_yolo_dataset\\images\\test\\763.jpg: 640x640 1 River, 15.1ms\n",
      "image 764/800 C:\\Users\\15984\\Desktop\\COMP9517PROJECT\\skyview_yolo_dataset\\images\\test\\764.jpg: 640x640 1 Mountain, 1 River, 8.9ms\n",
      "image 765/800 C:\\Users\\15984\\Desktop\\COMP9517PROJECT\\skyview_yolo_dataset\\images\\test\\765.jpg: 640x640 1 Residential, 8.7ms\n",
      "image 766/800 C:\\Users\\15984\\Desktop\\COMP9517PROJECT\\skyview_yolo_dataset\\images\\test\\766.jpg: 640x640 1 Residential, 8.2ms\n",
      "image 767/800 C:\\Users\\15984\\Desktop\\COMP9517PROJECT\\skyview_yolo_dataset\\images\\test\\767.jpg: 640x640 1 Mountain, 15.9ms\n",
      "image 768/800 C:\\Users\\15984\\Desktop\\COMP9517PROJECT\\skyview_yolo_dataset\\images\\test\\768.jpg: 640x640 1 Railway, 9.0ms\n",
      "image 769/800 C:\\Users\\15984\\Desktop\\COMP9517PROJECT\\skyview_yolo_dataset\\images\\test\\769.jpg: 640x640 1 Residential, 8.2ms\n",
      "image 770/800 C:\\Users\\15984\\Desktop\\COMP9517PROJECT\\skyview_yolo_dataset\\images\\test\\770.jpg: 640x640 1 River, 9.1ms\n",
      "image 771/800 C:\\Users\\15984\\Desktop\\COMP9517PROJECT\\skyview_yolo_dataset\\images\\test\\771.jpg: 640x640 1 River, 8.4ms\n",
      "image 772/800 C:\\Users\\15984\\Desktop\\COMP9517PROJECT\\skyview_yolo_dataset\\images\\test\\772.jpg: 640x640 1 Residential, 7.8ms\n",
      "image 773/800 C:\\Users\\15984\\Desktop\\COMP9517PROJECT\\skyview_yolo_dataset\\images\\test\\773.jpg: 640x640 1 Residential, 8.2ms\n",
      "image 774/800 C:\\Users\\15984\\Desktop\\COMP9517PROJECT\\skyview_yolo_dataset\\images\\test\\774.jpg: 640x640 1 River, 8.4ms\n",
      "image 775/800 C:\\Users\\15984\\Desktop\\COMP9517PROJECT\\skyview_yolo_dataset\\images\\test\\775.jpg: 640x640 1 Airport, 1 River, 16.3ms\n",
      "image 776/800 C:\\Users\\15984\\Desktop\\COMP9517PROJECT\\skyview_yolo_dataset\\images\\test\\776.jpg: 640x640 1 River, 8.5ms\n",
      "image 777/800 C:\\Users\\15984\\Desktop\\COMP9517PROJECT\\skyview_yolo_dataset\\images\\test\\777.jpg: 640x640 1 River, 9.0ms\n",
      "image 778/800 C:\\Users\\15984\\Desktop\\COMP9517PROJECT\\skyview_yolo_dataset\\images\\test\\778.jpg: 640x640 1 River, 9.1ms\n",
      "image 779/800 C:\\Users\\15984\\Desktop\\COMP9517PROJECT\\skyview_yolo_dataset\\images\\test\\779.jpg: 640x640 1 River, 8.5ms\n",
      "image 780/800 C:\\Users\\15984\\Desktop\\COMP9517PROJECT\\skyview_yolo_dataset\\images\\test\\780.jpg: 640x640 1 River, 8.7ms\n",
      "image 781/800 C:\\Users\\15984\\Desktop\\COMP9517PROJECT\\skyview_yolo_dataset\\images\\test\\781.jpg: 640x640 1 Residential, 15.1ms\n",
      "image 782/800 C:\\Users\\15984\\Desktop\\COMP9517PROJECT\\skyview_yolo_dataset\\images\\test\\782.jpg: 640x640 1 River, 8.5ms\n",
      "image 783/800 C:\\Users\\15984\\Desktop\\COMP9517PROJECT\\skyview_yolo_dataset\\images\\test\\783.jpg: 640x640 1 River, 17.8ms\n",
      "image 784/800 C:\\Users\\15984\\Desktop\\COMP9517PROJECT\\skyview_yolo_dataset\\images\\test\\784.jpg: 640x640 1 Railway, 15.4ms\n",
      "image 785/800 C:\\Users\\15984\\Desktop\\COMP9517PROJECT\\skyview_yolo_dataset\\images\\test\\785.jpg: 640x640 1 Grassland, 1 River, 8.1ms\n",
      "image 786/800 C:\\Users\\15984\\Desktop\\COMP9517PROJECT\\skyview_yolo_dataset\\images\\test\\786.jpg: 640x640 1 River, 8.2ms\n",
      "image 787/800 C:\\Users\\15984\\Desktop\\COMP9517PROJECT\\skyview_yolo_dataset\\images\\test\\787.jpg: 640x640 1 Residential, 8.1ms\n",
      "image 788/800 C:\\Users\\15984\\Desktop\\COMP9517PROJECT\\skyview_yolo_dataset\\images\\test\\788.jpg: 640x640 1 River, 9.1ms\n",
      "image 789/800 C:\\Users\\15984\\Desktop\\COMP9517PROJECT\\skyview_yolo_dataset\\images\\test\\789.jpg: 640x640 1 River, 8.1ms\n",
      "image 790/800 C:\\Users\\15984\\Desktop\\COMP9517PROJECT\\skyview_yolo_dataset\\images\\test\\790.jpg: 640x640 1 River, 9.0ms\n",
      "image 791/800 C:\\Users\\15984\\Desktop\\COMP9517PROJECT\\skyview_yolo_dataset\\images\\test\\791.jpg: 640x640 1 Residential, 8.2ms\n",
      "image 792/800 C:\\Users\\15984\\Desktop\\COMP9517PROJECT\\skyview_yolo_dataset\\images\\test\\792.jpg: 640x640 1 River, 9.4ms\n",
      "image 793/800 C:\\Users\\15984\\Desktop\\COMP9517PROJECT\\skyview_yolo_dataset\\images\\test\\793.jpg: 640x640 1 Residential, 8.2ms\n",
      "image 794/800 C:\\Users\\15984\\Desktop\\COMP9517PROJECT\\skyview_yolo_dataset\\images\\test\\794.jpg: 640x640 1 River, 9.3ms\n",
      "image 795/800 C:\\Users\\15984\\Desktop\\COMP9517PROJECT\\skyview_yolo_dataset\\images\\test\\795.jpg: 640x640 1 River, 14.1ms\n",
      "image 796/800 C:\\Users\\15984\\Desktop\\COMP9517PROJECT\\skyview_yolo_dataset\\images\\test\\796.jpg: 640x640 1 River, 11.6ms\n",
      "image 797/800 C:\\Users\\15984\\Desktop\\COMP9517PROJECT\\skyview_yolo_dataset\\images\\test\\797.jpg: 640x640 1 Residential, 15.0ms\n",
      "image 798/800 C:\\Users\\15984\\Desktop\\COMP9517PROJECT\\skyview_yolo_dataset\\images\\test\\798.jpg: 640x640 1 River, 8.3ms\n",
      "image 799/800 C:\\Users\\15984\\Desktop\\COMP9517PROJECT\\skyview_yolo_dataset\\images\\test\\799.jpg: 640x640 1 Residential, 8.6ms\n",
      "image 800/800 C:\\Users\\15984\\Desktop\\COMP9517PROJECT\\skyview_yolo_dataset\\images\\test\\800.jpg: 640x640 1 River, 8.8ms\n",
      "Speed: 3.2ms preprocess, 9.9ms inference, 1.6ms postprocess per image at shape (1, 3, 640, 640)\n",
      "Results saved to \u001b[1mruns\\detect\\predict2\u001b[0m\n"
     ]
    }
   ],
   "source": [
    "model = YOLO('runs/detect/skyview_yolo2/weights/best.pt')\n",
    "\n",
    "\n",
    "results = model.predict(\n",
    "    source=str(OUTPUT_PATH / 'images/test'),\n",
    "    conf=0.25,\n",
    "    save=True\n",
    ")\n"
   ]
  },
  {
   "cell_type": "code",
   "execution_count": 13,
   "metadata": {},
   "outputs": [
    {
     "name": "stdout",
     "output_type": "stream",
     "text": [
      "Ultralytics 8.3.107  Python-3.12.0 torch-2.3.0+cu121 CUDA:0 (NVIDIA GeForce RTX 3060 Laptop GPU, 6144MiB)\n"
     ]
    },
    {
     "name": "stderr",
     "output_type": "stream",
     "text": [
      "\u001b[34m\u001b[1mval: \u001b[0mScanning C:\\Users\\15984\\Desktop\\COMP9517PROJECT\\skyview_yolo_dataset\\labels\\val.cache... 800 images, 0 backgrounds, 0 corrupt: 100%|██████████| 800/800 [00:00<?, ?it/s]\n",
      "                 Class     Images  Instances      Box(P          R      mAP50  mAP50-95): 100%|██████████| 50/50 [00:08<00:00,  5.62it/s]\n"
     ]
    },
    {
     "name": "stdout",
     "output_type": "stream",
     "text": [
      "                   all        800        800      0.905      0.867      0.916      0.915\n",
      "           Agriculture         11         11      0.603      0.727       0.61       0.61\n",
      "               Airport          5          5          1      0.377      0.545      0.545\n",
      "                 Beach         12         12      0.806       0.75      0.808      0.808\n",
      "                  City         24         24      0.856      0.917      0.971      0.971\n",
      "                Desert         17         17      0.938      0.888      0.982      0.982\n",
      "                Forest         24         24      0.899      0.875      0.965      0.965\n",
      "             Grassland         30         30      0.811      0.967      0.973      0.973\n",
      "               Highway         27         27      0.956      0.963      0.988      0.988\n",
      "                  Lake         44         44      0.904      0.955       0.98       0.98\n",
      "              Mountain         58         58      0.927      0.871      0.961      0.959\n",
      "               Parking         80         80      0.995      0.912      0.989      0.989\n",
      "                  Port         89         89      0.977      0.965      0.992      0.992\n",
      "               Railway        106        106      0.989      0.943      0.992       0.99\n",
      "           Residential        123        123      0.956      0.992      0.995      0.995\n",
      "                 River        150        150      0.964      0.901      0.985      0.983\n",
      "Speed: 0.3ms preprocess, 5.6ms inference, 0.0ms loss, 0.8ms postprocess per image\n",
      "Results saved to \u001b[1mruns\\detect\\val4\u001b[0m\n",
      "\n",
      "=== Model Evaluation Results ===\n",
      "mAP50: 0.916\n",
      "Average Detection Confidence: 0.934\n",
      "Total Test Images: 800\n"
     ]
    }
   ],
   "source": [
    "import numpy as np\n",
    "# First evaluate the model to get metrics\n",
    "metrics = model.val()\n",
    "# Display the most important evaluation results\n",
    "print(\"\\n=== Model Evaluation Results ===\")\n",
    "print(f\"mAP50: {metrics.box.map50:.3f}\")  # Most important metric\n",
    "print(f\"Average Detection Confidence: {np.mean([box.conf.mean().item() for r in results for box in r.boxes]):.3f}\")\n",
    "print(f\"Total Test Images: {len(results)}\")"
   ]
  },
  {
   "cell_type": "markdown",
   "metadata": {},
   "source": [
    "We can see a clear drop in the agriculture aiport and beach because of the imbalanced tranning set,but the yolo auto adaptor show still a great performance in total dectection. This demonstrate that it is a robusted and magnifcient model in the CV field"
   ]
  }
 ],
 "metadata": {
  "kernelspec": {
   "display_name": "Python 3",
   "language": "python",
   "name": "python3"
  },
  "language_info": {
   "codemirror_mode": {
    "name": "ipython",
    "version": 3
   },
   "file_extension": ".py",
   "mimetype": "text/x-python",
   "name": "python",
   "nbconvert_exporter": "python",
   "pygments_lexer": "ipython3",
   "version": "3.12.0"
  }
 },
 "nbformat": 4,
 "nbformat_minor": 2
}
